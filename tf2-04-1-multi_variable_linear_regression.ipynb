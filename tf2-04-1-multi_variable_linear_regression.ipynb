{
 "cells": [
  {
   "cell_type": "code",
   "execution_count": 1,
   "metadata": {},
   "outputs": [],
   "source": [
    "# Lab 4 Multi-variable linear regression\n",
    "import tensorflow as tf\n",
    "import numpy as np"
   ]
  },
  {
   "cell_type": "code",
   "execution_count": 2,
   "metadata": {},
   "outputs": [
    {
     "name": "stdout",
     "output_type": "stream",
     "text": [
      "1 Physical GPUs, 1 Logical GPUs\n"
     ]
    }
   ],
   "source": [
    "import os\n",
    "os.environ['TF_CPP_MIN_LOG_LEVEL'] = '3'\n",
    "os.environ[\"CUDA_DEVICE_ORDER\"] = \"PCI_BUS_ID\"\n",
    "os.environ[\"CUDA_VISIBLE_DEVICES\"] = '0' # Set to -1 if CPU should be used CPU = -1 , GPU = 0\n",
    "\n",
    "gpus = tf.config.experimental.list_physical_devices('GPU')\n",
    "cpus = tf.config.experimental.list_physical_devices('CPU')\n",
    "\n",
    "if gpus:\n",
    "    try:\n",
    "        # Currently, memory growth needs to be the same across GPUs\n",
    "        for gpu in gpus:\n",
    "            tf.config.experimental.set_memory_growth(gpu, True)\n",
    "        logical_gpus = tf.config.experimental.list_logical_devices('GPU')\n",
    "        print(len(gpus), \"Physical GPUs,\", len(logical_gpus), \"Logical GPUs\")\n",
    "    except RuntimeError as e:\n",
    "        # Memory growth must be set before GPUs have been initialized\n",
    "        print(e)\n",
    "elif cpus:\n",
    "    try:\n",
    "        # Currently, memory growth needs to be the same across GPUs\n",
    "        logical_cpus= tf.config.experimental.list_logical_devices('CPU')\n",
    "        print(len(cpus), \"Physical CPU,\", len(logical_cpus), \"Logical CPU\")\n",
    "    except RuntimeError as e:\n",
    "        # Memory growth must be set before GPUs have been initialized\n",
    "        print(e)"
   ]
  },
  {
   "cell_type": "code",
   "execution_count": 3,
   "metadata": {},
   "outputs": [],
   "source": [
    "x_data = [[73., 80., 75.],\n",
    "          [93., 88., 93.],\n",
    "          [89., 91., 90.],\n",
    "          [96., 98., 100.],\n",
    "          [73., 66., 70.]]\n",
    "y_data = [[152.],\n",
    "          [185.],\n",
    "          [180.],\n",
    "          [196.],\n",
    "          [142.]]"
   ]
  },
  {
   "cell_type": "code",
   "execution_count": 4,
   "metadata": {},
   "outputs": [],
   "source": [
    "model = tf.keras.Sequential()"
   ]
  },
  {
   "cell_type": "code",
   "execution_count": 5,
   "metadata": {},
   "outputs": [],
   "source": [
    "model.add(tf.keras.layers.Dense(units=1, input_dim=3))  # input_dim=3 gives multi-variable regression"
   ]
  },
  {
   "cell_type": "code",
   "execution_count": 6,
   "metadata": {},
   "outputs": [],
   "source": [
    "model.add(tf.keras.layers.Activation('linear'))  # this line can be omitted, as linear activation is default\n",
    "# advanced reading https://towardsdatascience.com/activation-functions-neural-networks-1cbd9f8d91d6"
   ]
  },
  {
   "cell_type": "code",
   "execution_count": 7,
   "metadata": {},
   "outputs": [],
   "source": [
    "model.compile(loss='mse', optimizer=tf.keras.optimizers.SGD(lr=1e-5))"
   ]
  },
  {
   "cell_type": "code",
   "execution_count": 8,
   "metadata": {},
   "outputs": [
    {
     "name": "stdout",
     "output_type": "stream",
     "text": [
      "Model: \"sequential\"\n",
      "_________________________________________________________________\n",
      "Layer (type)                 Output Shape              Param #   \n",
      "=================================================================\n",
      "dense (Dense)                (None, 1)                 4         \n",
      "_________________________________________________________________\n",
      "activation (Activation)      (None, 1)                 0         \n",
      "=================================================================\n",
      "Total params: 4\n",
      "Trainable params: 4\n",
      "Non-trainable params: 0\n",
      "_________________________________________________________________\n"
     ]
    }
   ],
   "source": [
    "model.summary()"
   ]
  },
  {
   "cell_type": "code",
   "execution_count": 9,
   "metadata": {},
   "outputs": [
    {
     "name": "stdout",
     "output_type": "stream",
     "text": [
      "Epoch 1/100\n",
      "1/1 [==============================] - 0s 1ms/step - loss: 23686.0352\n",
      "Epoch 2/100\n",
      "1/1 [==============================] - 0s 1ms/step - loss: 7426.9038\n",
      "Epoch 3/100\n",
      "1/1 [==============================] - 0s 1ms/step - loss: 2330.5269\n",
      "Epoch 4/100\n",
      "1/1 [==============================] - 0s 2ms/step - loss: 733.0815\n",
      "Epoch 5/100\n",
      "1/1 [==============================] - 0s 2ms/step - loss: 232.3665\n",
      "Epoch 6/100\n",
      "1/1 [==============================] - 0s 2ms/step - loss: 75.4174\n",
      "Epoch 7/100\n",
      "1/1 [==============================] - 0s 2ms/step - loss: 26.2208\n",
      "Epoch 8/100\n",
      "1/1 [==============================] - 0s 1ms/step - loss: 10.7991\n",
      "Epoch 9/100\n",
      "1/1 [==============================] - 0s 2ms/step - loss: 5.9638\n",
      "Epoch 10/100\n",
      "1/1 [==============================] - 0s 0s/step - loss: 4.4469\n",
      "Epoch 11/100\n",
      "1/1 [==============================] - 0s 2ms/step - loss: 3.9701\n",
      "Epoch 12/100\n",
      "1/1 [==============================] - 0s 2ms/step - loss: 3.8193\n",
      "Epoch 13/100\n",
      "1/1 [==============================] - 0s 2ms/step - loss: 3.7707\n",
      "Epoch 14/100\n",
      "1/1 [==============================] - 0s 1ms/step - loss: 3.7542\n",
      "Epoch 15/100\n",
      "1/1 [==============================] - 0s 1ms/step - loss: 3.7476\n",
      "Epoch 16/100\n",
      "1/1 [==============================] - 0s 999us/step - loss: 3.7443\n",
      "Epoch 17/100\n",
      "1/1 [==============================] - 0s 2ms/step - loss: 3.7419\n",
      "Epoch 18/100\n",
      "1/1 [==============================] - 0s 1000us/step - loss: 3.7398\n",
      "Epoch 19/100\n",
      "1/1 [==============================] - 0s 1ms/step - loss: 3.7378\n",
      "Epoch 20/100\n",
      "1/1 [==============================] - 0s 0s/step - loss: 3.7359\n",
      "Epoch 21/100\n",
      "1/1 [==============================] - 0s 2ms/step - loss: 3.7339\n",
      "Epoch 22/100\n",
      "1/1 [==============================] - 0s 1ms/step - loss: 3.7320\n",
      "Epoch 23/100\n",
      "1/1 [==============================] - 0s 0s/step - loss: 3.7301\n",
      "Epoch 24/100\n",
      "1/1 [==============================] - 0s 999us/step - loss: 3.7281\n",
      "Epoch 25/100\n",
      "1/1 [==============================] - 0s 2ms/step - loss: 3.7262\n",
      "Epoch 26/100\n",
      "1/1 [==============================] - 0s 2ms/step - loss: 3.7243\n",
      "Epoch 27/100\n",
      "1/1 [==============================] - 0s 999us/step - loss: 3.7224\n",
      "Epoch 28/100\n",
      "1/1 [==============================] - 0s 2ms/step - loss: 3.7204\n",
      "Epoch 29/100\n",
      "1/1 [==============================] - 0s 2ms/step - loss: 3.7185\n",
      "Epoch 30/100\n",
      "1/1 [==============================] - 0s 2ms/step - loss: 3.7166\n",
      "Epoch 31/100\n",
      "1/1 [==============================] - 0s 1ms/step - loss: 3.7146\n",
      "Epoch 32/100\n",
      "1/1 [==============================] - 0s 1ms/step - loss: 3.7128\n",
      "Epoch 33/100\n",
      "1/1 [==============================] - 0s 998us/step - loss: 3.7108\n",
      "Epoch 34/100\n",
      "1/1 [==============================] - 0s 2ms/step - loss: 3.7089\n",
      "Epoch 35/100\n",
      "1/1 [==============================] - 0s 1000us/step - loss: 3.7070\n",
      "Epoch 36/100\n",
      "1/1 [==============================] - 0s 1ms/step - loss: 3.7051\n",
      "Epoch 37/100\n",
      "1/1 [==============================] - 0s 999us/step - loss: 3.7031\n",
      "Epoch 38/100\n",
      "1/1 [==============================] - 0s 1000us/step - loss: 3.7012\n",
      "Epoch 39/100\n",
      "1/1 [==============================] - 0s 2ms/step - loss: 3.6993\n",
      "Epoch 40/100\n",
      "1/1 [==============================] - 0s 2ms/step - loss: 3.6974\n",
      "Epoch 41/100\n",
      "1/1 [==============================] - 0s 998us/step - loss: 3.6955\n",
      "Epoch 42/100\n",
      "1/1 [==============================] - 0s 1ms/step - loss: 3.6936\n",
      "Epoch 43/100\n",
      "1/1 [==============================] - 0s 1000us/step - loss: 3.6917\n",
      "Epoch 44/100\n",
      "1/1 [==============================] - 0s 2ms/step - loss: 3.6898\n",
      "Epoch 45/100\n",
      "1/1 [==============================] - 0s 2ms/step - loss: 3.6878\n",
      "Epoch 46/100\n",
      "1/1 [==============================] - 0s 2ms/step - loss: 3.6859\n",
      "Epoch 47/100\n",
      "1/1 [==============================] - 0s 1000us/step - loss: 3.6840\n",
      "Epoch 48/100\n",
      "1/1 [==============================] - 0s 2ms/step - loss: 3.6821\n",
      "Epoch 49/100\n",
      "1/1 [==============================] - 0s 2ms/step - loss: 3.6802\n",
      "Epoch 50/100\n",
      "1/1 [==============================] - 0s 2ms/step - loss: 3.6783\n",
      "Epoch 51/100\n",
      "1/1 [==============================] - 0s 2ms/step - loss: 3.6764\n",
      "Epoch 52/100\n",
      "1/1 [==============================] - 0s 998us/step - loss: 3.6745\n",
      "Epoch 53/100\n",
      "1/1 [==============================] - 0s 2ms/step - loss: 3.6726\n",
      "Epoch 54/100\n",
      "1/1 [==============================] - 0s 2ms/step - loss: 3.6707\n",
      "Epoch 55/100\n",
      "1/1 [==============================] - 0s 2ms/step - loss: 3.6688\n",
      "Epoch 56/100\n",
      "1/1 [==============================] - 0s 1ms/step - loss: 3.6669\n",
      "Epoch 57/100\n",
      "1/1 [==============================] - 0s 1ms/step - loss: 3.6650\n",
      "Epoch 58/100\n",
      "1/1 [==============================] - 0s 999us/step - loss: 3.6631\n",
      "Epoch 59/100\n",
      "1/1 [==============================] - 0s 999us/step - loss: 3.6612\n",
      "Epoch 60/100\n",
      "1/1 [==============================] - 0s 1ms/step - loss: 3.6593\n",
      "Epoch 61/100\n",
      "1/1 [==============================] - 0s 994us/step - loss: 3.6575\n",
      "Epoch 62/100\n",
      "1/1 [==============================] - 0s 2ms/step - loss: 3.6556\n",
      "Epoch 63/100\n",
      "1/1 [==============================] - 0s 2ms/step - loss: 3.6537\n",
      "Epoch 64/100\n",
      "1/1 [==============================] - 0s 2ms/step - loss: 3.6518\n",
      "Epoch 65/100\n",
      "1/1 [==============================] - 0s 2ms/step - loss: 3.6499\n",
      "Epoch 66/100\n",
      "1/1 [==============================] - 0s 1ms/step - loss: 3.6480\n",
      "Epoch 67/100\n",
      "1/1 [==============================] - 0s 2ms/step - loss: 3.6461\n",
      "Epoch 68/100\n",
      "1/1 [==============================] - 0s 1ms/step - loss: 3.6442\n",
      "Epoch 69/100\n",
      "1/1 [==============================] - 0s 2ms/step - loss: 3.6424\n",
      "Epoch 70/100\n",
      "1/1 [==============================] - 0s 2ms/step - loss: 3.6405\n",
      "Epoch 71/100\n",
      "1/1 [==============================] - 0s 999us/step - loss: 3.6386\n",
      "Epoch 72/100\n",
      "1/1 [==============================] - 0s 2ms/step - loss: 3.6367\n",
      "Epoch 73/100\n",
      "1/1 [==============================] - 0s 1ms/step - loss: 3.6348\n",
      "Epoch 74/100\n",
      "1/1 [==============================] - 0s 2ms/step - loss: 3.6330\n",
      "Epoch 75/100\n",
      "1/1 [==============================] - 0s 2ms/step - loss: 3.6311\n",
      "Epoch 76/100\n",
      "1/1 [==============================] - 0s 2ms/step - loss: 3.6292\n",
      "Epoch 77/100\n",
      "1/1 [==============================] - 0s 2ms/step - loss: 3.6274\n",
      "Epoch 78/100\n",
      "1/1 [==============================] - 0s 2ms/step - loss: 3.6255\n",
      "Epoch 79/100\n",
      "1/1 [==============================] - 0s 1ms/step - loss: 3.6236\n",
      "Epoch 80/100\n",
      "1/1 [==============================] - 0s 2ms/step - loss: 3.6217\n",
      "Epoch 81/100\n",
      "1/1 [==============================] - 0s 1ms/step - loss: 3.6199\n",
      "Epoch 82/100\n",
      "1/1 [==============================] - 0s 999us/step - loss: 3.6180\n",
      "Epoch 83/100\n",
      "1/1 [==============================] - 0s 2ms/step - loss: 3.6161\n",
      "Epoch 84/100\n",
      "1/1 [==============================] - 0s 2ms/step - loss: 3.6142\n",
      "Epoch 85/100\n",
      "1/1 [==============================] - 0s 2ms/step - loss: 3.6124\n",
      "Epoch 86/100\n",
      "1/1 [==============================] - 0s 1ms/step - loss: 3.6105\n",
      "Epoch 87/100\n",
      "1/1 [==============================] - 0s 2ms/step - loss: 3.6086\n",
      "Epoch 88/100\n",
      "1/1 [==============================] - 0s 998us/step - loss: 3.6068\n",
      "Epoch 89/100\n",
      "1/1 [==============================] - 0s 1ms/step - loss: 3.6049\n",
      "Epoch 90/100\n",
      "1/1 [==============================] - 0s 1ms/step - loss: 3.6030\n",
      "Epoch 91/100\n",
      "1/1 [==============================] - 0s 999us/step - loss: 3.6012\n",
      "Epoch 92/100\n",
      "1/1 [==============================] - 0s 1ms/step - loss: 3.5993\n",
      "Epoch 93/100\n",
      "1/1 [==============================] - 0s 998us/step - loss: 3.5975\n",
      "Epoch 94/100\n",
      "1/1 [==============================] - 0s 999us/step - loss: 3.5956\n",
      "Epoch 95/100\n",
      "1/1 [==============================] - 0s 998us/step - loss: 3.5938\n",
      "Epoch 96/100\n",
      "1/1 [==============================] - 0s 2ms/step - loss: 3.5919\n",
      "Epoch 97/100\n",
      "1/1 [==============================] - 0s 2ms/step - loss: 3.5900\n",
      "Epoch 98/100\n",
      "1/1 [==============================] - 0s 2ms/step - loss: 3.5882\n",
      "Epoch 99/100\n",
      "1/1 [==============================] - 0s 1000us/step - loss: 3.5863\n",
      "Epoch 100/100\n",
      "1/1 [==============================] - 0s 2ms/step - loss: 3.5845\n"
     ]
    }
   ],
   "source": [
    "history = model.fit(x_data, y_data, epochs=100)"
   ]
  },
  {
   "cell_type": "code",
   "execution_count": 10,
   "metadata": {},
   "outputs": [
    {
     "data": {
      "image/png": "[encoded data removed]",
      "text/plain": [
       "<Figure size 432x288 with 1 Axes>"
      ]
     },
     "metadata": {
      "needs_background": "light"
     },
     "output_type": "display_data"
    }
   ],
   "source": [
    "import matplotlib.pyplot as plt\n",
    "%matplotlib inline\n",
    "plt.plot(history.history['loss'])\n",
    "plt.title('Model loss')\n",
    "plt.ylabel('Loss')\n",
    "plt.xlabel('Epoch')\n",
    "plt.legend(['Train', 'Test'], loc='upper left')\n",
    "plt.show()"
   ]
  },
  {
   "cell_type": "code",
   "execution_count": 11,
   "metadata": {},
   "outputs": [],
   "source": [
    "y_predict = model.predict(np.array([[72., 93., 90.]]))"
   ]
  },
  {
   "cell_type": "code",
   "execution_count": 12,
   "metadata": {},
   "outputs": [
    {
     "name": "stdout",
     "output_type": "stream",
     "text": [
      "[[157.23247]]\n"
     ]
    }
   ],
   "source": [
    "print(y_predict)"
   ]
  },
  {
   "cell_type": "code",
   "execution_count": null,
   "metadata": {},
   "outputs": [],
   "source": []
  }
 ],
 "metadata": {
  "kernelspec": {
   "display_name": "Python 3",
   "language": "python",
   "name": "python3"
  },
  "language_info": {
   "codemirror_mode": {
    "name": "ipython",
    "version": 3
   },
   "file_extension": ".py",
   "mimetype": "text/x-python",
   "name": "python",
   "nbconvert_exporter": "python",
   "pygments_lexer": "ipython3",
   "version": "3.8.3"
  }
 },
 "nbformat": 4,
 "nbformat_minor": 4
}
