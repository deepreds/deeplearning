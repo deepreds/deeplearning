{
  "nbformat": 4,
  "nbformat_minor": 0,
  "metadata": {
    "kernelspec": {
      "display_name": "Python 3",
      "language": "python",
      "name": "python3"
    },
    "language_info": {
      "codemirror_mode": {
        "name": "ipython",
        "version": 3
      },
      "file_extension": ".py",
      "mimetype": "text/x-python",
      "name": "python",
      "nbconvert_exporter": "python",
      "pygments_lexer": "ipython3",
      "version": "3.8.3"
    },
    "colab": {
      "name": "tf2_11_1_mnist_cnn_kaggle.ipynb",
      "provenance": [],
      "collapsed_sections": []
    },
    "accelerator": "GPU"
  },
  "cells": [
    {
      "cell_type": "code",
      "metadata": {
        "id": "fv_Vsab2VMIJ"
      },
      "source": [
        "# Lab 11 MNIST and Convolutional Neural Network\n",
        "import numpy as np\n",
        "import tensorflow as tf\n",
        "import random"
      ],
      "execution_count": 1,
      "outputs": []
    },
    {
      "cell_type": "code",
      "metadata": {
        "colab": {
          "base_uri": "https://localhost:8080/"
        },
        "id": "D_a2j3p8VMIM",
        "outputId": "662280c7-b49f-4b73-83f9-a5d74124657a"
      },
      "source": [
        "import os\n",
        "os.environ['TF_CPP_MIN_LOG_LEVEL'] = '3'\n",
        "os.environ[\"CUDA_DEVICE_ORDER\"] = \"PCI_BUS_ID\"\n",
        "os.environ[\"CUDA_VISIBLE_DEVICES\"] = '-1' # Set to -1 if CPU should be used CPU = -1 , GPU = 0\n",
        "\n",
        "gpus = tf.config.experimental.list_physical_devices('GPU')\n",
        "cpus = tf.config.experimental.list_physical_devices('CPU')\n",
        "\n",
        "if gpus:\n",
        "    try:\n",
        "        # Currently, memory growth needs to be the same across GPUs\n",
        "        for gpu in gpus:\n",
        "            tf.config.experimental.set_memory_growth(gpu, True)\n",
        "        logical_gpus = tf.config.experimental.list_logical_devices('GPU')\n",
        "        print(len(gpus), \"Physical GPUs,\", len(logical_gpus), \"Logical GPUs\")\n",
        "    except RuntimeError as e:\n",
        "        # Memory growth must be set before GPUs have been initialized\n",
        "        print(e)\n",
        "elif cpus:\n",
        "    try:\n",
        "        # Currently, memory growth needs to be the same across GPUs\n",
        "        logical_cpus= tf.config.experimental.list_logical_devices('CPU')\n",
        "        print(len(cpus), \"Physical CPU,\", len(logical_cpus), \"Logical CPU\")\n",
        "    except RuntimeError as e:\n",
        "        # Memory growth must be set before GPUs have been initialized\n",
        "        print(e)"
      ],
      "execution_count": 2,
      "outputs": [
        {
          "output_type": "stream",
          "text": [
            "1 Physical CPU, 1 Logical CPU\n"
          ],
          "name": "stdout"
        }
      ]
    },
    {
      "cell_type": "code",
      "metadata": {
        "id": "Jkoyw-4MVMIP"
      },
      "source": [
        "mnist = tf.keras.datasets.mnist"
      ],
      "execution_count": 3,
      "outputs": []
    },
    {
      "cell_type": "code",
      "metadata": {
        "colab": {
          "base_uri": "https://localhost:8080/"
        },
        "id": "1pO5wHZcVMIP",
        "outputId": "9dc49ba1-b575-413b-8e00-c0ef629cf771"
      },
      "source": [
        "(x_train, y_train), (x_test, y_test) = mnist.load_data()\n",
        "x_test = x_test / 255\n",
        "x_train = x_train / 255\n",
        "x_train = x_train.reshape(x_train.shape[0], 28, 28, 1)\n",
        "x_test = x_test.reshape(x_test.shape[0], 28, 28, 1)"
      ],
      "execution_count": 4,
      "outputs": [
        {
          "output_type": "stream",
          "text": [
            "Downloading data from https://storage.googleapis.com/tensorflow/tf-keras-datasets/mnist.npz\n",
            "11493376/11490434 [==============================] - 0s 0us/step\n"
          ],
          "name": "stdout"
        }
      ]
    },
    {
      "cell_type": "code",
      "metadata": {
        "id": "jYjOVGVjVMIQ"
      },
      "source": [
        "# one hot encode y data\n",
        "y_train = tf.keras.utils.to_categorical(y_train, 10)\n",
        "y_test = tf.keras.utils.to_categorical(y_test, 10)"
      ],
      "execution_count": 5,
      "outputs": []
    },
    {
      "cell_type": "code",
      "metadata": {
        "id": "sa-L_g6MVMIQ"
      },
      "source": [
        "# hyper parameters\n",
        "learning_rate = 0.001\n",
        "training_epochs = 12\n",
        "batch_size = 16 # 128 reduce batch_size"
      ],
      "execution_count": 6,
      "outputs": []
    },
    {
      "cell_type": "code",
      "metadata": {
        "id": "Yw4lXjKJVMIR"
      },
      "source": [
        "model = tf.keras.Sequential()"
      ],
      "execution_count": 7,
      "outputs": []
    },
    {
      "cell_type": "code",
      "metadata": {
        "id": "pOG-TKJHVMIR"
      },
      "source": [
        "# L1\n",
        "model.add(tf.keras.layers.Conv2D(filters=16, kernel_size=(3, 3), input_shape=(28, 28, 1), activation='relu'))\n",
        "model.add(tf.keras.layers.MaxPooling2D(pool_size=(2, 2)))"
      ],
      "execution_count": 8,
      "outputs": []
    },
    {
      "cell_type": "code",
      "metadata": {
        "id": "pAiR4c5CVMIR"
      },
      "source": [
        "# L2\n",
        "model.add(tf.keras.layers.Conv2D(filters=32, kernel_size=(3, 3), activation='relu'))\n",
        "model.add(tf.keras.layers.MaxPooling2D(pool_size=(2, 2)))"
      ],
      "execution_count": 9,
      "outputs": []
    },
    {
      "cell_type": "code",
      "metadata": {
        "id": "Jj85eAQOVMIS"
      },
      "source": [
        "# L3 fully connected\n",
        "model.add(tf.keras.layers.Flatten())\n",
        "model.add(tf.keras.layers.Dense(units=10, kernel_initializer='glorot_normal', activation='softmax'))"
      ],
      "execution_count": 10,
      "outputs": []
    },
    {
      "cell_type": "code",
      "metadata": {
        "id": "wGfrSohxVMIS"
      },
      "source": [
        "model.compile(loss='categorical_crossentropy', optimizer=tf.keras.optimizers.Adam(lr=learning_rate), metrics=['accuracy'])"
      ],
      "execution_count": 11,
      "outputs": []
    },
    {
      "cell_type": "code",
      "metadata": {
        "colab": {
          "base_uri": "https://localhost:8080/"
        },
        "id": "Ne4L0nBUVMIS",
        "outputId": "5cd9cd92-a216-4d3e-e58d-51dfd5956fb5"
      },
      "source": [
        "model.summary()"
      ],
      "execution_count": 12,
      "outputs": [
        {
          "output_type": "stream",
          "text": [
            "Model: \"sequential\"\n",
            "_________________________________________________________________\n",
            "Layer (type)                 Output Shape              Param #   \n",
            "=================================================================\n",
            "conv2d (Conv2D)              (None, 26, 26, 16)        160       \n",
            "_________________________________________________________________\n",
            "max_pooling2d (MaxPooling2D) (None, 13, 13, 16)        0         \n",
            "_________________________________________________________________\n",
            "conv2d_1 (Conv2D)            (None, 11, 11, 32)        4640      \n",
            "_________________________________________________________________\n",
            "max_pooling2d_1 (MaxPooling2 (None, 5, 5, 32)          0         \n",
            "_________________________________________________________________\n",
            "flatten (Flatten)            (None, 800)               0         \n",
            "_________________________________________________________________\n",
            "dense (Dense)                (None, 10)                8010      \n",
            "=================================================================\n",
            "Total params: 12,810\n",
            "Trainable params: 12,810\n",
            "Non-trainable params: 0\n",
            "_________________________________________________________________\n"
          ],
          "name": "stdout"
        }
      ]
    },
    {
      "cell_type": "code",
      "metadata": {
        "colab": {
          "base_uri": "https://localhost:8080/"
        },
        "id": "BJ-P4HyiVMIT",
        "outputId": "1a57b5bd-6ffd-47b4-f3df-344553e315bd"
      },
      "source": [
        "history = model.fit(x_train, y_train, batch_size=batch_size, epochs=training_epochs)"
      ],
      "execution_count": 13,
      "outputs": [
        {
          "output_type": "stream",
          "text": [
            "Epoch 1/12\n",
            "3750/3750 [==============================] - 25s 7ms/step - loss: 0.1613 - accuracy: 0.9506\n",
            "Epoch 2/12\n",
            "3750/3750 [==============================] - 25s 7ms/step - loss: 0.0603 - accuracy: 0.9812\n",
            "Epoch 3/12\n",
            "3750/3750 [==============================] - 25s 7ms/step - loss: 0.0449 - accuracy: 0.9863\n",
            "Epoch 4/12\n",
            "3750/3750 [==============================] - 25s 7ms/step - loss: 0.0357 - accuracy: 0.9891\n",
            "Epoch 5/12\n",
            "3750/3750 [==============================] - 25s 7ms/step - loss: 0.0295 - accuracy: 0.9904\n",
            "Epoch 6/12\n",
            "3750/3750 [==============================] - 25s 7ms/step - loss: 0.0254 - accuracy: 0.9916\n",
            "Epoch 7/12\n",
            "3750/3750 [==============================] - 25s 7ms/step - loss: 0.0219 - accuracy: 0.9933\n",
            "Epoch 8/12\n",
            "3750/3750 [==============================] - 26s 7ms/step - loss: 0.0185 - accuracy: 0.9939\n",
            "Epoch 9/12\n",
            "3750/3750 [==============================] - 25s 7ms/step - loss: 0.0171 - accuracy: 0.9942\n",
            "Epoch 10/12\n",
            "3750/3750 [==============================] - 25s 7ms/step - loss: 0.0143 - accuracy: 0.9953\n",
            "Epoch 11/12\n",
            "3750/3750 [==============================] - 26s 7ms/step - loss: 0.0125 - accuracy: 0.9962\n",
            "Epoch 12/12\n",
            "3750/3750 [==============================] - 25s 7ms/step - loss: 0.0127 - accuracy: 0.9956\n"
          ],
          "name": "stdout"
        }
      ]
    },
    {
      "cell_type": "code",
      "metadata": {
        "colab": {
          "base_uri": "https://localhost:8080/",
          "height": 312
        },
        "id": "DZ0pCysgVMIT",
        "outputId": "34477ba8-cc7b-40cd-ac95-44b33c6ff052"
      },
      "source": [
        "import matplotlib.pyplot as plt\n",
        "%matplotlib inline\n",
        "plt.plot(history.history['loss'])\n",
        "plt.plot(history.history['accuracy'])\n",
        "plt.title('Model loss & accuracy')\n",
        "plt.ylabel('Loss')\n",
        "plt.xlabel('Epoch')\n",
        "plt.legend(['loss', 'accuracy'], loc='upper left')\n",
        "plt.show()\n",
        "print(history.history['accuracy'][-5:])"
      ],
      "execution_count": 14,
      "outputs": [
        {
          "output_type": "display_data",
          "data": {
            "image/png": "[encoded data removed]",
            "text/plain": [
              "<Figure size 432x288 with 1 Axes>"
            ]
          },
          "metadata": {
            "tags": [],
            "needs_background": "light"
          }
        },
        {
          "output_type": "stream",
          "text": [
            "[0.9938666820526123, 0.9942333102226257, 0.9952999949455261, 0.996233344078064, 0.9956166744232178]\n"
          ],
          "name": "stdout"
        }
      ]
    },
    {
      "cell_type": "code",
      "metadata": {
        "colab": {
          "base_uri": "https://localhost:8080/"
        },
        "id": "iWci2m5uVMIU",
        "outputId": "1601f05b-0dff-427e-c72c-f5282b790f0c"
      },
      "source": [
        "# predict 10 random hand-writing data\n",
        "y_predicted = model.predict(x_test)\n",
        "for x in range(0, 10):\n",
        "    random_index = random.randint(0, x_test.shape[0]-1)\n",
        "    print(\"index: \", random_index,\"actual y: \", np.argmax(y_test[random_index]),\"predicted y: \", np.argmax(y_predicted[random_index]))"
      ],
      "execution_count": 15,
      "outputs": [
        {
          "output_type": "stream",
          "text": [
            "index:  9872 actual y:  3 predicted y:  3\n",
            "index:  4987 actual y:  4 predicted y:  4\n",
            "index:  7099 actual y:  8 predicted y:  8\n",
            "index:  7465 actual y:  0 predicted y:  0\n",
            "index:  6314 actual y:  5 predicted y:  5\n",
            "index:  3056 actual y:  9 predicted y:  9\n",
            "index:  6296 actual y:  8 predicted y:  8\n",
            "index:  845 actual y:  0 predicted y:  0\n",
            "index:  2285 actual y:  7 predicted y:  7\n",
            "index:  4524 actual y:  1 predicted y:  1\n"
          ],
          "name": "stdout"
        }
      ]
    },
    {
      "cell_type": "code",
      "metadata": {
        "colab": {
          "base_uri": "https://localhost:8080/"
        },
        "id": "6OiI6aiDVMIU",
        "outputId": "337f648a-9b90-4233-9c23-36a789abd2af"
      },
      "source": [
        "evaluation = model.evaluate(x_test, y_test)\n",
        "print('loss: ', evaluation[0])\n",
        "print('accuracy', evaluation[1])"
      ],
      "execution_count": 16,
      "outputs": [
        {
          "output_type": "stream",
          "text": [
            "313/313 [==============================] - 2s 5ms/step - loss: 0.0554 - accuracy: 0.9858\n",
            "loss:  0.05541975051164627\n",
            "accuracy 0.98580002784729\n"
          ],
          "name": "stdout"
        }
      ]
    },
    {
      "cell_type": "code",
      "metadata": {
        "id": "hEN5tNdWVMIU"
      },
      "source": [
        ""
      ],
      "execution_count": 16,
      "outputs": []
    }
  ]
}