{
  "nbformat": 4,
  "nbformat_minor": 0,
  "metadata": {
    "kernelspec": {
      "display_name": "Python 3",
      "language": "python",
      "name": "python3"
    },
    "language_info": {
      "codemirror_mode": {
        "name": "ipython",
        "version": 3
      },
      "file_extension": ".py",
      "mimetype": "text/x-python",
      "name": "python",
      "nbconvert_exporter": "python",
      "pygments_lexer": "ipython3",
      "version": "3.8.3"
    },
    "colab": {
      "name": "tf2_10_1_mnist_softmax_kaggle.ipynb",
      "provenance": [],
      "collapsed_sections": []
    }
  },
  "cells": [
    {
      "cell_type": "code",
      "metadata": {
        "id": "7vLyLhD2OnCO"
      },
      "source": [
        "# Lab 7 Learning rate and Evaluation\n",
        "import tensorflow as tf"
      ],
      "execution_count": 1,
      "outputs": []
    },
    {
      "cell_type": "code",
      "metadata": {
        "colab": {
          "base_uri": "https://localhost:8080/"
        },
        "id": "kfnXfjMTOnCR",
        "outputId": "8d5eae72-0a9b-479a-da8e-c521454cc78e"
      },
      "source": [
        "import os\n",
        "os.environ['TF_CPP_MIN_LOG_LEVEL'] = '3'\n",
        "os.environ[\"CUDA_DEVICE_ORDER\"] = \"PCI_BUS_ID\"\n",
        "os.environ[\"CUDA_VISIBLE_DEVICES\"] = '0' # Set to -1 if CPU should be used CPU = -1 , GPU = 0\n",
        "\n",
        "gpus = tf.config.experimental.list_physical_devices('GPU')\n",
        "cpus = tf.config.experimental.list_physical_devices('CPU')\n",
        "\n",
        "if gpus:\n",
        "    try:\n",
        "        # Currently, memory growth needs to be the same across GPUs\n",
        "        for gpu in gpus:\n",
        "            tf.config.experimental.set_memory_growth(gpu, True)\n",
        "        logical_gpus = tf.config.experimental.list_logical_devices('GPU')\n",
        "        print(len(gpus), \"Physical GPUs,\", len(logical_gpus), \"Logical GPUs\")\n",
        "    except RuntimeError as e:\n",
        "        # Memory growth must be set before GPUs have been initialized\n",
        "        print(e)\n",
        "elif cpus:\n",
        "    try:\n",
        "        # Currently, memory growth needs to be the same across GPUs\n",
        "        logical_cpus= tf.config.experimental.list_logical_devices('CPU')\n",
        "        print(len(cpus), \"Physical CPU,\", len(logical_cpus), \"Logical CPU\")\n",
        "    except RuntimeError as e:\n",
        "        # Memory growth must be set before GPUs have been initialized\n",
        "        print(e)"
      ],
      "execution_count": 2,
      "outputs": [
        {
          "output_type": "stream",
          "text": [
            "1 Physical CPU, 1 Logical CPU\n"
          ],
          "name": "stdout"
        }
      ]
    },
    {
      "cell_type": "code",
      "metadata": {
        "id": "azRhBF80OnCT"
      },
      "source": [
        "learning_rate = 0.001\n",
        "batch_size = 30 #100 reduce batch_size\n",
        "training_epochs = 15\n",
        "nb_classes = 10"
      ],
      "execution_count": 3,
      "outputs": []
    },
    {
      "cell_type": "code",
      "metadata": {
        "id": "cU_eyJmsOnCT"
      },
      "source": [
        "mnist = tf.keras.datasets.mnist"
      ],
      "execution_count": 4,
      "outputs": []
    },
    {
      "cell_type": "code",
      "metadata": {
        "colab": {
          "base_uri": "https://localhost:8080/"
        },
        "id": "41_kVF9UOnCU",
        "outputId": "cf0a46c4-3101-458c-be4f-09267d24fe8f"
      },
      "source": [
        "(x_train, y_train), (x_test, y_test) = mnist.load_data()\n",
        "# normalizing data\n",
        "x_train, x_test = x_train / 255.0, x_test / 255.0"
      ],
      "execution_count": 5,
      "outputs": [
        {
          "output_type": "stream",
          "text": [
            "Downloading data from https://storage.googleapis.com/tensorflow/tf-keras-datasets/mnist.npz\n",
            "11493376/11490434 [==============================] - 0s 0us/step\n"
          ],
          "name": "stdout"
        }
      ]
    },
    {
      "cell_type": "code",
      "metadata": {
        "colab": {
          "base_uri": "https://localhost:8080/"
        },
        "id": "4IK-7NU_OnCU",
        "outputId": "6259a97f-459c-4cc6-f28a-12df6e6cb3e0"
      },
      "source": [
        "# change data shape\n",
        "print(x_train.shape)  # (60000, 28, 28)\n",
        "x_train = x_train.reshape(x_train.shape[0], x_train.shape[1] * x_train.shape[2])\n",
        "x_test = x_test.reshape(x_test.shape[0], x_test.shape[1] * x_test.shape[2])"
      ],
      "execution_count": 6,
      "outputs": [
        {
          "output_type": "stream",
          "text": [
            "(60000, 28, 28)\n"
          ],
          "name": "stdout"
        }
      ]
    },
    {
      "cell_type": "code",
      "metadata": {
        "id": "oc-6larMOnCU"
      },
      "source": [
        "# change result to one-hot encoding\n",
        "# in tf1, one_hot= True in read_data_sets(\"MNIST_data/\", one_hot=True)\n",
        "# took care of it, but here we need to manually convert them\n",
        "y_train = tf.keras.utils.to_categorical(y_train, 10)\n",
        "y_test = tf.keras.utils.to_categorical(y_test, 10)"
      ],
      "execution_count": 7,
      "outputs": []
    },
    {
      "cell_type": "code",
      "metadata": {
        "id": "Fv6cXlNOOnCV"
      },
      "source": [
        "# # Consider an array of 5 labels out of a set of 3 classes {0, 1, 2}:\n",
        "# array([0, 2, 1, 2, 0])\n",
        "# `to_categorical` converts this into a matrix with as many columns as there are classes. The number of rows\n",
        "#  stays the same. to_categorical(labels)\n",
        "# array([[ 1.,  0.,  0.],\n",
        "#        [ 0.,  0.,  1.],\n",
        "#        [ 0.,  1.,  0.],\n",
        "#        [ 0.,  0.,  1.],\n",
        "#        [ 1.,  0.,  0.]], dtype=float32)"
      ],
      "execution_count": 8,
      "outputs": []
    },
    {
      "cell_type": "code",
      "metadata": {
        "id": "pwmu0IzcOnCV"
      },
      "source": [
        "model = tf.keras.Sequential()"
      ],
      "execution_count": 9,
      "outputs": []
    },
    {
      "cell_type": "code",
      "metadata": {
        "id": "2hVAX72TOnCV"
      },
      "source": [
        "model.add(tf.keras.layers.Dense(units=10, input_dim=784, activation='softmax'))"
      ],
      "execution_count": 10,
      "outputs": []
    },
    {
      "cell_type": "code",
      "metadata": {
        "id": "l68xVuirOnCV"
      },
      "source": [
        "model.compile(loss='categorical_crossentropy', optimizer=tf.optimizers.Adam(0.001), metrics=['accuracy'])"
      ],
      "execution_count": 11,
      "outputs": []
    },
    {
      "cell_type": "code",
      "metadata": {
        "colab": {
          "base_uri": "https://localhost:8080/"
        },
        "id": "kgnr5LLGOnCW",
        "outputId": "5b1a4787-c9d7-4514-eb10-5fc10b6133d2"
      },
      "source": [
        "model.summary()"
      ],
      "execution_count": 12,
      "outputs": [
        {
          "output_type": "stream",
          "text": [
            "Model: \"sequential\"\n",
            "_________________________________________________________________\n",
            "Layer (type)                 Output Shape              Param #   \n",
            "=================================================================\n",
            "dense (Dense)                (None, 10)                7850      \n",
            "=================================================================\n",
            "Total params: 7,850\n",
            "Trainable params: 7,850\n",
            "Non-trainable params: 0\n",
            "_________________________________________________________________\n"
          ],
          "name": "stdout"
        }
      ]
    },
    {
      "cell_type": "code",
      "metadata": {
        "colab": {
          "base_uri": "https://localhost:8080/"
        },
        "id": "qdZhPIA9OnCW",
        "outputId": "4da9f79d-0f61-4dec-9c6d-c1deb7ca6273"
      },
      "source": [
        "history = model.fit(x_train, y_train, batch_size=batch_size, epochs=training_epochs)"
      ],
      "execution_count": 13,
      "outputs": [
        {
          "output_type": "stream",
          "text": [
            "Epoch 1/15\n",
            "2000/2000 [==============================] - 2s 983us/step - loss: 0.4600 - accuracy: 0.8795\n",
            "Epoch 2/15\n",
            "2000/2000 [==============================] - 2s 940us/step - loss: 0.3018 - accuracy: 0.9158\n",
            "Epoch 3/15\n",
            "2000/2000 [==============================] - 2s 953us/step - loss: 0.2821 - accuracy: 0.9207\n",
            "Epoch 4/15\n",
            "2000/2000 [==============================] - 2s 965us/step - loss: 0.2720 - accuracy: 0.9239\n",
            "Epoch 5/15\n",
            "2000/2000 [==============================] - 2s 953us/step - loss: 0.2661 - accuracy: 0.9256\n",
            "Epoch 6/15\n",
            "2000/2000 [==============================] - 2s 954us/step - loss: 0.2617 - accuracy: 0.9269\n",
            "Epoch 7/15\n",
            "2000/2000 [==============================] - 2s 951us/step - loss: 0.2579 - accuracy: 0.9283\n",
            "Epoch 8/15\n",
            "2000/2000 [==============================] - 2s 952us/step - loss: 0.2548 - accuracy: 0.9293\n",
            "Epoch 9/15\n",
            "2000/2000 [==============================] - 2s 948us/step - loss: 0.2526 - accuracy: 0.9301\n",
            "Epoch 10/15\n",
            "2000/2000 [==============================] - 2s 964us/step - loss: 0.2512 - accuracy: 0.9305\n",
            "Epoch 11/15\n",
            "2000/2000 [==============================] - 2s 949us/step - loss: 0.2491 - accuracy: 0.9311\n",
            "Epoch 12/15\n",
            "2000/2000 [==============================] - 2s 939us/step - loss: 0.2476 - accuracy: 0.9316\n",
            "Epoch 13/15\n",
            "2000/2000 [==============================] - 2s 961us/step - loss: 0.2462 - accuracy: 0.9320\n",
            "Epoch 14/15\n",
            "2000/2000 [==============================] - 2s 944us/step - loss: 0.2453 - accuracy: 0.9324\n",
            "Epoch 15/15\n",
            "2000/2000 [==============================] - 2s 941us/step - loss: 0.2436 - accuracy: 0.9331\n"
          ],
          "name": "stdout"
        }
      ]
    },
    {
      "cell_type": "code",
      "metadata": {
        "colab": {
          "base_uri": "https://localhost:8080/",
          "height": 312
        },
        "id": "zWmHHTc2OnCW",
        "outputId": "78e42177-ce8a-4915-9a86-15796ea8c175"
      },
      "source": [
        "import matplotlib.pyplot as plt\n",
        "%matplotlib inline\n",
        "plt.plot(history.history['loss'])\n",
        "plt.plot(history.history['accuracy'])\n",
        "plt.title('Model loss & accuracy')\n",
        "plt.ylabel('Loss')\n",
        "plt.xlabel('Epoch')\n",
        "plt.legend(['loss', 'accuracy'], loc='upper left')\n",
        "plt.show()\n",
        "print(history.history['accuracy'][-5:])"
      ],
      "execution_count": 14,
      "outputs": [
        {
          "output_type": "display_data",
          "data": {
            "image/png": "[encoded data removed]",
            "text/plain": [
              "<Figure size 432x288 with 1 Axes>"
            ]
          },
          "metadata": {
            "tags": [],
            "needs_background": "light"
          }
        },
        {
          "output_type": "stream",
          "text": [
            "[0.9311166405677795, 0.9315666556358337, 0.932033360004425, 0.9323833584785461, 0.9330666661262512]\n"
          ],
          "name": "stdout"
        }
      ]
    },
    {
      "cell_type": "code",
      "metadata": {
        "colab": {
          "base_uri": "https://localhost:8080/"
        },
        "id": "4AqmtIM3OnCX",
        "outputId": "3c7ee3e5-9757-4a09-ffe8-f44ef1287a56"
      },
      "source": [
        "predictions = model.predict(x_test)\n",
        "print('Prediction: \\n', predictions)"
      ],
      "execution_count": 15,
      "outputs": [
        {
          "output_type": "stream",
          "text": [
            "Prediction: \n",
            " [[1.75038181e-07 2.81947534e-13 1.15511659e-06 ... 9.93559837e-01\n",
            "  1.50489250e-05 4.67264908e-04]\n",
            " [1.98478956e-05 5.22079290e-07 9.96774256e-01 ... 1.44406106e-21\n",
            "  6.86027670e-06 2.35189947e-18]\n",
            " [3.72345681e-07 9.84185517e-01 1.06521165e-02 ... 2.59684748e-05\n",
            "  2.34030327e-03 1.65628371e-04]\n",
            " ...\n",
            " [5.49216939e-09 1.31330480e-09 9.49113382e-06 ... 8.64499947e-04\n",
            "  2.82252971e-02 3.92593443e-02]\n",
            " [1.16862333e-08 1.91426519e-08 3.34778036e-08 ... 2.04322781e-08\n",
            "  1.04139755e-02 1.97298977e-08]\n",
            " [2.06512460e-08 4.99700258e-16 7.30487955e-05 ... 1.02901227e-17\n",
            "  3.88718790e-09 1.67167658e-13]]\n"
          ],
          "name": "stdout"
        }
      ]
    },
    {
      "cell_type": "code",
      "metadata": {
        "colab": {
          "base_uri": "https://localhost:8080/"
        },
        "id": "1xdpd1HFOnCX",
        "outputId": "7635d915-723b-43b6-aaf8-297fae339f3d"
      },
      "source": [
        "score = model.evaluate(x_train, y_train)\n",
        "print('Accuracy: ', score[1])"
      ],
      "execution_count": 16,
      "outputs": [
        {
          "output_type": "stream",
          "text": [
            "1875/1875 [==============================] - 1s 705us/step - loss: 0.2427 - accuracy: 0.9330\n",
            "Accuracy:  0.9329666495323181\n"
          ],
          "name": "stdout"
        }
      ]
    }
  ]
}