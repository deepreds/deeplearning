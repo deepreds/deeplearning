{
 "cells": [
  {
   "cell_type": "code",
   "execution_count": 1,
   "metadata": {
    "colab": {
     "base_uri": "https://localhost:8080/"
    },
    "id": "tMgCZd7gEIp5",
    "outputId": "34bb4066-5a35-499c-986b-3d9cc662b99f"
   },
   "outputs": [
    {
     "name": "stdout",
     "output_type": "stream",
     "text": [
      "1 Physical CPU, 1 Logical CPU\n"
     ]
    }
   ],
   "source": [
    "#https://www.pyimagesearch.com/2019/01/21/regression-with-keras/\n",
    "import tensorflow as tf\n",
    "\n",
    "import os\n",
    "os.environ['TF_CPP_MIN_LOG_LEVEL'] = '3'\n",
    "os.environ[\"CUDA_DEVICE_ORDER\"] = \"PCI_BUS_ID\"\n",
    "os.environ[\"CUDA_VISIBLE_DEVICES\"] = '0' # Set to -1 if CPU should be used CPU = -1 , GPU = 0\n",
    "\n",
    "gpus = tf.config.experimental.list_physical_devices('GPU')\n",
    "cpus = tf.config.experimental.list_physical_devices('CPU')\n",
    "\n",
    "if gpus:\n",
    "    try:\n",
    "        # Currently, memory growth needs to be the same across GPUs\n",
    "        for gpu in gpus:\n",
    "            tf.config.experimental.set_memory_growth(gpu, True)\n",
    "        logical_gpus = tf.config.experimental.list_logical_devices('GPU')\n",
    "        print(len(gpus), \"Physical GPUs,\", len(logical_gpus), \"Logical GPUs\")\n",
    "    except RuntimeError as e:\n",
    "        # Memory growth must be set before GPUs have been initialized\n",
    "        print(e)\n",
    "elif cpus:\n",
    "    try:\n",
    "        # Currently, memory growth needs to be the same across GPUs\n",
    "        logical_cpus= tf.config.experimental.list_logical_devices('CPU')\n",
    "        print(len(cpus), \"Physical CPU,\", len(logical_cpus), \"Logical CPU\")\n",
    "    except RuntimeError as e:\n",
    "        # Memory growth must be set before GPUs have been initialized\n",
    "        print(e)"
   ]
  },
  {
   "cell_type": "code",
   "execution_count": 2,
   "metadata": {
    "id": "t6-U6nwhEIqC"
   },
   "outputs": [],
   "source": [
    "# import the necessary packages\n",
    "from sklearn.preprocessing import LabelBinarizer\n",
    "from sklearn.preprocessing import MinMaxScaler\n",
    "import pandas as pd\n",
    "import numpy as np\n",
    "import glob\n",
    "import cv2\n",
    "import os\n",
    "# import the necessary packages\n",
    "from keras.models import Sequential\n",
    "from keras.layers.normalization import BatchNormalization\n",
    "from keras.layers.convolutional import Conv2D\n",
    "from keras.layers.convolutional import MaxPooling2D\n",
    "from keras.layers.core import Activation\n",
    "from keras.layers.core import Dropout\n",
    "from keras.layers.core import Dense\n",
    "from keras.layers import Flatten\n",
    "from keras.layers import Input\n",
    "from keras.models import Model"
   ]
  },
  {
   "cell_type": "code",
   "execution_count": 3,
   "metadata": {
    "id": "gd7h5TYFEIqD"
   },
   "outputs": [],
   "source": [
    "def load_house_attributes(inputPath):\n",
    "\t# initialize the list of column names in the CSV file and then\n",
    "\t# load it using Pandas\n",
    "\tcols = [\"bedrooms\", \"bathrooms\", \"area\", \"zipcode\", \"price\"]\n",
    "\tdf = pd.read_csv(inputPath, sep=\" \", header=None, names=cols)\n",
    "\n",
    "\t# determine (1) the unique zip codes and (2) the number of data\n",
    "\t# points with each zip code\n",
    "\tzipcodes = df[\"zipcode\"].value_counts().keys().tolist()\n",
    "\tcounts = df[\"zipcode\"].value_counts().tolist()\n",
    "\n",
    "\t# loop over each of the unique zip codes and their corresponding\n",
    "\t# count\n",
    "\tfor (zipcode, count) in zip(zipcodes, counts):\n",
    "\t\t# the zip code counts for our housing dataset is *extremely*\n",
    "\t\t# unbalanced (some only having 1 or 2 houses per zip code)\n",
    "\t\t# so let's sanitize our data by removing any houses with less\n",
    "\t\t# than 25 houses per zip code\n",
    "\t\tif count < 25:\n",
    "\t\t\tidxs = df[df[\"zipcode\"] == zipcode].index\n",
    "\t\t\tdf.drop(idxs, inplace=True)\n",
    "\n",
    "\t# return the data frame\n",
    "\treturn df\n",
    "\n",
    "def process_house_attributes(df, train, test):\n",
    "\t# initialize the column names of the continuous data\n",
    "\tcontinuous = [\"bedrooms\", \"bathrooms\", \"area\"]\n",
    "\n",
    "\t# performin min-max scaling each continuous feature column to\n",
    "\t# the range [0, 1]\n",
    "\tcs = MinMaxScaler()\n",
    "\ttrainContinuous = cs.fit_transform(train[continuous])\n",
    "\ttestContinuous = cs.transform(test[continuous])\n",
    "\n",
    "\t# one-hot encode the zip code categorical data (by definition of\n",
    "\t# one-hot encoing, all output features are now in the range [0, 1])\n",
    "\tzipBinarizer = LabelBinarizer().fit(df[\"zipcode\"])\n",
    "\ttrainCategorical = zipBinarizer.transform(train[\"zipcode\"])\n",
    "\ttestCategorical = zipBinarizer.transform(test[\"zipcode\"])\n",
    "\n",
    "\t# construct our training and testing data points by concatenating\n",
    "\t# the categorical features with the continuous features\n",
    "\ttrainX = np.hstack([trainCategorical, trainContinuous])\n",
    "\ttestX = np.hstack([testCategorical, testContinuous])\n",
    "\n",
    "\t# return the concatenated training and testing data\n",
    "\treturn (trainX, testX)"
   ]
  },
  {
   "cell_type": "code",
   "execution_count": 4,
   "metadata": {
    "id": "Ue7XqPhiEIqD"
   },
   "outputs": [],
   "source": [
    "def create_mlp(dim, regress=False):\n",
    "\t# define our MLP network\n",
    "\tmodel = Sequential()\n",
    "\tmodel.add(Dense(8, input_dim=dim, activation=\"relu\"))\n",
    "\tmodel.add(Dense(4, activation=\"relu\"))\n",
    "\n",
    "\t# check to see if the regression node should be added\n",
    "\tif regress:\n",
    "\t\tmodel.add(Dense(1, activation=\"linear\"))\n",
    "\n",
    "\t# return our model\n",
    "\treturn model"
   ]
  },
  {
   "cell_type": "code",
   "execution_count": 5,
   "metadata": {
    "id": "v6l9ZThiEIqD"
   },
   "outputs": [],
   "source": [
    "# import the necessary packages\n",
    "from keras.optimizers import Adam\n",
    "from sklearn.model_selection import train_test_split\n",
    "import locale"
   ]
  },
  {
   "cell_type": "code",
   "execution_count": 8,
   "metadata": {
    "colab": {
     "base_uri": "https://localhost:8080/"
    },
    "id": "KoCf4oGUEIqE",
    "outputId": "c1136129-c051-40fc-ecc3-46313613ec79"
   },
   "outputs": [
    {
     "name": "stdout",
     "output_type": "stream",
     "text": [
      "--2020-12-12 22:28:30--  https://f.mjh.nz/gdrivedl\n",
      "Resolving f.mjh.nz (f.mjh.nz)... 104.28.31.233, 172.67.162.157, 104.28.30.233, ...\n",
      "Connecting to f.mjh.nz (f.mjh.nz)|104.28.31.233|:443... connected.\n",
      "HTTP request sent, awaiting response... 200 OK\n",
      "Length: 1362 (1.3K) [application/octet-stream]\n",
      "Saving to: ‘gdrivedl’\n",
      "\n",
      "gdrivedl            100%[===================>]   1.33K  --.-KB/s    in 0s      \n",
      "\n",
      "2020-12-12 22:28:30 (14.2 MB/s) - ‘gdrivedl’ saved [1362/1362]\n",
      "\n",
      "total 12\n",
      "-rw-r--r-- 1 root root 1362 Jan 29  2019 gdrivedl\n",
      "-rw-r--r-- 1 root root 3261 Dec 12 22:28 google_drive.file\n",
      "drwxr-xr-x 1 root root 4096 Dec  2 22:04 sample_data\n",
      "/content\n",
      "File ID: 1LOiv7EyZspaKSWYiaKjUi81fr0Dqp0Si\n",
      "Downloading: https://docs.google.com/uc?export=download&id=1LOiv7EyZspaKSWYiaKjUi81fr0Dqp0Si > .111.file\n",
      "Downloading: https://docs.google.com/uc?export=download&id=1LOiv7EyZspaKSWYiaKjUi81fr0Dqp0Si&confirm=GbhJ > .111.file\n",
      "Moving: .111.file > Houses_Dataset.zip\n",
      "Saved: Houses_Dataset.zip\n",
      "DONE!\n",
      "total 181660\n",
      "-rw-r--r-- 1 root root      1362 Jan 29  2019 gdrivedl\n",
      "-rw-r--r-- 1 root root      3261 Dec 12 22:28 google_drive.file\n",
      "-rw-r--r-- 1 root root 186001776 Dec 12 22:28 Houses_Dataset.zip\n",
      "drwxr-xr-x 1 root root      4096 Dec  2 22:04 sample_data\n"
     ]
    }
   ],
   "source": [
    "# +Add data before loading\n",
    "\n",
    "!wget -O gdrivedl 'https://f.mjh.nz/gdrivedl'\n",
    "!ls -l\n",
    "!pwd\n",
    "\n",
    "\"\"\"\n",
    "!bash /kaggle/working/gdrivedl https://drive.google.com/file/d/1LOiv7EyZspaKSWYiaKjUi81fr0Dqp0Si/view?usp=sharing\n",
    "!ls -l /kaggle/working\n",
    "inputdir = \"/kaggle/working\"\n",
    "\"\"\"\n",
    "\n",
    "!bash /content/gdrivedl https://drive.google.com/file/d/1LOiv7EyZspaKSWYiaKjUi81fr0Dqp0Si/view?usp=sharing\n",
    "!ls -l /content\n",
    "inputdir = \"/content\""
   ]
  },
  {
   "cell_type": "code",
   "execution_count": 9,
   "metadata": {
    "colab": {
     "base_uri": "https://localhost:8080/"
    },
    "id": "QsStxFUhEIqE",
    "outputId": "5cfa0912-c07e-41bd-f264-fd409968146b"
   },
   "outputs": [
    {
     "name": "stdout",
     "output_type": "stream",
     "text": [
      "[INFO] loading house attributes...\n"
     ]
    }
   ],
   "source": [
    "# construct the path to the input .txt file that contains information\n",
    "# on each house in the dataset and then load the dataset\n",
    "print(\"[INFO] loading house attributes...\")\n",
    "#inputPath = os.path.sep.join(['Houses_Dataset', \"HousesInfo.txt\"])\n",
    "import zipfile\n",
    "zf = zipfile.ZipFile(os.path.join(inputdir, 'Houses_Dataset.zip'))\n",
    "inputfile = zf.open('HousesInfo.txt')\n",
    "#df = load_house_attributes(inputPath)\n",
    "df = load_house_attributes(inputfile)"
   ]
  },
  {
   "cell_type": "code",
   "execution_count": 10,
   "metadata": {
    "colab": {
     "base_uri": "https://localhost:8080/"
    },
    "id": "73z7dQS3EIqF",
    "outputId": "8e8faa77-e322-4415-e491-eab2ad9f6dd8"
   },
   "outputs": [
    {
     "name": "stdout",
     "output_type": "stream",
     "text": [
      "[INFO] constructing training/testing split...\n"
     ]
    }
   ],
   "source": [
    "# construct a training and testing split with 75% of the data used\n",
    "# for training and the remaining 25% for evaluation\n",
    "print(\"[INFO] constructing training/testing split...\")\n",
    "(train, test) = train_test_split(df, test_size=0.25, random_state=42)"
   ]
  },
  {
   "cell_type": "code",
   "execution_count": 11,
   "metadata": {
    "id": "QhMj2h28EIqF"
   },
   "outputs": [],
   "source": [
    "# find the largest house price in the training set and use it to\n",
    "# scale our house prices to the range [0, 1] (this will lead to\n",
    "# better training and convergence)\n",
    "maxPrice = train[\"price\"].max()\n",
    "trainY = train[\"price\"] / maxPrice\n",
    "testY = test[\"price\"] / maxPrice"
   ]
  },
  {
   "cell_type": "code",
   "execution_count": 12,
   "metadata": {
    "colab": {
     "base_uri": "https://localhost:8080/"
    },
    "id": "kkBwQcQKEIqF",
    "outputId": "d02fd72e-44d1-4f69-9ee6-53a7a5194fe2"
   },
   "outputs": [
    {
     "name": "stdout",
     "output_type": "stream",
     "text": [
      "[INFO] processing data...\n"
     ]
    }
   ],
   "source": [
    "# process the house attributes data by performing min-max scaling\n",
    "# on continuous features, one-hot encoding on categorical features,\n",
    "# and then finally concatenating them together\n",
    "print(\"[INFO] processing data...\")\n",
    "(trainX, testX) = process_house_attributes(df, train, test)"
   ]
  },
  {
   "cell_type": "code",
   "execution_count": 13,
   "metadata": {
    "id": "G__wMDrzEIqG"
   },
   "outputs": [],
   "source": [
    "# create our MLP and then compile the model using mean absolute\n",
    "# percentage error as our loss, implying that we seek to minimize\n",
    "# the absolute percentage difference between our price *predictions*\n",
    "# and the *actual prices*\n",
    "model = create_mlp(trainX.shape[1], regress=True)\n",
    "opt = Adam(lr=1e-3, decay=1e-3 / 200)\n",
    "model.compile(loss=\"mean_absolute_percentage_error\", optimizer=opt)"
   ]
  },
  {
   "cell_type": "code",
   "execution_count": 14,
   "metadata": {
    "colab": {
     "base_uri": "https://localhost:8080/"
    },
    "id": "a5bt1Z7uEIqH",
    "outputId": "bd9762a4-ec2f-47fc-9190-47a3e3f336d1"
   },
   "outputs": [
    {
     "name": "stdout",
     "output_type": "stream",
     "text": [
      "Model: \"sequential\"\n",
      "_________________________________________________________________\n",
      "Layer (type)                 Output Shape              Param #   \n",
      "=================================================================\n",
      "dense (Dense)                (None, 8)                 88        \n",
      "_________________________________________________________________\n",
      "dense_1 (Dense)              (None, 4)                 36        \n",
      "_________________________________________________________________\n",
      "dense_2 (Dense)              (None, 1)                 5         \n",
      "=================================================================\n",
      "Total params: 129\n",
      "Trainable params: 129\n",
      "Non-trainable params: 0\n",
      "_________________________________________________________________\n"
     ]
    }
   ],
   "source": [
    "model.summary()"
   ]
  },
  {
   "cell_type": "code",
   "execution_count": 15,
   "metadata": {
    "colab": {
     "base_uri": "https://localhost:8080/"
    },
    "id": "WtQCnMM-EIqH",
    "outputId": "85a7d4ce-74d1-49c4-edd4-dbf3d6fa2406"
   },
   "outputs": [
    {
     "name": "stdout",
     "output_type": "stream",
     "text": [
      "[INFO] training model...\n",
      "Epoch 1/200\n",
      "34/34 [==============================] - 0s 5ms/step - loss: 70.0133 - val_loss: 57.1280\n",
      "Epoch 2/200\n",
      "34/34 [==============================] - 0s 1ms/step - loss: 50.3408 - val_loss: 42.8583\n",
      "Epoch 3/200\n",
      "34/34 [==============================] - 0s 2ms/step - loss: 42.5020 - val_loss: 36.8944\n",
      "Epoch 4/200\n",
      "34/34 [==============================] - 0s 2ms/step - loss: 39.9217 - val_loss: 36.1380\n",
      "Epoch 5/200\n",
      "34/34 [==============================] - 0s 2ms/step - loss: 38.2650 - val_loss: 35.5050\n",
      "Epoch 6/200\n",
      "34/34 [==============================] - 0s 2ms/step - loss: 36.7163 - val_loss: 36.9688\n",
      "Epoch 7/200\n",
      "34/34 [==============================] - 0s 2ms/step - loss: 35.9258 - val_loss: 31.4209\n",
      "Epoch 8/200\n",
      "34/34 [==============================] - 0s 2ms/step - loss: 32.7223 - val_loss: 27.6826\n",
      "Epoch 9/200\n",
      "34/34 [==============================] - 0s 2ms/step - loss: 31.2799 - val_loss: 29.2924\n",
      "Epoch 10/200\n",
      "34/34 [==============================] - 0s 2ms/step - loss: 30.4881 - val_loss: 24.5982\n",
      "Epoch 11/200\n",
      "34/34 [==============================] - 0s 2ms/step - loss: 28.3038 - val_loss: 23.5201\n",
      "Epoch 12/200\n",
      "34/34 [==============================] - 0s 2ms/step - loss: 28.4367 - val_loss: 23.0413\n",
      "Epoch 13/200\n",
      "34/34 [==============================] - 0s 2ms/step - loss: 28.2287 - val_loss: 24.3129\n",
      "Epoch 14/200\n",
      "34/34 [==============================] - 0s 2ms/step - loss: 28.1653 - val_loss: 23.8568\n",
      "Epoch 15/200\n",
      "34/34 [==============================] - 0s 2ms/step - loss: 28.4160 - val_loss: 21.9276\n",
      "Epoch 16/200\n",
      "34/34 [==============================] - 0s 2ms/step - loss: 27.7382 - val_loss: 22.1714\n",
      "Epoch 17/200\n",
      "34/34 [==============================] - 0s 2ms/step - loss: 26.6256 - val_loss: 21.2094\n",
      "Epoch 18/200\n",
      "34/34 [==============================] - 0s 2ms/step - loss: 26.8459 - val_loss: 20.8325\n",
      "Epoch 19/200\n",
      "34/34 [==============================] - 0s 1ms/step - loss: 26.4012 - val_loss: 21.3578\n",
      "Epoch 20/200\n",
      "34/34 [==============================] - 0s 2ms/step - loss: 27.2645 - val_loss: 21.2607\n",
      "Epoch 21/200\n",
      "34/34 [==============================] - 0s 2ms/step - loss: 25.7014 - val_loss: 20.2089\n",
      "Epoch 22/200\n",
      "34/34 [==============================] - 0s 2ms/step - loss: 26.1059 - val_loss: 20.5564\n",
      "Epoch 23/200\n",
      "34/34 [==============================] - 0s 2ms/step - loss: 25.7012 - val_loss: 22.1958\n",
      "Epoch 24/200\n",
      "34/34 [==============================] - 0s 2ms/step - loss: 25.9976 - val_loss: 20.2925\n",
      "Epoch 25/200\n",
      "34/34 [==============================] - 0s 2ms/step - loss: 25.8933 - val_loss: 23.9903\n",
      "Epoch 26/200\n",
      "34/34 [==============================] - 0s 2ms/step - loss: 25.5179 - val_loss: 21.7317\n",
      "Epoch 27/200\n",
      "34/34 [==============================] - 0s 2ms/step - loss: 24.9705 - val_loss: 20.1377\n",
      "Epoch 28/200\n",
      "34/34 [==============================] - 0s 2ms/step - loss: 24.9118 - val_loss: 21.2235\n",
      "Epoch 29/200\n",
      "34/34 [==============================] - 0s 2ms/step - loss: 25.0386 - val_loss: 20.1034\n",
      "Epoch 30/200\n",
      "34/34 [==============================] - 0s 2ms/step - loss: 25.1566 - val_loss: 21.4059\n",
      "Epoch 31/200\n",
      "34/34 [==============================] - 0s 2ms/step - loss: 24.7396 - val_loss: 22.8232\n",
      "Epoch 32/200\n",
      "34/34 [==============================] - 0s 2ms/step - loss: 25.0149 - val_loss: 20.5107\n",
      "Epoch 33/200\n",
      "34/34 [==============================] - 0s 2ms/step - loss: 24.5271 - val_loss: 20.9695\n",
      "Epoch 34/200\n",
      "34/34 [==============================] - 0s 2ms/step - loss: 24.2487 - val_loss: 19.8485\n",
      "Epoch 35/200\n",
      "34/34 [==============================] - 0s 2ms/step - loss: 24.3908 - val_loss: 20.3305\n",
      "Epoch 36/200\n",
      "34/34 [==============================] - 0s 2ms/step - loss: 25.0731 - val_loss: 20.5838\n",
      "Epoch 37/200\n",
      "34/34 [==============================] - 0s 2ms/step - loss: 24.4545 - val_loss: 21.1965\n",
      "Epoch 38/200\n",
      "34/34 [==============================] - 0s 2ms/step - loss: 25.0056 - val_loss: 22.0649\n",
      "Epoch 39/200\n",
      "34/34 [==============================] - 0s 2ms/step - loss: 25.9876 - val_loss: 21.3115\n",
      "Epoch 40/200\n",
      "34/34 [==============================] - 0s 2ms/step - loss: 23.9188 - val_loss: 21.1502\n",
      "Epoch 41/200\n",
      "34/34 [==============================] - 0s 2ms/step - loss: 24.2096 - val_loss: 25.5733\n",
      "Epoch 42/200\n",
      "34/34 [==============================] - 0s 2ms/step - loss: 24.2468 - val_loss: 19.9642\n",
      "Epoch 43/200\n",
      "34/34 [==============================] - 0s 2ms/step - loss: 24.0483 - val_loss: 21.5078\n",
      "Epoch 44/200\n",
      "34/34 [==============================] - 0s 2ms/step - loss: 24.0939 - val_loss: 20.9329\n",
      "Epoch 45/200\n",
      "34/34 [==============================] - 0s 2ms/step - loss: 23.8245 - val_loss: 20.1120\n",
      "Epoch 46/200\n",
      "34/34 [==============================] - 0s 2ms/step - loss: 24.7346 - val_loss: 22.9212\n",
      "Epoch 47/200\n",
      "34/34 [==============================] - 0s 2ms/step - loss: 25.2615 - val_loss: 19.8919\n",
      "Epoch 48/200\n",
      "34/34 [==============================] - 0s 2ms/step - loss: 23.6953 - val_loss: 20.1829\n",
      "Epoch 49/200\n",
      "34/34 [==============================] - 0s 2ms/step - loss: 23.5067 - val_loss: 20.0503\n",
      "Epoch 50/200\n",
      "34/34 [==============================] - 0s 2ms/step - loss: 23.7945 - val_loss: 20.3767\n",
      "Epoch 51/200\n",
      "34/34 [==============================] - 0s 2ms/step - loss: 23.4377 - val_loss: 19.1420\n",
      "Epoch 52/200\n",
      "34/34 [==============================] - 0s 2ms/step - loss: 24.1441 - val_loss: 20.0666\n",
      "Epoch 53/200\n",
      "34/34 [==============================] - 0s 2ms/step - loss: 23.3182 - val_loss: 21.1414\n",
      "Epoch 54/200\n",
      "34/34 [==============================] - 0s 2ms/step - loss: 23.2243 - val_loss: 19.5297\n",
      "Epoch 55/200\n",
      "34/34 [==============================] - 0s 2ms/step - loss: 23.2579 - val_loss: 19.2086\n",
      "Epoch 56/200\n",
      "34/34 [==============================] - 0s 2ms/step - loss: 23.3635 - val_loss: 19.9407\n",
      "Epoch 57/200\n",
      "34/34 [==============================] - 0s 2ms/step - loss: 23.2971 - val_loss: 19.9485\n",
      "Epoch 58/200\n",
      "34/34 [==============================] - 0s 2ms/step - loss: 22.5403 - val_loss: 19.5781\n",
      "Epoch 59/200\n",
      "34/34 [==============================] - 0s 2ms/step - loss: 23.4823 - val_loss: 19.8889\n",
      "Epoch 60/200\n",
      "34/34 [==============================] - 0s 2ms/step - loss: 23.0895 - val_loss: 20.8605\n",
      "Epoch 61/200\n",
      "34/34 [==============================] - 0s 2ms/step - loss: 24.3061 - val_loss: 19.2794\n",
      "Epoch 62/200\n",
      "34/34 [==============================] - 0s 2ms/step - loss: 22.6230 - val_loss: 20.3319\n",
      "Epoch 63/200\n",
      "34/34 [==============================] - 0s 2ms/step - loss: 23.0888 - val_loss: 21.0562\n",
      "Epoch 64/200\n",
      "34/34 [==============================] - 0s 2ms/step - loss: 22.7724 - val_loss: 20.1990\n",
      "Epoch 65/200\n",
      "34/34 [==============================] - 0s 2ms/step - loss: 22.9213 - val_loss: 20.7459\n",
      "Epoch 66/200\n",
      "34/34 [==============================] - 0s 2ms/step - loss: 23.1598 - val_loss: 20.6881\n",
      "Epoch 67/200\n",
      "34/34 [==============================] - 0s 2ms/step - loss: 23.5073 - val_loss: 19.4938\n",
      "Epoch 68/200\n",
      "34/34 [==============================] - 0s 2ms/step - loss: 22.1186 - val_loss: 19.8300\n",
      "Epoch 69/200\n",
      "34/34 [==============================] - 0s 2ms/step - loss: 22.5352 - val_loss: 19.2061\n",
      "Epoch 70/200\n",
      "34/34 [==============================] - 0s 2ms/step - loss: 22.1037 - val_loss: 22.5046\n",
      "Epoch 71/200\n",
      "34/34 [==============================] - 0s 2ms/step - loss: 22.8306 - val_loss: 20.7370\n",
      "Epoch 72/200\n",
      "34/34 [==============================] - 0s 2ms/step - loss: 22.2445 - val_loss: 20.5745\n",
      "Epoch 73/200\n",
      "34/34 [==============================] - 0s 2ms/step - loss: 22.0401 - val_loss: 20.5495\n",
      "Epoch 74/200\n",
      "34/34 [==============================] - 0s 2ms/step - loss: 22.3123 - val_loss: 20.6274\n",
      "Epoch 75/200\n",
      "34/34 [==============================] - 0s 2ms/step - loss: 22.3168 - val_loss: 19.6408\n",
      "Epoch 76/200\n",
      "34/34 [==============================] - 0s 2ms/step - loss: 24.4498 - val_loss: 20.2209\n",
      "Epoch 77/200\n",
      "34/34 [==============================] - 0s 2ms/step - loss: 24.0804 - val_loss: 22.5832\n",
      "Epoch 78/200\n",
      "34/34 [==============================] - 0s 3ms/step - loss: 21.9295 - val_loss: 19.2941\n",
      "Epoch 79/200\n",
      "34/34 [==============================] - 0s 2ms/step - loss: 22.2094 - val_loss: 20.4472\n",
      "Epoch 80/200\n",
      "34/34 [==============================] - 0s 2ms/step - loss: 21.8056 - val_loss: 21.9514\n",
      "Epoch 81/200\n",
      "34/34 [==============================] - 0s 2ms/step - loss: 22.1749 - val_loss: 22.4529\n",
      "Epoch 82/200\n",
      "34/34 [==============================] - 0s 2ms/step - loss: 22.0599 - val_loss: 20.5963\n",
      "Epoch 83/200\n",
      "34/34 [==============================] - 0s 2ms/step - loss: 22.0738 - val_loss: 19.8281\n",
      "Epoch 84/200\n",
      "34/34 [==============================] - 0s 2ms/step - loss: 22.6614 - val_loss: 21.1850\n",
      "Epoch 85/200\n",
      "34/34 [==============================] - 0s 2ms/step - loss: 23.2881 - val_loss: 20.5333\n",
      "Epoch 86/200\n",
      "34/34 [==============================] - 0s 2ms/step - loss: 22.2431 - val_loss: 21.0256\n",
      "Epoch 87/200\n",
      "34/34 [==============================] - 0s 2ms/step - loss: 21.8928 - val_loss: 20.8259\n",
      "Epoch 88/200\n",
      "34/34 [==============================] - 0s 2ms/step - loss: 22.2864 - val_loss: 20.3979\n",
      "Epoch 89/200\n",
      "34/34 [==============================] - 0s 2ms/step - loss: 22.2501 - val_loss: 20.3844\n",
      "Epoch 90/200\n",
      "34/34 [==============================] - 0s 2ms/step - loss: 23.0893 - val_loss: 19.4776\n",
      "Epoch 91/200\n",
      "34/34 [==============================] - 0s 2ms/step - loss: 22.3989 - val_loss: 20.1444\n",
      "Epoch 92/200\n",
      "34/34 [==============================] - 0s 2ms/step - loss: 22.1551 - val_loss: 20.3615\n",
      "Epoch 93/200\n",
      "34/34 [==============================] - 0s 2ms/step - loss: 22.5907 - val_loss: 20.0566\n",
      "Epoch 94/200\n",
      "34/34 [==============================] - 0s 2ms/step - loss: 21.6396 - val_loss: 20.2731\n",
      "Epoch 95/200\n",
      "34/34 [==============================] - 0s 2ms/step - loss: 21.8059 - val_loss: 22.0486\n",
      "Epoch 96/200\n",
      "34/34 [==============================] - 0s 2ms/step - loss: 21.8740 - val_loss: 22.2383\n",
      "Epoch 97/200\n",
      "34/34 [==============================] - 0s 2ms/step - loss: 21.5212 - val_loss: 22.6078\n",
      "Epoch 98/200\n",
      "34/34 [==============================] - 0s 2ms/step - loss: 21.4748 - val_loss: 19.6924\n",
      "Epoch 99/200\n",
      "34/34 [==============================] - 0s 2ms/step - loss: 21.7726 - val_loss: 20.5065\n",
      "Epoch 100/200\n",
      "34/34 [==============================] - 0s 2ms/step - loss: 21.2547 - val_loss: 22.7711\n",
      "Epoch 101/200\n",
      "34/34 [==============================] - 0s 2ms/step - loss: 21.6254 - val_loss: 21.0757\n",
      "Epoch 102/200\n",
      "34/34 [==============================] - 0s 2ms/step - loss: 20.9738 - val_loss: 21.7941\n",
      "Epoch 103/200\n",
      "34/34 [==============================] - 0s 2ms/step - loss: 21.2734 - val_loss: 20.4519\n",
      "Epoch 104/200\n",
      "34/34 [==============================] - 0s 2ms/step - loss: 22.3469 - val_loss: 21.9391\n",
      "Epoch 105/200\n",
      "34/34 [==============================] - 0s 2ms/step - loss: 21.4674 - val_loss: 22.7059\n",
      "Epoch 106/200\n",
      "34/34 [==============================] - 0s 2ms/step - loss: 21.9916 - val_loss: 21.5033\n",
      "Epoch 107/200\n",
      "34/34 [==============================] - 0s 2ms/step - loss: 21.9396 - val_loss: 20.7385\n",
      "Epoch 108/200\n",
      "34/34 [==============================] - 0s 2ms/step - loss: 20.9503 - val_loss: 22.9258\n",
      "Epoch 109/200\n",
      "34/34 [==============================] - 0s 2ms/step - loss: 21.3194 - val_loss: 22.0343\n",
      "Epoch 110/200\n",
      "34/34 [==============================] - 0s 2ms/step - loss: 21.3887 - val_loss: 21.0659\n",
      "Epoch 111/200\n",
      "34/34 [==============================] - 0s 2ms/step - loss: 20.9169 - val_loss: 21.2756\n",
      "Epoch 112/200\n",
      "34/34 [==============================] - 0s 2ms/step - loss: 20.7958 - val_loss: 21.0890\n",
      "Epoch 113/200\n",
      "34/34 [==============================] - 0s 2ms/step - loss: 21.2860 - val_loss: 21.7847\n",
      "Epoch 114/200\n",
      "34/34 [==============================] - 0s 2ms/step - loss: 21.9304 - val_loss: 21.0058\n",
      "Epoch 115/200\n",
      "34/34 [==============================] - 0s 2ms/step - loss: 20.8975 - val_loss: 20.0204\n",
      "Epoch 116/200\n",
      "34/34 [==============================] - 0s 2ms/step - loss: 21.9144 - val_loss: 23.5945\n",
      "Epoch 117/200\n",
      "34/34 [==============================] - 0s 2ms/step - loss: 21.1476 - val_loss: 23.7761\n",
      "Epoch 118/200\n",
      "34/34 [==============================] - 0s 2ms/step - loss: 20.8347 - val_loss: 20.7090\n",
      "Epoch 119/200\n",
      "34/34 [==============================] - 0s 2ms/step - loss: 20.8255 - val_loss: 23.2424\n",
      "Epoch 120/200\n",
      "34/34 [==============================] - 0s 2ms/step - loss: 20.9365 - val_loss: 21.1731\n",
      "Epoch 121/200\n",
      "34/34 [==============================] - 0s 2ms/step - loss: 21.1109 - val_loss: 21.5724\n",
      "Epoch 122/200\n",
      "34/34 [==============================] - 0s 2ms/step - loss: 21.5537 - val_loss: 21.8371\n",
      "Epoch 123/200\n",
      "34/34 [==============================] - 0s 2ms/step - loss: 21.2670 - val_loss: 20.5912\n",
      "Epoch 124/200\n",
      "34/34 [==============================] - 0s 2ms/step - loss: 21.2265 - val_loss: 19.8303\n",
      "Epoch 125/200\n",
      "34/34 [==============================] - 0s 2ms/step - loss: 20.9056 - val_loss: 23.0415\n",
      "Epoch 126/200\n",
      "34/34 [==============================] - 0s 2ms/step - loss: 21.0441 - val_loss: 21.3691\n",
      "Epoch 127/200\n",
      "34/34 [==============================] - 0s 2ms/step - loss: 21.2271 - val_loss: 20.5501\n",
      "Epoch 128/200\n",
      "34/34 [==============================] - 0s 2ms/step - loss: 20.5781 - val_loss: 21.8953\n",
      "Epoch 129/200\n",
      "34/34 [==============================] - 0s 2ms/step - loss: 20.5623 - val_loss: 22.5780\n",
      "Epoch 130/200\n",
      "34/34 [==============================] - 0s 2ms/step - loss: 21.4375 - val_loss: 20.4541\n",
      "Epoch 131/200\n",
      "34/34 [==============================] - 0s 2ms/step - loss: 21.4184 - val_loss: 20.6449\n",
      "Epoch 132/200\n",
      "34/34 [==============================] - 0s 2ms/step - loss: 22.4568 - val_loss: 22.5374\n",
      "Epoch 133/200\n",
      "34/34 [==============================] - 0s 2ms/step - loss: 20.6814 - val_loss: 20.7586\n",
      "Epoch 134/200\n",
      "34/34 [==============================] - 0s 2ms/step - loss: 20.7555 - val_loss: 20.3592\n",
      "Epoch 135/200\n",
      "34/34 [==============================] - 0s 2ms/step - loss: 20.8852 - val_loss: 20.9844\n",
      "Epoch 136/200\n",
      "34/34 [==============================] - 0s 2ms/step - loss: 21.3354 - val_loss: 23.1245\n",
      "Epoch 137/200\n",
      "34/34 [==============================] - 0s 2ms/step - loss: 20.8996 - val_loss: 20.4793\n",
      "Epoch 138/200\n",
      "34/34 [==============================] - 0s 2ms/step - loss: 20.8094 - val_loss: 20.9352\n",
      "Epoch 139/200\n",
      "34/34 [==============================] - 0s 2ms/step - loss: 20.5638 - val_loss: 22.9684\n",
      "Epoch 140/200\n",
      "34/34 [==============================] - 0s 2ms/step - loss: 21.0213 - val_loss: 20.3640\n",
      "Epoch 141/200\n",
      "34/34 [==============================] - 0s 2ms/step - loss: 20.5614 - val_loss: 22.4797\n",
      "Epoch 142/200\n",
      "34/34 [==============================] - 0s 2ms/step - loss: 20.4595 - val_loss: 21.3993\n",
      "Epoch 143/200\n",
      "34/34 [==============================] - 0s 2ms/step - loss: 21.0322 - val_loss: 21.4473\n",
      "Epoch 144/200\n",
      "34/34 [==============================] - 0s 2ms/step - loss: 21.6070 - val_loss: 22.3201\n",
      "Epoch 145/200\n",
      "34/34 [==============================] - 0s 2ms/step - loss: 21.9546 - val_loss: 28.5806\n",
      "Epoch 146/200\n",
      "34/34 [==============================] - 0s 2ms/step - loss: 21.1637 - val_loss: 21.2055\n",
      "Epoch 147/200\n",
      "34/34 [==============================] - 0s 2ms/step - loss: 20.9246 - val_loss: 22.3859\n",
      "Epoch 148/200\n",
      "34/34 [==============================] - 0s 2ms/step - loss: 20.6435 - val_loss: 22.1455\n",
      "Epoch 149/200\n",
      "34/34 [==============================] - 0s 2ms/step - loss: 20.8528 - val_loss: 20.7515\n",
      "Epoch 150/200\n",
      "34/34 [==============================] - 0s 2ms/step - loss: 21.0992 - val_loss: 21.2349\n",
      "Epoch 151/200\n",
      "34/34 [==============================] - 0s 2ms/step - loss: 20.7108 - val_loss: 19.9805\n",
      "Epoch 152/200\n",
      "34/34 [==============================] - 0s 2ms/step - loss: 20.2809 - val_loss: 21.0468\n",
      "Epoch 153/200\n",
      "34/34 [==============================] - 0s 2ms/step - loss: 20.8152 - val_loss: 22.8577\n",
      "Epoch 154/200\n",
      "34/34 [==============================] - 0s 2ms/step - loss: 20.5322 - val_loss: 21.4418\n",
      "Epoch 155/200\n",
      "34/34 [==============================] - 0s 2ms/step - loss: 20.4140 - val_loss: 20.4805\n",
      "Epoch 156/200\n",
      "34/34 [==============================] - 0s 2ms/step - loss: 20.5809 - val_loss: 20.5145\n",
      "Epoch 157/200\n",
      "34/34 [==============================] - 0s 2ms/step - loss: 20.6804 - val_loss: 21.0603\n",
      "Epoch 158/200\n",
      "34/34 [==============================] - 0s 2ms/step - loss: 20.4350 - val_loss: 21.7482\n",
      "Epoch 159/200\n",
      "34/34 [==============================] - 0s 2ms/step - loss: 20.2165 - val_loss: 20.9625\n",
      "Epoch 160/200\n",
      "34/34 [==============================] - 0s 2ms/step - loss: 21.0265 - val_loss: 20.8377\n",
      "Epoch 161/200\n",
      "34/34 [==============================] - 0s 2ms/step - loss: 20.3436 - val_loss: 19.9289\n",
      "Epoch 162/200\n",
      "34/34 [==============================] - 0s 2ms/step - loss: 21.0441 - val_loss: 22.6918\n",
      "Epoch 163/200\n",
      "34/34 [==============================] - 0s 2ms/step - loss: 21.6733 - val_loss: 23.1537\n",
      "Epoch 164/200\n",
      "34/34 [==============================] - 0s 2ms/step - loss: 21.1789 - val_loss: 23.7884\n",
      "Epoch 165/200\n",
      "34/34 [==============================] - 0s 2ms/step - loss: 20.7877 - val_loss: 25.9229\n",
      "Epoch 166/200\n",
      "34/34 [==============================] - 0s 2ms/step - loss: 21.1378 - val_loss: 20.6668\n",
      "Epoch 167/200\n",
      "34/34 [==============================] - 0s 2ms/step - loss: 20.5991 - val_loss: 20.8728\n",
      "Epoch 168/200\n",
      "34/34 [==============================] - 0s 2ms/step - loss: 20.4118 - val_loss: 23.7552\n",
      "Epoch 169/200\n",
      "34/34 [==============================] - 0s 2ms/step - loss: 20.2571 - val_loss: 21.3996\n",
      "Epoch 170/200\n",
      "34/34 [==============================] - 0s 2ms/step - loss: 21.0589 - val_loss: 21.0138\n",
      "Epoch 171/200\n",
      "34/34 [==============================] - 0s 2ms/step - loss: 20.6340 - val_loss: 20.8916\n",
      "Epoch 172/200\n",
      "34/34 [==============================] - 0s 2ms/step - loss: 20.6842 - val_loss: 21.4937\n",
      "Epoch 173/200\n",
      "34/34 [==============================] - 0s 2ms/step - loss: 20.4879 - val_loss: 20.7514\n",
      "Epoch 174/200\n",
      "34/34 [==============================] - 0s 2ms/step - loss: 20.0914 - val_loss: 20.2160\n",
      "Epoch 175/200\n",
      "34/34 [==============================] - 0s 2ms/step - loss: 20.2410 - val_loss: 20.3761\n",
      "Epoch 176/200\n",
      "34/34 [==============================] - 0s 2ms/step - loss: 19.9060 - val_loss: 20.6373\n",
      "Epoch 177/200\n",
      "34/34 [==============================] - 0s 2ms/step - loss: 20.5240 - val_loss: 20.9308\n",
      "Epoch 178/200\n",
      "34/34 [==============================] - 0s 2ms/step - loss: 20.7758 - val_loss: 20.2745\n",
      "Epoch 179/200\n",
      "34/34 [==============================] - 0s 2ms/step - loss: 20.4279 - val_loss: 19.8882\n",
      "Epoch 180/200\n",
      "34/34 [==============================] - 0s 2ms/step - loss: 20.4683 - val_loss: 19.9645\n",
      "Epoch 181/200\n",
      "34/34 [==============================] - 0s 2ms/step - loss: 20.0923 - val_loss: 21.3179\n",
      "Epoch 182/200\n",
      "34/34 [==============================] - 0s 2ms/step - loss: 20.5034 - val_loss: 19.8690\n",
      "Epoch 183/200\n",
      "34/34 [==============================] - 0s 2ms/step - loss: 20.4018 - val_loss: 21.0163\n",
      "Epoch 184/200\n",
      "34/34 [==============================] - 0s 2ms/step - loss: 20.6547 - val_loss: 22.5796\n",
      "Epoch 185/200\n",
      "34/34 [==============================] - 0s 2ms/step - loss: 21.0827 - val_loss: 20.5812\n",
      "Epoch 186/200\n",
      "34/34 [==============================] - 0s 2ms/step - loss: 20.7680 - val_loss: 22.6367\n",
      "Epoch 187/200\n",
      "34/34 [==============================] - 0s 2ms/step - loss: 20.5889 - val_loss: 21.9108\n",
      "Epoch 188/200\n",
      "34/34 [==============================] - 0s 2ms/step - loss: 20.2715 - val_loss: 21.2713\n",
      "Epoch 189/200\n",
      "34/34 [==============================] - 0s 2ms/step - loss: 20.3112 - val_loss: 19.8555\n",
      "Epoch 190/200\n",
      "34/34 [==============================] - 0s 2ms/step - loss: 19.8667 - val_loss: 21.1662\n",
      "Epoch 191/200\n",
      "34/34 [==============================] - 0s 2ms/step - loss: 19.8046 - val_loss: 20.4633\n",
      "Epoch 192/200\n",
      "34/34 [==============================] - 0s 2ms/step - loss: 19.7119 - val_loss: 21.2163\n",
      "Epoch 193/200\n",
      "34/34 [==============================] - 0s 2ms/step - loss: 20.4506 - val_loss: 19.8931\n",
      "Epoch 194/200\n",
      "34/34 [==============================] - 0s 2ms/step - loss: 20.1434 - val_loss: 22.4903\n",
      "Epoch 195/200\n",
      "34/34 [==============================] - 0s 2ms/step - loss: 20.0872 - val_loss: 20.9883\n",
      "Epoch 196/200\n",
      "34/34 [==============================] - 0s 2ms/step - loss: 20.0367 - val_loss: 20.1265\n",
      "Epoch 197/200\n",
      "34/34 [==============================] - 0s 2ms/step - loss: 20.4017 - val_loss: 21.8030\n",
      "Epoch 198/200\n",
      "34/34 [==============================] - 0s 2ms/step - loss: 19.9180 - val_loss: 21.3264\n",
      "Epoch 199/200\n",
      "34/34 [==============================] - 0s 2ms/step - loss: 20.5611 - val_loss: 20.7901\n",
      "Epoch 200/200\n",
      "34/34 [==============================] - 0s 2ms/step - loss: 20.0342 - val_loss: 22.6582\n"
     ]
    }
   ],
   "source": [
    "# train the model\n",
    "print(\"[INFO] training model...\")\n",
    "history = model.fit(trainX, trainY, validation_data=(testX, testY),epochs=200, batch_size=8, verbose=1)"
   ]
  },
  {
   "cell_type": "code",
   "execution_count": 16,
   "metadata": {
    "colab": {
     "base_uri": "https://localhost:8080/",
     "height": 279
    },
    "id": "Xb1GdmLQEIqI",
    "outputId": "142fa81d-89e2-4727-a3c0-07ae206e2ad0"
   },
   "outputs": [
    {
     "data": {
      "image/png": "[encoded data removed]",
      "text/plain": [
       "<Figure size 432x288 with 1 Axes>"
      ]
     },
     "metadata": {
      "needs_background": "light",
      "tags": []
     },
     "output_type": "display_data"
    }
   ],
   "source": [
    "import matplotlib.pyplot as plt\n",
    "%matplotlib inline\n",
    "plt.plot(history.history['loss'])\n",
    "plt.ylabel('Loss')\n",
    "plt.xlabel('Epoch')\n",
    "plt.legend(['loss'], loc='upper left')\n",
    "plt.show()"
   ]
  },
  {
   "cell_type": "code",
   "execution_count": 17,
   "metadata": {
    "colab": {
     "base_uri": "https://localhost:8080/"
    },
    "id": "zm-16Dc6EIqK",
    "outputId": "abb5403e-4805-41d8-d7d7-8bf8ea78b546"
   },
   "outputs": [
    {
     "name": "stdout",
     "output_type": "stream",
     "text": [
      "[INFO] predicting house prices...\n"
     ]
    }
   ],
   "source": [
    "# make predictions on the testing data\n",
    "print(\"[INFO] predicting house prices...\")\n",
    "preds = model.predict(testX)"
   ]
  },
  {
   "cell_type": "code",
   "execution_count": 18,
   "metadata": {
    "id": "K2qLloDmEIqL"
   },
   "outputs": [],
   "source": [
    "# compute the difference between the *predicted* house prices and the\n",
    "# *actual* house prices, then compute the percentage difference and\n",
    "# the absolute percentage difference\n",
    "diff = preds.flatten() - testY\n",
    "percentDiff = (diff / testY) * 100\n",
    "absPercentDiff = np.abs(percentDiff)"
   ]
  },
  {
   "cell_type": "code",
   "execution_count": 20,
   "metadata": {
    "id": "eUEGZzhbEIqL"
   },
   "outputs": [],
   "source": [
    "# compute the mean and standard deviation of the absolute percentage\n",
    "# difference\n",
    "mean = np.mean(absPercentDiff)\n",
    "std = np.std(absPercentDiff)"
   ]
  },
  {
   "cell_type": "code",
   "execution_count": 21,
   "metadata": {
    "colab": {
     "base_uri": "https://localhost:8080/"
    },
    "id": "I0gcsIESEIqM",
    "outputId": "80fa08d4-0d70-4968-e0a0-fd574534e534"
   },
   "outputs": [
    {
     "name": "stdout",
     "output_type": "stream",
     "text": [
      "[INFO] mean: 22.66%, std: 17.96%\n"
     ]
    }
   ],
   "source": [
    "# finally, show some statistics on our model\n",
    "#locale.setlocale(locale.LC_ALL, \"en_US.UTF-8\")\n",
    "#print(\"[INFO] avg. house price: {}, std house price: {}\".format(\n",
    "#\tlocale.currency(df[\"price\"].mean(), grouping=True),\n",
    "#\tlocale.currency(df[\"price\"].std(), grouping=True)))\n",
    "print(\"[INFO] mean: {:.2f}%, std: {:.2f}%\".format(mean, std))"
   ]
  },
  {
   "cell_type": "code",
   "execution_count": null,
   "metadata": {
    "id": "vmQpUpJUEIqM"
   },
   "outputs": [],
   "source": []
  }
 ],
 "metadata": {
  "colab": {
   "collapsed_sections": [],
   "name": "02-keras-regression-kaggle.ipynb",
   "provenance": []
  },
  "kernelspec": {
   "display_name": "Python 3",
   "language": "python",
   "name": "python3"
  },
  "language_info": {
   "codemirror_mode": {
    "name": "ipython",
    "version": 3
   },
   "file_extension": ".py",
   "mimetype": "text/x-python",
   "name": "python",
   "nbconvert_exporter": "python",
   "pygments_lexer": "ipython3",
   "version": "3.8.3"
  }
 },
 "nbformat": 4,
 "nbformat_minor": 4
}
