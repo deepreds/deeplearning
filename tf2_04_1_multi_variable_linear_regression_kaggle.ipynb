{
 "cells": [
  {
   "cell_type": "code",
   "execution_count": 1,
   "metadata": {
    "id": "GdOigWDMqlb2"
   },
   "outputs": [],
   "source": [
    "# Lab 4 Multi-variable linear regression\n",
    "import tensorflow as tf\n",
    "import numpy as np"
   ]
  },
  {
   "cell_type": "code",
   "execution_count": 2,
   "metadata": {
    "colab": {
     "base_uri": "https://localhost:8080/"
    },
    "id": "HSaB9pIcqlb_",
    "outputId": "f4dfe801-611d-4aa8-bd05-784f7e262ba8"
   },
   "outputs": [
    {
     "name": "stdout",
     "output_type": "stream",
     "text": [
      "1 Physical CPU, 1 Logical CPU\n"
     ]
    }
   ],
   "source": [
    "import os\n",
    "os.environ['TF_CPP_MIN_LOG_LEVEL'] = '3'\n",
    "os.environ[\"CUDA_DEVICE_ORDER\"] = \"PCI_BUS_ID\"\n",
    "os.environ[\"CUDA_VISIBLE_DEVICES\"] = '0' # Set to -1 if CPU should be used CPU = -1 , GPU = 0\n",
    "\n",
    "gpus = tf.config.experimental.list_physical_devices('GPU')\n",
    "cpus = tf.config.experimental.list_physical_devices('CPU')\n",
    "\n",
    "if gpus:\n",
    "    try:\n",
    "        # Currently, memory growth needs to be the same across GPUs\n",
    "        for gpu in gpus:\n",
    "            tf.config.experimental.set_memory_growth(gpu, True)\n",
    "        logical_gpus = tf.config.experimental.list_logical_devices('GPU')\n",
    "        print(len(gpus), \"Physical GPUs,\", len(logical_gpus), \"Logical GPUs\")\n",
    "    except RuntimeError as e:\n",
    "        # Memory growth must be set before GPUs have been initialized\n",
    "        print(e)\n",
    "elif cpus:\n",
    "    try:\n",
    "        # Currently, memory growth needs to be the same across GPUs\n",
    "        logical_cpus= tf.config.experimental.list_logical_devices('CPU')\n",
    "        print(len(cpus), \"Physical CPU,\", len(logical_cpus), \"Logical CPU\")\n",
    "    except RuntimeError as e:\n",
    "        # Memory growth must be set before GPUs have been initialized\n",
    "        print(e)"
   ]
  },
  {
   "cell_type": "code",
   "execution_count": 3,
   "metadata": {
    "id": "PgTsaFaGqlcA"
   },
   "outputs": [],
   "source": [
    "x_data = [[73., 80., 75.],\n",
    "          [93., 88., 93.],\n",
    "          [89., 91., 90.],\n",
    "          [96., 98., 100.],\n",
    "          [73., 66., 70.]]\n",
    "y_data = [[152.],\n",
    "          [185.],\n",
    "          [180.],\n",
    "          [196.],\n",
    "          [142.]]"
   ]
  },
  {
   "cell_type": "code",
   "execution_count": 4,
   "metadata": {
    "id": "9K3yq3RoqlcB"
   },
   "outputs": [],
   "source": [
    "model = tf.keras.Sequential()"
   ]
  },
  {
   "cell_type": "code",
   "execution_count": 5,
   "metadata": {
    "id": "sYRWuwJTqlcB"
   },
   "outputs": [],
   "source": [
    "model.add(tf.keras.layers.Dense(units=1, input_dim=3))  # input_dim=3 gives multi-variable regression"
   ]
  },
  {
   "cell_type": "code",
   "execution_count": 6,
   "metadata": {
    "id": "BhPUeNWpqlcB"
   },
   "outputs": [],
   "source": [
    "model.add(tf.keras.layers.Activation('linear'))  # this line can be omitted, as linear activation is default\n",
    "# advanced reading https://towardsdatascience.com/activation-functions-neural-networks-1cbd9f8d91d6"
   ]
  },
  {
   "cell_type": "code",
   "execution_count": 7,
   "metadata": {
    "id": "GEI8b8zVqlcC"
   },
   "outputs": [],
   "source": [
    "model.compile(loss='mse', optimizer=tf.keras.optimizers.SGD(lr=1e-5))"
   ]
  },
  {
   "cell_type": "code",
   "execution_count": 8,
   "metadata": {
    "colab": {
     "base_uri": "https://localhost:8080/"
    },
    "id": "-Q9I_o8tqlcC",
    "outputId": "aae9c42e-1d31-4400-c4a5-32158a3a51d6"
   },
   "outputs": [
    {
     "name": "stdout",
     "output_type": "stream",
     "text": [
      "Model: \"sequential\"\n",
      "_________________________________________________________________\n",
      "Layer (type)                 Output Shape              Param #   \n",
      "=================================================================\n",
      "dense (Dense)                (None, 1)                 4         \n",
      "_________________________________________________________________\n",
      "activation (Activation)      (None, 1)                 0         \n",
      "=================================================================\n",
      "Total params: 4\n",
      "Trainable params: 4\n",
      "Non-trainable params: 0\n",
      "_________________________________________________________________\n"
     ]
    }
   ],
   "source": [
    "model.summary()"
   ]
  },
  {
   "cell_type": "code",
   "execution_count": 9,
   "metadata": {
    "colab": {
     "base_uri": "https://localhost:8080/"
    },
    "id": "bdoHUvijqlcC",
    "outputId": "71b36b08-e09d-473e-faaf-df88080c6389"
   },
   "outputs": [
    {
     "name": "stdout",
     "output_type": "stream",
     "text": [
      "Epoch 1/100\n",
      "1/1 [==============================] - 0s 1ms/step - loss: 55968.3242\n",
      "Epoch 2/100\n",
      "1/1 [==============================] - 0s 1ms/step - loss: 17545.1855\n",
      "Epoch 3/100\n",
      "1/1 [==============================] - 0s 1ms/step - loss: 5501.5728\n",
      "Epoch 4/100\n",
      "1/1 [==============================] - 0s 1ms/step - loss: 1726.5383\n",
      "Epoch 5/100\n",
      "1/1 [==============================] - 0s 1ms/step - loss: 543.2642\n",
      "Epoch 6/100\n",
      "1/1 [==============================] - 0s 1ms/step - loss: 172.3692\n",
      "Epoch 7/100\n",
      "1/1 [==============================] - 0s 1ms/step - loss: 56.1127\n",
      "Epoch 8/100\n",
      "1/1 [==============================] - 0s 1ms/step - loss: 19.6711\n",
      "Epoch 9/100\n",
      "1/1 [==============================] - 0s 1ms/step - loss: 8.2477\n",
      "Epoch 10/100\n",
      "1/1 [==============================] - 0s 1ms/step - loss: 4.6659\n",
      "Epoch 11/100\n",
      "1/1 [==============================] - 0s 1ms/step - loss: 3.5422\n",
      "Epoch 12/100\n",
      "1/1 [==============================] - 0s 1ms/step - loss: 3.1889\n",
      "Epoch 13/100\n",
      "1/1 [==============================] - 0s 1ms/step - loss: 3.0771\n",
      "Epoch 14/100\n",
      "1/1 [==============================] - 0s 1ms/step - loss: 3.0410\n",
      "Epoch 15/100\n",
      "1/1 [==============================] - 0s 1ms/step - loss: 3.0286\n",
      "Epoch 16/100\n",
      "1/1 [==============================] - 0s 1ms/step - loss: 3.0236\n",
      "Epoch 17/100\n",
      "1/1 [==============================] - 0s 1ms/step - loss: 3.0210\n",
      "Epoch 18/100\n",
      "1/1 [==============================] - 0s 1ms/step - loss: 3.0192\n",
      "Epoch 19/100\n",
      "1/1 [==============================] - 0s 1ms/step - loss: 3.0175\n",
      "Epoch 20/100\n",
      "1/1 [==============================] - 0s 1ms/step - loss: 3.0159\n",
      "Epoch 21/100\n",
      "1/1 [==============================] - 0s 1ms/step - loss: 3.0144\n",
      "Epoch 22/100\n",
      "1/1 [==============================] - 0s 1ms/step - loss: 3.0128\n",
      "Epoch 23/100\n",
      "1/1 [==============================] - 0s 2ms/step - loss: 3.0113\n",
      "Epoch 24/100\n",
      "1/1 [==============================] - 0s 2ms/step - loss: 3.0098\n",
      "Epoch 25/100\n",
      "1/1 [==============================] - 0s 2ms/step - loss: 3.0082\n",
      "Epoch 26/100\n",
      "1/1 [==============================] - 0s 4ms/step - loss: 3.0067\n",
      "Epoch 27/100\n",
      "1/1 [==============================] - 0s 2ms/step - loss: 3.0051\n",
      "Epoch 28/100\n",
      "1/1 [==============================] - 0s 2ms/step - loss: 3.0036\n",
      "Epoch 29/100\n",
      "1/1 [==============================] - 0s 1ms/step - loss: 3.0021\n",
      "Epoch 30/100\n",
      "1/1 [==============================] - 0s 1ms/step - loss: 3.0005\n",
      "Epoch 31/100\n",
      "1/1 [==============================] - 0s 1ms/step - loss: 2.9990\n",
      "Epoch 32/100\n",
      "1/1 [==============================] - 0s 1ms/step - loss: 2.9975\n",
      "Epoch 33/100\n",
      "1/1 [==============================] - 0s 1ms/step - loss: 2.9960\n",
      "Epoch 34/100\n",
      "1/1 [==============================] - 0s 3ms/step - loss: 2.9944\n",
      "Epoch 35/100\n",
      "1/1 [==============================] - 0s 1ms/step - loss: 2.9929\n",
      "Epoch 36/100\n",
      "1/1 [==============================] - 0s 1ms/step - loss: 2.9914\n",
      "Epoch 37/100\n",
      "1/1 [==============================] - 0s 2ms/step - loss: 2.9898\n",
      "Epoch 38/100\n",
      "1/1 [==============================] - 0s 1ms/step - loss: 2.9883\n",
      "Epoch 39/100\n",
      "1/1 [==============================] - 0s 2ms/step - loss: 2.9868\n",
      "Epoch 40/100\n",
      "1/1 [==============================] - 0s 1ms/step - loss: 2.9852\n",
      "Epoch 41/100\n",
      "1/1 [==============================] - 0s 1ms/step - loss: 2.9837\n",
      "Epoch 42/100\n",
      "1/1 [==============================] - 0s 1ms/step - loss: 2.9822\n",
      "Epoch 43/100\n",
      "1/1 [==============================] - 0s 1ms/step - loss: 2.9807\n",
      "Epoch 44/100\n",
      "1/1 [==============================] - 0s 1ms/step - loss: 2.9791\n",
      "Epoch 45/100\n",
      "1/1 [==============================] - 0s 1ms/step - loss: 2.9776\n",
      "Epoch 46/100\n",
      "1/1 [==============================] - 0s 1ms/step - loss: 2.9761\n",
      "Epoch 47/100\n",
      "1/1 [==============================] - 0s 1ms/step - loss: 2.9746\n",
      "Epoch 48/100\n",
      "1/1 [==============================] - 0s 4ms/step - loss: 2.9731\n",
      "Epoch 49/100\n",
      "1/1 [==============================] - 0s 1ms/step - loss: 2.9716\n",
      "Epoch 50/100\n",
      "1/1 [==============================] - 0s 1ms/step - loss: 2.9700\n",
      "Epoch 51/100\n",
      "1/1 [==============================] - 0s 1ms/step - loss: 2.9685\n",
      "Epoch 52/100\n",
      "1/1 [==============================] - 0s 1ms/step - loss: 2.9670\n",
      "Epoch 53/100\n",
      "1/1 [==============================] - 0s 1ms/step - loss: 2.9655\n",
      "Epoch 54/100\n",
      "1/1 [==============================] - 0s 1ms/step - loss: 2.9640\n",
      "Epoch 55/100\n",
      "1/1 [==============================] - 0s 1ms/step - loss: 2.9625\n",
      "Epoch 56/100\n",
      "1/1 [==============================] - 0s 1ms/step - loss: 2.9610\n",
      "Epoch 57/100\n",
      "1/1 [==============================] - 0s 1ms/step - loss: 2.9594\n",
      "Epoch 58/100\n",
      "1/1 [==============================] - 0s 1ms/step - loss: 2.9579\n",
      "Epoch 59/100\n",
      "1/1 [==============================] - 0s 1ms/step - loss: 2.9564\n",
      "Epoch 60/100\n",
      "1/1 [==============================] - 0s 2ms/step - loss: 2.9549\n",
      "Epoch 61/100\n",
      "1/1 [==============================] - 0s 1ms/step - loss: 2.9534\n",
      "Epoch 62/100\n",
      "1/1 [==============================] - 0s 1ms/step - loss: 2.9519\n",
      "Epoch 63/100\n",
      "1/1 [==============================] - 0s 2ms/step - loss: 2.9504\n",
      "Epoch 64/100\n",
      "1/1 [==============================] - 0s 1ms/step - loss: 2.9489\n",
      "Epoch 65/100\n",
      "1/1 [==============================] - 0s 1ms/step - loss: 2.9474\n",
      "Epoch 66/100\n",
      "1/1 [==============================] - 0s 2ms/step - loss: 2.9459\n",
      "Epoch 67/100\n",
      "1/1 [==============================] - 0s 1ms/step - loss: 2.9444\n",
      "Epoch 68/100\n",
      "1/1 [==============================] - 0s 2ms/step - loss: 2.9429\n",
      "Epoch 69/100\n",
      "1/1 [==============================] - 0s 1ms/step - loss: 2.9414\n",
      "Epoch 70/100\n",
      "1/1 [==============================] - 0s 1ms/step - loss: 2.9399\n",
      "Epoch 71/100\n",
      "1/1 [==============================] - 0s 1ms/step - loss: 2.9384\n",
      "Epoch 72/100\n",
      "1/1 [==============================] - 0s 1ms/step - loss: 2.9368\n",
      "Epoch 73/100\n",
      "1/1 [==============================] - 0s 1ms/step - loss: 2.9354\n",
      "Epoch 74/100\n",
      "1/1 [==============================] - 0s 3ms/step - loss: 2.9339\n",
      "Epoch 75/100\n",
      "1/1 [==============================] - 0s 2ms/step - loss: 2.9324\n",
      "Epoch 76/100\n",
      "1/1 [==============================] - 0s 2ms/step - loss: 2.9309\n",
      "Epoch 77/100\n",
      "1/1 [==============================] - 0s 2ms/step - loss: 2.9294\n",
      "Epoch 78/100\n",
      "1/1 [==============================] - 0s 1ms/step - loss: 2.9279\n",
      "Epoch 79/100\n",
      "1/1 [==============================] - 0s 1ms/step - loss: 2.9264\n",
      "Epoch 80/100\n",
      "1/1 [==============================] - 0s 1ms/step - loss: 2.9249\n",
      "Epoch 81/100\n",
      "1/1 [==============================] - 0s 1ms/step - loss: 2.9234\n",
      "Epoch 82/100\n",
      "1/1 [==============================] - 0s 2ms/step - loss: 2.9219\n",
      "Epoch 83/100\n",
      "1/1 [==============================] - 0s 2ms/step - loss: 2.9204\n",
      "Epoch 84/100\n",
      "1/1 [==============================] - 0s 1ms/step - loss: 2.9189\n",
      "Epoch 85/100\n",
      "1/1 [==============================] - 0s 1ms/step - loss: 2.9174\n",
      "Epoch 86/100\n",
      "1/1 [==============================] - 0s 1ms/step - loss: 2.9159\n",
      "Epoch 87/100\n",
      "1/1 [==============================] - 0s 1ms/step - loss: 2.9145\n",
      "Epoch 88/100\n",
      "1/1 [==============================] - 0s 1ms/step - loss: 2.9130\n",
      "Epoch 89/100\n",
      "1/1 [==============================] - 0s 1ms/step - loss: 2.9115\n",
      "Epoch 90/100\n",
      "1/1 [==============================] - 0s 1ms/step - loss: 2.9100\n",
      "Epoch 91/100\n",
      "1/1 [==============================] - 0s 2ms/step - loss: 2.9085\n",
      "Epoch 92/100\n",
      "1/1 [==============================] - 0s 2ms/step - loss: 2.9070\n",
      "Epoch 93/100\n",
      "1/1 [==============================] - 0s 1ms/step - loss: 2.9055\n",
      "Epoch 94/100\n",
      "1/1 [==============================] - 0s 1ms/step - loss: 2.9041\n",
      "Epoch 95/100\n",
      "1/1 [==============================] - 0s 1ms/step - loss: 2.9026\n",
      "Epoch 96/100\n",
      "1/1 [==============================] - 0s 1ms/step - loss: 2.9011\n",
      "Epoch 97/100\n",
      "1/1 [==============================] - 0s 2ms/step - loss: 2.8996\n",
      "Epoch 98/100\n",
      "1/1 [==============================] - 0s 1ms/step - loss: 2.8982\n",
      "Epoch 99/100\n",
      "1/1 [==============================] - 0s 3ms/step - loss: 2.8967\n",
      "Epoch 100/100\n",
      "1/1 [==============================] - 0s 1ms/step - loss: 2.8952\n"
     ]
    }
   ],
   "source": [
    "history = model.fit(x_data, y_data, epochs=100)"
   ]
  },
  {
   "cell_type": "code",
   "execution_count": 10,
   "metadata": {
    "colab": {
     "base_uri": "https://localhost:8080/",
     "height": 295
    },
    "id": "YvaENQGNqlcC",
    "outputId": "7a63f2ff-e3a9-435c-ee97-c93d78a01145"
   },
   "outputs": [
    {
     "data": {
      "image/png": "[encoded data removed]",
      "text/plain": [
       "<Figure size 432x288 with 1 Axes>"
      ]
     },
     "metadata": {
      "needs_background": "light",
      "tags": []
     },
     "output_type": "display_data"
    }
   ],
   "source": [
    "import matplotlib.pyplot as plt\n",
    "%matplotlib inline\n",
    "plt.plot(history.history['loss'])\n",
    "plt.title('Model loss')\n",
    "plt.ylabel('Loss')\n",
    "plt.xlabel('Epoch')\n",
    "plt.legend(['Train', 'Test'], loc='upper left')\n",
    "plt.show()"
   ]
  },
  {
   "cell_type": "code",
   "execution_count": 11,
   "metadata": {
    "id": "Hp2r8AnIqlcD"
   },
   "outputs": [],
   "source": [
    "y_predict = model.predict(np.array([[72., 93., 90.]]))"
   ]
  },
  {
   "cell_type": "code",
   "execution_count": 12,
   "metadata": {
    "colab": {
     "base_uri": "https://localhost:8080/"
    },
    "id": "Zy9IijcxqlcD",
    "outputId": "b77f5bff-0aad-40b1-c484-b50808f44166"
   },
   "outputs": [
    {
     "name": "stdout",
     "output_type": "stream",
     "text": [
      "[[157.18913]]\n"
     ]
    }
   ],
   "source": [
    "print(y_predict)"
   ]
  },
  {
   "cell_type": "code",
   "execution_count": 12,
   "metadata": {
    "id": "cMb734iQqlcD"
   },
   "outputs": [],
   "source": []
  }
 ],
 "metadata": {
  "colab": {
   "collapsed_sections": [],
   "name": "tf2-04-1-multi-variable-linear-regression-kaggle.ipynb",
   "provenance": []
  },
  "kernelspec": {
   "display_name": "Python 3",
   "language": "python",
   "name": "python3"
  },
  "language_info": {
   "codemirror_mode": {
    "name": "ipython",
    "version": 3
   },
   "file_extension": ".py",
   "mimetype": "text/x-python",
   "name": "python",
   "nbconvert_exporter": "python",
   "pygments_lexer": "ipython3",
   "version": "3.8.3"
  }
 },
 "nbformat": 4,
 "nbformat_minor": 4
}
