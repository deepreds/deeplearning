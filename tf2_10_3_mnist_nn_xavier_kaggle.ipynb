{
  "nbformat": 4,
  "nbformat_minor": 0,
  "metadata": {
    "kernelspec": {
      "display_name": "Python 3",
      "language": "python",
      "name": "python3"
    },
    "language_info": {
      "codemirror_mode": {
        "name": "ipython",
        "version": 3
      },
      "file_extension": ".py",
      "mimetype": "text/x-python",
      "name": "python",
      "nbconvert_exporter": "python",
      "pygments_lexer": "ipython3",
      "version": "3.8.3"
    },
    "colab": {
      "name": "tf2_10_3_mnist_nn_xavier_kaggle.ipynb",
      "provenance": [],
      "collapsed_sections": []
    },
    "accelerator": "GPU"
  },
  "cells": [
    {
      "cell_type": "code",
      "metadata": {
        "id": "wz71o-39QBMK"
      },
      "source": [
        "# Lab 10 MNIST and NN\n",
        "import numpy as np\n",
        "import random\n",
        "import tensorflow as tf"
      ],
      "execution_count": 1,
      "outputs": []
    },
    {
      "cell_type": "code",
      "metadata": {
        "colab": {
          "base_uri": "https://localhost:8080/"
        },
        "id": "hsnXH2IGQBMM",
        "outputId": "fb6bdea3-82da-4b57-df70-fbd8cf5d2b76"
      },
      "source": [
        "import os\n",
        "os.environ['TF_CPP_MIN_LOG_LEVEL'] = '3'\n",
        "os.environ[\"CUDA_DEVICE_ORDER\"] = \"PCI_BUS_ID\"\n",
        "os.environ[\"CUDA_VISIBLE_DEVICES\"] = '0' # Set to -1 if CPU should be used CPU = -1 , GPU = 0\n",
        "\n",
        "gpus = tf.config.experimental.list_physical_devices('GPU')\n",
        "cpus = tf.config.experimental.list_physical_devices('CPU')\n",
        "\n",
        "if gpus:\n",
        "    try:\n",
        "        # Currently, memory growth needs to be the same across GPUs\n",
        "        for gpu in gpus:\n",
        "            tf.config.experimental.set_memory_growth(gpu, True)\n",
        "        logical_gpus = tf.config.experimental.list_logical_devices('GPU')\n",
        "        print(len(gpus), \"Physical GPUs,\", len(logical_gpus), \"Logical GPUs\")\n",
        "    except RuntimeError as e:\n",
        "        # Memory growth must be set before GPUs have been initialized\n",
        "        print(e)\n",
        "elif cpus:\n",
        "    try:\n",
        "        # Currently, memory growth needs to be the same across GPUs\n",
        "        logical_cpus= tf.config.experimental.list_logical_devices('CPU')\n",
        "        print(len(cpus), \"Physical CPU,\", len(logical_cpus), \"Logical CPU\")\n",
        "    except RuntimeError as e:\n",
        "        # Memory growth must be set before GPUs have been initialized\n",
        "        print(e)"
      ],
      "execution_count": 2,
      "outputs": [
        {
          "output_type": "stream",
          "text": [
            "1 Physical GPUs, 1 Logical GPUs\n"
          ],
          "name": "stdout"
        }
      ]
    },
    {
      "cell_type": "code",
      "metadata": {
        "id": "hhuOZdTSQBMO"
      },
      "source": [
        "random.seed(777)  # for reproducibility\n",
        "learning_rate = 0.001\n",
        "batch_size = 30 #100 reduce batch_size\n",
        "training_epochs = 15\n",
        "nb_classes = 10"
      ],
      "execution_count": 3,
      "outputs": []
    },
    {
      "cell_type": "code",
      "metadata": {
        "colab": {
          "base_uri": "https://localhost:8080/"
        },
        "id": "uee2R-_OQBMP",
        "outputId": "91d414d7-24da-41bc-962d-013a4a866c86"
      },
      "source": [
        "(x_train, y_train), (x_test2, y_test) = tf.keras.datasets.mnist.load_data()\n",
        "print(x_train.shape)"
      ],
      "execution_count": 4,
      "outputs": [
        {
          "output_type": "stream",
          "text": [
            "Downloading data from https://storage.googleapis.com/tensorflow/tf-keras-datasets/mnist.npz\n",
            "11493376/11490434 [==============================] - 0s 0us/step\n",
            "(60000, 28, 28)\n"
          ],
          "name": "stdout"
        }
      ]
    },
    {
      "cell_type": "code",
      "metadata": {
        "id": "_dFkp-OZQBMP"
      },
      "source": [
        "x_train = x_train.reshape(x_train.shape[0], 28 * 28)\n",
        "x_test = x_test2.reshape(x_test2.shape[0], 28 * 28)"
      ],
      "execution_count": 5,
      "outputs": []
    },
    {
      "cell_type": "code",
      "metadata": {
        "id": "DzL5JZC6QBMQ"
      },
      "source": [
        "y_train = tf.keras.utils.to_categorical(y_train, nb_classes)\n",
        "y_test = tf.keras.utils.to_categorical(y_test, nb_classes)"
      ],
      "execution_count": 6,
      "outputs": []
    },
    {
      "cell_type": "code",
      "metadata": {
        "id": "drR_8WHPQBMQ"
      },
      "source": [
        "model = tf.keras.Sequential()\n",
        "# Glorot normal initializer, also called Xavier normal initializer.\n",
        "# see https://www.tensorflow.org/api_docs/python/tf/initializers"
      ],
      "execution_count": 7,
      "outputs": []
    },
    {
      "cell_type": "code",
      "metadata": {
        "id": "StOwXCNsQBMQ"
      },
      "source": [
        "model.add(tf.keras.layers.Dense(input_dim=784, units=256, kernel_initializer='glorot_normal', activation='relu'))\n",
        "model.add(tf.keras.layers.Dense(units=256, kernel_initializer='glorot_normal', activation='relu'))\n",
        "model.add(tf.keras.layers.Dense(units=nb_classes, kernel_initializer='glorot_normal', activation='softmax'))"
      ],
      "execution_count": 8,
      "outputs": []
    },
    {
      "cell_type": "code",
      "metadata": {
        "id": "YWB9Q7bzQBMR"
      },
      "source": [
        "model.compile(loss='categorical_crossentropy',optimizer=tf.keras.optimizers.Adam(lr=learning_rate), metrics=['accuracy'])"
      ],
      "execution_count": 9,
      "outputs": []
    },
    {
      "cell_type": "code",
      "metadata": {
        "colab": {
          "base_uri": "https://localhost:8080/"
        },
        "id": "Ml61uio3QBMR",
        "outputId": "28e2f7f1-90b8-4d49-acb3-3a4727fa56bb"
      },
      "source": [
        "model.summary()"
      ],
      "execution_count": 10,
      "outputs": [
        {
          "output_type": "stream",
          "text": [
            "Model: \"sequential\"\n",
            "_________________________________________________________________\n",
            "Layer (type)                 Output Shape              Param #   \n",
            "=================================================================\n",
            "dense (Dense)                (None, 256)               200960    \n",
            "_________________________________________________________________\n",
            "dense_1 (Dense)              (None, 256)               65792     \n",
            "_________________________________________________________________\n",
            "dense_2 (Dense)              (None, 10)                2570      \n",
            "=================================================================\n",
            "Total params: 269,322\n",
            "Trainable params: 269,322\n",
            "Non-trainable params: 0\n",
            "_________________________________________________________________\n"
          ],
          "name": "stdout"
        }
      ]
    },
    {
      "cell_type": "code",
      "metadata": {
        "colab": {
          "base_uri": "https://localhost:8080/"
        },
        "id": "AtKyo80-QBMR",
        "outputId": "2722d445-90ac-42b4-dca7-7d812b3ef713"
      },
      "source": [
        "history = model.fit(x_train, y_train, batch_size=batch_size, epochs=training_epochs)"
      ],
      "execution_count": 11,
      "outputs": [
        {
          "output_type": "stream",
          "text": [
            "Epoch 1/15\n",
            "2000/2000 [==============================] - 4s 2ms/step - loss: 1.5621 - accuracy: 0.8911\n",
            "Epoch 2/15\n",
            "2000/2000 [==============================] - 4s 2ms/step - loss: 0.2578 - accuracy: 0.9425\n",
            "Epoch 3/15\n",
            "2000/2000 [==============================] - 4s 2ms/step - loss: 0.1810 - accuracy: 0.9528\n",
            "Epoch 4/15\n",
            "2000/2000 [==============================] - 4s 2ms/step - loss: 0.1591 - accuracy: 0.9567\n",
            "Epoch 5/15\n",
            "2000/2000 [==============================] - 4s 2ms/step - loss: 0.1499 - accuracy: 0.9606\n",
            "Epoch 6/15\n",
            "2000/2000 [==============================] - 4s 2ms/step - loss: 0.1343 - accuracy: 0.9641\n",
            "Epoch 7/15\n",
            "2000/2000 [==============================] - 4s 2ms/step - loss: 0.1188 - accuracy: 0.9689\n",
            "Epoch 8/15\n",
            "2000/2000 [==============================] - 4s 2ms/step - loss: 0.1126 - accuracy: 0.9712\n",
            "Epoch 9/15\n",
            "2000/2000 [==============================] - 4s 2ms/step - loss: 0.0989 - accuracy: 0.9747\n",
            "Epoch 10/15\n",
            "2000/2000 [==============================] - 4s 2ms/step - loss: 0.0947 - accuracy: 0.9756\n",
            "Epoch 11/15\n",
            "2000/2000 [==============================] - 4s 2ms/step - loss: 0.0936 - accuracy: 0.9779\n",
            "Epoch 12/15\n",
            "2000/2000 [==============================] - 4s 2ms/step - loss: 0.0863 - accuracy: 0.9790\n",
            "Epoch 13/15\n",
            "2000/2000 [==============================] - 4s 2ms/step - loss: 0.0794 - accuracy: 0.9805\n",
            "Epoch 14/15\n",
            "2000/2000 [==============================] - 4s 2ms/step - loss: 0.0759 - accuracy: 0.9822\n",
            "Epoch 15/15\n",
            "2000/2000 [==============================] - 4s 2ms/step - loss: 0.0732 - accuracy: 0.9833\n"
          ],
          "name": "stdout"
        }
      ]
    },
    {
      "cell_type": "code",
      "metadata": {
        "colab": {
          "base_uri": "https://localhost:8080/",
          "height": 312
        },
        "id": "0O3QTim1QBMS",
        "outputId": "3d44ef27-6a71-4233-c5e3-15998b855123"
      },
      "source": [
        "import matplotlib.pyplot as plt\n",
        "%matplotlib inline\n",
        "plt.plot(history.history['loss'])\n",
        "plt.plot(history.history['accuracy'])\n",
        "plt.title('Model loss & accuracy')\n",
        "plt.ylabel('Loss')\n",
        "plt.xlabel('Epoch')\n",
        "plt.legend(['loss', 'accuracy'], loc='upper left')\n",
        "plt.show()\n",
        "print(history.history['accuracy'][-5:])"
      ],
      "execution_count": 12,
      "outputs": [
        {
          "output_type": "display_data",
          "data": {
            "image/png": "[encoded data removed]",
            "text/plain": [
              "<Figure size 432x288 with 1 Axes>"
            ]
          },
          "metadata": {
            "tags": [],
            "needs_background": "light"
          }
        },
        {
          "output_type": "stream",
          "text": [
            "[0.9779499769210815, 0.9789999723434448, 0.9805499911308289, 0.9821666479110718, 0.9832500219345093]\n"
          ],
          "name": "stdout"
        }
      ]
    },
    {
      "cell_type": "code",
      "metadata": {
        "colab": {
          "base_uri": "https://localhost:8080/"
        },
        "id": "0VFs2xZzQBMS",
        "outputId": "3a3f71e6-0e59-4e9f-f1de-12fbcff44470"
      },
      "source": [
        "# predict 10 random hand-writing data\n",
        "y_predicted = model.predict(x_test)\n",
        "for x in range(0, 10):\n",
        "    random_index = random.randint(0, x_test.shape[0]-1)\n",
        "    print(\"index: \", random_index,\"actual y: \", np.argmax(y_test[random_index]),\"predicted y: \", np.argmax(y_predicted[random_index]))"
      ],
      "execution_count": 13,
      "outputs": [
        {
          "output_type": "stream",
          "text": [
            "index:  3757 actual y:  8 predicted y:  3\n",
            "index:  7304 actual y:  5 predicted y:  5\n",
            "index:  7300 actual y:  7 predicted y:  7\n",
            "index:  6039 actual y:  9 predicted y:  9\n",
            "index:  9429 actual y:  3 predicted y:  3\n",
            "index:  4420 actual y:  5 predicted y:  5\n",
            "index:  5507 actual y:  2 predicted y:  2\n",
            "index:  8809 actual y:  1 predicted y:  1\n",
            "index:  654 actual y:  5 predicted y:  5\n",
            "index:  7302 actual y:  8 predicted y:  8\n"
          ],
          "name": "stdout"
        }
      ]
    },
    {
      "cell_type": "code",
      "metadata": {
        "colab": {
          "base_uri": "https://localhost:8080/"
        },
        "id": "eQeLYd7kQBMS",
        "outputId": "03004aa7-f8ac-4fd1-820d-f01ec5a3c7ae"
      },
      "source": [
        "# evaluate test set\n",
        "evaluation = model.evaluate(x_test, y_test)\n",
        "print('loss: ', evaluation[0])\n",
        "print('accuracy', evaluation[1])"
      ],
      "execution_count": 14,
      "outputs": [
        {
          "output_type": "stream",
          "text": [
            "313/313 [==============================] - 1s 2ms/step - loss: 0.2479 - accuracy: 0.9632\n",
            "loss:  0.2479230761528015\n",
            "accuracy 0.9631999731063843\n"
          ],
          "name": "stdout"
        }
      ]
    }
  ]
}