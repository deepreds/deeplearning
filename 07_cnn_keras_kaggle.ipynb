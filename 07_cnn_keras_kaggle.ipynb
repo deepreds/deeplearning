{
  "nbformat": 4,
  "nbformat_minor": 0,
  "metadata": {
    "kernelspec": {
      "display_name": "Python 3",
      "language": "python",
      "name": "python3"
    },
    "language_info": {
      "codemirror_mode": {
        "name": "ipython",
        "version": 3
      },
      "file_extension": ".py",
      "mimetype": "text/x-python",
      "name": "python",
      "nbconvert_exporter": "python",
      "pygments_lexer": "ipython3",
      "version": "3.8.3"
    },
    "colab": {
      "name": "07-cnn-keras-kaggle.ipynb",
      "provenance": [],
      "collapsed_sections": []
    },
    "accelerator": "GPU"
  },
  "cells": [
    {
      "cell_type": "code",
      "metadata": {
        "colab": {
          "base_uri": "https://localhost:8080/"
        },
        "id": "84FdZ_39T0sW",
        "outputId": "dd5f176c-fdd4-45ea-8265-5e36ed15e05e"
      },
      "source": [
        "#https://www.pyimagesearch.com/2018/04/16/keras-and-convolutional-neural-networks-cnns/\n",
        "import tensorflow as tf\n",
        "\n",
        "import os\n",
        "os.environ['TF_CPP_MIN_LOG_LEVEL'] = '3'\n",
        "os.environ[\"CUDA_DEVICE_ORDER\"] = \"PCI_BUS_ID\"\n",
        "os.environ[\"CUDA_VISIBLE_DEVICES\"] = '0' # Set to -1 if CPU should be used CPU = -1 , GPU = 0\n",
        "\n",
        "gpus = tf.config.experimental.list_physical_devices('GPU')\n",
        "cpus = tf.config.experimental.list_physical_devices('CPU')\n",
        "\n",
        "if gpus:\n",
        "    try:\n",
        "        # Currently, memory growth needs to be the same across GPUs\n",
        "        for gpu in gpus:\n",
        "            tf.config.experimental.set_memory_growth(gpu, True)\n",
        "        logical_gpus = tf.config.experimental.list_logical_devices('GPU')\n",
        "        print(len(gpus), \"Physical GPUs,\", len(logical_gpus), \"Logical GPUs\")\n",
        "    except RuntimeError as e:\n",
        "        # Memory growth must be set before GPUs have been initialized\n",
        "        print(e)\n",
        "elif cpus:\n",
        "    try:\n",
        "        # Currently, memory growth needs to be the same across GPUs\n",
        "        logical_cpus= tf.config.experimental.list_logical_devices('CPU')\n",
        "        print(len(cpus), \"Physical CPU,\", len(logical_cpus), \"Logical CPU\")\n",
        "    except RuntimeError as e:\n",
        "        # Memory growth must be set before GPUs have been initialized\n",
        "        print(e)"
      ],
      "execution_count": 1,
      "outputs": [
        {
          "output_type": "stream",
          "text": [
            "1 Physical GPUs, 1 Logical GPUs\n"
          ],
          "name": "stdout"
        }
      ]
    },
    {
      "cell_type": "code",
      "metadata": {
        "colab": {
          "base_uri": "https://localhost:8080/"
        },
        "id": "FEIDj3mIT0sf",
        "outputId": "44039567-225e-44fa-a7ae-67a120d07a3f"
      },
      "source": [
        "# Settings -> Internet -> Phone Validation required to internet connection\n",
        "\n",
        "!pip install imutils"
      ],
      "execution_count": 2,
      "outputs": [
        {
          "output_type": "stream",
          "text": [
            "Requirement already satisfied: imutils in /usr/local/lib/python3.6/dist-packages (0.5.3)\n"
          ],
          "name": "stdout"
        }
      ]
    },
    {
      "cell_type": "code",
      "metadata": {
        "id": "4Aho0jNhT0sg"
      },
      "source": [
        "# import the necessary packages\n",
        "\n",
        "from tensorflow.keras.models import Sequential\n",
        "from tensorflow.keras.layers import BatchNormalization\n",
        "from tensorflow.keras.layers import Conv2D\n",
        "from tensorflow.keras.layers import MaxPooling2D\n",
        "from tensorflow.keras.layers import Activation\n",
        "from tensorflow.keras.layers import Flatten\n",
        "from tensorflow.keras.layers import Dropout\n",
        "from tensorflow.keras.layers import Dense\n",
        "from tensorflow.keras import backend as K\n",
        "# import the necessary packages\n",
        "from tensorflow.keras.preprocessing.image import ImageDataGenerator\n",
        "from tensorflow.keras.optimizers import Adam\n",
        "from tensorflow.keras.preprocessing.image import img_to_array\n",
        "from sklearn.preprocessing import LabelBinarizer\n",
        "from sklearn.model_selection import train_test_split\n",
        "import matplotlib.pyplot as plt\n",
        "from imutils import paths\n",
        "import numpy as np\n",
        "import random\n",
        "import pickle\n",
        "import cv2\n",
        "# import the necessary packages\n",
        "from tensorflow.keras.preprocessing.image import img_to_array\n",
        "from tensorflow.keras.models import load_model\n",
        "import imutils\n",
        "import os"
      ],
      "execution_count": 3,
      "outputs": []
    },
    {
      "cell_type": "code",
      "metadata": {
        "id": "gT9qULEVT0sh"
      },
      "source": [
        "class SmallerVGGNet:\n",
        "\t@staticmethod\n",
        "\tdef build(width, height, depth, classes):\n",
        "\t\t# initialize the model along with the input shape to be\n",
        "\t\t# \"channels last\" and the channels dimension itself\n",
        "\t\tmodel = Sequential()\n",
        "\t\tinputShape = (height, width, depth)\n",
        "\t\tchanDim = -1\n",
        "\n",
        "\t\t# if we are using \"channels first\", update the input shape\n",
        "\t\t# and channels dimension\n",
        "\t\tif K.image_data_format() == \"channels_first\":\n",
        "\t\t\tinputShape = (depth, height, width)\n",
        "\t\t\tchanDim = 1\n",
        "\n",
        "\t\t# CONV => RELU => POOL\n",
        "\t\tmodel.add(Conv2D(32, (3, 3), padding=\"same\",\n",
        "\t\t\tinput_shape=inputShape))\n",
        "\t\tmodel.add(Activation(\"relu\"))\n",
        "\t\tmodel.add(BatchNormalization(axis=chanDim))\n",
        "\t\tmodel.add(MaxPooling2D(pool_size=(3, 3)))\n",
        "\t\tmodel.add(Dropout(0.25))\n",
        "\n",
        "\t\t# (CONV => RELU) * 2 => POOL\n",
        "\t\tmodel.add(Conv2D(64, (3, 3), padding=\"same\"))\n",
        "\t\tmodel.add(Activation(\"relu\"))\n",
        "\t\tmodel.add(BatchNormalization(axis=chanDim))\n",
        "\t\tmodel.add(Conv2D(64, (3, 3), padding=\"same\"))\n",
        "\t\tmodel.add(Activation(\"relu\"))\n",
        "\t\tmodel.add(BatchNormalization(axis=chanDim))\n",
        "\t\tmodel.add(MaxPooling2D(pool_size=(2, 2)))\n",
        "\t\tmodel.add(Dropout(0.25))\n",
        "\n",
        "\t\t# (CONV => RELU) * 2 => POOL\n",
        "\t\tmodel.add(Conv2D(128, (3, 3), padding=\"same\"))\n",
        "\t\tmodel.add(Activation(\"relu\"))\n",
        "\t\tmodel.add(BatchNormalization(axis=chanDim))\n",
        "\t\tmodel.add(Conv2D(128, (3, 3), padding=\"same\"))\n",
        "\t\tmodel.add(Activation(\"relu\"))\n",
        "\t\tmodel.add(BatchNormalization(axis=chanDim))\n",
        "\t\tmodel.add(MaxPooling2D(pool_size=(2, 2)))\n",
        "\t\tmodel.add(Dropout(0.25))\n",
        "\n",
        "\t\t# first (and only) set of FC => RELU layers\n",
        "\t\tmodel.add(Flatten())\n",
        "\t\tmodel.add(Dense(1024))\n",
        "\t\tmodel.add(Activation(\"relu\"))\n",
        "\t\tmodel.add(BatchNormalization())\n",
        "\t\tmodel.add(Dropout(0.5))\n",
        "\n",
        "\t\t# softmax classifier\n",
        "\t\tmodel.add(Dense(classes))\n",
        "\t\tmodel.add(Activation(\"softmax\"))\n",
        "\n",
        "\t\t# return the constructed network architecture\n",
        "\t\treturn model"
      ],
      "execution_count": 4,
      "outputs": []
    },
    {
      "cell_type": "code",
      "metadata": {
        "id": "AQx9zylQT0si"
      },
      "source": [
        "# initialize the number of epochs to train for, initial learning rate,\n",
        "# batch size, and image dimensions\n",
        "EPOCHS = 100\n",
        "INIT_LR = 1e-3\n",
        "BS = 32\n",
        "IMAGE_DIMS = (96, 96, 3)"
      ],
      "execution_count": 5,
      "outputs": []
    },
    {
      "cell_type": "code",
      "metadata": {
        "colab": {
          "base_uri": "https://localhost:8080/"
        },
        "id": "7Hhn1VHdT0si",
        "outputId": "0e0fa913-2842-4565-9990-f8cec85b4f9f"
      },
      "source": [
        "# +Add data before loading\n",
        "\n",
        "!wget -O gdrivedl 'https://f.mjh.nz/gdrivedl'\n",
        "!ls -l\n",
        "!pwd\n",
        "\n",
        "\"\"\"\n",
        "!bash /kaggle/working/gdrivedl https://drive.google.com/file/d/1JhqrLyil7JYrdf5B3359Fe8K83K1TY6S/view?usp=sharing\n",
        "!bash /kaggle/working/gdrivedl https://drive.google.com/file/d/1dAt-v_GCvPEAyfjOiBxqJNP8AisdmwZn/view?usp=sharing\n",
        "!ls -l /kaggle/working\n",
        "inputdir = \"/kaggle/working\"\n",
        "\"\"\"\n",
        "\n",
        "!bash /content/gdrivedl https://drive.google.com/file/d/1JhqrLyil7JYrdf5B3359Fe8K83K1TY6S/view?usp=sharing\n",
        "!bash /content/gdrivedl https://drive.google.com/file/d/1dAt-v_GCvPEAyfjOiBxqJNP8AisdmwZn/view?usp=sharing\n",
        "!ls -l /content\n",
        "inputdir = \"/content\""
      ],
      "execution_count": 6,
      "outputs": [
        {
          "output_type": "stream",
          "text": [
            "--2020-12-12 23:46:35--  https://f.mjh.nz/gdrivedl\n",
            "Resolving f.mjh.nz (f.mjh.nz)... 104.28.30.233, 104.28.31.233, 172.67.162.157, ...\n",
            "Connecting to f.mjh.nz (f.mjh.nz)|104.28.30.233|:443... connected.\n",
            "HTTP request sent, awaiting response... 200 OK\n",
            "Length: 1362 (1.3K) [application/octet-stream]\n",
            "Saving to: ‘gdrivedl’\n",
            "\n",
            "\rgdrivedl              0%[                    ]       0  --.-KB/s               \rgdrivedl            100%[===================>]   1.33K  --.-KB/s    in 0s      \n",
            "\n",
            "2020-12-12 23:46:36 (28.6 MB/s) - ‘gdrivedl’ saved [1362/1362]\n",
            "\n",
            "total 341088\n",
            "-rw-r--r-- 1 root root      1362 Jan 29  2019 gdrivedl\n",
            "-rw-r--r-- 1 root root   2519901 Dec 12 23:39 Pokemon_examples.zip\n",
            "-rw-r--r-- 1 root root 346739983 Dec 12 23:46 Pokemon.zip\n",
            "drwxr-xr-x 1 root root      4096 Dec  2 22:04 sample_data\n",
            "/content\n",
            "File ID: 1JhqrLyil7JYrdf5B3359Fe8K83K1TY6S\n",
            "Downloading: https://docs.google.com/uc?export=download&id=1JhqrLyil7JYrdf5B3359Fe8K83K1TY6S > .399.file\n",
            "Downloading: https://docs.google.com/uc?export=download&id=1JhqrLyil7JYrdf5B3359Fe8K83K1TY6S&confirm=GN0M > .399.file\n",
            "Moving: .399.file > Pokemon.zip\n",
            "Saved: Pokemon.zip\n",
            "DONE!\n",
            "File ID: 1dAt-v_GCvPEAyfjOiBxqJNP8AisdmwZn\n",
            "Downloading: https://docs.google.com/uc?export=download&id=1dAt-v_GCvPEAyfjOiBxqJNP8AisdmwZn > .415.file\n",
            "Moving: .415.file > Pokemon_examples.zip\n",
            "Saved: Pokemon_examples.zip\n",
            "DONE!\n",
            "total 341088\n",
            "-rw-r--r-- 1 root root      1362 Jan 29  2019 gdrivedl\n",
            "-rw-r--r-- 1 root root   2519901 Dec 12 23:46 Pokemon_examples.zip\n",
            "-rw-r--r-- 1 root root 346739983 Dec 12 23:46 Pokemon.zip\n",
            "drwxr-xr-x 1 root root      4096 Dec  2 22:04 sample_data\n"
          ],
          "name": "stdout"
        }
      ]
    },
    {
      "cell_type": "code",
      "metadata": {
        "colab": {
          "base_uri": "https://localhost:8080/"
        },
        "id": "XVe75-62T0si",
        "outputId": "30f28c82-4a58-4219-95a7-7db736cff7a6"
      },
      "source": [
        "# grab the image paths and randomly shuffle them\n",
        "print(\"[INFO] loading images...\")\n",
        "import zipfile\n",
        "#imagePaths = sorted(list(paths.list_images('Pokemon')))\n",
        "imagefilename = os.path.join(inputdir, 'Pokemon.zip')\n",
        "zf = zipfile.ZipFile(imagefilename)\n",
        "random.seed(42)\n",
        "imagePaths = zf.namelist()\n",
        "random.seed(42)\n",
        "random.shuffle(imagePaths)"
      ],
      "execution_count": 7,
      "outputs": [
        {
          "output_type": "stream",
          "text": [
            "[INFO] loading images...\n"
          ],
          "name": "stdout"
        }
      ]
    },
    {
      "cell_type": "code",
      "metadata": {
        "id": "b-801VoUT0sj"
      },
      "source": [
        "# initialize the data and labels\n",
        "data = []\n",
        "labels = []\n",
        "from tensorflow.keras.applications import imagenet_utils\n",
        "# loop over the input images\n",
        "for imagePath in imagePaths:\n",
        "\t# load the image, pre-process it, and store it in the data list\n",
        "\t#image = cv2.imread(imagePath)\n",
        "\timage = cv2.imdecode(np.frombuffer(zf.read(imagePath), np.uint8), 1)\n",
        "\timage = cv2.resize(image, (IMAGE_DIMS[1], IMAGE_DIMS[0]))\n",
        "\t#image = img_to_array(image)\n",
        "\t#image = np.expand_dims(image, axis=0)\n",
        "\timage = imagenet_utils.preprocess_input(image)\n",
        "\tdata.append(image)\n",
        " \n",
        "\t# extract the class label from the image path and update the\n",
        "\t# labels list\n",
        "\t#label = imagePath.split(os.path.sep)[-2]\n",
        "\tlabel = imagePath.split('/', 1)[0]\n",
        "\tlabels.append(label)"
      ],
      "execution_count": 8,
      "outputs": []
    },
    {
      "cell_type": "code",
      "metadata": {
        "colab": {
          "base_uri": "https://localhost:8080/"
        },
        "id": "IJh1kWScT0sj",
        "outputId": "a86678c7-2377-4e9e-97eb-b7cc41e1f818"
      },
      "source": [
        "# scale the raw pixel intensities to the range [0, 1]\n",
        "data = np.array(data, dtype=\"float\") / 255.0\n",
        "labels = np.array(labels)\n",
        "print(\"[INFO] data matrix: {:.2f}MB\".format(data.nbytes / (1024 * 1000.0)))"
      ],
      "execution_count": 9,
      "outputs": [
        {
          "output_type": "stream",
          "text": [
            "[INFO] data matrix: 252.29MB\n"
          ],
          "name": "stdout"
        }
      ]
    },
    {
      "cell_type": "code",
      "metadata": {
        "colab": {
          "base_uri": "https://localhost:8080/"
        },
        "id": "dYSpe1IWT0sk",
        "outputId": "d90a74c7-a0d4-4e97-c6de-1c7c10bb8d7b"
      },
      "source": [
        "print(data.shape)\n",
        "print(labels.shape)"
      ],
      "execution_count": 10,
      "outputs": [
        {
          "output_type": "stream",
          "text": [
            "(1168, 96, 96, 3)\n",
            "(1168,)\n"
          ],
          "name": "stdout"
        }
      ]
    },
    {
      "cell_type": "code",
      "metadata": {
        "id": "Or3xDLmkT0sk"
      },
      "source": [
        "# binarize the labels\n",
        "lb = LabelBinarizer()\n",
        "labels = lb.fit_transform(labels)"
      ],
      "execution_count": 11,
      "outputs": []
    },
    {
      "cell_type": "code",
      "metadata": {
        "id": "_2T2TJIiT0sl"
      },
      "source": [
        "# partition the data into training and testing splits using 80% of\n",
        "# the data for training and the remaining 20% for testing\n",
        "(trainX, testX, trainY, testY) = train_test_split(data,labels, test_size=0.2, random_state=42)"
      ],
      "execution_count": 12,
      "outputs": []
    },
    {
      "cell_type": "code",
      "metadata": {
        "id": "7G-fW9YWT0sl"
      },
      "source": [
        "# construct the image generator for data augmentation\n",
        "aug = ImageDataGenerator(rotation_range=25, width_shift_range=0.1,height_shift_range=0.1, shear_range=0.2, zoom_range=0.2,horizontal_flip=True, fill_mode=\"nearest\")"
      ],
      "execution_count": 13,
      "outputs": []
    },
    {
      "cell_type": "code",
      "metadata": {
        "colab": {
          "base_uri": "https://localhost:8080/"
        },
        "id": "bIqmlIW5T0sl",
        "outputId": "2fee35a3-a27c-4270-c3d6-9c16f43fd6e3"
      },
      "source": [
        "# initialize the model\n",
        "print(\"[INFO] compiling model...\")\n",
        "model = SmallerVGGNet.build(width=IMAGE_DIMS[1], height=IMAGE_DIMS[0],depth=IMAGE_DIMS[2], classes=len(lb.classes_))\n",
        "opt = Adam(lr=INIT_LR, decay=INIT_LR / EPOCHS)\n",
        "model.compile(loss=\"categorical_crossentropy\", optimizer=opt,metrics=[\"accuracy\"])"
      ],
      "execution_count": 14,
      "outputs": [
        {
          "output_type": "stream",
          "text": [
            "[INFO] compiling model...\n"
          ],
          "name": "stdout"
        }
      ]
    },
    {
      "cell_type": "code",
      "metadata": {
        "colab": {
          "base_uri": "https://localhost:8080/"
        },
        "id": "FqCWCYRGT0sl",
        "outputId": "32d6b4c7-38bc-4f38-82be-4ec3f0194a41"
      },
      "source": [
        "model.summary()"
      ],
      "execution_count": 15,
      "outputs": [
        {
          "output_type": "stream",
          "text": [
            "Model: \"sequential\"\n",
            "_________________________________________________________________\n",
            "Layer (type)                 Output Shape              Param #   \n",
            "=================================================================\n",
            "conv2d (Conv2D)              (None, 96, 96, 32)        896       \n",
            "_________________________________________________________________\n",
            "activation (Activation)      (None, 96, 96, 32)        0         \n",
            "_________________________________________________________________\n",
            "batch_normalization (BatchNo (None, 96, 96, 32)        128       \n",
            "_________________________________________________________________\n",
            "max_pooling2d (MaxPooling2D) (None, 32, 32, 32)        0         \n",
            "_________________________________________________________________\n",
            "dropout (Dropout)            (None, 32, 32, 32)        0         \n",
            "_________________________________________________________________\n",
            "conv2d_1 (Conv2D)            (None, 32, 32, 64)        18496     \n",
            "_________________________________________________________________\n",
            "activation_1 (Activation)    (None, 32, 32, 64)        0         \n",
            "_________________________________________________________________\n",
            "batch_normalization_1 (Batch (None, 32, 32, 64)        256       \n",
            "_________________________________________________________________\n",
            "conv2d_2 (Conv2D)            (None, 32, 32, 64)        36928     \n",
            "_________________________________________________________________\n",
            "activation_2 (Activation)    (None, 32, 32, 64)        0         \n",
            "_________________________________________________________________\n",
            "batch_normalization_2 (Batch (None, 32, 32, 64)        256       \n",
            "_________________________________________________________________\n",
            "max_pooling2d_1 (MaxPooling2 (None, 16, 16, 64)        0         \n",
            "_________________________________________________________________\n",
            "dropout_1 (Dropout)          (None, 16, 16, 64)        0         \n",
            "_________________________________________________________________\n",
            "conv2d_3 (Conv2D)            (None, 16, 16, 128)       73856     \n",
            "_________________________________________________________________\n",
            "activation_3 (Activation)    (None, 16, 16, 128)       0         \n",
            "_________________________________________________________________\n",
            "batch_normalization_3 (Batch (None, 16, 16, 128)       512       \n",
            "_________________________________________________________________\n",
            "conv2d_4 (Conv2D)            (None, 16, 16, 128)       147584    \n",
            "_________________________________________________________________\n",
            "activation_4 (Activation)    (None, 16, 16, 128)       0         \n",
            "_________________________________________________________________\n",
            "batch_normalization_4 (Batch (None, 16, 16, 128)       512       \n",
            "_________________________________________________________________\n",
            "max_pooling2d_2 (MaxPooling2 (None, 8, 8, 128)         0         \n",
            "_________________________________________________________________\n",
            "dropout_2 (Dropout)          (None, 8, 8, 128)         0         \n",
            "_________________________________________________________________\n",
            "flatten (Flatten)            (None, 8192)              0         \n",
            "_________________________________________________________________\n",
            "dense (Dense)                (None, 1024)              8389632   \n",
            "_________________________________________________________________\n",
            "activation_5 (Activation)    (None, 1024)              0         \n",
            "_________________________________________________________________\n",
            "batch_normalization_5 (Batch (None, 1024)              4096      \n",
            "_________________________________________________________________\n",
            "dropout_3 (Dropout)          (None, 1024)              0         \n",
            "_________________________________________________________________\n",
            "dense_1 (Dense)              (None, 5)                 5125      \n",
            "_________________________________________________________________\n",
            "activation_6 (Activation)    (None, 5)                 0         \n",
            "=================================================================\n",
            "Total params: 8,678,277\n",
            "Trainable params: 8,675,397\n",
            "Non-trainable params: 2,880\n",
            "_________________________________________________________________\n"
          ],
          "name": "stdout"
        }
      ]
    },
    {
      "cell_type": "code",
      "metadata": {
        "colab": {
          "base_uri": "https://localhost:8080/"
        },
        "id": "SfHGbF_DT0sm",
        "outputId": "6ac9226f-8d3c-4d08-f00e-edd0651ca0d9"
      },
      "source": [
        "# train the network\n",
        "print(\"[INFO] training network...\")\n",
        "H = model.fit(aug.flow(trainX, trainY, batch_size=BS),validation_data=(testX, testY),steps_per_epoch=len(trainX) // BS,epochs=EPOCHS, verbose=1)"
      ],
      "execution_count": 16,
      "outputs": [
        {
          "output_type": "stream",
          "text": [
            "[INFO] training network...\n",
            "Epoch 1/100\n",
            "29/29 [==============================] - 2s 76ms/step - loss: 1.4856 - accuracy: 0.5854 - val_loss: 2.1195 - val_accuracy: 0.1966\n",
            "Epoch 2/100\n",
            "29/29 [==============================] - 2s 68ms/step - loss: 0.8051 - accuracy: 0.7350 - val_loss: 2.1808 - val_accuracy: 0.3205\n",
            "Epoch 3/100\n",
            "29/29 [==============================] - 2s 69ms/step - loss: 0.5918 - accuracy: 0.8348 - val_loss: 2.2226 - val_accuracy: 0.2863\n",
            "Epoch 4/100\n",
            "29/29 [==============================] - 2s 68ms/step - loss: 0.5588 - accuracy: 0.8171 - val_loss: 2.1142 - val_accuracy: 0.5256\n",
            "Epoch 5/100\n",
            "29/29 [==============================] - 2s 69ms/step - loss: 0.5717 - accuracy: 0.8271 - val_loss: 2.1354 - val_accuracy: 0.3504\n",
            "Epoch 6/100\n",
            "29/29 [==============================] - 2s 69ms/step - loss: 0.6356 - accuracy: 0.8050 - val_loss: 6.1387 - val_accuracy: 0.1923\n",
            "Epoch 7/100\n",
            "29/29 [==============================] - 2s 68ms/step - loss: 0.4572 - accuracy: 0.8603 - val_loss: 2.5550 - val_accuracy: 0.3462\n",
            "Epoch 8/100\n",
            "29/29 [==============================] - 2s 68ms/step - loss: 0.4072 - accuracy: 0.8725 - val_loss: 1.3902 - val_accuracy: 0.5641\n",
            "Epoch 9/100\n",
            "29/29 [==============================] - 2s 68ms/step - loss: 0.4023 - accuracy: 0.8747 - val_loss: 1.7567 - val_accuracy: 0.5855\n",
            "Epoch 10/100\n",
            "29/29 [==============================] - 2s 69ms/step - loss: 0.4814 - accuracy: 0.8570 - val_loss: 1.6893 - val_accuracy: 0.6111\n",
            "Epoch 11/100\n",
            "29/29 [==============================] - 2s 69ms/step - loss: 0.3505 - accuracy: 0.9069 - val_loss: 1.6431 - val_accuracy: 0.5983\n",
            "Epoch 12/100\n",
            "29/29 [==============================] - 2s 70ms/step - loss: 0.7005 - accuracy: 0.7849 - val_loss: 0.7451 - val_accuracy: 0.7222\n",
            "Epoch 13/100\n",
            "29/29 [==============================] - 2s 68ms/step - loss: 0.4970 - accuracy: 0.8415 - val_loss: 0.5777 - val_accuracy: 0.7863\n",
            "Epoch 14/100\n",
            "29/29 [==============================] - 2s 70ms/step - loss: 0.3777 - accuracy: 0.8714 - val_loss: 0.4449 - val_accuracy: 0.8675\n",
            "Epoch 15/100\n",
            "29/29 [==============================] - 2s 69ms/step - loss: 0.3429 - accuracy: 0.9058 - val_loss: 0.3163 - val_accuracy: 0.8504\n",
            "Epoch 16/100\n",
            "29/29 [==============================] - 2s 68ms/step - loss: 0.3848 - accuracy: 0.8670 - val_loss: 0.4007 - val_accuracy: 0.8803\n",
            "Epoch 17/100\n",
            "29/29 [==============================] - 2s 68ms/step - loss: 0.3271 - accuracy: 0.8947 - val_loss: 0.5183 - val_accuracy: 0.8675\n",
            "Epoch 18/100\n",
            "29/29 [==============================] - 2s 68ms/step - loss: 0.3191 - accuracy: 0.9002 - val_loss: 0.3357 - val_accuracy: 0.9103\n",
            "Epoch 19/100\n",
            "29/29 [==============================] - 2s 69ms/step - loss: 0.3576 - accuracy: 0.8902 - val_loss: 0.6004 - val_accuracy: 0.8419\n",
            "Epoch 20/100\n",
            "29/29 [==============================] - 2s 70ms/step - loss: 0.3375 - accuracy: 0.8836 - val_loss: 0.3687 - val_accuracy: 0.8675\n",
            "Epoch 21/100\n",
            "29/29 [==============================] - 2s 70ms/step - loss: 0.3743 - accuracy: 0.8758 - val_loss: 0.4703 - val_accuracy: 0.8547\n",
            "Epoch 22/100\n",
            "29/29 [==============================] - 2s 70ms/step - loss: 0.3179 - accuracy: 0.8880 - val_loss: 0.4041 - val_accuracy: 0.8419\n",
            "Epoch 23/100\n",
            "29/29 [==============================] - 2s 69ms/step - loss: 0.3716 - accuracy: 0.8947 - val_loss: 0.4842 - val_accuracy: 0.8632\n",
            "Epoch 24/100\n",
            "29/29 [==============================] - 2s 71ms/step - loss: 0.3243 - accuracy: 0.8792 - val_loss: 0.3748 - val_accuracy: 0.8803\n",
            "Epoch 25/100\n",
            "29/29 [==============================] - 2s 69ms/step - loss: 0.3200 - accuracy: 0.8991 - val_loss: 0.6637 - val_accuracy: 0.8462\n",
            "Epoch 26/100\n",
            "29/29 [==============================] - 2s 68ms/step - loss: 0.3059 - accuracy: 0.9069 - val_loss: 0.4684 - val_accuracy: 0.8803\n",
            "Epoch 27/100\n",
            "29/29 [==============================] - 2s 68ms/step - loss: 0.2299 - accuracy: 0.9146 - val_loss: 0.3299 - val_accuracy: 0.8932\n",
            "Epoch 28/100\n",
            "29/29 [==============================] - 2s 70ms/step - loss: 0.2720 - accuracy: 0.9169 - val_loss: 0.4366 - val_accuracy: 0.8846\n",
            "Epoch 29/100\n",
            "29/29 [==============================] - 2s 69ms/step - loss: 0.2315 - accuracy: 0.9279 - val_loss: 0.3108 - val_accuracy: 0.9103\n",
            "Epoch 30/100\n",
            "29/29 [==============================] - 2s 69ms/step - loss: 0.2407 - accuracy: 0.9157 - val_loss: 0.3078 - val_accuracy: 0.9103\n",
            "Epoch 31/100\n",
            "29/29 [==============================] - 2s 69ms/step - loss: 0.2488 - accuracy: 0.9135 - val_loss: 0.3291 - val_accuracy: 0.9060\n",
            "Epoch 32/100\n",
            "29/29 [==============================] - 2s 68ms/step - loss: 0.2605 - accuracy: 0.9124 - val_loss: 0.3712 - val_accuracy: 0.9145\n",
            "Epoch 33/100\n",
            "29/29 [==============================] - 2s 69ms/step - loss: 0.1924 - accuracy: 0.9268 - val_loss: 0.3090 - val_accuracy: 0.9103\n",
            "Epoch 34/100\n",
            "29/29 [==============================] - 2s 69ms/step - loss: 0.2272 - accuracy: 0.9169 - val_loss: 0.2961 - val_accuracy: 0.9145\n",
            "Epoch 35/100\n",
            "29/29 [==============================] - 2s 70ms/step - loss: 0.2108 - accuracy: 0.9412 - val_loss: 0.3634 - val_accuracy: 0.9060\n",
            "Epoch 36/100\n",
            "29/29 [==============================] - 2s 69ms/step - loss: 0.1784 - accuracy: 0.9424 - val_loss: 0.3805 - val_accuracy: 0.8632\n",
            "Epoch 37/100\n",
            "29/29 [==============================] - 2s 70ms/step - loss: 0.2270 - accuracy: 0.9213 - val_loss: 0.4120 - val_accuracy: 0.8803\n",
            "Epoch 38/100\n",
            "29/29 [==============================] - 2s 70ms/step - loss: 0.2077 - accuracy: 0.9268 - val_loss: 0.3131 - val_accuracy: 0.9017\n",
            "Epoch 39/100\n",
            "29/29 [==============================] - 2s 69ms/step - loss: 0.2393 - accuracy: 0.9091 - val_loss: 0.3387 - val_accuracy: 0.9231\n",
            "Epoch 40/100\n",
            "29/29 [==============================] - 2s 70ms/step - loss: 0.1620 - accuracy: 0.9457 - val_loss: 0.3578 - val_accuracy: 0.8974\n",
            "Epoch 41/100\n",
            "29/29 [==============================] - 2s 71ms/step - loss: 0.1831 - accuracy: 0.9412 - val_loss: 0.4438 - val_accuracy: 0.8718\n",
            "Epoch 42/100\n",
            "29/29 [==============================] - 2s 74ms/step - loss: 0.2782 - accuracy: 0.9146 - val_loss: 0.5230 - val_accuracy: 0.8632\n",
            "Epoch 43/100\n",
            "29/29 [==============================] - 2s 72ms/step - loss: 0.2199 - accuracy: 0.9157 - val_loss: 0.4453 - val_accuracy: 0.8675\n",
            "Epoch 44/100\n",
            "29/29 [==============================] - 2s 72ms/step - loss: 0.1913 - accuracy: 0.9379 - val_loss: 0.3585 - val_accuracy: 0.9017\n",
            "Epoch 45/100\n",
            "29/29 [==============================] - 2s 71ms/step - loss: 0.1869 - accuracy: 0.9457 - val_loss: 0.5090 - val_accuracy: 0.8803\n",
            "Epoch 46/100\n",
            "29/29 [==============================] - 2s 70ms/step - loss: 0.1746 - accuracy: 0.9457 - val_loss: 0.4604 - val_accuracy: 0.9017\n",
            "Epoch 47/100\n",
            "29/29 [==============================] - 2s 71ms/step - loss: 0.1767 - accuracy: 0.9435 - val_loss: 0.3141 - val_accuracy: 0.9103\n",
            "Epoch 48/100\n",
            "29/29 [==============================] - 2s 69ms/step - loss: 0.1527 - accuracy: 0.9424 - val_loss: 0.2831 - val_accuracy: 0.8803\n",
            "Epoch 49/100\n",
            "29/29 [==============================] - 2s 70ms/step - loss: 0.2059 - accuracy: 0.9412 - val_loss: 0.3423 - val_accuracy: 0.8974\n",
            "Epoch 50/100\n",
            "29/29 [==============================] - 2s 69ms/step - loss: 0.1438 - accuracy: 0.9512 - val_loss: 0.2869 - val_accuracy: 0.9145\n",
            "Epoch 51/100\n",
            "29/29 [==============================] - 2s 69ms/step - loss: 0.1501 - accuracy: 0.9545 - val_loss: 1.6338 - val_accuracy: 0.7265\n",
            "Epoch 52/100\n",
            "29/29 [==============================] - 2s 70ms/step - loss: 0.4498 - accuracy: 0.8559 - val_loss: 2.0402 - val_accuracy: 0.7521\n",
            "Epoch 53/100\n",
            "29/29 [==============================] - 2s 69ms/step - loss: 0.4160 - accuracy: 0.8703 - val_loss: 0.6373 - val_accuracy: 0.8376\n",
            "Epoch 54/100\n",
            "29/29 [==============================] - 2s 70ms/step - loss: 0.2466 - accuracy: 0.9235 - val_loss: 0.5226 - val_accuracy: 0.8547\n",
            "Epoch 55/100\n",
            "29/29 [==============================] - 2s 70ms/step - loss: 0.2018 - accuracy: 0.9279 - val_loss: 0.3029 - val_accuracy: 0.9017\n",
            "Epoch 56/100\n",
            "29/29 [==============================] - 2s 70ms/step - loss: 0.1765 - accuracy: 0.9401 - val_loss: 0.2978 - val_accuracy: 0.9103\n",
            "Epoch 57/100\n",
            "29/29 [==============================] - 2s 70ms/step - loss: 0.1670 - accuracy: 0.9468 - val_loss: 0.2807 - val_accuracy: 0.9103\n",
            "Epoch 58/100\n",
            "29/29 [==============================] - 2s 70ms/step - loss: 0.3680 - accuracy: 0.8780 - val_loss: 0.9748 - val_accuracy: 0.7949\n",
            "Epoch 59/100\n",
            "29/29 [==============================] - 2s 71ms/step - loss: 0.2711 - accuracy: 0.9135 - val_loss: 2.1658 - val_accuracy: 0.6709\n",
            "Epoch 60/100\n",
            "29/29 [==============================] - 2s 70ms/step - loss: 0.5088 - accuracy: 0.8448 - val_loss: 1.9552 - val_accuracy: 0.6538\n",
            "Epoch 61/100\n",
            "29/29 [==============================] - 2s 70ms/step - loss: 0.2956 - accuracy: 0.8980 - val_loss: 0.5778 - val_accuracy: 0.8504\n",
            "Epoch 62/100\n",
            "29/29 [==============================] - 2s 69ms/step - loss: 0.2500 - accuracy: 0.9191 - val_loss: 0.4670 - val_accuracy: 0.8761\n",
            "Epoch 63/100\n",
            "29/29 [==============================] - 2s 69ms/step - loss: 0.1899 - accuracy: 0.9313 - val_loss: 0.4443 - val_accuracy: 0.8761\n",
            "Epoch 64/100\n",
            "29/29 [==============================] - 2s 69ms/step - loss: 0.1709 - accuracy: 0.9368 - val_loss: 0.3997 - val_accuracy: 0.8803\n",
            "Epoch 65/100\n",
            "29/29 [==============================] - 2s 71ms/step - loss: 0.1937 - accuracy: 0.9335 - val_loss: 0.2629 - val_accuracy: 0.9103\n",
            "Epoch 66/100\n",
            "29/29 [==============================] - 2s 69ms/step - loss: 0.1929 - accuracy: 0.9246 - val_loss: 0.2829 - val_accuracy: 0.9103\n",
            "Epoch 67/100\n",
            "29/29 [==============================] - 2s 69ms/step - loss: 0.1577 - accuracy: 0.9479 - val_loss: 0.2792 - val_accuracy: 0.9103\n",
            "Epoch 68/100\n",
            "29/29 [==============================] - 2s 70ms/step - loss: 0.1510 - accuracy: 0.9483 - val_loss: 0.3229 - val_accuracy: 0.8974\n",
            "Epoch 69/100\n",
            "29/29 [==============================] - 2s 69ms/step - loss: 0.2280 - accuracy: 0.9268 - val_loss: 0.3105 - val_accuracy: 0.9231\n",
            "Epoch 70/100\n",
            "29/29 [==============================] - 2s 69ms/step - loss: 0.1715 - accuracy: 0.9390 - val_loss: 0.2732 - val_accuracy: 0.9231\n",
            "Epoch 71/100\n",
            "29/29 [==============================] - 2s 68ms/step - loss: 0.1454 - accuracy: 0.9446 - val_loss: 0.3888 - val_accuracy: 0.8974\n",
            "Epoch 72/100\n",
            "29/29 [==============================] - 2s 69ms/step - loss: 0.1238 - accuracy: 0.9545 - val_loss: 0.2257 - val_accuracy: 0.9316\n",
            "Epoch 73/100\n",
            "29/29 [==============================] - 2s 68ms/step - loss: 0.1065 - accuracy: 0.9623 - val_loss: 0.3157 - val_accuracy: 0.9188\n",
            "Epoch 74/100\n",
            "29/29 [==============================] - 2s 69ms/step - loss: 0.1257 - accuracy: 0.9601 - val_loss: 0.3183 - val_accuracy: 0.8974\n",
            "Epoch 75/100\n",
            "29/29 [==============================] - 2s 68ms/step - loss: 0.1346 - accuracy: 0.9568 - val_loss: 0.3409 - val_accuracy: 0.8974\n",
            "Epoch 76/100\n",
            "29/29 [==============================] - 2s 68ms/step - loss: 0.1812 - accuracy: 0.9412 - val_loss: 0.2877 - val_accuracy: 0.9145\n",
            "Epoch 77/100\n",
            "29/29 [==============================] - 2s 69ms/step - loss: 0.1312 - accuracy: 0.9579 - val_loss: 0.3040 - val_accuracy: 0.9060\n",
            "Epoch 78/100\n",
            "29/29 [==============================] - 2s 69ms/step - loss: 0.1643 - accuracy: 0.9457 - val_loss: 0.2970 - val_accuracy: 0.9145\n",
            "Epoch 79/100\n",
            "29/29 [==============================] - 2s 70ms/step - loss: 0.1728 - accuracy: 0.9401 - val_loss: 0.5650 - val_accuracy: 0.8761\n",
            "Epoch 80/100\n",
            "29/29 [==============================] - 2s 69ms/step - loss: 0.2394 - accuracy: 0.9279 - val_loss: 1.1425 - val_accuracy: 0.7436\n",
            "Epoch 81/100\n",
            "29/29 [==============================] - 2s 69ms/step - loss: 0.3161 - accuracy: 0.8969 - val_loss: 0.3973 - val_accuracy: 0.8718\n",
            "Epoch 82/100\n",
            "29/29 [==============================] - 2s 68ms/step - loss: 0.2189 - accuracy: 0.9202 - val_loss: 0.6640 - val_accuracy: 0.7906\n",
            "Epoch 83/100\n",
            "29/29 [==============================] - 2s 71ms/step - loss: 0.2418 - accuracy: 0.9235 - val_loss: 0.3151 - val_accuracy: 0.9231\n",
            "Epoch 84/100\n",
            "29/29 [==============================] - 2s 71ms/step - loss: 0.1397 - accuracy: 0.9501 - val_loss: 0.4266 - val_accuracy: 0.8846\n",
            "Epoch 85/100\n",
            "29/29 [==============================] - 2s 69ms/step - loss: 0.1609 - accuracy: 0.9435 - val_loss: 0.5139 - val_accuracy: 0.8718\n",
            "Epoch 86/100\n",
            "29/29 [==============================] - 2s 68ms/step - loss: 0.1670 - accuracy: 0.9379 - val_loss: 0.3784 - val_accuracy: 0.8932\n",
            "Epoch 87/100\n",
            "29/29 [==============================] - 2s 69ms/step - loss: 0.1681 - accuracy: 0.9390 - val_loss: 0.3869 - val_accuracy: 0.9060\n",
            "Epoch 88/100\n",
            "29/29 [==============================] - 2s 69ms/step - loss: 0.1975 - accuracy: 0.9368 - val_loss: 0.3574 - val_accuracy: 0.8974\n",
            "Epoch 89/100\n",
            "29/29 [==============================] - 2s 70ms/step - loss: 0.1651 - accuracy: 0.9346 - val_loss: 0.2638 - val_accuracy: 0.9103\n",
            "Epoch 90/100\n",
            "29/29 [==============================] - 2s 69ms/step - loss: 0.1483 - accuracy: 0.9512 - val_loss: 0.3102 - val_accuracy: 0.9060\n",
            "Epoch 91/100\n",
            "29/29 [==============================] - 2s 71ms/step - loss: 0.1103 - accuracy: 0.9580 - val_loss: 0.2471 - val_accuracy: 0.9188\n",
            "Epoch 92/100\n",
            "29/29 [==============================] - 2s 70ms/step - loss: 0.1446 - accuracy: 0.9568 - val_loss: 0.2675 - val_accuracy: 0.9231\n",
            "Epoch 93/100\n",
            "29/29 [==============================] - 2s 68ms/step - loss: 0.1446 - accuracy: 0.9490 - val_loss: 0.3513 - val_accuracy: 0.9017\n",
            "Epoch 94/100\n",
            "29/29 [==============================] - 2s 70ms/step - loss: 0.1934 - accuracy: 0.9368 - val_loss: 0.5808 - val_accuracy: 0.8761\n",
            "Epoch 95/100\n",
            "29/29 [==============================] - 2s 69ms/step - loss: 0.1785 - accuracy: 0.9401 - val_loss: 0.2665 - val_accuracy: 0.9231\n",
            "Epoch 96/100\n",
            "29/29 [==============================] - 2s 70ms/step - loss: 0.2997 - accuracy: 0.9091 - val_loss: 0.7693 - val_accuracy: 0.8547\n",
            "Epoch 97/100\n",
            "29/29 [==============================] - 2s 69ms/step - loss: 0.1421 - accuracy: 0.9501 - val_loss: 0.4399 - val_accuracy: 0.9060\n",
            "Epoch 98/100\n",
            "29/29 [==============================] - 2s 70ms/step - loss: 0.1424 - accuracy: 0.9601 - val_loss: 0.3192 - val_accuracy: 0.9231\n",
            "Epoch 99/100\n",
            "29/29 [==============================] - 2s 72ms/step - loss: 0.1903 - accuracy: 0.9424 - val_loss: 0.4032 - val_accuracy: 0.8889\n",
            "Epoch 100/100\n",
            "29/29 [==============================] - 2s 69ms/step - loss: 0.1431 - accuracy: 0.9468 - val_loss: 0.2244 - val_accuracy: 0.9316\n"
          ],
          "name": "stdout"
        }
      ]
    },
    {
      "cell_type": "code",
      "metadata": {
        "colab": {
          "base_uri": "https://localhost:8080/"
        },
        "id": "eUPmF8mET0sm",
        "outputId": "4c8f8d05-5fa1-4bc0-feae-24b9662fc57d"
      },
      "source": [
        "import tempfile\n",
        "TEMPDIR = tempfile.gettempdir()\n",
        "# save the model to disk\n",
        "print(\"[INFO] serializing network...\")\n",
        "model.save(os.path.join(TEMPDIR, 'cnn_keras.h5'))"
      ],
      "execution_count": 17,
      "outputs": [
        {
          "output_type": "stream",
          "text": [
            "[INFO] serializing network...\n"
          ],
          "name": "stdout"
        }
      ]
    },
    {
      "cell_type": "code",
      "metadata": {
        "colab": {
          "base_uri": "https://localhost:8080/"
        },
        "id": "2Jc4v6rdT0sm",
        "outputId": "b4596ae8-fe2e-40de-8bfe-1d2c4647d2d7"
      },
      "source": [
        "# save the label binarizer to disk\n",
        "print(\"[INFO] serializing label binarizer...\")\n",
        "f = open(os.path.join(TEMPDIR, 'cnn_keras_labelbin.pkl'), \"wb\")\n",
        "f.write(pickle.dumps(lb))\n",
        "f.close()"
      ],
      "execution_count": 18,
      "outputs": [
        {
          "output_type": "stream",
          "text": [
            "[INFO] serializing label binarizer...\n"
          ],
          "name": "stdout"
        }
      ]
    },
    {
      "cell_type": "code",
      "metadata": {
        "colab": {
          "base_uri": "https://localhost:8080/",
          "height": 295
        },
        "id": "01YcBjWzT0sn",
        "outputId": "cad3c520-8de9-4e6e-a3b7-1c11e634064e"
      },
      "source": [
        "# plot the training loss and accuracy\n",
        "plt.figure()\n",
        "N = EPOCHS\n",
        "plt.plot(np.arange(0, N), H.history[\"loss\"], label=\"train_loss\")\n",
        "plt.plot(np.arange(0, N), H.history[\"val_loss\"], label=\"val_loss\")\n",
        "plt.plot(np.arange(0, N), H.history[\"accuracy\"], label=\"accuracy\")\n",
        "plt.plot(np.arange(0, N), H.history[\"val_accuracy\"], label=\"val_accuracy\")\n",
        "plt.title(\"Training Loss and Accuracy\")\n",
        "plt.xlabel(\"Epoch #\")\n",
        "plt.ylabel(\"Loss/Accuracy\")\n",
        "plt.legend(loc=\"upper left\")\n",
        "plt.show()"
      ],
      "execution_count": 19,
      "outputs": [
        {
          "output_type": "display_data",
          "data": {
            "image/png": "[encoded data removed]",
            "text/plain": [
              "<Figure size 432x288 with 1 Axes>"
            ]
          },
          "metadata": {
            "tags": [],
            "needs_background": "light"
          }
        }
      ]
    },
    {
      "cell_type": "code",
      "metadata": {
        "id": "l_qS2i5vT0sn"
      },
      "source": [
        "# load the image\n",
        "zf = zipfile.ZipFile(os.path.join(inputdir, 'Pokemon_examples.zip'))\n",
        "#image = cv2.imread(os.path.join('Pokemon_examples', 'bulbasaur_plush.png'))\n",
        "image = cv2.imdecode(np.frombuffer(zf.read('bulbasaur_plush.png'), np.uint8), 1)\n",
        "output = image.copy()\n",
        "exampleList = zf.namelist()"
      ],
      "execution_count": 20,
      "outputs": []
    },
    {
      "cell_type": "code",
      "metadata": {
        "id": "8pWdrgDoT0sn"
      },
      "source": [
        "# pre-process the image for classification\n",
        "image = cv2.resize(image, (96, 96))\n",
        "image = image.astype(\"float\") / 255.0\n",
        "image = img_to_array(image)\n",
        "image = np.expand_dims(image, axis=0)"
      ],
      "execution_count": 21,
      "outputs": []
    },
    {
      "cell_type": "code",
      "metadata": {
        "colab": {
          "base_uri": "https://localhost:8080/"
        },
        "id": "FxgfEoKUT0sn",
        "outputId": "ba720530-8a43-4d68-b3ea-187b703199de"
      },
      "source": [
        "# load the trained convolutional neural network and the label\n",
        "# binarizer\n",
        "print(\"[INFO] loading network...\")\n",
        "model = load_model(os.path.join(TEMPDIR, 'cnn_keras.h5'))\n",
        "lb = pickle.loads(open(os.path.join(TEMPDIR, 'cnn_keras_labelbin.pkl'), \"rb\").read())"
      ],
      "execution_count": 22,
      "outputs": [
        {
          "output_type": "stream",
          "text": [
            "[INFO] loading network...\n"
          ],
          "name": "stdout"
        }
      ]
    },
    {
      "cell_type": "code",
      "metadata": {
        "colab": {
          "base_uri": "https://localhost:8080/"
        },
        "id": "kogGND9lT0so",
        "outputId": "a02b20c3-d20d-4e0c-f0f2-6313e5e4a4f7"
      },
      "source": [
        "# classify the input image\n",
        "print(\"[INFO] classifying image...\")\n",
        "proba = model.predict(image)[0]\n",
        "idx = np.argmax(proba)\n",
        "label = lb.classes_[idx]"
      ],
      "execution_count": 23,
      "outputs": [
        {
          "output_type": "stream",
          "text": [
            "[INFO] classifying image...\n"
          ],
          "name": "stdout"
        }
      ]
    },
    {
      "cell_type": "code",
      "metadata": {
        "colab": {
          "base_uri": "https://localhost:8080/"
        },
        "id": "85XkwcqcT0so",
        "outputId": "7480e0b7-584e-4ed3-dc68-f7d44b0a1305"
      },
      "source": [
        "print(exampleList)\n",
        "print(label)"
      ],
      "execution_count": 24,
      "outputs": [
        {
          "output_type": "stream",
          "text": [
            "['bulbasaur_plush.png', 'charmander_counter.png', 'charmander_hidden.png', 'mewtwo_toy.png', 'pikachu_toy.png', 'squirtle_plush.png']\n",
            "squirtle\n"
          ],
          "name": "stdout"
        }
      ]
    },
    {
      "cell_type": "code",
      "metadata": {
        "id": "cNxlmJEAT0so"
      },
      "source": [
        "# we'll mark our prediction as \"correct\" of the input image filename\n",
        "# contains the predicted label text (obviously this makes the\n",
        "# assumption that you have named your testing image files this way)\n",
        "#filename = os.path.join('Pokemon_examples', 'bulbasaur_plush.png')[os.path.join('Pokemon_examples', 'bulbasaur_plush.png').rfind(os.path.sep) + 1:]\n",
        "filename = exampleList[exampleList.index('bulbasaur_plush.png')]\n",
        "correct = \"correct\" if filename.rfind(label) != -1 else \"incorrect\""
      ],
      "execution_count": 25,
      "outputs": []
    },
    {
      "cell_type": "code",
      "metadata": {
        "colab": {
          "base_uri": "https://localhost:8080/"
        },
        "id": "sMMvByL8T0sp",
        "outputId": "3e9c89c5-7fc1-4b0d-ad20-8b4b0eb49364"
      },
      "source": [
        "print(filename)\n",
        "print(correct)"
      ],
      "execution_count": 26,
      "outputs": [
        {
          "output_type": "stream",
          "text": [
            "bulbasaur_plush.png\n",
            "incorrect\n"
          ],
          "name": "stdout"
        }
      ]
    },
    {
      "cell_type": "code",
      "metadata": {
        "colab": {
          "base_uri": "https://localhost:8080/"
        },
        "id": "BV96no5zT0sp",
        "outputId": "c807f0a6-1419-4c73-e23a-c5f96a289258"
      },
      "source": [
        "# build the label and draw the label on the image\n",
        "label = \"{}: {:.2f}% ({})\".format(label, proba[idx] * 100, correct)\n",
        "output = imutils.resize(output, width=400)\n",
        "cv2.putText(output, label, (10, 25),  cv2.FONT_HERSHEY_SIMPLEX,0.7, (0, 255, 0), 2)"
      ],
      "execution_count": 27,
      "outputs": [
        {
          "output_type": "execute_result",
          "data": {
            "text/plain": [
              "array([[[247, 249, 249],\n",
              "        [228, 230, 239],\n",
              "        [199, 201, 217],\n",
              "        ...,\n",
              "        [238, 234, 239],\n",
              "        [237, 234, 239],\n",
              "        [237, 235, 241]],\n",
              "\n",
              "       [[248, 249, 249],\n",
              "        [229, 231, 240],\n",
              "        [199, 202, 217],\n",
              "        ...,\n",
              "        [202, 193, 204],\n",
              "        [193, 185, 198],\n",
              "        [195, 190, 205]],\n",
              "\n",
              "       [[248, 250, 250],\n",
              "        [231, 233, 242],\n",
              "        [199, 202, 218],\n",
              "        ...,\n",
              "        [159, 149, 153],\n",
              "        [118, 106, 111],\n",
              "        [ 87,  78,  82]],\n",
              "\n",
              "       ...,\n",
              "\n",
              "       [[216, 218, 228],\n",
              "        [213, 215, 225],\n",
              "        [216, 218, 228],\n",
              "        ...,\n",
              "        [218, 222, 231],\n",
              "        [211, 216, 226],\n",
              "        [203, 208, 219]],\n",
              "\n",
              "       [[214, 216, 226],\n",
              "        [220, 222, 232],\n",
              "        [220, 222, 232],\n",
              "        ...,\n",
              "        [213, 216, 227],\n",
              "        [215, 219, 231],\n",
              "        [212, 216, 227]],\n",
              "\n",
              "       [[214, 216, 226],\n",
              "        [219, 221, 231],\n",
              "        [219, 221, 231],\n",
              "        ...,\n",
              "        [199, 206, 219],\n",
              "        [201, 208, 221],\n",
              "        [203, 211, 224]]], dtype=uint8)"
            ]
          },
          "metadata": {
            "tags": []
          },
          "execution_count": 27
        }
      ]
    },
    {
      "cell_type": "code",
      "metadata": {
        "colab": {
          "base_uri": "https://localhost:8080/",
          "height": 304
        },
        "id": "cygoMhKVT0sp",
        "outputId": "ccf51525-42e2-4f8a-b32b-57079a302ccc"
      },
      "source": [
        "# show the output image\n",
        "print(\"[INFO] {}\".format(label))\n",
        "img = cv2.imread('img.jpg')\n",
        "plt.imshow(output)"
      ],
      "execution_count": 28,
      "outputs": [
        {
          "output_type": "stream",
          "text": [
            "[INFO] squirtle: 73.16% (incorrect)\n"
          ],
          "name": "stdout"
        },
        {
          "output_type": "execute_result",
          "data": {
            "text/plain": [
              "<matplotlib.image.AxesImage at 0x7f7e4a0cedd8>"
            ]
          },
          "metadata": {
            "tags": []
          },
          "execution_count": 28
        },
        {
          "output_type": "display_data",
          "data": {
            "image/png": "[encoded data removed]",
            "text/plain": [
              "<Figure size 432x288 with 1 Axes>"
            ]
          },
          "metadata": {
            "tags": [],
            "needs_background": "light"
          }
        }
      ]
    },
    {
      "cell_type": "code",
      "metadata": {
        "id": "jOZJjNsxT0sp"
      },
      "source": [
        ""
      ],
      "execution_count": 28,
      "outputs": []
    }
  ]
}