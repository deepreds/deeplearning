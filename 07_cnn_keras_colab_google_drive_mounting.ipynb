{
  "nbformat": 4,
  "nbformat_minor": 0,
  "metadata": {
    "kernelspec": {
      "display_name": "Python 3",
      "language": "python",
      "name": "python3"
    },
    "language_info": {
      "codemirror_mode": {
        "name": "ipython",
        "version": 3
      },
      "file_extension": ".py",
      "mimetype": "text/x-python",
      "name": "python",
      "nbconvert_exporter": "python",
      "pygments_lexer": "ipython3",
      "version": "3.8.3"
    },
    "colab": {
      "name": "07 cnn-keras-colab.ipynb",
      "provenance": [],
      "collapsed_sections": []
    }
  },
  "cells": [
    {
      "cell_type": "code",
      "metadata": {
        "colab": {
          "base_uri": "https://localhost:8080/",
          "height": 88
        },
        "id": "wfkh1evA25qN",
        "outputId": "4ea56f80-32c4-4a50-8dbd-492c87090ed1"
      },
      "source": [
        "#https://www.pyimagesearch.com/2018/04/16/keras-and-convolutional-neural-networks-cnns/\r\n",
        "import tensorflow as tf\r\n",
        "\r\n",
        "#First, you'll need to enable GPUs for the notebook:\r\n",
        "#Navigate to Edit→Notebook Settins\r\n",
        "#select TPU from the Hardware Accelerator drop-down\r\n",
        "\r\n",
        "import os\r\n",
        "os.environ['TF_CPP_MIN_LOG_LEVEL'] = '3'\r\n",
        "os.environ[\"CUDA_DEVICE_ORDER\"] = \"PCI_BUS_ID\"\r\n",
        "os.environ[\"CUDA_VISIBLE_DEVICES\"] = '0' # Set to -1 if CPU should be used CPU = -1 , GPU = 0\r\n",
        "\r\n",
        "gpus = tf.config.experimental.list_physical_devices('TPU')\r\n",
        "cpus = tf.config.experimental.list_physical_devices('CPU')\r\n",
        "\r\n",
        "if gpus:\r\n",
        "    try:\r\n",
        "        # Currently, memory growth needs to be the same across GPUs\r\n",
        "        for gpu in gpus:\r\n",
        "            tf.config.experimental.set_memory_growth(gpu, True)\r\n",
        "        logical_gpus = tf.config.experimental.list_logical_devices('TPU')\r\n",
        "        print(len(gpus), \"Physical TPUs,\", len(logical_gpus), \"Logical TPUs\")\r\n",
        "    except RuntimeError as e:\r\n",
        "        # Memory growth must be set before GPUs have been initialized\r\n",
        "        print(e)\r\n",
        "elif cpus:\r\n",
        "    try:\r\n",
        "        # Currently, memory growth needs to be the same across GPUs\r\n",
        "        logical_cpus= tf.config.experimental.list_logical_devices('CPU')\r\n",
        "        print(len(cpus), \"Physical CPU,\", len(logical_cpus), \"Logical CPU\")\r\n",
        "    except RuntimeError as e:\r\n",
        "        # Memory growth must be set before GPUs have been initialized\r\n",
        "        print(e)\r\n",
        "\r\n",
        "#First, you'll need to enable TPUs for the notebook:\r\n",
        "#Navigate to Edit→Notebook Settins\r\n",
        "#select TPU from the Hardware Accelerator drop-down\r\n",
        "\r\n",
        "\"\"\"\r\n",
        "%tensorflow_version 2.x\r\n",
        "import tensorflow as tf\r\n",
        "print(\"Tensorflow version \" + tf.__version__)\r\n",
        "\r\n",
        "try:\r\n",
        "  tpu = tf.distribute.cluster_resolver.TPUClusterResolver()  # TPU detection\r\n",
        "  print('Running on TPU ', tpu.cluster_spec().as_dict()['worker'])\r\n",
        "except ValueError:\r\n",
        "  raise BaseException('ERROR: Not connected to a TPU runtime; please see the previous cell in this notebook for instructions!')\r\n",
        "\r\n",
        "tf.config.experimental_connect_to_cluster(tpu)\r\n",
        "tf.tpu.experimental.initialize_tpu_system(tpu)\r\n",
        "tpu_strategy = tf.distribute.experimental.TPUStrategy(tpu)\r\n",
        "\"\"\""
      ],
      "execution_count": 1,
      "outputs": [
        {
          "output_type": "stream",
          "text": [
            "1 Physical CPU, 1 Logical CPU\n"
          ],
          "name": "stdout"
        },
        {
          "output_type": "execute_result",
          "data": {
            "application/vnd.google.colaboratory.intrinsic+json": {
              "type": "string"
            },
            "text/plain": [
              "'\\n%tensorflow_version 2.x\\nimport tensorflow as tf\\nprint(\"Tensorflow version \" + tf.__version__)\\n\\ntry:\\n  tpu = tf.distribute.cluster_resolver.TPUClusterResolver()  # TPU detection\\n  print(\\'Running on TPU \\', tpu.cluster_spec().as_dict()[\\'worker\\'])\\nexcept ValueError:\\n  raise BaseException(\\'ERROR: Not connected to a TPU runtime; please see the previous cell in this notebook for instructions!\\')\\n\\ntf.config.experimental_connect_to_cluster(tpu)\\ntf.tpu.experimental.initialize_tpu_system(tpu)\\ntpu_strategy = tf.distribute.experimental.TPUStrategy(tpu)\\n'"
            ]
          },
          "metadata": {
            "tags": []
          },
          "execution_count": 1
        }
      ]
    },
    {
      "cell_type": "code",
      "metadata": {
        "colab": {
          "base_uri": "https://localhost:8080/"
        },
        "id": "76ZOJ7SKvCef",
        "outputId": "8589a5ec-e2a2-4402-fa64-16dfcbb0eb16"
      },
      "source": [
        "from google.colab import drive\r\n",
        "drive.mount('/input')"
      ],
      "execution_count": 2,
      "outputs": [
        {
          "output_type": "stream",
          "text": [
            "Drive already mounted at /input; to attempt to forcibly remount, call drive.mount(\"/input\", force_remount=True).\n"
          ],
          "name": "stdout"
        }
      ]
    },
    {
      "cell_type": "code",
      "metadata": {
        "colab": {
          "base_uri": "https://localhost:8080/"
        },
        "id": "zl7iZldYvUBF",
        "outputId": "2d751725-65c5-4251-e42b-3722a5d5e2a9"
      },
      "source": [
        "!ls -l /input/MyDrive/DeepLearning"
      ],
      "execution_count": 3,
      "outputs": [
        {
          "output_type": "stream",
          "text": [
            "total 2754171\n",
            "-rw------- 1 root root  137054052 Jul  3 00:09 CALTECH101_ObjectCategories.zip\n",
            "-rw------- 1 root root  537507216 Jul  3 00:10 dataset_multi_output_classification.zip\n",
            "-rw------- 1 root root     215802 Jul  3 00:18 examples_multi_output_classification.zip\n",
            "-rw------- 1 root root 1162949981 Jul  3 00:22 Food-11.zip\n",
            "-rw------- 1 root root  446938948 Jul  3 00:19 Food-5K.zip\n",
            "-rw------- 1 root root     341903 Jul  3 00:24 grad_cam_images.zip\n",
            "-rw------- 1 root root  186001776 Jul  3 00:06 Houses_Dataset.zip\n",
            "-rw------- 1 root root    2519901 Jul  3 00:08 Pokemon_examples.zip\n",
            "-rw------- 1 root root  346739983 Jul  3 00:08 Pokemon.zip\n"
          ],
          "name": "stdout"
        }
      ]
    },
    {
      "cell_type": "code",
      "metadata": {
        "id": "F1xfewB6vnQr"
      },
      "source": [
        "inputdir = \"/input/MyDrive/DeepLearning\""
      ],
      "execution_count": 4,
      "outputs": []
    },
    {
      "cell_type": "code",
      "metadata": {
        "id": "prGcdrQBtPi1"
      },
      "source": [
        "# import the necessary packages\n",
        "from keras.models import Sequential\n",
        "from keras.layers.normalization import BatchNormalization\n",
        "from keras.layers.convolutional import Conv2D\n",
        "from keras.layers.convolutional import MaxPooling2D\n",
        "from keras.layers.core import Activation\n",
        "from keras.layers.core import Flatten\n",
        "from keras.layers.core import Dropout\n",
        "from keras.layers.core import Dense\n",
        "from keras import backend as K\n",
        "# import the necessary packages\n",
        "from keras.preprocessing.image import ImageDataGenerator\n",
        "from keras.optimizers import Adam\n",
        "from keras.preprocessing.image import img_to_array\n",
        "from sklearn.preprocessing import LabelBinarizer\n",
        "from sklearn.model_selection import train_test_split\n",
        "import matplotlib.pyplot as plt\n",
        "from imutils import paths\n",
        "import numpy as np\n",
        "import random\n",
        "import pickle\n",
        "import cv2\n",
        "# import the necessary packages\n",
        "from keras.preprocessing.image import img_to_array\n",
        "from keras.models import load_model\n",
        "import imutils\n",
        "import os"
      ],
      "execution_count": 5,
      "outputs": []
    },
    {
      "cell_type": "code",
      "metadata": {
        "id": "gl5O8g5CtPi2"
      },
      "source": [
        "class SmallerVGGNet:\n",
        "\t@staticmethod\n",
        "\tdef build(width, height, depth, classes):\n",
        "\t\t# initialize the model along with the input shape to be\n",
        "\t\t# \"channels last\" and the channels dimension itself\n",
        "\t\tmodel = Sequential()\n",
        "\t\tinputShape = (height, width, depth)\n",
        "\t\tchanDim = -1\n",
        "\n",
        "\t\t# if we are using \"channels first\", update the input shape\n",
        "\t\t# and channels dimension\n",
        "\t\tif K.image_data_format() == \"channels_first\":\n",
        "\t\t\tinputShape = (depth, height, width)\n",
        "\t\t\tchanDim = 1\n",
        "\n",
        "\t\t# CONV => RELU => POOL\n",
        "\t\tmodel.add(Conv2D(32, (3, 3), padding=\"same\",\n",
        "\t\t\tinput_shape=inputShape))\n",
        "\t\tmodel.add(Activation(\"relu\"))\n",
        "\t\tmodel.add(BatchNormalization(axis=chanDim))\n",
        "\t\tmodel.add(MaxPooling2D(pool_size=(3, 3)))\n",
        "\t\tmodel.add(Dropout(0.25))\n",
        "\n",
        "\t\t# (CONV => RELU) * 2 => POOL\n",
        "\t\tmodel.add(Conv2D(64, (3, 3), padding=\"same\"))\n",
        "\t\tmodel.add(Activation(\"relu\"))\n",
        "\t\tmodel.add(BatchNormalization(axis=chanDim))\n",
        "\t\tmodel.add(Conv2D(64, (3, 3), padding=\"same\"))\n",
        "\t\tmodel.add(Activation(\"relu\"))\n",
        "\t\tmodel.add(BatchNormalization(axis=chanDim))\n",
        "\t\tmodel.add(MaxPooling2D(pool_size=(2, 2)))\n",
        "\t\tmodel.add(Dropout(0.25))\n",
        "\n",
        "\t\t# (CONV => RELU) * 2 => POOL\n",
        "\t\tmodel.add(Conv2D(128, (3, 3), padding=\"same\"))\n",
        "\t\tmodel.add(Activation(\"relu\"))\n",
        "\t\tmodel.add(BatchNormalization(axis=chanDim))\n",
        "\t\tmodel.add(Conv2D(128, (3, 3), padding=\"same\"))\n",
        "\t\tmodel.add(Activation(\"relu\"))\n",
        "\t\tmodel.add(BatchNormalization(axis=chanDim))\n",
        "\t\tmodel.add(MaxPooling2D(pool_size=(2, 2)))\n",
        "\t\tmodel.add(Dropout(0.25))\n",
        "\n",
        "\t\t# first (and only) set of FC => RELU layers\n",
        "\t\tmodel.add(Flatten())\n",
        "\t\tmodel.add(Dense(1024))\n",
        "\t\tmodel.add(Activation(\"relu\"))\n",
        "\t\tmodel.add(BatchNormalization())\n",
        "\t\tmodel.add(Dropout(0.5))\n",
        "\n",
        "\t\t# softmax classifier\n",
        "\t\tmodel.add(Dense(classes))\n",
        "\t\tmodel.add(Activation(\"softmax\"))\n",
        "\n",
        "\t\t# return the constructed network architecture\n",
        "\t\treturn model"
      ],
      "execution_count": 6,
      "outputs": []
    },
    {
      "cell_type": "code",
      "metadata": {
        "id": "VL5PqBiYtPi3"
      },
      "source": [
        "# initialize the number of epochs to train for, initial learning rate,\n",
        "# batch size, and image dimensions\n",
        "EPOCHS = 100\n",
        "INIT_LR = 1e-3\n",
        "BS = 32 # * tpu_strategy.num_replicas_in_sync\n",
        "IMAGE_DIMS = (96, 96, 3)"
      ],
      "execution_count": 8,
      "outputs": []
    },
    {
      "cell_type": "code",
      "metadata": {
        "colab": {
          "base_uri": "https://localhost:8080/"
        },
        "id": "TIcp5WRbtPi3",
        "outputId": "a7d21379-0b73-4b28-83f7-e35e2a4fbf1a"
      },
      "source": [
        "# grab the image paths and randomly shuffle them\n",
        "print(\"[INFO] loading images...\")\n",
        "import zipfile\n",
        "#imagePaths = sorted(list(paths.list_images('Pokemon')))\n",
        "imagefilename = os.path.join(inputdir, 'Pokemon.zip')\n",
        "zf = zipfile.ZipFile(imagefilename)\n",
        "random.seed(42)\n",
        "imagePaths = zf.namelist()\n",
        "random.seed(42)\n",
        "random.shuffle(imagePaths)"
      ],
      "execution_count": 9,
      "outputs": [
        {
          "output_type": "stream",
          "text": [
            "[INFO] loading images...\n"
          ],
          "name": "stdout"
        }
      ]
    },
    {
      "cell_type": "code",
      "metadata": {
        "id": "i7VclbYKtPi4"
      },
      "source": [
        "# initialize the data and labels\n",
        "data = []\n",
        "labels = []\n",
        "from tensorflow.keras.applications import imagenet_utils\n",
        "# loop over the input images\n",
        "for imagePath in imagePaths:\n",
        "\t# load the image, pre-process it, and store it in the data list\n",
        "\t#image = cv2.imread(imagePath)\n",
        "\timage = cv2.imdecode(np.frombuffer(zf.read(imagePath), np.uint8), 1)\n",
        "\timage = cv2.resize(image, (IMAGE_DIMS[1], IMAGE_DIMS[0]))\n",
        "\t#image = img_to_array(image)\n",
        "\t#image = np.expand_dims(image, axis=0)\n",
        "\timage = imagenet_utils.preprocess_input(image)\n",
        "\tdata.append(image)\n",
        " \n",
        "\t# extract the class label from the image path and update the\n",
        "\t# labels list\n",
        "\t#label = imagePath.split(os.path.sep)[-2]\n",
        "\tlabel = imagePath.split('/', 1)[0]\n",
        "\tlabels.append(label)"
      ],
      "execution_count": 10,
      "outputs": []
    },
    {
      "cell_type": "code",
      "metadata": {
        "colab": {
          "base_uri": "https://localhost:8080/"
        },
        "id": "GZ6rHa1ttPi4",
        "outputId": "8a611240-ee59-48f3-982e-9752d715476b"
      },
      "source": [
        "# scale the raw pixel intensities to the range [0, 1]\n",
        "data = np.array(data, dtype=\"float\") / 255.0\n",
        "labels = np.array(labels)\n",
        "print(\"[INFO] data matrix: {:.2f}MB\".format(data.nbytes / (1024 * 1000.0)))"
      ],
      "execution_count": 11,
      "outputs": [
        {
          "output_type": "stream",
          "text": [
            "[INFO] data matrix: 252.29MB\n"
          ],
          "name": "stdout"
        }
      ]
    },
    {
      "cell_type": "code",
      "metadata": {
        "colab": {
          "base_uri": "https://localhost:8080/"
        },
        "id": "Zl5CfE7gtPi4",
        "outputId": "a97f9f77-b256-4dff-d6a3-1e95c0dea710"
      },
      "source": [
        "print(data.shape)\n",
        "print(labels.shape)"
      ],
      "execution_count": 12,
      "outputs": [
        {
          "output_type": "stream",
          "text": [
            "(1168, 96, 96, 3)\n",
            "(1168,)\n"
          ],
          "name": "stdout"
        }
      ]
    },
    {
      "cell_type": "code",
      "metadata": {
        "id": "DCCIBheZtPi5"
      },
      "source": [
        "# binarize the labels\n",
        "lb = LabelBinarizer()\n",
        "labels = lb.fit_transform(labels)"
      ],
      "execution_count": 13,
      "outputs": []
    },
    {
      "cell_type": "code",
      "metadata": {
        "id": "71e4fgJ2tPi5"
      },
      "source": [
        "# partition the data into training and testing splits using 80% of\n",
        "# the data for training and the remaining 20% for testing\n",
        "(trainX, testX, trainY, testY) = train_test_split(data,labels, test_size=0.2, random_state=42)"
      ],
      "execution_count": 14,
      "outputs": []
    },
    {
      "cell_type": "code",
      "metadata": {
        "id": "CeWE4vYRtPi5"
      },
      "source": [
        "# construct the image generator for data augmentation\n",
        "aug = ImageDataGenerator(rotation_range=25, width_shift_range=0.1,height_shift_range=0.1, shear_range=0.2, zoom_range=0.2,horizontal_flip=True, fill_mode=\"nearest\")"
      ],
      "execution_count": 15,
      "outputs": []
    },
    {
      "cell_type": "code",
      "metadata": {
        "colab": {
          "base_uri": "https://localhost:8080/"
        },
        "id": "ueStgQIetPi6",
        "outputId": "2cb206bd-10d3-4042-f4ca-15a7e80c2fdb"
      },
      "source": [
        "# initialize the model\n",
        "\n",
        "print(\"[INFO] compiling model...\")\n",
        "#with tpu_strategy.scope(): # creating the model in the TPUStrategy scope means we will train the model on the TPU\n",
        "#  model = SmallerVGGNet.build(width=IMAGE_DIMS[1], height=IMAGE_DIMS[0],depth=IMAGE_DIMS[2], classes=len(lb.classes_))\n",
        "model = SmallerVGGNet.build(width=IMAGE_DIMS[1], height=IMAGE_DIMS[0],depth=IMAGE_DIMS[2], classes=len(lb.classes_))\n",
        "opt = Adam(lr=INIT_LR, decay=INIT_LR / EPOCHS)\n",
        "model.compile(loss=\"categorical_crossentropy\", optimizer=opt,metrics=[\"accuracy\"])"
      ],
      "execution_count": 17,
      "outputs": [
        {
          "output_type": "stream",
          "text": [
            "[INFO] compiling model...\n"
          ],
          "name": "stdout"
        }
      ]
    },
    {
      "cell_type": "code",
      "metadata": {
        "colab": {
          "base_uri": "https://localhost:8080/"
        },
        "id": "lW6sSIbftPi6",
        "outputId": "97436cc3-83ce-4909-d7a1-40bb6488b904"
      },
      "source": [
        "model.summary()"
      ],
      "execution_count": 18,
      "outputs": [
        {
          "output_type": "stream",
          "text": [
            "Model: \"sequential\"\n",
            "_________________________________________________________________\n",
            "Layer (type)                 Output Shape              Param #   \n",
            "=================================================================\n",
            "conv2d (Conv2D)              (None, 96, 96, 32)        896       \n",
            "_________________________________________________________________\n",
            "activation (Activation)      (None, 96, 96, 32)        0         \n",
            "_________________________________________________________________\n",
            "batch_normalization (BatchNo (None, 96, 96, 32)        128       \n",
            "_________________________________________________________________\n",
            "max_pooling2d (MaxPooling2D) (None, 32, 32, 32)        0         \n",
            "_________________________________________________________________\n",
            "dropout (Dropout)            (None, 32, 32, 32)        0         \n",
            "_________________________________________________________________\n",
            "conv2d_1 (Conv2D)            (None, 32, 32, 64)        18496     \n",
            "_________________________________________________________________\n",
            "activation_1 (Activation)    (None, 32, 32, 64)        0         \n",
            "_________________________________________________________________\n",
            "batch_normalization_1 (Batch (None, 32, 32, 64)        256       \n",
            "_________________________________________________________________\n",
            "conv2d_2 (Conv2D)            (None, 32, 32, 64)        36928     \n",
            "_________________________________________________________________\n",
            "activation_2 (Activation)    (None, 32, 32, 64)        0         \n",
            "_________________________________________________________________\n",
            "batch_normalization_2 (Batch (None, 32, 32, 64)        256       \n",
            "_________________________________________________________________\n",
            "max_pooling2d_1 (MaxPooling2 (None, 16, 16, 64)        0         \n",
            "_________________________________________________________________\n",
            "dropout_1 (Dropout)          (None, 16, 16, 64)        0         \n",
            "_________________________________________________________________\n",
            "conv2d_3 (Conv2D)            (None, 16, 16, 128)       73856     \n",
            "_________________________________________________________________\n",
            "activation_3 (Activation)    (None, 16, 16, 128)       0         \n",
            "_________________________________________________________________\n",
            "batch_normalization_3 (Batch (None, 16, 16, 128)       512       \n",
            "_________________________________________________________________\n",
            "conv2d_4 (Conv2D)            (None, 16, 16, 128)       147584    \n",
            "_________________________________________________________________\n",
            "activation_4 (Activation)    (None, 16, 16, 128)       0         \n",
            "_________________________________________________________________\n",
            "batch_normalization_4 (Batch (None, 16, 16, 128)       512       \n",
            "_________________________________________________________________\n",
            "max_pooling2d_2 (MaxPooling2 (None, 8, 8, 128)         0         \n",
            "_________________________________________________________________\n",
            "dropout_2 (Dropout)          (None, 8, 8, 128)         0         \n",
            "_________________________________________________________________\n",
            "flatten (Flatten)            (None, 8192)              0         \n",
            "_________________________________________________________________\n",
            "dense (Dense)                (None, 1024)              8389632   \n",
            "_________________________________________________________________\n",
            "activation_5 (Activation)    (None, 1024)              0         \n",
            "_________________________________________________________________\n",
            "batch_normalization_5 (Batch (None, 1024)              4096      \n",
            "_________________________________________________________________\n",
            "dropout_3 (Dropout)          (None, 1024)              0         \n",
            "_________________________________________________________________\n",
            "dense_1 (Dense)              (None, 5)                 5125      \n",
            "_________________________________________________________________\n",
            "activation_6 (Activation)    (None, 5)                 0         \n",
            "=================================================================\n",
            "Total params: 8,678,277\n",
            "Trainable params: 8,675,397\n",
            "Non-trainable params: 2,880\n",
            "_________________________________________________________________\n"
          ],
          "name": "stdout"
        }
      ]
    },
    {
      "cell_type": "code",
      "metadata": {
        "colab": {
          "base_uri": "https://localhost:8080/"
        },
        "id": "lYBBBaxGtPi7",
        "outputId": "4a4ce623-5004-4773-f83d-598c33826603"
      },
      "source": [
        "# train the network\n",
        "print(\"[INFO] training network...\")\n",
        "H = model.fit(aug.flow(trainX, trainY, batch_size=BS),validation_data=(testX, testY),steps_per_epoch=len(trainX) // BS,epochs=EPOCHS, verbose=1)"
      ],
      "execution_count": 19,
      "outputs": [
        {
          "output_type": "stream",
          "text": [
            "[INFO] training network...\n",
            "Epoch 1/100\n",
            "29/29 [==============================] - 26s 902ms/step - loss: 1.5115 - accuracy: 0.6064 - val_loss: 2.9157 - val_accuracy: 0.1795\n",
            "Epoch 2/100\n",
            "29/29 [==============================] - 26s 891ms/step - loss: 0.8583 - accuracy: 0.7483 - val_loss: 4.8215 - val_accuracy: 0.2265\n",
            "Epoch 3/100\n",
            "29/29 [==============================] - 27s 916ms/step - loss: 0.7148 - accuracy: 0.7982 - val_loss: 6.3699 - val_accuracy: 0.3462\n",
            "Epoch 4/100\n",
            "29/29 [==============================] - 26s 889ms/step - loss: 0.5871 - accuracy: 0.8149 - val_loss: 3.8717 - val_accuracy: 0.2009\n",
            "Epoch 5/100\n",
            "29/29 [==============================] - 26s 888ms/step - loss: 0.5930 - accuracy: 0.8060 - val_loss: 3.7804 - val_accuracy: 0.2051\n",
            "Epoch 6/100\n",
            "29/29 [==============================] - 26s 911ms/step - loss: 0.5236 - accuracy: 0.8394 - val_loss: 3.1477 - val_accuracy: 0.3248\n",
            "Epoch 7/100\n",
            "29/29 [==============================] - 26s 891ms/step - loss: 0.4848 - accuracy: 0.8481 - val_loss: 2.5855 - val_accuracy: 0.3034\n",
            "Epoch 8/100\n",
            "29/29 [==============================] - 26s 888ms/step - loss: 0.4606 - accuracy: 0.8570 - val_loss: 2.1124 - val_accuracy: 0.4017\n",
            "Epoch 9/100\n",
            "29/29 [==============================] - 26s 890ms/step - loss: 0.4260 - accuracy: 0.8659 - val_loss: 1.8366 - val_accuracy: 0.3974\n",
            "Epoch 10/100\n",
            "29/29 [==============================] - 26s 890ms/step - loss: 0.4572 - accuracy: 0.8525 - val_loss: 2.2140 - val_accuracy: 0.3718\n",
            "Epoch 11/100\n",
            "29/29 [==============================] - 26s 890ms/step - loss: 0.4389 - accuracy: 0.8670 - val_loss: 2.7242 - val_accuracy: 0.3034\n",
            "Epoch 12/100\n",
            "29/29 [==============================] - 27s 914ms/step - loss: 0.3995 - accuracy: 0.8647 - val_loss: 1.2351 - val_accuracy: 0.6325\n",
            "Epoch 13/100\n",
            "29/29 [==============================] - 26s 896ms/step - loss: 0.3150 - accuracy: 0.8891 - val_loss: 1.3489 - val_accuracy: 0.6197\n",
            "Epoch 14/100\n",
            "29/29 [==============================] - 26s 895ms/step - loss: 0.4142 - accuracy: 0.8681 - val_loss: 1.2623 - val_accuracy: 0.6923\n",
            "Epoch 15/100\n",
            "29/29 [==============================] - 26s 893ms/step - loss: 0.4135 - accuracy: 0.8714 - val_loss: 0.9082 - val_accuracy: 0.7094\n",
            "Epoch 16/100\n",
            "29/29 [==============================] - 26s 891ms/step - loss: 0.4287 - accuracy: 0.8681 - val_loss: 0.9791 - val_accuracy: 0.7521\n",
            "Epoch 17/100\n",
            "29/29 [==============================] - 26s 892ms/step - loss: 0.4081 - accuracy: 0.8670 - val_loss: 0.5074 - val_accuracy: 0.8547\n",
            "Epoch 18/100\n",
            "29/29 [==============================] - 26s 890ms/step - loss: 0.3095 - accuracy: 0.8914 - val_loss: 0.3719 - val_accuracy: 0.8803\n",
            "Epoch 19/100\n",
            "29/29 [==============================] - 26s 888ms/step - loss: 0.3508 - accuracy: 0.8847 - val_loss: 0.5026 - val_accuracy: 0.8376\n",
            "Epoch 20/100\n",
            "29/29 [==============================] - 26s 887ms/step - loss: 0.3022 - accuracy: 0.8858 - val_loss: 0.6587 - val_accuracy: 0.7821\n",
            "Epoch 21/100\n",
            "29/29 [==============================] - 26s 886ms/step - loss: 0.2960 - accuracy: 0.9157 - val_loss: 0.4232 - val_accuracy: 0.8675\n",
            "Epoch 22/100\n",
            "29/29 [==============================] - 26s 888ms/step - loss: 0.2321 - accuracy: 0.9202 - val_loss: 0.3480 - val_accuracy: 0.8932\n",
            "Epoch 23/100\n",
            "29/29 [==============================] - 26s 889ms/step - loss: 0.2461 - accuracy: 0.9169 - val_loss: 0.3510 - val_accuracy: 0.8932\n",
            "Epoch 24/100\n",
            "29/29 [==============================] - 26s 912ms/step - loss: 0.2939 - accuracy: 0.9080 - val_loss: 0.2760 - val_accuracy: 0.9188\n",
            "Epoch 25/100\n",
            "29/29 [==============================] - 26s 890ms/step - loss: 0.2908 - accuracy: 0.9091 - val_loss: 0.9051 - val_accuracy: 0.7607\n",
            "Epoch 26/100\n",
            "29/29 [==============================] - 26s 890ms/step - loss: 0.3348 - accuracy: 0.8880 - val_loss: 0.4126 - val_accuracy: 0.8889\n",
            "Epoch 27/100\n",
            "29/29 [==============================] - 26s 888ms/step - loss: 0.2926 - accuracy: 0.9091 - val_loss: 0.5684 - val_accuracy: 0.8162\n",
            "Epoch 28/100\n",
            "29/29 [==============================] - 26s 889ms/step - loss: 0.2214 - accuracy: 0.9279 - val_loss: 0.5683 - val_accuracy: 0.8120\n",
            "Epoch 29/100\n",
            "29/29 [==============================] - 26s 889ms/step - loss: 0.3509 - accuracy: 0.8991 - val_loss: 0.4081 - val_accuracy: 0.8932\n",
            "Epoch 30/100\n",
            "29/29 [==============================] - 26s 889ms/step - loss: 0.2584 - accuracy: 0.9169 - val_loss: 0.3702 - val_accuracy: 0.9017\n",
            "Epoch 31/100\n",
            "29/29 [==============================] - 26s 891ms/step - loss: 0.1856 - accuracy: 0.9401 - val_loss: 0.6153 - val_accuracy: 0.8547\n",
            "Epoch 32/100\n",
            "29/29 [==============================] - 26s 891ms/step - loss: 0.1926 - accuracy: 0.9313 - val_loss: 0.3597 - val_accuracy: 0.8889\n",
            "Epoch 33/100\n",
            "29/29 [==============================] - 26s 887ms/step - loss: 0.2221 - accuracy: 0.9257 - val_loss: 0.4163 - val_accuracy: 0.8932\n",
            "Epoch 34/100\n",
            "29/29 [==============================] - 26s 890ms/step - loss: 0.2286 - accuracy: 0.9257 - val_loss: 0.4355 - val_accuracy: 0.8761\n",
            "Epoch 35/100\n",
            "29/29 [==============================] - 26s 884ms/step - loss: 0.2519 - accuracy: 0.9102 - val_loss: 0.3317 - val_accuracy: 0.8932\n",
            "Epoch 36/100\n",
            "29/29 [==============================] - 26s 894ms/step - loss: 0.2059 - accuracy: 0.9290 - val_loss: 0.4482 - val_accuracy: 0.8846\n",
            "Epoch 37/100\n",
            "29/29 [==============================] - 26s 887ms/step - loss: 0.1893 - accuracy: 0.9246 - val_loss: 0.4508 - val_accuracy: 0.8932\n",
            "Epoch 38/100\n",
            "29/29 [==============================] - 26s 896ms/step - loss: 0.1883 - accuracy: 0.9324 - val_loss: 0.2807 - val_accuracy: 0.9274\n",
            "Epoch 39/100\n",
            "29/29 [==============================] - 26s 886ms/step - loss: 0.1818 - accuracy: 0.9335 - val_loss: 0.3360 - val_accuracy: 0.9274\n",
            "Epoch 40/100\n",
            "29/29 [==============================] - 26s 890ms/step - loss: 0.1230 - accuracy: 0.9590 - val_loss: 0.2955 - val_accuracy: 0.9188\n",
            "Epoch 41/100\n",
            "29/29 [==============================] - 26s 892ms/step - loss: 0.1720 - accuracy: 0.9390 - val_loss: 0.2399 - val_accuracy: 0.9274\n",
            "Epoch 42/100\n",
            "29/29 [==============================] - 26s 912ms/step - loss: 0.1663 - accuracy: 0.9446 - val_loss: 0.3407 - val_accuracy: 0.9060\n",
            "Epoch 43/100\n",
            "29/29 [==============================] - 26s 889ms/step - loss: 0.1645 - accuracy: 0.9468 - val_loss: 0.3491 - val_accuracy: 0.8846\n",
            "Epoch 44/100\n",
            "29/29 [==============================] - 26s 885ms/step - loss: 0.2012 - accuracy: 0.9390 - val_loss: 0.4250 - val_accuracy: 0.9231\n",
            "Epoch 45/100\n",
            "29/29 [==============================] - 26s 886ms/step - loss: 0.1809 - accuracy: 0.9424 - val_loss: 0.3479 - val_accuracy: 0.9274\n",
            "Epoch 46/100\n",
            "29/29 [==============================] - 26s 888ms/step - loss: 0.1701 - accuracy: 0.9512 - val_loss: 0.2906 - val_accuracy: 0.9145\n",
            "Epoch 47/100\n",
            "29/29 [==============================] - 26s 889ms/step - loss: 0.2201 - accuracy: 0.9213 - val_loss: 0.4074 - val_accuracy: 0.9145\n",
            "Epoch 48/100\n",
            "29/29 [==============================] - 26s 887ms/step - loss: 0.2157 - accuracy: 0.9302 - val_loss: 0.3804 - val_accuracy: 0.9060\n",
            "Epoch 49/100\n",
            "29/29 [==============================] - 26s 887ms/step - loss: 0.1349 - accuracy: 0.9468 - val_loss: 0.2861 - val_accuracy: 0.9316\n",
            "Epoch 50/100\n",
            "29/29 [==============================] - 26s 883ms/step - loss: 0.1487 - accuracy: 0.9468 - val_loss: 0.2885 - val_accuracy: 0.9316\n",
            "Epoch 51/100\n",
            "29/29 [==============================] - 26s 882ms/step - loss: 0.1475 - accuracy: 0.9523 - val_loss: 0.3335 - val_accuracy: 0.9145\n",
            "Epoch 52/100\n",
            "29/29 [==============================] - 26s 882ms/step - loss: 0.2740 - accuracy: 0.9191 - val_loss: 0.5326 - val_accuracy: 0.8333\n",
            "Epoch 53/100\n",
            "29/29 [==============================] - 26s 885ms/step - loss: 0.1816 - accuracy: 0.9401 - val_loss: 0.3116 - val_accuracy: 0.9231\n",
            "Epoch 54/100\n",
            "29/29 [==============================] - 26s 886ms/step - loss: 0.2226 - accuracy: 0.9224 - val_loss: 0.3136 - val_accuracy: 0.9231\n",
            "Epoch 55/100\n",
            "29/29 [==============================] - 26s 887ms/step - loss: 0.1435 - accuracy: 0.9545 - val_loss: 0.3159 - val_accuracy: 0.9231\n",
            "Epoch 56/100\n",
            "29/29 [==============================] - 26s 891ms/step - loss: 0.1858 - accuracy: 0.9379 - val_loss: 0.2788 - val_accuracy: 0.9231\n",
            "Epoch 57/100\n",
            "29/29 [==============================] - 26s 890ms/step - loss: 0.1342 - accuracy: 0.9512 - val_loss: 0.2743 - val_accuracy: 0.9359\n",
            "Epoch 58/100\n",
            "29/29 [==============================] - 26s 892ms/step - loss: 0.2945 - accuracy: 0.9202 - val_loss: 0.4242 - val_accuracy: 0.9017\n",
            "Epoch 59/100\n",
            "29/29 [==============================] - 26s 896ms/step - loss: 0.1925 - accuracy: 0.9313 - val_loss: 0.2900 - val_accuracy: 0.9316\n",
            "Epoch 60/100\n",
            "29/29 [==============================] - 26s 888ms/step - loss: 0.1819 - accuracy: 0.9512 - val_loss: 0.3664 - val_accuracy: 0.8932\n",
            "Epoch 61/100\n",
            "29/29 [==============================] - 26s 894ms/step - loss: 0.1550 - accuracy: 0.9446 - val_loss: 0.3650 - val_accuracy: 0.8974\n",
            "Epoch 62/100\n",
            "29/29 [==============================] - 26s 889ms/step - loss: 0.1749 - accuracy: 0.9401 - val_loss: 0.3371 - val_accuracy: 0.9103\n",
            "Epoch 63/100\n",
            "29/29 [==============================] - 26s 889ms/step - loss: 0.1332 - accuracy: 0.9534 - val_loss: 0.3390 - val_accuracy: 0.8932\n",
            "Epoch 64/100\n",
            "29/29 [==============================] - 26s 886ms/step - loss: 0.1122 - accuracy: 0.9612 - val_loss: 0.2670 - val_accuracy: 0.9274\n",
            "Epoch 65/100\n",
            "29/29 [==============================] - 26s 886ms/step - loss: 0.1450 - accuracy: 0.9490 - val_loss: 0.3213 - val_accuracy: 0.9060\n",
            "Epoch 66/100\n",
            "29/29 [==============================] - 26s 887ms/step - loss: 0.2582 - accuracy: 0.9324 - val_loss: 0.3362 - val_accuracy: 0.9060\n",
            "Epoch 67/100\n",
            "29/29 [==============================] - 26s 888ms/step - loss: 0.2075 - accuracy: 0.9368 - val_loss: 0.3552 - val_accuracy: 0.9017\n",
            "Epoch 68/100\n",
            "29/29 [==============================] - 26s 906ms/step - loss: 0.1652 - accuracy: 0.9450 - val_loss: 0.3483 - val_accuracy: 0.9103\n",
            "Epoch 69/100\n",
            "29/29 [==============================] - 26s 889ms/step - loss: 0.1863 - accuracy: 0.9468 - val_loss: 0.2513 - val_accuracy: 0.9188\n",
            "Epoch 70/100\n",
            "29/29 [==============================] - 26s 894ms/step - loss: 0.1347 - accuracy: 0.9468 - val_loss: 0.3042 - val_accuracy: 0.9188\n",
            "Epoch 71/100\n",
            "29/29 [==============================] - 26s 896ms/step - loss: 0.1141 - accuracy: 0.9634 - val_loss: 0.2747 - val_accuracy: 0.9316\n",
            "Epoch 72/100\n",
            "29/29 [==============================] - 26s 895ms/step - loss: 0.1222 - accuracy: 0.9557 - val_loss: 0.2666 - val_accuracy: 0.9359\n",
            "Epoch 73/100\n",
            "29/29 [==============================] - 26s 892ms/step - loss: 0.1258 - accuracy: 0.9523 - val_loss: 0.2690 - val_accuracy: 0.9145\n",
            "Epoch 74/100\n",
            "29/29 [==============================] - 26s 889ms/step - loss: 0.1142 - accuracy: 0.9590 - val_loss: 0.8848 - val_accuracy: 0.8120\n",
            "Epoch 75/100\n",
            "29/29 [==============================] - 26s 886ms/step - loss: 0.2041 - accuracy: 0.9302 - val_loss: 0.2820 - val_accuracy: 0.9231\n",
            "Epoch 76/100\n",
            "29/29 [==============================] - 26s 889ms/step - loss: 0.1536 - accuracy: 0.9490 - val_loss: 0.3565 - val_accuracy: 0.9231\n",
            "Epoch 77/100\n",
            "29/29 [==============================] - 26s 892ms/step - loss: 0.1317 - accuracy: 0.9557 - val_loss: 1.6384 - val_accuracy: 0.7479\n",
            "Epoch 78/100\n",
            "29/29 [==============================] - 26s 893ms/step - loss: 0.2743 - accuracy: 0.9124 - val_loss: 0.7100 - val_accuracy: 0.8291\n",
            "Epoch 79/100\n",
            "29/29 [==============================] - 26s 889ms/step - loss: 0.1764 - accuracy: 0.9468 - val_loss: 0.4712 - val_accuracy: 0.8889\n",
            "Epoch 80/100\n",
            "29/29 [==============================] - 26s 889ms/step - loss: 0.1758 - accuracy: 0.9401 - val_loss: 0.7900 - val_accuracy: 0.8462\n",
            "Epoch 81/100\n",
            "29/29 [==============================] - 26s 887ms/step - loss: 0.1401 - accuracy: 0.9512 - val_loss: 0.3882 - val_accuracy: 0.9188\n",
            "Epoch 82/100\n",
            "29/29 [==============================] - 26s 891ms/step - loss: 0.1370 - accuracy: 0.9557 - val_loss: 0.4373 - val_accuracy: 0.8889\n",
            "Epoch 83/100\n",
            "29/29 [==============================] - 26s 889ms/step - loss: 0.1351 - accuracy: 0.9490 - val_loss: 0.4180 - val_accuracy: 0.9103\n",
            "Epoch 84/100\n",
            "29/29 [==============================] - 26s 893ms/step - loss: 0.1283 - accuracy: 0.9501 - val_loss: 0.4475 - val_accuracy: 0.9060\n",
            "Epoch 85/100\n",
            "29/29 [==============================] - 26s 890ms/step - loss: 0.1049 - accuracy: 0.9557 - val_loss: 0.3752 - val_accuracy: 0.8889\n",
            "Epoch 86/100\n",
            "29/29 [==============================] - 26s 891ms/step - loss: 0.1338 - accuracy: 0.9545 - val_loss: 0.4207 - val_accuracy: 0.9103\n",
            "Epoch 87/100\n",
            "29/29 [==============================] - 26s 891ms/step - loss: 0.2243 - accuracy: 0.9357 - val_loss: 0.4411 - val_accuracy: 0.8803\n",
            "Epoch 88/100\n",
            "29/29 [==============================] - 26s 891ms/step - loss: 0.1461 - accuracy: 0.9557 - val_loss: 0.3373 - val_accuracy: 0.9188\n",
            "Epoch 89/100\n",
            "29/29 [==============================] - 26s 890ms/step - loss: 0.1015 - accuracy: 0.9645 - val_loss: 0.3958 - val_accuracy: 0.9145\n",
            "Epoch 90/100\n",
            "29/29 [==============================] - 26s 893ms/step - loss: 0.1453 - accuracy: 0.9523 - val_loss: 0.5976 - val_accuracy: 0.8803\n",
            "Epoch 91/100\n",
            "29/29 [==============================] - 26s 913ms/step - loss: 0.1752 - accuracy: 0.9386 - val_loss: 0.4079 - val_accuracy: 0.9017\n",
            "Epoch 92/100\n",
            "29/29 [==============================] - 26s 903ms/step - loss: 0.1340 - accuracy: 0.9534 - val_loss: 0.3577 - val_accuracy: 0.9017\n",
            "Epoch 93/100\n",
            "29/29 [==============================] - 26s 898ms/step - loss: 0.1256 - accuracy: 0.9579 - val_loss: 0.4182 - val_accuracy: 0.9103\n",
            "Epoch 94/100\n",
            "29/29 [==============================] - 26s 894ms/step - loss: 0.1280 - accuracy: 0.9590 - val_loss: 0.4434 - val_accuracy: 0.9231\n",
            "Epoch 95/100\n",
            "29/29 [==============================] - 26s 890ms/step - loss: 0.1608 - accuracy: 0.9446 - val_loss: 0.3464 - val_accuracy: 0.9231\n",
            "Epoch 96/100\n",
            "29/29 [==============================] - 26s 891ms/step - loss: 0.1640 - accuracy: 0.9457 - val_loss: 0.5421 - val_accuracy: 0.8889\n",
            "Epoch 97/100\n",
            "29/29 [==============================] - 26s 891ms/step - loss: 0.0968 - accuracy: 0.9690 - val_loss: 0.3219 - val_accuracy: 0.9402\n",
            "Epoch 98/100\n",
            "29/29 [==============================] - 26s 888ms/step - loss: 0.1581 - accuracy: 0.9424 - val_loss: 0.3246 - val_accuracy: 0.9188\n",
            "Epoch 99/100\n",
            "29/29 [==============================] - 26s 887ms/step - loss: 0.1175 - accuracy: 0.9579 - val_loss: 0.5369 - val_accuracy: 0.8761\n",
            "Epoch 100/100\n",
            "29/29 [==============================] - 26s 889ms/step - loss: 0.1273 - accuracy: 0.9512 - val_loss: 0.4567 - val_accuracy: 0.9017\n"
          ],
          "name": "stdout"
        }
      ]
    },
    {
      "cell_type": "code",
      "metadata": {
        "id": "AMlA88aQtPi7",
        "colab": {
          "base_uri": "https://localhost:8080/"
        },
        "outputId": "b84e994a-7230-477f-9d22-7f8a004cf15d"
      },
      "source": [
        "import tempfile\n",
        "TEMPDIR = tempfile.gettempdir()\n",
        "# save the model to disk\n",
        "print(\"[INFO] serializing network...\")\n",
        "model.save(os.path.join(TEMPDIR, 'cnn_keras.h5'))"
      ],
      "execution_count": 20,
      "outputs": [
        {
          "output_type": "stream",
          "text": [
            "[INFO] serializing network...\n"
          ],
          "name": "stdout"
        }
      ]
    },
    {
      "cell_type": "code",
      "metadata": {
        "id": "fG2aw_F6tPi7",
        "colab": {
          "base_uri": "https://localhost:8080/"
        },
        "outputId": "bd8f6973-f092-4b88-cba8-376ff9d4008d"
      },
      "source": [
        "# save the label binarizer to disk\n",
        "print(\"[INFO] serializing label binarizer...\")\n",
        "f = open(os.path.join(TEMPDIR, 'cnn_keras_labelbin.pkl'), \"wb\")\n",
        "f.write(pickle.dumps(lb))\n",
        "f.close()"
      ],
      "execution_count": 21,
      "outputs": [
        {
          "output_type": "stream",
          "text": [
            "[INFO] serializing label binarizer...\n"
          ],
          "name": "stdout"
        }
      ]
    },
    {
      "cell_type": "code",
      "metadata": {
        "id": "RkP5uY2wtPi8",
        "colab": {
          "base_uri": "https://localhost:8080/",
          "height": 295
        },
        "outputId": "a80accf0-410d-4579-a2b8-f96163000454"
      },
      "source": [
        "# plot the training loss and accuracy\n",
        "plt.figure()\n",
        "N = EPOCHS\n",
        "plt.plot(np.arange(0, N), H.history[\"loss\"], label=\"train_loss\")\n",
        "plt.plot(np.arange(0, N), H.history[\"val_loss\"], label=\"val_loss\")\n",
        "plt.plot(np.arange(0, N), H.history[\"accuracy\"], label=\"accuracy\")\n",
        "plt.plot(np.arange(0, N), H.history[\"val_accuracy\"], label=\"val_accuracy\")\n",
        "plt.title(\"Training Loss and Accuracy\")\n",
        "plt.xlabel(\"Epoch #\")\n",
        "plt.ylabel(\"Loss/Accuracy\")\n",
        "plt.legend(loc=\"upper left\")\n",
        "plt.show()"
      ],
      "execution_count": 22,
      "outputs": [
        {
          "output_type": "display_data",
          "data": {
            "image/png": "[encoded data removed]",
            "text/plain": [
              "<Figure size 432x288 with 1 Axes>"
            ]
          },
          "metadata": {
            "tags": [],
            "needs_background": "light"
          }
        }
      ]
    },
    {
      "cell_type": "code",
      "metadata": {
        "id": "PW35L-ErtPi9"
      },
      "source": [
        "# load the image\n",
        "zf = zipfile.ZipFile(os.path.join(inputdir, 'Pokemon_examples.zip'))\n",
        "#image = cv2.imread(os.path.join('Pokemon_examples', 'bulbasaur_plush.png'))\n",
        "image = cv2.imdecode(np.frombuffer(zf.read('bulbasaur_plush.png'), np.uint8), 1)\n",
        "output = image.copy()\n",
        "exampleList = zf.namelist()"
      ],
      "execution_count": 23,
      "outputs": []
    },
    {
      "cell_type": "code",
      "metadata": {
        "id": "iyXhn3fCtPi9"
      },
      "source": [
        "# pre-process the image for classification\n",
        "image = cv2.resize(image, (96, 96))\n",
        "image = image.astype(\"float\") / 255.0\n",
        "image = img_to_array(image)\n",
        "image = np.expand_dims(image, axis=0)"
      ],
      "execution_count": 24,
      "outputs": []
    },
    {
      "cell_type": "code",
      "metadata": {
        "id": "6HNtLsC-tPi9",
        "colab": {
          "base_uri": "https://localhost:8080/"
        },
        "outputId": "01ea3252-cd6c-4b86-e8d1-12158887a96d"
      },
      "source": [
        "# load the trained convolutional neural network and the label\n",
        "# binarizer\n",
        "print(\"[INFO] loading network...\")\n",
        "model = load_model(os.path.join(TEMPDIR, 'cnn_keras.h5'))\n",
        "lb = pickle.loads(open(os.path.join(TEMPDIR, 'cnn_keras_labelbin.pkl'), \"rb\").read())"
      ],
      "execution_count": 25,
      "outputs": [
        {
          "output_type": "stream",
          "text": [
            "[INFO] loading network...\n"
          ],
          "name": "stdout"
        }
      ]
    },
    {
      "cell_type": "code",
      "metadata": {
        "id": "XiYtBslctPi-",
        "colab": {
          "base_uri": "https://localhost:8080/"
        },
        "outputId": "6ec966de-3a23-43b8-a2a0-302f8395ddbe"
      },
      "source": [
        "# classify the input image\n",
        "print(\"[INFO] classifying image...\")\n",
        "proba = model.predict(image)[0]\n",
        "idx = np.argmax(proba)\n",
        "label = lb.classes_[idx]"
      ],
      "execution_count": 26,
      "outputs": [
        {
          "output_type": "stream",
          "text": [
            "[INFO] classifying image...\n"
          ],
          "name": "stdout"
        }
      ]
    },
    {
      "cell_type": "code",
      "metadata": {
        "id": "9ZUZjxButPi-",
        "colab": {
          "base_uri": "https://localhost:8080/"
        },
        "outputId": "0b5381f1-e729-4603-916e-b2f2bd1900e9"
      },
      "source": [
        "print(exampleList)\n",
        "print(label)"
      ],
      "execution_count": 27,
      "outputs": [
        {
          "output_type": "stream",
          "text": [
            "['bulbasaur_plush.png', 'charmander_counter.png', 'charmander_hidden.png', 'mewtwo_toy.png', 'pikachu_toy.png', 'squirtle_plush.png']\n",
            "squirtle\n"
          ],
          "name": "stdout"
        }
      ]
    },
    {
      "cell_type": "code",
      "metadata": {
        "id": "kjvIWUkYtPi_"
      },
      "source": [
        "# we'll mark our prediction as \"correct\" of the input image filename\n",
        "# contains the predicted label text (obviously this makes the\n",
        "# assumption that you have named your testing image files this way)\n",
        "#filename = os.path.join('Pokemon_examples', 'bulbasaur_plush.png')[os.path.join('Pokemon_examples', 'bulbasaur_plush.png').rfind(os.path.sep) + 1:]\n",
        "filename = exampleList[exampleList.index('bulbasaur_plush.png')]\n",
        "correct = \"correct\" if filename.rfind(label) != -1 else \"incorrect\""
      ],
      "execution_count": 28,
      "outputs": []
    },
    {
      "cell_type": "code",
      "metadata": {
        "id": "etXQjWNktPi_",
        "colab": {
          "base_uri": "https://localhost:8080/"
        },
        "outputId": "f4991890-37d3-41db-92a3-b2505e22db2a"
      },
      "source": [
        "print(filename)\n",
        "print(correct)"
      ],
      "execution_count": 29,
      "outputs": [
        {
          "output_type": "stream",
          "text": [
            "bulbasaur_plush.png\n",
            "incorrect\n"
          ],
          "name": "stdout"
        }
      ]
    },
    {
      "cell_type": "code",
      "metadata": {
        "id": "QUbf6suHtPjA",
        "colab": {
          "base_uri": "https://localhost:8080/"
        },
        "outputId": "5cfae3e4-fad7-4183-93ff-0df056cbf83d"
      },
      "source": [
        "# build the label and draw the label on the image\n",
        "label = \"{}: {:.2f}% ({})\".format(label, proba[idx] * 100, correct)\n",
        "output = imutils.resize(output, width=400)\n",
        "cv2.putText(output, label, (10, 25),  cv2.FONT_HERSHEY_SIMPLEX,0.7, (0, 255, 0), 2)"
      ],
      "execution_count": 30,
      "outputs": [
        {
          "output_type": "execute_result",
          "data": {
            "text/plain": [
              "array([[[247, 249, 249],\n",
              "        [228, 230, 239],\n",
              "        [199, 201, 217],\n",
              "        ...,\n",
              "        [238, 234, 239],\n",
              "        [237, 234, 239],\n",
              "        [237, 235, 241]],\n",
              "\n",
              "       [[248, 249, 249],\n",
              "        [229, 231, 240],\n",
              "        [199, 202, 217],\n",
              "        ...,\n",
              "        [202, 193, 204],\n",
              "        [193, 185, 198],\n",
              "        [195, 190, 205]],\n",
              "\n",
              "       [[248, 250, 250],\n",
              "        [231, 233, 242],\n",
              "        [199, 202, 218],\n",
              "        ...,\n",
              "        [159, 149, 153],\n",
              "        [118, 106, 111],\n",
              "        [ 87,  78,  82]],\n",
              "\n",
              "       ...,\n",
              "\n",
              "       [[216, 218, 228],\n",
              "        [213, 215, 225],\n",
              "        [216, 218, 228],\n",
              "        ...,\n",
              "        [218, 222, 231],\n",
              "        [211, 216, 226],\n",
              "        [203, 208, 219]],\n",
              "\n",
              "       [[214, 216, 226],\n",
              "        [220, 222, 232],\n",
              "        [220, 222, 232],\n",
              "        ...,\n",
              "        [213, 216, 227],\n",
              "        [215, 219, 231],\n",
              "        [212, 216, 227]],\n",
              "\n",
              "       [[214, 216, 226],\n",
              "        [219, 221, 231],\n",
              "        [219, 221, 231],\n",
              "        ...,\n",
              "        [199, 206, 219],\n",
              "        [201, 208, 221],\n",
              "        [203, 211, 224]]], dtype=uint8)"
            ]
          },
          "metadata": {
            "tags": []
          },
          "execution_count": 30
        }
      ]
    },
    {
      "cell_type": "code",
      "metadata": {
        "id": "U4Ff5-fYtPjA",
        "colab": {
          "base_uri": "https://localhost:8080/",
          "height": 304
        },
        "outputId": "5609c60e-e22d-4501-809c-a1de5ce11d43"
      },
      "source": [
        "# show the output image\n",
        "print(\"[INFO] {}\".format(label))\n",
        "img = cv2.imread('img.jpg')\n",
        "plt.imshow(output)"
      ],
      "execution_count": 31,
      "outputs": [
        {
          "output_type": "stream",
          "text": [
            "[INFO] squirtle: 99.54% (incorrect)\n"
          ],
          "name": "stdout"
        },
        {
          "output_type": "execute_result",
          "data": {
            "text/plain": [
              "<matplotlib.image.AxesImage at 0x7fb0237e7940>"
            ]
          },
          "metadata": {
            "tags": []
          },
          "execution_count": 31
        },
        {
          "output_type": "display_data",
          "data": {
            "image/png": "[encoded data removed]",
            "text/plain": [
              "<Figure size 432x288 with 1 Axes>"
            ]
          },
          "metadata": {
            "tags": [],
            "needs_background": "light"
          }
        }
      ]
    },
    {
      "cell_type": "code",
      "metadata": {
        "id": "rnvzZP5btPjA"
      },
      "source": [
        ""
      ],
      "execution_count": null,
      "outputs": []
    }
  ]
}