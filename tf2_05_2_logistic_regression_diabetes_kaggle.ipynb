{
 "cells": [
  {
   "cell_type": "code",
   "execution_count": 1,
   "metadata": {
    "id": "Vo4nTaaJroXo"
   },
   "outputs": [],
   "source": [
    "# Lab 5 Logistic Regression Classifier\n",
    "import tensorflow as tf\n",
    "import numpy as np"
   ]
  },
  {
   "cell_type": "code",
   "execution_count": 2,
   "metadata": {
    "colab": {
     "base_uri": "https://localhost:8080/"
    },
    "id": "xvKUYPy-roXu",
    "outputId": "35121900-1236-41c1-9690-1bf31d422d86"
   },
   "outputs": [
    {
     "name": "stdout",
     "output_type": "stream",
     "text": [
      "1 Physical CPU, 1 Logical CPU\n"
     ]
    }
   ],
   "source": [
    "import os\n",
    "os.environ['TF_CPP_MIN_LOG_LEVEL'] = '3'\n",
    "os.environ[\"CUDA_DEVICE_ORDER\"] = \"PCI_BUS_ID\"\n",
    "os.environ[\"CUDA_VISIBLE_DEVICES\"] = '0' # Set to -1 if CPU should be used CPU = -1 , GPU = 0\n",
    "\n",
    "gpus = tf.config.experimental.list_physical_devices('GPU')\n",
    "cpus = tf.config.experimental.list_physical_devices('CPU')\n",
    "\n",
    "if gpus:\n",
    "    try:\n",
    "        # Currently, memory growth needs to be the same across GPUs\n",
    "        for gpu in gpus:\n",
    "            tf.config.experimental.set_memory_growth(gpu, True)\n",
    "        logical_gpus = tf.config.experimental.list_logical_devices('GPU')\n",
    "        print(len(gpus), \"Physical GPUs,\", len(logical_gpus), \"Logical GPUs\")\n",
    "    except RuntimeError as e:\n",
    "        # Memory growth must be set before GPUs have been initialized\n",
    "        print(e)\n",
    "elif cpus:\n",
    "    try:\n",
    "        # Currently, memory growth needs to be the same across GPUs\n",
    "        logical_cpus= tf.config.experimental.list_logical_devices('CPU')\n",
    "        print(len(cpus), \"Physical CPU,\", len(logical_cpus), \"Logical CPU\")\n",
    "    except RuntimeError as e:\n",
    "        # Memory growth must be set before GPUs have been initialized\n",
    "        print(e)"
   ]
  },
  {
   "cell_type": "code",
   "execution_count": 3,
   "metadata": {
    "colab": {
     "base_uri": "https://localhost:8080/"
    },
    "id": "nSaxdlv6roXw",
    "outputId": "1b0ad008-e381-4c4f-efb2-91cd7f88eb6e"
   },
   "outputs": [
    {
     "name": "stdout",
     "output_type": "stream",
     "text": [
      "--2020-12-13 01:20:27--  https://f.mjh.nz/gdrivedl\n",
      "Resolving f.mjh.nz (f.mjh.nz)... 104.28.30.233, 104.28.31.233, 172.67.162.157, ...\n",
      "Connecting to f.mjh.nz (f.mjh.nz)|104.28.30.233|:443... connected.\n",
      "HTTP request sent, awaiting response... 200 OK\n",
      "Length: 1362 (1.3K) [application/octet-stream]\n",
      "Saving to: ‘gdrivedl’\n",
      "\n",
      "gdrivedl            100%[===================>]   1.33K  --.-KB/s    in 0s      \n",
      "\n",
      "2020-12-13 01:20:27 (21.7 MB/s) - ‘gdrivedl’ saved [1362/1362]\n",
      "\n",
      "total 8\n",
      "-rw-r--r-- 1 root root 1362 Jan 29  2019 gdrivedl\n",
      "drwxr-xr-x 1 root root 4096 Dec  2 22:04 sample_data\n",
      "/content\n",
      "File ID: 1eXaF7_hxbMDPaoTqF6l4GgH0SpGfq7QU\n",
      "Downloading: https://docs.google.com/uc?export=download&id=1eXaF7_hxbMDPaoTqF6l4GgH0SpGfq7QU > .86.file\n",
      "Moving: .86.file > data-03-diabetes.csv\n",
      "Saved: data-03-diabetes.csv\n",
      "DONE!\n",
      "total 64\n",
      "-rw-r--r-- 1 root root 53438 Dec 13 01:20 data-03-diabetes.csv\n",
      "-rw-r--r-- 1 root root  1362 Jan 29  2019 gdrivedl\n",
      "drwxr-xr-x 1 root root  4096 Dec  2 22:04 sample_data\n"
     ]
    }
   ],
   "source": [
    "# +Add data before loading\n",
    "\n",
    "!wget -O gdrivedl 'https://f.mjh.nz/gdrivedl'\n",
    "!ls -l\n",
    "!pwd\n",
    "\n",
    "\"\"\"\n",
    "!bash /kaggle/working/gdrivedl https://drive.google.com/file/d/1eXaF7_hxbMDPaoTqF6l4GgH0SpGfq7QU/view?usp=sharing\n",
    "!ls -l /kaggle/working\n",
    "inputdir = \"/kaggle/working\"\n",
    "\"\"\"\n",
    "\n",
    "!bash /content/gdrivedl https://drive.google.com/file/d/1eXaF7_hxbMDPaoTqF6l4GgH0SpGfq7QU/view?usp=sharing\n",
    "!ls -l /content\n",
    "inputdir = \"/content\""
   ]
  },
  {
   "cell_type": "code",
   "execution_count": 4,
   "metadata": {
    "id": "zcxGgg9LroXw"
   },
   "outputs": [],
   "source": [
    "xy = np.loadtxt(os.path.join(inputdir, 'data-03-diabetes.csv'), delimiter=',', dtype=np.float32)\n",
    "x_data = xy[:, 0:-1]\n",
    "y_data = xy[:, [-1]]"
   ]
  },
  {
   "cell_type": "code",
   "execution_count": 5,
   "metadata": {
    "colab": {
     "base_uri": "https://localhost:8080/"
    },
    "id": "-eV6MJtxroXx",
    "outputId": "0c21d1fb-bd00-492d-b84e-d81d14f8b3ef"
   },
   "outputs": [
    {
     "name": "stdout",
     "output_type": "stream",
     "text": [
      "[[-0.294118    0.487437    0.180328   -0.292929    0.          0.00149028\n",
      "  -0.53117    -0.0333333 ]\n",
      " [-0.882353   -0.145729    0.0819672  -0.414141    0.         -0.207153\n",
      "  -0.766866   -0.666667  ]\n",
      " [-0.0588235   0.839196    0.0491803   0.          0.         -0.305514\n",
      "  -0.492741   -0.633333  ]\n",
      " [-0.882353   -0.105528    0.0819672  -0.535354   -0.777778   -0.162444\n",
      "  -0.923997    0.        ]\n",
      " [ 0.          0.376884   -0.344262   -0.292929   -0.602837    0.28465\n",
      "   0.887276   -0.6       ]]\n",
      "[[0.]\n",
      " [1.]\n",
      " [0.]\n",
      " [1.]\n",
      " [0.]]\n",
      "(759, 8) (759, 1)\n"
     ]
    }
   ],
   "source": [
    "print(x_data[:5])\n",
    "print(y_data[:5])\n",
    "print(x_data.shape, y_data.shape)"
   ]
  },
  {
   "cell_type": "code",
   "execution_count": 6,
   "metadata": {
    "id": "Wl_DY9dBroXx"
   },
   "outputs": [],
   "source": [
    "model = tf.keras.Sequential()"
   ]
  },
  {
   "cell_type": "code",
   "execution_count": 7,
   "metadata": {
    "id": "9XoEfnE9roXx"
   },
   "outputs": [],
   "source": [
    "# multi-variable, x_data.shape[1] == feature counts == 8 in this case\n",
    "model.add(tf.keras.layers.Dense(units=1, input_dim=x_data.shape[1], activation='sigmoid'))"
   ]
  },
  {
   "cell_type": "code",
   "execution_count": 8,
   "metadata": {
    "id": "eQkI2R2XroXy"
   },
   "outputs": [],
   "source": [
    "model.compile(loss='binary_crossentropy', optimizer=tf.keras.optimizers.SGD(lr=0.01),  metrics=['accuracy'])"
   ]
  },
  {
   "cell_type": "code",
   "execution_count": 9,
   "metadata": {
    "colab": {
     "base_uri": "https://localhost:8080/"
    },
    "id": "NvXuzRjnroXy",
    "outputId": "18bb48c4-2399-4817-9803-164b18f09677"
   },
   "outputs": [
    {
     "name": "stdout",
     "output_type": "stream",
     "text": [
      "Model: \"sequential\"\n",
      "_________________________________________________________________\n",
      "Layer (type)                 Output Shape              Param #   \n",
      "=================================================================\n",
      "dense (Dense)                (None, 1)                 9         \n",
      "=================================================================\n",
      "Total params: 9\n",
      "Trainable params: 9\n",
      "Non-trainable params: 0\n",
      "_________________________________________________________________\n"
     ]
    }
   ],
   "source": [
    "model.summary()"
   ]
  },
  {
   "cell_type": "code",
   "execution_count": 10,
   "metadata": {
    "id": "5kVntkcLroXy"
   },
   "outputs": [],
   "source": [
    "history = model.fit(x_data, y_data, epochs=1000, verbose=0)"
   ]
  },
  {
   "cell_type": "code",
   "execution_count": 11,
   "metadata": {
    "colab": {
     "base_uri": "https://localhost:8080/",
     "height": 313
    },
    "id": "yHCVzyThroXy",
    "outputId": "6a67fe5d-6e6b-49f9-dcd4-e9bae364e0a0"
   },
   "outputs": [
    {
     "data": {
      "image/png": "[encoded data removed]",
      "text/plain": [
       "<Figure size 432x288 with 1 Axes>"
      ]
     },
     "metadata": {
      "needs_background": "light",
      "tags": []
     },
     "output_type": "display_data"
    },
    {
     "name": "stdout",
     "output_type": "stream",
     "text": [
      "[0.7694334387779236, 0.7694334387779236, 0.7694334387779236, 0.7694334387779236, 0.7694334387779236]\n"
     ]
    }
   ],
   "source": [
    "import matplotlib.pyplot as plt\n",
    "%matplotlib inline\n",
    "plt.plot(history.history['loss'])\n",
    "plt.plot(history.history['accuracy'])\n",
    "plt.title('Model loss & accuracy')\n",
    "plt.ylabel('Loss')\n",
    "plt.xlabel('Epoch')\n",
    "plt.legend(['loss', 'accuracy'], loc='upper left')\n",
    "plt.show()\n",
    "print(history.history['accuracy'][-5:])"
   ]
  },
  {
   "cell_type": "code",
   "execution_count": 12,
   "metadata": {
    "colab": {
     "base_uri": "https://localhost:8080/"
    },
    "id": "H0SSGyucroXz",
    "outputId": "2ee1d210-a328-4891-f7a1-24e7ef00a814"
   },
   "outputs": [
    {
     "name": "stdout",
     "output_type": "stream",
     "text": [
      "Accuracy: 0.7694334387779236\n"
     ]
    }
   ],
   "source": [
    "# accuracy!\n",
    "print(\"Accuracy: {0}\".format(history.history['accuracy'][-1]))"
   ]
  },
  {
   "cell_type": "code",
   "execution_count": 13,
   "metadata": {
    "id": "tTjAQeRaroXz"
   },
   "outputs": [],
   "source": [
    "model2 = tf.keras.Sequential()"
   ]
  },
  {
   "cell_type": "code",
   "execution_count": 14,
   "metadata": {
    "id": "xcpUrRdxroXz"
   },
   "outputs": [],
   "source": [
    "# multi-variable, x_data.shape[1] == feature counts == 8 in this case\n",
    "model2.add(tf.keras.layers.Dense(units=50, input_dim=x_data.shape[1], activation='relu'))\n",
    "#model3.add(tf.keras.layers.Dropout(0.9))\n",
    "model2.add(tf.keras.layers.Dense(units=40, activation='relu'))\n",
    "model2.add(tf.keras.layers.Dense(units=30, activation='relu'))\n",
    "model2.add(tf.keras.layers.Dense(units=20, activation='relu'))\n",
    "model2.add(tf.keras.layers.Dense(units=10, activation='relu'))\n",
    "model2.add(tf.keras.layers.Dense(units=1, activation='sigmoid'))"
   ]
  },
  {
   "cell_type": "code",
   "execution_count": 15,
   "metadata": {
    "id": "Zgrks278roXz"
   },
   "outputs": [],
   "source": [
    "model2.compile(loss='binary_crossentropy', optimizer=tf.keras.optimizers.SGD(lr=0.005),  metrics=['accuracy'])"
   ]
  },
  {
   "cell_type": "code",
   "execution_count": 16,
   "metadata": {
    "colab": {
     "base_uri": "https://localhost:8080/"
    },
    "id": "LFl1ZOudroX0",
    "outputId": "8b0113cc-323a-4a39-f2b0-e422a30cf22b"
   },
   "outputs": [
    {
     "name": "stdout",
     "output_type": "stream",
     "text": [
      "Model: \"sequential_1\"\n",
      "_________________________________________________________________\n",
      "Layer (type)                 Output Shape              Param #   \n",
      "=================================================================\n",
      "dense_1 (Dense)              (None, 50)                450       \n",
      "_________________________________________________________________\n",
      "dense_2 (Dense)              (None, 40)                2040      \n",
      "_________________________________________________________________\n",
      "dense_3 (Dense)              (None, 30)                1230      \n",
      "_________________________________________________________________\n",
      "dense_4 (Dense)              (None, 20)                620       \n",
      "_________________________________________________________________\n",
      "dense_5 (Dense)              (None, 10)                210       \n",
      "_________________________________________________________________\n",
      "dense_6 (Dense)              (None, 1)                 11        \n",
      "=================================================================\n",
      "Total params: 4,561\n",
      "Trainable params: 4,561\n",
      "Non-trainable params: 0\n",
      "_________________________________________________________________\n"
     ]
    }
   ],
   "source": [
    "model2.summary()"
   ]
  },
  {
   "cell_type": "code",
   "execution_count": 17,
   "metadata": {
    "id": "yXhSYLXDroX0"
   },
   "outputs": [],
   "source": [
    "history2 = model2.fit(x_data, y_data, epochs=3000, verbose=0)"
   ]
  },
  {
   "cell_type": "code",
   "execution_count": 18,
   "metadata": {
    "colab": {
     "base_uri": "https://localhost:8080/",
     "height": 313
    },
    "id": "QTnSNbPcroX1",
    "outputId": "2c1f1d2d-7628-4891-f31e-2028a3a7e3a4"
   },
   "outputs": [
    {
     "data": {
      "image/png": "[encoded data removed]",
      "text/plain": [
       "<Figure size 432x288 with 1 Axes>"
      ]
     },
     "metadata": {
      "needs_background": "light",
      "tags": []
     },
     "output_type": "display_data"
    },
    {
     "name": "stdout",
     "output_type": "stream",
     "text": [
      "[1.0, 1.0, 1.0, 1.0, 1.0]\n"
     ]
    }
   ],
   "source": [
    "import matplotlib.pyplot as plt\n",
    "%matplotlib inline\n",
    "plt.plot(history2.history['loss'])\n",
    "plt.plot(history2.history['accuracy'])\n",
    "plt.title('Model loss & accuracy')\n",
    "plt.ylabel('Loss')\n",
    "plt.xlabel('Epoch')\n",
    "plt.legend(['loss', 'accuracy'], loc='upper left')\n",
    "plt.show()\n",
    "print(history2.history['accuracy'][-5:])"
   ]
  },
  {
   "cell_type": "code",
   "execution_count": 19,
   "metadata": {
    "id": "QGRoVyW8roX1"
   },
   "outputs": [],
   "source": [
    "model3 = tf.keras.Sequential()"
   ]
  },
  {
   "cell_type": "code",
   "execution_count": 20,
   "metadata": {
    "id": "qslHuAW1roX2"
   },
   "outputs": [],
   "source": [
    "# multi-variable, x_data.shape[1] == feature counts == 8 in this case\n",
    "model3.add(tf.keras.layers.Dense(units=40, input_dim=x_data.shape[1], activation='relu'))\n",
    "model3.add(tf.keras.layers.Dense(units=40, activation='relu'))\n",
    "model3.add(tf.keras.layers.Dense(units=40, activation='relu'))\n",
    "model3.add(tf.keras.layers.Dense(units=40, kernel_regularizer=tf.keras.regularizers.l2(0.001), activity_regularizer=tf.keras.regularizers.l2(0.01), activation='relu'))\n",
    "model3.add(tf.keras.layers.Dense(units=1, activation='sigmoid'))"
   ]
  },
  {
   "cell_type": "code",
   "execution_count": 21,
   "metadata": {
    "id": "uXzR-Sx4roX2"
   },
   "outputs": [],
   "source": [
    "model3.compile(loss='binary_crossentropy', optimizer=tf.keras.optimizers.SGD(lr=0.01),  metrics=['accuracy'])"
   ]
  },
  {
   "cell_type": "code",
   "execution_count": 22,
   "metadata": {
    "colab": {
     "base_uri": "https://localhost:8080/"
    },
    "id": "vVIDq-2NroX3",
    "outputId": "68eaa0c0-e6fa-490f-e6af-db3eea50df1b"
   },
   "outputs": [
    {
     "name": "stdout",
     "output_type": "stream",
     "text": [
      "Model: \"sequential_2\"\n",
      "_________________________________________________________________\n",
      "Layer (type)                 Output Shape              Param #   \n",
      "=================================================================\n",
      "dense_7 (Dense)              (None, 40)                360       \n",
      "_________________________________________________________________\n",
      "dense_8 (Dense)              (None, 40)                1640      \n",
      "_________________________________________________________________\n",
      "dense_9 (Dense)              (None, 40)                1640      \n",
      "_________________________________________________________________\n",
      "dense_10 (Dense)             (None, 40)                1640      \n",
      "_________________________________________________________________\n",
      "dense_11 (Dense)             (None, 1)                 41        \n",
      "=================================================================\n",
      "Total params: 5,321\n",
      "Trainable params: 5,321\n",
      "Non-trainable params: 0\n",
      "_________________________________________________________________\n"
     ]
    }
   ],
   "source": [
    "model3.summary()"
   ]
  },
  {
   "cell_type": "code",
   "execution_count": 23,
   "metadata": {
    "id": "AbfLkTYAroX3"
   },
   "outputs": [],
   "source": [
    "history3 = model3.fit(x_data, y_data, epochs=3000, verbose=0)"
   ]
  },
  {
   "cell_type": "code",
   "execution_count": 24,
   "metadata": {
    "colab": {
     "base_uri": "https://localhost:8080/",
     "height": 313
    },
    "id": "jOJrw6FXroX3",
    "outputId": "a33ef401-af3b-4a98-bf17-c669d4a4e7a1"
   },
   "outputs": [
    {
     "data": {
      "image/png": "[encoded data removed]",
      "text/plain": [
       "<Figure size 432x288 with 1 Axes>"
      ]
     },
     "metadata": {
      "needs_background": "light",
      "tags": []
     },
     "output_type": "display_data"
    },
    {
     "name": "stdout",
     "output_type": "stream",
     "text": [
      "[1.0, 1.0, 1.0, 1.0, 1.0]\n"
     ]
    }
   ],
   "source": [
    "import matplotlib.pyplot as plt\n",
    "%matplotlib inline\n",
    "plt.plot(history3.history['loss'])\n",
    "plt.plot(history3.history['accuracy'])\n",
    "plt.title('Model loss & accuracy')\n",
    "plt.ylabel('Loss')\n",
    "plt.xlabel('Epoch')\n",
    "plt.legend(['loss', 'accuracy'], loc='upper left')\n",
    "plt.show()\n",
    "print(history3.history['accuracy'][-5:])"
   ]
  },
  {
   "cell_type": "code",
   "execution_count": 25,
   "metadata": {
    "id": "vsG7dvRQroX4"
   },
   "outputs": [],
   "source": [
    "# predict a single data point\n",
    "y_predict = model.predict([[0.176471, 0.155779, 0, 0, 0, 0.052161, -0.952178, -0.733333]])"
   ]
  },
  {
   "cell_type": "code",
   "execution_count": 26,
   "metadata": {
    "colab": {
     "base_uri": "https://localhost:8080/"
    },
    "id": "STDAkThKroX4",
    "outputId": "a4ab631a-c2a3-4e5a-ed85-566fd42e7e75"
   },
   "outputs": [
    {
     "name": "stdout",
     "output_type": "stream",
     "text": [
      "Predict: [[0.5926367]]\n"
     ]
    }
   ],
   "source": [
    "print(\"Predict: {0}\".format(y_predict))"
   ]
  },
  {
   "cell_type": "code",
   "execution_count": 27,
   "metadata": {
    "colab": {
     "base_uri": "https://localhost:8080/"
    },
    "id": "w4OEYQP6roX5",
    "outputId": "399f9134-fba1-44b3-d796-1f9a2918a4a9"
   },
   "outputs": [
    {
     "name": "stdout",
     "output_type": "stream",
     "text": [
      "24/24 [==============================] - 0s 886us/step - loss: 0.4729 - accuracy: 0.7708\n"
     ]
    }
   ],
   "source": [
    "# evaluating model\n",
    "evaluate = model.evaluate(x_data, y_data)"
   ]
  },
  {
   "cell_type": "code",
   "execution_count": 28,
   "metadata": {
    "colab": {
     "base_uri": "https://localhost:8080/"
    },
    "id": "OfEmyzr_roX5",
    "outputId": "59d118d5-e334-4ff8-8498-871ff3a09e26"
   },
   "outputs": [
    {
     "name": "stdout",
     "output_type": "stream",
     "text": [
      "loss: 0.47290894389152527, accuracy: 0.7707509994506836\n"
     ]
    }
   ],
   "source": [
    "print(\"loss: {0}, accuracy: {1}\".format(evaluate[0], evaluate[1]))"
   ]
  }
 ],
 "metadata": {
  "colab": {
   "collapsed_sections": [],
   "name": "tf2-05-2-logistic-regression-diabetes-kaggle.ipynb",
   "provenance": []
  },
  "kernelspec": {
   "display_name": "Python 3",
   "language": "python",
   "name": "python3"
  },
  "language_info": {
   "codemirror_mode": {
    "name": "ipython",
    "version": 3
   },
   "file_extension": ".py",
   "mimetype": "text/x-python",
   "name": "python",
   "nbconvert_exporter": "python",
   "pygments_lexer": "ipython3",
   "version": "3.8.3"
  }
 },
 "nbformat": 4,
 "nbformat_minor": 4
}
