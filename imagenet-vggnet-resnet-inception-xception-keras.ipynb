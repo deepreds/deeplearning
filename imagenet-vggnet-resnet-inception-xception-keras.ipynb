{
 "cells": [
  {
   "cell_type": "code",
   "execution_count": 1,
   "metadata": {},
   "outputs": [
    {
     "name": "stdout",
     "output_type": "stream",
     "text": [
      "1 Physical CPU, 1 Logical CPU\n"
     ]
    }
   ],
   "source": [
    "# https://www.pyimagesearch.com/2017/03/20/imagenet-vggnet-resnet-inception-xception-keras/\n",
    "\n",
    "import tensorflow as tf\n",
    "import os\n",
    "os.environ['TF_CPP_MIN_LOG_LEVEL'] = '3'\n",
    "os.environ[\"CUDA_DEVICE_ORDER\"] = \"PCI_BUS_ID\"\n",
    "os.environ[\"CUDA_VISIBLE_DEVICES\"] = '-1' # Set to -1 if CPU should be used CPU = -1 , GPU = 0\n",
    "\n",
    "gpus = tf.config.experimental.list_physical_devices('GPU')\n",
    "cpus = tf.config.experimental.list_physical_devices('CPU')\n",
    "\n",
    "if gpus:\n",
    "    try:\n",
    "        # Currently, memory growth needs to be the same across GPUs\n",
    "        for gpu in gpus:\n",
    "            tf.config.experimental.set_memory_growth(gpu, True)\n",
    "        logical_gpus = tf.config.experimental.list_logical_devices('GPU')\n",
    "        print(len(gpus), \"Physical GPUs,\", len(logical_gpus), \"Logical GPUs\")\n",
    "    except RuntimeError as e:\n",
    "        # Memory growth must be set before GPUs have been initialized\n",
    "        print(e)\n",
    "elif cpus:\n",
    "    try:\n",
    "        # Currently, memory growth needs to be the same across GPUs\n",
    "        logical_cpus= tf.config.experimental.list_logical_devices('CPU')\n",
    "        print(len(cpus), \"Physical CPU,\", len(logical_cpus), \"Logical CPU\")\n",
    "    except RuntimeError as e:\n",
    "        # Memory growth must be set before GPUs have been initialized\n",
    "        print(e)"
   ]
  },
  {
   "cell_type": "code",
   "execution_count": 2,
   "metadata": {},
   "outputs": [],
   "source": [
    "# import the necessary packages\n",
    "from tensorflow.keras.applications import ResNet50\n",
    "from tensorflow.keras.applications import InceptionV3\n",
    "from tensorflow.keras.applications import Xception # TensorFlow ONLY\n",
    "from tensorflow.keras.applications import VGG16\n",
    "from tensorflow.keras.applications import VGG19\n",
    "from tensorflow.keras.applications import imagenet_utils\n",
    "from tensorflow.keras.applications.inception_v3 import preprocess_input\n",
    "from tensorflow.keras.preprocessing.image import img_to_array\n",
    "from tensorflow.keras.preprocessing.image import load_img\n",
    "import numpy as np\n",
    "import argparse\n",
    "import cv2"
   ]
  },
  {
   "cell_type": "code",
   "execution_count": 5,
   "metadata": {},
   "outputs": [],
   "source": [
    "# define a dictionary that maps model names to their classes\n",
    "# inside Keras\n",
    "MODELS = {\n",
    "\t\"vgg16\": VGG16,\n",
    "\t\"vgg19\": VGG19,\n",
    "\t\"inception\": InceptionV3,\n",
    "\t\"xception\": Xception, # TensorFlow ONLY\n",
    "\t\"resnet\": ResNet50\n",
    "}\n",
    "SHAPES = {\n",
    "\t\"vgg16\": (224, 224),\n",
    "\t\"vgg19\": (224, 224),\n",
    "\t\"inception\": (299, 299),\n",
    "\t\"xception\": (299, 299), # TensorFlow ONLY\n",
    "\t\"resnet\": (224, 224)\n",
    "}"
   ]
  },
  {
   "cell_type": "code",
   "execution_count": 6,
   "metadata": {},
   "outputs": [],
   "source": [
    "# initialize the input image shape (224x224 pixels) along with\n",
    "# the pre-processing function (this might need to be changed\n",
    "# based on which model we use to classify our image)\n",
    "inputShape = (224, 224)\n",
    "preprocess = imagenet_utils.preprocess_input\n",
    "inputShape2 = (299, 299)\n",
    "# if we are using the InceptionV3 or Xception networks, then we\n",
    "# need to set the input shape to (299x299) [rather than (224x224)]\n",
    "# and use a different image pre-processing function\n",
    "#if args[\"model\"] in (\"inception\", \"xception\"):\n",
    "#\tinputShape = (299, 299)\n",
    "#\tpreprocess = preprocess_input"
   ]
  },
  {
   "cell_type": "code",
   "execution_count": 8,
   "metadata": {},
   "outputs": [
    {
     "name": "stdout",
     "output_type": "stream",
     "text": [
      "[INFO] loading vgg16...\n",
      "[INFO] loading vgg19...\n",
      "Downloading data from https://storage.googleapis.com/tensorflow/keras-applications/vgg19/vgg19_weights_tf_dim_ordering_tf_kernels.h5\n",
      "574717952/574710816 [==============================] - 57s 0us/step\n",
      "[INFO] loading inception...\n",
      "[INFO] loading xception...\n",
      "Downloading data from https://storage.googleapis.com/tensorflow/keras-applications/xception/xception_weights_tf_dim_ordering_tf_kernels.h5\n",
      "91889664/91884032 [==============================] - 5s 0us/step\n",
      "[INFO] loading resnet...\n"
     ]
    }
   ],
   "source": [
    "# load our the network weights from disk (NOTE: if this is the\n",
    "# first time you are running this script for a given network, the\n",
    "# weights will need to be downloaded first -- depending on which\n",
    "# network you are using, the weights can be 90-575MB, so be\n",
    "# patient; the weights will be cached and subsequent runs of this\n",
    "# script will be *much* faster)\n",
    "\n",
    "NETWORKS = {\n",
    "\t\"vgg16\": VGG16,\n",
    "\t\"vgg19\": VGG19,\n",
    "\t\"inception\": InceptionV3,\n",
    "\t\"xception\": Xception, # TensorFlow ONLY\n",
    "\t\"resnet\": ResNet50\n",
    "}\n",
    "for MyMODEL in MODELS:\n",
    "    print(\"[INFO] loading {}...\".format(MyMODEL))\n",
    "    MyNETWORK = MODELS[MyMODEL]\n",
    "    NETWORKS[MyMODEL] = MyNETWORK(weights=\"imagenet\")"
   ]
  },
  {
   "cell_type": "code",
   "execution_count": 10,
   "metadata": {},
   "outputs": [
    {
     "name": "stdout",
     "output_type": "stream",
     "text": [
      "[INFO] loading and pre-processing image...\n"
     ]
    }
   ],
   "source": [
    "# load the input image using the Keras helper utility while ensuring\n",
    "# the image is resized to `inputShape`, the required input dimensions\n",
    "# for the ImageNet pre-trained network\n",
    "print(\"[INFO] loading and pre-processing image...\")\n",
    "filename = 'pretrained-imagenet-models-classification/cat.jpg'\n",
    "image1 = load_img(filename, target_size=(224, 224))\n",
    "image1 = img_to_array(image1)\n",
    "image2 = load_img(filename, target_size=(224, 224))\n",
    "image2 = img_to_array(image2)\n",
    "\n",
    "# our input image is now represented as a NumPy array of shape\n",
    "# (inputShape[0], inputShape[1], 3) however we need to expand the\n",
    "# dimension by making the shape (1, inputShape[0], inputShape[1], 3)\n",
    "# so we can pass it through the network\n",
    "image1 = np.expand_dims(image1, axis=0)\n",
    "image2 = np.expand_dims(image2, axis=0)\n",
    "# pre-process the image using the appropriate function based on the\n",
    "# model that has been loaded (i.e., mean subtraction, scaling, etc.)\n",
    "image1 = preprocess(image1)\n",
    "image2 = preprocess(image2)"
   ]
  },
  {
   "cell_type": "code",
   "execution_count": 13,
   "metadata": {},
   "outputs": [
    {
     "name": "stdout",
     "output_type": "stream",
     "text": [
      "[INFO] classifying image with 'vgg16'...\n",
      "[INFO] classifying image with 'vgg19'...\n",
      "[INFO] classifying image with 'inception'...\n",
      "[INFO] classifying image with 'xception'...\n",
      "[INFO] classifying image with 'resnet'...\n",
      "MODEL: vgg16 / 1. Siamese_cat: 31.09%\n",
      "MODEL: vgg16 / 2. wallaby: 7.81%\n",
      "MODEL: vgg16 / 3. hare: 7.33%\n",
      "MODEL: vgg16 / 4. wood_rabbit: 5.14%\n",
      "MODEL: vgg16 / 5. doormat: 4.90%\n",
      "MODEL: vgg19 / 1. Siamese_cat: 90.09%\n",
      "MODEL: vgg19 / 2. Egyptian_cat: 1.91%\n",
      "MODEL: vgg19 / 3. doormat: 1.56%\n",
      "MODEL: vgg19 / 4. toy_terrier: 0.65%\n",
      "MODEL: vgg19 / 5. weasel: 0.61%\n",
      "MODEL: inception / 1. web_site: 100.00%\n",
      "MODEL: inception / 2. pitcher: 0.00%\n",
      "MODEL: inception / 3. saltshaker: 0.00%\n",
      "MODEL: inception / 4. vase: 0.00%\n",
      "MODEL: inception / 5. nematode: 0.00%\n",
      "MODEL: xception / 1. ping-pong_ball: 100.00%\n",
      "MODEL: xception / 2. mixing_bowl: 0.00%\n",
      "MODEL: xception / 3. nipple: 0.00%\n",
      "MODEL: xception / 4. necklace: 0.00%\n",
      "MODEL: xception / 5. tripod: 0.00%\n",
      "MODEL: resnet / 1. Egyptian_cat: 15.99%\n",
      "MODEL: resnet / 2. plastic_bag: 14.49%\n",
      "MODEL: resnet / 3. doormat: 13.23%\n",
      "MODEL: resnet / 4. Siamese_cat: 12.45%\n",
      "MODEL: resnet / 5. bucket: 5.24%\n"
     ]
    }
   ],
   "source": [
    "# classify the image\n",
    "PREDS = {}\n",
    "for MyNETWORK in NETWORKS:\n",
    "    print(\"[INFO] classifying image with '{}'...\".format(MyNETWORK))\n",
    "    if SHAPES[MyNETWORK] == (224, 224):\n",
    "        PREDS[MyNETWORK] = imagenet_utils.decode_predictions(NETWORKS[MyNETWORK].predict(image1))\n",
    "    if SHAPES[MyNETWORK] == (299, 299):\n",
    "        PREDS[MyNETWORK] = imagenet_utils.decode_predictions(NETWORKS[MyNETWORK].predict(image2))\n",
    "\n",
    "#print(\"[INFO] classifying image with '{}'...\".format(args[\"model\"]))\n",
    "#preds = model.predict(image)\n",
    "#P = imagenet_utils.decode_predictions(preds)\n",
    "# loop over the predictions and display the rank-5 predictions +\n",
    "# probabilities to our terminal\n",
    "for N1, P in PREDS.items():\n",
    "    for (i, (imagenetID, label, prob)) in enumerate(P[0]):\n",
    "        print(\"MODEL: {} / {}. {}: {:.2f}%\".format(N1, i + 1, label, prob * 100))"
   ]
  },
  {
   "cell_type": "code",
   "execution_count": 16,
   "metadata": {},
   "outputs": [],
   "source": [
    "# load the image via OpenCV, draw the top prediction on the image,\n",
    "# and display the image to our screen\n",
    "\n",
    "for N1, P in PREDS.items():\n",
    "    for (i, (imagenetID, label, prob)) in enumerate(P[0]):\n",
    "        orig = cv2.imread(filename)\n",
    "        cv2.putText(orig, \"MODEL: {}, Label: {}, {:.2f}%\".format(N1, label, prob * 100), (10, 30), cv2.FONT_HERSHEY_SIMPLEX, 0.8, (0, 0, 255), 2)\n",
    "        cv2.imshow(\"Classification\", orig)\n",
    "        cv2.waitKey(0)"
   ]
  },
  {
   "cell_type": "code",
   "execution_count": null,
   "metadata": {},
   "outputs": [],
   "source": []
  }
 ],
 "metadata": {
  "kernelspec": {
   "display_name": "Python 3",
   "language": "python",
   "name": "python3"
  },
  "language_info": {
   "codemirror_mode": {
    "name": "ipython",
    "version": 3
   },
   "file_extension": ".py",
   "mimetype": "text/x-python",
   "name": "python",
   "nbconvert_exporter": "python",
   "pygments_lexer": "ipython3",
   "version": "3.8.3"
  }
 },
 "nbformat": 4,
 "nbformat_minor": 4
}
