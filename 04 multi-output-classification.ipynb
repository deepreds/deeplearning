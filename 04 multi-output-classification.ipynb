{
 "cells": [
  {
   "cell_type": "code",
   "execution_count": 26,
   "metadata": {},
   "outputs": [
    {
     "name": "stdout",
     "output_type": "stream",
     "text": [
      "1 Physical CPU, 1 Logical CPU\n"
     ]
    }
   ],
   "source": [
    "#https://www.pyimagesearch.com/2018/06/04/keras-multiple-outputs-and-multiple-losses/\n",
    "import tensorflow as tf\n",
    "\n",
    "import os\n",
    "os.environ['TF_CPP_MIN_LOG_LEVEL'] = '3'\n",
    "os.environ[\"CUDA_DEVICE_ORDER\"] = \"PCI_BUS_ID\"\n",
    "os.environ[\"CUDA_VISIBLE_DEVICES\"] = '0' # Set to -1 if CPU should be used CPU = -1 , GPU = 0\n",
    "\n",
    "gpus = tf.config.experimental.list_physical_devices('GPU')\n",
    "cpus = tf.config.experimental.list_physical_devices('CPU')\n",
    "\n",
    "if gpus:\n",
    "    try:\n",
    "        # Currently, memory growth needs to be the same across GPUs\n",
    "        for gpu in gpus:\n",
    "            tf.config.experimental.set_memory_growth(gpu, True)\n",
    "        logical_gpus = tf.config.experimental.list_logical_devices('GPU')\n",
    "        print(len(gpus), \"Physical GPUs,\", len(logical_gpus), \"Logical GPUs\")\n",
    "    except RuntimeError as e:\n",
    "        # Memory growth must be set before GPUs have been initialized\n",
    "        print(e)\n",
    "elif cpus:\n",
    "    try:\n",
    "        # Currently, memory growth needs to be the same across GPUs\n",
    "        logical_cpus= tf.config.experimental.list_logical_devices('CPU')\n",
    "        print(len(cpus), \"Physical CPU,\", len(logical_cpus), \"Logical CPU\")\n",
    "    except RuntimeError as e:\n",
    "        # Memory growth must be set before GPUs have been initialized\n",
    "        print(e)"
   ]
  },
  {
   "cell_type": "code",
   "execution_count": 27,
   "metadata": {},
   "outputs": [],
   "source": [
    "# import the necessary packages\n",
    "from keras.models import Model\n",
    "from keras.layers.normalization import BatchNormalization\n",
    "from keras.layers.convolutional import Conv2D\n",
    "from keras.layers.convolutional import MaxPooling2D\n",
    "from keras.layers.core import Activation\n",
    "from keras.layers.core import Dropout\n",
    "from keras.layers.core import Lambda\n",
    "from keras.layers.core import Dense\n",
    "from keras.layers import Flatten\n",
    "from keras.layers import Input\n",
    "# import the necessary packages\n",
    "from keras.optimizers import Adam\n",
    "from keras.preprocessing.image import img_to_array\n",
    "from sklearn.preprocessing import LabelBinarizer\n",
    "from sklearn.model_selection import train_test_split\n",
    "from imutils import paths\n",
    "import matplotlib.pyplot as plt\n",
    "import numpy as np\n",
    "import random\n",
    "import pickle\n",
    "import cv2\n",
    "import os"
   ]
  },
  {
   "cell_type": "code",
   "execution_count": 28,
   "metadata": {},
   "outputs": [],
   "source": [
    "class FashionNet:\n",
    "\t@staticmethod\n",
    "\tdef build_category_branch(inputs, numCategories,\n",
    "\t\tfinalAct=\"softmax\", chanDim=-1):\n",
    "\t\t# utilize a lambda layer to convert the 3 channel input to a\n",
    "\t\t# grayscale representation\n",
    "\t\tx = Lambda(lambda c: tf.image.rgb_to_grayscale(c))(inputs)\n",
    "\n",
    "\t\t# CONV => RELU => POOL\n",
    "\t\tx = Conv2D(32, (3, 3), padding=\"same\")(x)\n",
    "\t\tx = Activation(\"relu\")(x)\n",
    "\t\tx = BatchNormalization(axis=chanDim)(x)\n",
    "\t\tx = MaxPooling2D(pool_size=(3, 3))(x)\n",
    "\t\tx = Dropout(0.25)(x)\n",
    "\n",
    "\t\t# (CONV => RELU) * 2 => POOL\n",
    "\t\tx = Conv2D(64, (3, 3), padding=\"same\")(x)\n",
    "\t\tx = Activation(\"relu\")(x)\n",
    "\t\tx = BatchNormalization(axis=chanDim)(x)\n",
    "\t\tx = Conv2D(64, (3, 3), padding=\"same\")(x)\n",
    "\t\tx = Activation(\"relu\")(x)\n",
    "\t\tx = BatchNormalization(axis=chanDim)(x)\n",
    "\t\tx = MaxPooling2D(pool_size=(2, 2))(x)\n",
    "\t\tx = Dropout(0.25)(x)\n",
    "\n",
    "\t\t# (CONV => RELU) * 2 => POOL\n",
    "\t\tx = Conv2D(128, (3, 3), padding=\"same\")(x)\n",
    "\t\tx = Activation(\"relu\")(x)\n",
    "\t\tx = BatchNormalization(axis=chanDim)(x)\n",
    "\t\tx = Conv2D(128, (3, 3), padding=\"same\")(x)\n",
    "\t\tx = Activation(\"relu\")(x)\n",
    "\t\tx = BatchNormalization(axis=chanDim)(x)\n",
    "\t\tx = MaxPooling2D(pool_size=(2, 2))(x)\n",
    "\t\tx = Dropout(0.25)(x)\n",
    "\n",
    "\t\t# define a branch of output layers for the number of different\n",
    "\t\t# clothing categories (i.e., shirts, jeans, dresses, etc.)\n",
    "\t\tx = Flatten()(x)\n",
    "\t\tx = Dense(256)(x)\n",
    "\t\tx = Activation(\"relu\")(x)\n",
    "\t\tx = BatchNormalization()(x)\n",
    "\t\tx = Dropout(0.5)(x)\n",
    "\t\tx = Dense(numCategories)(x)\n",
    "\t\tx = Activation(finalAct, name=\"category_output\")(x)\n",
    "\n",
    "\t\t# return the category prediction sub-network\n",
    "\t\treturn x\n",
    "\n",
    "\t@staticmethod\n",
    "\tdef build_color_branch(inputs, numColors, finalAct=\"softmax\",\n",
    "\t\tchanDim=-1):\n",
    "\t\t# CONV => RELU => POOL\n",
    "\t\tx = Conv2D(16, (3, 3), padding=\"same\")(inputs)\n",
    "\t\tx = Activation(\"relu\")(x)\n",
    "\t\tx = BatchNormalization(axis=chanDim)(x)\n",
    "\t\tx = MaxPooling2D(pool_size=(3, 3))(x)\n",
    "\t\tx = Dropout(0.25)(x)\n",
    "\n",
    "\t\t# CONV => RELU => POOL\n",
    "\t\tx = Conv2D(32, (3, 3), padding=\"same\")(x)\n",
    "\t\tx = Activation(\"relu\")(x)\n",
    "\t\tx = BatchNormalization(axis=chanDim)(x)\n",
    "\t\tx = MaxPooling2D(pool_size=(2, 2))(x)\n",
    "\t\tx = Dropout(0.25)(x)\n",
    "\n",
    "\t\t# CONV => RELU => POOL\n",
    "\t\tx = Conv2D(32, (3, 3), padding=\"same\")(x)\n",
    "\t\tx = Activation(\"relu\")(x)\n",
    "\t\tx = BatchNormalization(axis=chanDim)(x)\n",
    "\t\tx = MaxPooling2D(pool_size=(2, 2))(x)\n",
    "\t\tx = Dropout(0.25)(x)\n",
    "\n",
    "\t\t# define a branch of output layers for the number of different\n",
    "\t\t# colors (i.e., red, black, blue, etc.)\n",
    "\t\tx = Flatten()(x)\n",
    "\t\tx = Dense(128)(x)\n",
    "\t\tx = Activation(\"relu\")(x)\n",
    "\t\tx = BatchNormalization()(x)\n",
    "\t\tx = Dropout(0.5)(x)\n",
    "\t\tx = Dense(numColors)(x)\n",
    "\t\tx = Activation(finalAct, name=\"color_output\")(x)\n",
    "\n",
    "\t\t# return the color prediction sub-network\n",
    "\t\treturn x\n",
    "\n",
    "\t@staticmethod\n",
    "\tdef build(width, height, numCategories, numColors,\n",
    "\t\tfinalAct=\"softmax\"):\n",
    "\t\t# initialize the input shape and channel dimension (this code\n",
    "\t\t# assumes you are using TensorFlow which utilizes channels\n",
    "\t\t# last ordering)\n",
    "\t\tinputShape = (height, width, 3)\n",
    "\t\tchanDim = -1\n",
    "\n",
    "\t\t# construct both the \"category\" and \"color\" sub-networks\n",
    "\t\tinputs = Input(shape=inputShape)\n",
    "\t\tcategoryBranch = FashionNet.build_category_branch(inputs,numCategories, finalAct=finalAct, chanDim=chanDim)\n",
    "\t\tcolorBranch = FashionNet.build_color_branch(inputs,numColors, finalAct=finalAct, chanDim=chanDim)\n",
    "\n",
    "\t\t# create the model using our input (the batch of images) and\n",
    "\t\t# two separate outputs -- one for the clothing category\n",
    "\t\t# branch and another for the color branch, respectively\n",
    "\t\tmodel = Model(inputs=inputs,outputs=[categoryBranch, colorBranch],name=\"fashionnet\")\n",
    "\n",
    "\t\t# return the constructed network architecture\n",
    "\t\treturn model"
   ]
  },
  {
   "cell_type": "code",
   "execution_count": 29,
   "metadata": {},
   "outputs": [],
   "source": [
    "# initialize the number of epochs to train for, initial learning rate,\n",
    "# batch size, and image dimensions\n",
    "EPOCHS = 50\n",
    "INIT_LR = 1e-3\n",
    "BS = 20 #64, reduce batch_size for small GPU memory\n",
    "IMAGE_DIMS = (96, 96, 3)"
   ]
  },
  {
   "cell_type": "code",
   "execution_count": 30,
   "metadata": {},
   "outputs": [
    {
     "name": "stdout",
     "output_type": "stream",
     "text": [
      "[INFO] loading images...\n"
     ]
    }
   ],
   "source": [
    "# grab the image paths and randomly shuffle them\n",
    "print(\"[INFO] loading images...\")\n",
    "#imagePaths = sorted(list(paths.list_images('dataset_multi_output_classification')))\n",
    "imagefilename = 'dataset_multi_output_classification.zip'\n",
    "import zipfile\n",
    "zf = zipfile.ZipFile(imagefilename)\n",
    "random.seed(42)\n",
    "imagePaths = zf.namelist()\n",
    "random.shuffle(imagePaths)"
   ]
  },
  {
   "cell_type": "code",
   "execution_count": 31,
   "metadata": {},
   "outputs": [],
   "source": [
    "# initialize the data, clothing category labels (i.e., shirts, jeans,\n",
    "# dresses, etc.) along with the color labels (i.e., red, blue, etc.)\n",
    "data = []\n",
    "categoryLabels = []\n",
    "colorLabels = []"
   ]
  },
  {
   "cell_type": "code",
   "execution_count": 32,
   "metadata": {},
   "outputs": [],
   "source": [
    "# loop over the input images\n",
    "for imagePath in imagePaths:\n",
    "\t# load the image, pre-process it, and store it in the data list\n",
    "\t#image = cv2.imread(imagePath)\n",
    "\timage = cv2.imdecode(np.frombuffer(zf.read(imagePath), np.uint8), 1)\n",
    "\timage = cv2.resize(image, (IMAGE_DIMS[1], IMAGE_DIMS[0]))\n",
    "\timage = cv2.cvtColor(image, cv2.COLOR_BGR2RGB)\n",
    "\timage = img_to_array(image)\n",
    "\tdata.append(image)\n",
    "\n",
    "\t# extract the clothing color and category from the path and\n",
    "\t# update the respective lists\n",
    "\t#(color, cat) = imagePath.split(os.path.sep)[-2].split(\"_\")\n",
    "\t(color, cat) = imagePath.split('/')[0].split(\"_\")\n",
    "\t#print(imagePath, color, cat)\n",
    "\tcategoryLabels.append(cat)\n",
    "\tcolorLabels.append(color)"
   ]
  },
  {
   "cell_type": "code",
   "execution_count": 33,
   "metadata": {},
   "outputs": [
    {
     "name": "stdout",
     "output_type": "stream",
     "text": [
      "2525\n",
      "2525\n"
     ]
    }
   ],
   "source": [
    "print(len(categoryLabels))\n",
    "print(len(colorLabels))"
   ]
  },
  {
   "cell_type": "code",
   "execution_count": 34,
   "metadata": {},
   "outputs": [
    {
     "name": "stdout",
     "output_type": "stream",
     "text": [
      "[INFO] data matrix: 2525 images (545.40MB)\n"
     ]
    }
   ],
   "source": [
    "# scale the raw pixel intensities to the range [0, 1] and convert to\n",
    "# a NumPy array\n",
    "data = np.array(data, dtype=\"float\") / 255.0\n",
    "print(\"[INFO] data matrix: {} images ({:.2f}MB)\".format(len(imagePaths), data.nbytes / (1024 * 1000.0)))"
   ]
  },
  {
   "cell_type": "code",
   "execution_count": 35,
   "metadata": {},
   "outputs": [],
   "source": [
    "# convert the label lists to NumPy arrays prior to binarization\n",
    "categoryLabels = np.array(categoryLabels)\n",
    "colorLabels = np.array(colorLabels)"
   ]
  },
  {
   "cell_type": "code",
   "execution_count": 36,
   "metadata": {},
   "outputs": [
    {
     "name": "stdout",
     "output_type": "stream",
     "text": [
      "2525\n",
      "2525\n"
     ]
    }
   ],
   "source": [
    "print(len(categoryLabels))\n",
    "print(len(colorLabels))"
   ]
  },
  {
   "cell_type": "code",
   "execution_count": 37,
   "metadata": {},
   "outputs": [
    {
     "name": "stdout",
     "output_type": "stream",
     "text": [
      "[INFO] binarizing labels...\n"
     ]
    }
   ],
   "source": [
    "# binarize both sets of labels\n",
    "print(\"[INFO] binarizing labels...\")\n",
    "categoryLB = LabelBinarizer()\n",
    "colorLB = LabelBinarizer()\n",
    "categoryLabels = categoryLB.fit_transform(categoryLabels)\n",
    "colorLabels = colorLB.fit_transform(colorLabels)"
   ]
  },
  {
   "cell_type": "code",
   "execution_count": 38,
   "metadata": {},
   "outputs": [
    {
     "name": "stdout",
     "output_type": "stream",
     "text": [
      "2525\n",
      "2525\n"
     ]
    }
   ],
   "source": [
    "print(len(categoryLabels))\n",
    "print(len(colorLabels))"
   ]
  },
  {
   "cell_type": "code",
   "execution_count": 39,
   "metadata": {},
   "outputs": [],
   "source": [
    "# partition the data into training and testing splits using 80% of\n",
    "# the data for training and the remaining 20% for testing\n",
    "split = train_test_split(data, categoryLabels, colorLabels,test_size=0.2, random_state=42)\n",
    "(trainX, testX, trainCategoryY, testCategoryY,trainColorY, testColorY) = split"
   ]
  },
  {
   "cell_type": "code",
   "execution_count": 40,
   "metadata": {},
   "outputs": [],
   "source": [
    "# initialize our FashionNet multi-output network\n",
    "model = FashionNet.build(96, 96,numCategories=len(categoryLB.classes_),numColors=len(colorLB.classes_),finalAct=\"softmax\")"
   ]
  },
  {
   "cell_type": "code",
   "execution_count": 41,
   "metadata": {},
   "outputs": [],
   "source": [
    "# define two dictionaries: one that specifies the loss method for\n",
    "# each output of the network along with a second dictionary that\n",
    "# specifies the weight per loss\n",
    "losses = {\"category_output\": \"categorical_crossentropy\",\"color_output\": \"categorical_crossentropy\",}\n",
    "lossWeights = {\"category_output\": 1.0, \"color_output\": 1.0}"
   ]
  },
  {
   "cell_type": "code",
   "execution_count": 42,
   "metadata": {},
   "outputs": [
    {
     "name": "stdout",
     "output_type": "stream",
     "text": [
      "[INFO] compiling model...\n"
     ]
    }
   ],
   "source": [
    "# initialize the optimizer and compile the model\n",
    "print(\"[INFO] compiling model...\")\n",
    "opt = Adam(lr=INIT_LR, decay=INIT_LR / EPOCHS)\n",
    "model.compile(optimizer=opt, loss=losses, loss_weights=lossWeights,metrics=[\"accuracy\"])"
   ]
  },
  {
   "cell_type": "code",
   "execution_count": 43,
   "metadata": {},
   "outputs": [
    {
     "name": "stdout",
     "output_type": "stream",
     "text": [
      "Model: \"fashionnet\"\n",
      "__________________________________________________________________________________________________\n",
      "Layer (type)                    Output Shape         Param #     Connected to                     \n",
      "==================================================================================================\n",
      "input_1 (InputLayer)            (None, 96, 96, 3)    0                                            \n",
      "__________________________________________________________________________________________________\n",
      "lambda_1 (Lambda)               (None, 96, 96, 1)    0           input_1[0][0]                    \n",
      "__________________________________________________________________________________________________\n",
      "conv2d_1 (Conv2D)               (None, 96, 96, 32)   320         lambda_1[0][0]                   \n",
      "__________________________________________________________________________________________________\n",
      "activation_1 (Activation)       (None, 96, 96, 32)   0           conv2d_1[0][0]                   \n",
      "__________________________________________________________________________________________________\n",
      "batch_normalization_1 (BatchNor (None, 96, 96, 32)   128         activation_1[0][0]               \n",
      "__________________________________________________________________________________________________\n",
      "max_pooling2d_1 (MaxPooling2D)  (None, 32, 32, 32)   0           batch_normalization_1[0][0]      \n",
      "__________________________________________________________________________________________________\n",
      "dropout_1 (Dropout)             (None, 32, 32, 32)   0           max_pooling2d_1[0][0]            \n",
      "__________________________________________________________________________________________________\n",
      "conv2d_2 (Conv2D)               (None, 32, 32, 64)   18496       dropout_1[0][0]                  \n",
      "__________________________________________________________________________________________________\n",
      "activation_2 (Activation)       (None, 32, 32, 64)   0           conv2d_2[0][0]                   \n",
      "__________________________________________________________________________________________________\n",
      "conv2d_6 (Conv2D)               (None, 96, 96, 16)   448         input_1[0][0]                    \n",
      "__________________________________________________________________________________________________\n",
      "batch_normalization_2 (BatchNor (None, 32, 32, 64)   256         activation_2[0][0]               \n",
      "__________________________________________________________________________________________________\n",
      "activation_7 (Activation)       (None, 96, 96, 16)   0           conv2d_6[0][0]                   \n",
      "__________________________________________________________________________________________________\n",
      "conv2d_3 (Conv2D)               (None, 32, 32, 64)   36928       batch_normalization_2[0][0]      \n",
      "__________________________________________________________________________________________________\n",
      "batch_normalization_7 (BatchNor (None, 96, 96, 16)   64          activation_7[0][0]               \n",
      "__________________________________________________________________________________________________\n",
      "activation_3 (Activation)       (None, 32, 32, 64)   0           conv2d_3[0][0]                   \n",
      "__________________________________________________________________________________________________\n",
      "max_pooling2d_4 (MaxPooling2D)  (None, 32, 32, 16)   0           batch_normalization_7[0][0]      \n",
      "__________________________________________________________________________________________________\n",
      "batch_normalization_3 (BatchNor (None, 32, 32, 64)   256         activation_3[0][0]               \n",
      "__________________________________________________________________________________________________\n",
      "dropout_5 (Dropout)             (None, 32, 32, 16)   0           max_pooling2d_4[0][0]            \n",
      "__________________________________________________________________________________________________\n",
      "max_pooling2d_2 (MaxPooling2D)  (None, 16, 16, 64)   0           batch_normalization_3[0][0]      \n",
      "__________________________________________________________________________________________________\n",
      "conv2d_7 (Conv2D)               (None, 32, 32, 32)   4640        dropout_5[0][0]                  \n",
      "__________________________________________________________________________________________________\n",
      "dropout_2 (Dropout)             (None, 16, 16, 64)   0           max_pooling2d_2[0][0]            \n",
      "__________________________________________________________________________________________________\n",
      "activation_8 (Activation)       (None, 32, 32, 32)   0           conv2d_7[0][0]                   \n",
      "__________________________________________________________________________________________________\n",
      "conv2d_4 (Conv2D)               (None, 16, 16, 128)  73856       dropout_2[0][0]                  \n",
      "__________________________________________________________________________________________________\n",
      "batch_normalization_8 (BatchNor (None, 32, 32, 32)   128         activation_8[0][0]               \n",
      "__________________________________________________________________________________________________\n",
      "activation_4 (Activation)       (None, 16, 16, 128)  0           conv2d_4[0][0]                   \n",
      "__________________________________________________________________________________________________\n",
      "max_pooling2d_5 (MaxPooling2D)  (None, 16, 16, 32)   0           batch_normalization_8[0][0]      \n",
      "__________________________________________________________________________________________________\n",
      "batch_normalization_4 (BatchNor (None, 16, 16, 128)  512         activation_4[0][0]               \n",
      "__________________________________________________________________________________________________\n",
      "dropout_6 (Dropout)             (None, 16, 16, 32)   0           max_pooling2d_5[0][0]            \n",
      "__________________________________________________________________________________________________\n",
      "conv2d_5 (Conv2D)               (None, 16, 16, 128)  147584      batch_normalization_4[0][0]      \n",
      "__________________________________________________________________________________________________\n",
      "conv2d_8 (Conv2D)               (None, 16, 16, 32)   9248        dropout_6[0][0]                  \n",
      "__________________________________________________________________________________________________\n",
      "activation_5 (Activation)       (None, 16, 16, 128)  0           conv2d_5[0][0]                   \n",
      "__________________________________________________________________________________________________\n",
      "activation_9 (Activation)       (None, 16, 16, 32)   0           conv2d_8[0][0]                   \n",
      "__________________________________________________________________________________________________\n",
      "batch_normalization_5 (BatchNor (None, 16, 16, 128)  512         activation_5[0][0]               \n",
      "__________________________________________________________________________________________________\n",
      "batch_normalization_9 (BatchNor (None, 16, 16, 32)   128         activation_9[0][0]               \n",
      "__________________________________________________________________________________________________\n",
      "max_pooling2d_3 (MaxPooling2D)  (None, 8, 8, 128)    0           batch_normalization_5[0][0]      \n",
      "__________________________________________________________________________________________________\n",
      "max_pooling2d_6 (MaxPooling2D)  (None, 8, 8, 32)     0           batch_normalization_9[0][0]      \n",
      "__________________________________________________________________________________________________\n",
      "dropout_3 (Dropout)             (None, 8, 8, 128)    0           max_pooling2d_3[0][0]            \n",
      "__________________________________________________________________________________________________\n",
      "dropout_7 (Dropout)             (None, 8, 8, 32)     0           max_pooling2d_6[0][0]            \n",
      "__________________________________________________________________________________________________\n",
      "flatten_1 (Flatten)             (None, 8192)         0           dropout_3[0][0]                  \n",
      "__________________________________________________________________________________________________\n",
      "flatten_2 (Flatten)             (None, 2048)         0           dropout_7[0][0]                  \n",
      "__________________________________________________________________________________________________\n",
      "dense_1 (Dense)                 (None, 256)          2097408     flatten_1[0][0]                  \n",
      "__________________________________________________________________________________________________\n",
      "dense_3 (Dense)                 (None, 128)          262272      flatten_2[0][0]                  \n",
      "__________________________________________________________________________________________________\n",
      "activation_6 (Activation)       (None, 256)          0           dense_1[0][0]                    \n",
      "__________________________________________________________________________________________________\n",
      "activation_10 (Activation)      (None, 128)          0           dense_3[0][0]                    \n",
      "__________________________________________________________________________________________________\n",
      "batch_normalization_6 (BatchNor (None, 256)          1024        activation_6[0][0]               \n",
      "__________________________________________________________________________________________________\n",
      "batch_normalization_10 (BatchNo (None, 128)          512         activation_10[0][0]              \n",
      "__________________________________________________________________________________________________\n",
      "dropout_4 (Dropout)             (None, 256)          0           batch_normalization_6[0][0]      \n",
      "__________________________________________________________________________________________________\n",
      "dropout_8 (Dropout)             (None, 128)          0           batch_normalization_10[0][0]     \n",
      "__________________________________________________________________________________________________\n",
      "dense_2 (Dense)                 (None, 4)            1028        dropout_4[0][0]                  \n",
      "__________________________________________________________________________________________________\n",
      "dense_4 (Dense)                 (None, 3)            387         dropout_8[0][0]                  \n",
      "__________________________________________________________________________________________________\n",
      "category_output (Activation)    (None, 4)            0           dense_2[0][0]                    \n",
      "__________________________________________________________________________________________________\n",
      "color_output (Activation)       (None, 3)            0           dense_4[0][0]                    \n",
      "==================================================================================================\n",
      "Total params: 2,656,135\n",
      "Trainable params: 2,654,375\n",
      "Non-trainable params: 1,760\n",
      "__________________________________________________________________________________________________\n"
     ]
    }
   ],
   "source": [
    "model.summary()"
   ]
  },
  {
   "cell_type": "code",
   "execution_count": 44,
   "metadata": {},
   "outputs": [
    {
     "name": "stdout",
     "output_type": "stream",
     "text": [
      "Train on 2020 samples, validate on 505 samples\n",
      "Epoch 1/50\n",
      "2020/2020 [==============================] - 48s 24ms/step - loss: 0.9239 - category_output_loss: 0.5857 - color_output_loss: 0.3381 - category_output_accuracy: 0.8287 - color_output_accuracy: 0.8837 - val_loss: 6.7764 - val_category_output_loss: 4.2275 - val_color_output_loss: 2.5586 - val_category_output_accuracy: 0.2832 - val_color_output_accuracy: 0.5050\n",
      "Epoch 2/50\n",
      "2020/2020 [==============================] - 45s 22ms/step - loss: 0.5382 - category_output_loss: 0.3936 - color_output_loss: 0.1445 - category_output_accuracy: 0.8807 - color_output_accuracy: 0.9470 - val_loss: 7.0942 - val_category_output_loss: 3.7813 - val_color_output_loss: 3.3055 - val_category_output_accuracy: 0.2832 - val_color_output_accuracy: 0.4772\n",
      "Epoch 3/50\n",
      "2020/2020 [==============================] - 45s 22ms/step - loss: 0.3675 - category_output_loss: 0.2516 - color_output_loss: 0.1159 - category_output_accuracy: 0.9173 - color_output_accuracy: 0.9624 - val_loss: 5.4160 - val_category_output_loss: 2.0233 - val_color_output_loss: 3.3766 - val_category_output_accuracy: 0.4535 - val_color_output_accuracy: 0.4950\n",
      "Epoch 4/50\n",
      "2020/2020 [==============================] - 46s 23ms/step - loss: 0.3993 - category_output_loss: 0.2951 - color_output_loss: 0.1043 - category_output_accuracy: 0.8980 - color_output_accuracy: 0.9653 - val_loss: 6.7795 - val_category_output_loss: 1.7778 - val_color_output_loss: 4.9526 - val_category_output_accuracy: 0.6158 - val_color_output_accuracy: 0.4713\n",
      "Epoch 5/50\n",
      "2020/2020 [==============================] - 47s 23ms/step - loss: 0.2893 - category_output_loss: 0.2132 - color_output_loss: 0.0762 - category_output_accuracy: 0.9257 - color_output_accuracy: 0.9767 - val_loss: 1.1447 - val_category_output_loss: 0.3164 - val_color_output_loss: 0.8119 - val_category_output_accuracy: 0.8970 - val_color_output_accuracy: 0.7564\n",
      "Epoch 6/50\n",
      "2020/2020 [==============================] - 45s 22ms/step - loss: 0.2583 - category_output_loss: 0.2006 - color_output_loss: 0.0577 - category_output_accuracy: 0.9317 - color_output_accuracy: 0.9822 - val_loss: 1.2150 - val_category_output_loss: 0.6764 - val_color_output_loss: 0.5063 - val_category_output_accuracy: 0.7822 - val_color_output_accuracy: 0.8376\n",
      "Epoch 7/50\n",
      "2020/2020 [==============================] - 50s 25ms/step - loss: 0.3049 - category_output_loss: 0.2319 - color_output_loss: 0.0730 - category_output_accuracy: 0.9267 - color_output_accuracy: 0.9757 - val_loss: 4.9379 - val_category_output_loss: 0.2741 - val_color_output_loss: 4.5393 - val_category_output_accuracy: 0.8990 - val_color_output_accuracy: 0.6673\n",
      "Epoch 8/50\n",
      "2020/2020 [==============================] - 45s 23ms/step - loss: 0.2295 - category_output_loss: 0.1737 - color_output_loss: 0.0558 - category_output_accuracy: 0.9411 - color_output_accuracy: 0.9837 - val_loss: 0.5922 - val_category_output_loss: 0.1534 - val_color_output_loss: 0.4227 - val_category_output_accuracy: 0.9545 - val_color_output_accuracy: 0.8713\n",
      "Epoch 9/50\n",
      "2020/2020 [==============================] - 45s 22ms/step - loss: 0.1746 - category_output_loss: 0.1070 - color_output_loss: 0.0676 - category_output_accuracy: 0.9673 - color_output_accuracy: 0.9772 - val_loss: 0.3123 - val_category_output_loss: 0.1787 - val_color_output_loss: 0.1253 - val_category_output_accuracy: 0.9366 - val_color_output_accuracy: 0.9505\n",
      "Epoch 10/50\n",
      "2020/2020 [==============================] - 45s 22ms/step - loss: 0.1608 - category_output_loss: 0.1071 - color_output_loss: 0.0537 - category_output_accuracy: 0.9639 - color_output_accuracy: 0.9817 - val_loss: 0.1619 - val_category_output_loss: 0.1168 - val_color_output_loss: 0.0407 - val_category_output_accuracy: 0.9545 - val_color_output_accuracy: 0.9881\n",
      "Epoch 11/50\n",
      "2020/2020 [==============================] - 45s 22ms/step - loss: 0.1154 - category_output_loss: 0.0614 - color_output_loss: 0.0540 - category_output_accuracy: 0.9782 - color_output_accuracy: 0.9842 - val_loss: 0.3123 - val_category_output_loss: 0.1471 - val_color_output_loss: 0.1579 - val_category_output_accuracy: 0.9386 - val_color_output_accuracy: 0.9426\n",
      "Epoch 12/50\n",
      "2020/2020 [==============================] - 44s 22ms/step - loss: 0.1509 - category_output_loss: 0.0852 - color_output_loss: 0.0656 - category_output_accuracy: 0.9738 - color_output_accuracy: 0.9807 - val_loss: 0.2849 - val_category_output_loss: 0.1205 - val_color_output_loss: 0.1570 - val_category_output_accuracy: 0.9584 - val_color_output_accuracy: 0.9485\n",
      "Epoch 13/50\n",
      "2020/2020 [==============================] - 44s 22ms/step - loss: 0.1682 - category_output_loss: 0.1142 - color_output_loss: 0.0540 - category_output_accuracy: 0.9589 - color_output_accuracy: 0.9827 - val_loss: 1.8713 - val_category_output_loss: 0.1866 - val_color_output_loss: 1.6591 - val_category_output_accuracy: 0.9386 - val_color_output_accuracy: 0.7743\n",
      "Epoch 14/50\n",
      "2020/2020 [==============================] - 45s 22ms/step - loss: 0.1395 - category_output_loss: 0.0914 - color_output_loss: 0.0481 - category_output_accuracy: 0.9703 - color_output_accuracy: 0.9832 - val_loss: 0.2593 - val_category_output_loss: 0.1433 - val_color_output_loss: 0.1092 - val_category_output_accuracy: 0.9545 - val_color_output_accuracy: 0.9663\n",
      "Epoch 15/50\n",
      "2020/2020 [==============================] - 44s 22ms/step - loss: 0.1263 - category_output_loss: 0.0816 - color_output_loss: 0.0447 - category_output_accuracy: 0.9718 - color_output_accuracy: 0.9842 - val_loss: 0.1536 - val_category_output_loss: 0.1264 - val_color_output_loss: 0.0241 - val_category_output_accuracy: 0.9624 - val_color_output_accuracy: 0.9921\n",
      "Epoch 16/50\n",
      "2020/2020 [==============================] - 45s 22ms/step - loss: 0.0905 - category_output_loss: 0.0493 - color_output_loss: 0.0412 - category_output_accuracy: 0.9812 - color_output_accuracy: 0.9871 - val_loss: 0.3064 - val_category_output_loss: 0.1580 - val_color_output_loss: 0.1402 - val_category_output_accuracy: 0.9525 - val_color_output_accuracy: 0.9703\n",
      "Epoch 17/50\n",
      "2020/2020 [==============================] - 45s 22ms/step - loss: 0.0936 - category_output_loss: 0.0405 - color_output_loss: 0.0531 - category_output_accuracy: 0.9871 - color_output_accuracy: 0.9851 - val_loss: 0.2486 - val_category_output_loss: 0.1170 - val_color_output_loss: 0.1268 - val_category_output_accuracy: 0.9644 - val_color_output_accuracy: 0.9683\n",
      "Epoch 18/50\n",
      "2020/2020 [==============================] - 47s 23ms/step - loss: 0.0955 - category_output_loss: 0.0556 - color_output_loss: 0.0399 - category_output_accuracy: 0.9797 - color_output_accuracy: 0.9851 - val_loss: 0.1644 - val_category_output_loss: 0.1171 - val_color_output_loss: 0.0427 - val_category_output_accuracy: 0.9624 - val_color_output_accuracy: 0.9861\n",
      "Epoch 19/50\n",
      "2020/2020 [==============================] - 47s 23ms/step - loss: 0.0844 - category_output_loss: 0.0410 - color_output_loss: 0.0434 - category_output_accuracy: 0.9871 - color_output_accuracy: 0.9871 - val_loss: 0.5299 - val_category_output_loss: 0.1545 - val_color_output_loss: 0.3603 - val_category_output_accuracy: 0.9604 - val_color_output_accuracy: 0.9347\n",
      "Epoch 20/50\n",
      "2020/2020 [==============================] - 46s 23ms/step - loss: 0.0737 - category_output_loss: 0.0314 - color_output_loss: 0.0422 - category_output_accuracy: 0.9886 - color_output_accuracy: 0.9861 - val_loss: 0.8600 - val_category_output_loss: 0.1344 - val_color_output_loss: 0.7010 - val_category_output_accuracy: 0.9604 - val_color_output_accuracy: 0.9069\n",
      "Epoch 21/50\n",
      "2020/2020 [==============================] - 45s 22ms/step - loss: 0.0791 - category_output_loss: 0.0319 - color_output_loss: 0.0472 - category_output_accuracy: 0.9901 - color_output_accuracy: 0.9827 - val_loss: 0.2649 - val_category_output_loss: 0.1759 - val_color_output_loss: 0.0815 - val_category_output_accuracy: 0.9485 - val_color_output_accuracy: 0.9802\n",
      "Epoch 22/50\n",
      "2020/2020 [==============================] - 47s 23ms/step - loss: 0.0640 - category_output_loss: 0.0311 - color_output_loss: 0.0329 - category_output_accuracy: 0.9891 - color_output_accuracy: 0.9916 - val_loss: 0.1590 - val_category_output_loss: 0.1230 - val_color_output_loss: 0.0315 - val_category_output_accuracy: 0.9624 - val_color_output_accuracy: 0.9901\n",
      "Epoch 23/50\n",
      "2020/2020 [==============================] - 48s 24ms/step - loss: 0.0707 - category_output_loss: 0.0275 - color_output_loss: 0.0431 - category_output_accuracy: 0.9906 - color_output_accuracy: 0.9842 - val_loss: 0.2166 - val_category_output_loss: 0.1445 - val_color_output_loss: 0.0671 - val_category_output_accuracy: 0.9683 - val_color_output_accuracy: 0.9802\n",
      "Epoch 24/50\n",
      "2020/2020 [==============================] - 46s 23ms/step - loss: 0.0587 - category_output_loss: 0.0218 - color_output_loss: 0.0369 - category_output_accuracy: 0.9926 - color_output_accuracy: 0.9896 - val_loss: 0.2131 - val_category_output_loss: 0.1367 - val_color_output_loss: 0.0704 - val_category_output_accuracy: 0.9584 - val_color_output_accuracy: 0.9723\n",
      "Epoch 25/50\n",
      "2020/2020 [==============================] - 48s 24ms/step - loss: 0.0438 - category_output_loss: 0.0165 - color_output_loss: 0.0274 - category_output_accuracy: 0.9955 - color_output_accuracy: 0.9911 - val_loss: 0.1723 - val_category_output_loss: 0.1363 - val_color_output_loss: 0.0313 - val_category_output_accuracy: 0.9584 - val_color_output_accuracy: 0.9921\n",
      "Epoch 26/50\n",
      "2020/2020 [==============================] - 48s 24ms/step - loss: 0.0566 - category_output_loss: 0.0272 - color_output_loss: 0.0294 - category_output_accuracy: 0.9921 - color_output_accuracy: 0.9901 - val_loss: 0.2442 - val_category_output_loss: 0.1518 - val_color_output_loss: 0.0857 - val_category_output_accuracy: 0.9604 - val_color_output_accuracy: 0.9782\n",
      "Epoch 27/50\n",
      "2020/2020 [==============================] - 46s 23ms/step - loss: 0.0483 - category_output_loss: 0.0276 - color_output_loss: 0.0207 - category_output_accuracy: 0.9916 - color_output_accuracy: 0.9921 - val_loss: 0.1793 - val_category_output_loss: 0.1329 - val_color_output_loss: 0.0414 - val_category_output_accuracy: 0.9564 - val_color_output_accuracy: 0.9881\n",
      "Epoch 28/50\n",
      "2020/2020 [==============================] - 47s 23ms/step - loss: 0.0513 - category_output_loss: 0.0255 - color_output_loss: 0.0259 - category_output_accuracy: 0.9911 - color_output_accuracy: 0.9931 - val_loss: 0.1889 - val_category_output_loss: 0.1132 - val_color_output_loss: 0.0706 - val_category_output_accuracy: 0.9663 - val_color_output_accuracy: 0.9881\n",
      "Epoch 29/50\n",
      "2020/2020 [==============================] - 46s 23ms/step - loss: 0.0547 - category_output_loss: 0.0325 - color_output_loss: 0.0221 - category_output_accuracy: 0.9881 - color_output_accuracy: 0.9926 - val_loss: 0.3062 - val_category_output_loss: 0.1628 - val_color_output_loss: 0.1355 - val_category_output_accuracy: 0.9683 - val_color_output_accuracy: 0.9703\n",
      "Epoch 30/50\n",
      "2020/2020 [==============================] - 46s 23ms/step - loss: 0.0601 - category_output_loss: 0.0355 - color_output_loss: 0.0246 - category_output_accuracy: 0.9881 - color_output_accuracy: 0.9931 - val_loss: 0.4955 - val_category_output_loss: 0.1685 - val_color_output_loss: 0.3129 - val_category_output_accuracy: 0.9465 - val_color_output_accuracy: 0.9248\n",
      "Epoch 31/50\n",
      "2020/2020 [==============================] - 46s 23ms/step - loss: 0.0553 - category_output_loss: 0.0230 - color_output_loss: 0.0323 - category_output_accuracy: 0.9901 - color_output_accuracy: 0.9911 - val_loss: 0.5228 - val_category_output_loss: 0.1507 - val_color_output_loss: 0.3575 - val_category_output_accuracy: 0.9525 - val_color_output_accuracy: 0.9386\n",
      "Epoch 32/50\n",
      "2020/2020 [==============================] - 45s 22ms/step - loss: 0.0569 - category_output_loss: 0.0233 - color_output_loss: 0.0336 - category_output_accuracy: 0.9941 - color_output_accuracy: 0.9896 - val_loss: 0.9740 - val_category_output_loss: 0.1108 - val_color_output_loss: 0.8403 - val_category_output_accuracy: 0.9663 - val_color_output_accuracy: 0.7267\n",
      "Epoch 33/50\n",
      "2020/2020 [==============================] - 47s 23ms/step - loss: 0.0766 - category_output_loss: 0.0375 - color_output_loss: 0.0391 - category_output_accuracy: 0.9881 - color_output_accuracy: 0.9886 - val_loss: 0.3341 - val_category_output_loss: 0.2890 - val_color_output_loss: 0.0355 - val_category_output_accuracy: 0.9248 - val_color_output_accuracy: 0.9861\n",
      "Epoch 34/50\n",
      "2020/2020 [==============================] - 46s 23ms/step - loss: 0.0568 - category_output_loss: 0.0218 - color_output_loss: 0.0351 - category_output_accuracy: 0.9926 - color_output_accuracy: 0.9861 - val_loss: 0.1287 - val_category_output_loss: 0.1003 - val_color_output_loss: 0.0248 - val_category_output_accuracy: 0.9644 - val_color_output_accuracy: 0.9941\n",
      "Epoch 35/50\n",
      "2020/2020 [==============================] - 49s 24ms/step - loss: 0.0413 - category_output_loss: 0.0210 - color_output_loss: 0.0203 - category_output_accuracy: 0.9926 - color_output_accuracy: 0.9941 - val_loss: 0.1825 - val_category_output_loss: 0.1422 - val_color_output_loss: 0.0350 - val_category_output_accuracy: 0.9564 - val_color_output_accuracy: 0.9901\n",
      "Epoch 36/50\n",
      "2020/2020 [==============================] - 48s 24ms/step - loss: 0.0496 - category_output_loss: 0.0177 - color_output_loss: 0.0319 - category_output_accuracy: 0.9950 - color_output_accuracy: 0.9911 - val_loss: 0.1712 - val_category_output_loss: 0.1335 - val_color_output_loss: 0.0330 - val_category_output_accuracy: 0.9644 - val_color_output_accuracy: 0.9921\n",
      "Epoch 37/50\n",
      "2020/2020 [==============================] - 47s 23ms/step - loss: 0.0545 - category_output_loss: 0.0151 - color_output_loss: 0.0394 - category_output_accuracy: 0.9970 - color_output_accuracy: 0.9886 - val_loss: 0.2007 - val_category_output_loss: 0.1544 - val_color_output_loss: 0.0416 - val_category_output_accuracy: 0.9624 - val_color_output_accuracy: 0.9822\n",
      "Epoch 38/50\n",
      "2020/2020 [==============================] - 47s 23ms/step - loss: 0.0406 - category_output_loss: 0.0178 - color_output_loss: 0.0227 - category_output_accuracy: 0.9955 - color_output_accuracy: 0.9921 - val_loss: 0.2066 - val_category_output_loss: 0.1727 - val_color_output_loss: 0.0284 - val_category_output_accuracy: 0.9564 - val_color_output_accuracy: 0.9941\n",
      "Epoch 39/50\n",
      "2020/2020 [==============================] - 47s 23ms/step - loss: 0.0276 - category_output_loss: 0.0106 - color_output_loss: 0.0170 - category_output_accuracy: 0.9980 - color_output_accuracy: 0.9946 - val_loss: 0.2659 - val_category_output_loss: 0.1317 - val_color_output_loss: 0.1397 - val_category_output_accuracy: 0.9564 - val_color_output_accuracy: 0.9505\n",
      "Epoch 40/50\n",
      "2020/2020 [==============================] - 47s 23ms/step - loss: 0.0498 - category_output_loss: 0.0249 - color_output_loss: 0.0249 - category_output_accuracy: 0.9921 - color_output_accuracy: 0.9906 - val_loss: 0.4975 - val_category_output_loss: 0.3041 - val_color_output_loss: 0.1824 - val_category_output_accuracy: 0.9327 - val_color_output_accuracy: 0.9366\n",
      "Epoch 41/50\n",
      "2020/2020 [==============================] - 48s 24ms/step - loss: 0.0378 - category_output_loss: 0.0260 - color_output_loss: 0.0118 - category_output_accuracy: 0.9921 - color_output_accuracy: 0.9955 - val_loss: 0.3098 - val_category_output_loss: 0.2670 - val_color_output_loss: 0.0341 - val_category_output_accuracy: 0.9386 - val_color_output_accuracy: 0.9861\n",
      "Epoch 42/50\n",
      "2020/2020 [==============================] - 46s 23ms/step - loss: 0.0693 - category_output_loss: 0.0371 - color_output_loss: 0.0323 - category_output_accuracy: 0.9881 - color_output_accuracy: 0.9911 - val_loss: 0.3265 - val_category_output_loss: 0.2979 - val_color_output_loss: 0.0192 - val_category_output_accuracy: 0.9168 - val_color_output_accuracy: 0.9960\n",
      "Epoch 43/50\n",
      "2020/2020 [==============================] - 46s 23ms/step - loss: 0.0618 - category_output_loss: 0.0527 - color_output_loss: 0.0091 - category_output_accuracy: 0.9837 - color_output_accuracy: 0.9970 - val_loss: 0.6822 - val_category_output_loss: 0.6395 - val_color_output_loss: 0.0243 - val_category_output_accuracy: 0.8337 - val_color_output_accuracy: 0.9941\n",
      "Epoch 44/50\n",
      "2020/2020 [==============================] - 48s 24ms/step - loss: 0.1052 - category_output_loss: 0.0530 - color_output_loss: 0.0521 - category_output_accuracy: 0.9807 - color_output_accuracy: 0.9856 - val_loss: 0.5243 - val_category_output_loss: 0.4860 - val_color_output_loss: 0.0232 - val_category_output_accuracy: 0.8851 - val_color_output_accuracy: 0.9941\n",
      "Epoch 45/50\n",
      "2020/2020 [==============================] - 51s 25ms/step - loss: 0.0488 - category_output_loss: 0.0295 - color_output_loss: 0.0193 - category_output_accuracy: 0.9906 - color_output_accuracy: 0.9931 - val_loss: 0.1756 - val_category_output_loss: 0.1333 - val_color_output_loss: 0.0378 - val_category_output_accuracy: 0.9663 - val_color_output_accuracy: 0.9901\n",
      "Epoch 46/50\n",
      "2020/2020 [==============================] - 50s 25ms/step - loss: 0.0626 - category_output_loss: 0.0411 - color_output_loss: 0.0215 - category_output_accuracy: 0.9842 - color_output_accuracy: 0.9941 - val_loss: 0.5449 - val_category_output_loss: 0.5052 - val_color_output_loss: 0.0240 - val_category_output_accuracy: 0.9149 - val_color_output_accuracy: 0.9921\n",
      "Epoch 47/50\n",
      "2020/2020 [==============================] - 50s 25ms/step - loss: 0.0416 - category_output_loss: 0.0165 - color_output_loss: 0.0251 - category_output_accuracy: 0.9936 - color_output_accuracy: 0.9946 - val_loss: 0.3804 - val_category_output_loss: 0.3166 - val_color_output_loss: 0.0531 - val_category_output_accuracy: 0.9208 - val_color_output_accuracy: 0.9802\n",
      "Epoch 48/50\n",
      "2020/2020 [==============================] - 48s 24ms/step - loss: 0.0321 - category_output_loss: 0.0187 - color_output_loss: 0.0133 - category_output_accuracy: 0.9921 - color_output_accuracy: 0.9950 - val_loss: 0.1595 - val_category_output_loss: 0.1291 - val_color_output_loss: 0.0259 - val_category_output_accuracy: 0.9644 - val_color_output_accuracy: 0.9901\n",
      "Epoch 49/50\n",
      "2020/2020 [==============================] - 53s 26ms/step - loss: 0.0435 - category_output_loss: 0.0303 - color_output_loss: 0.0132 - category_output_accuracy: 0.9896 - color_output_accuracy: 0.9960 - val_loss: 0.1946 - val_category_output_loss: 0.1599 - val_color_output_loss: 0.0291 - val_category_output_accuracy: 0.9604 - val_color_output_accuracy: 0.9901\n",
      "Epoch 50/50\n",
      "2020/2020 [==============================] - 55s 27ms/step - loss: 0.0663 - category_output_loss: 0.0266 - color_output_loss: 0.0397 - category_output_accuracy: 0.9911 - color_output_accuracy: 0.9911 - val_loss: 0.2707 - val_category_output_loss: 0.2237 - val_color_output_loss: 0.0393 - val_category_output_accuracy: 0.9584 - val_color_output_accuracy: 0.9842\n"
     ]
    }
   ],
   "source": [
    "# train the network to perform multi-output classification\n",
    "history = model.fit(trainX,{\"category_output\": trainCategoryY, \"color_output\": trainColorY},validation_data=(testX,{\"category_output\": testCategoryY, \"color_output\": testColorY}),epochs=EPOCHS,batch_size=BS,verbose=1)"
   ]
  },
  {
   "cell_type": "code",
   "execution_count": 45,
   "metadata": {},
   "outputs": [
    {
     "data": {
      "image/png": "[encoded data removed]",
      "text/plain": [
       "<Figure size 432x288 with 1 Axes>"
      ]
     },
     "metadata": {
      "needs_background": "light"
     },
     "output_type": "display_data"
    }
   ],
   "source": [
    "import matplotlib.pyplot as plt\n",
    "%matplotlib inline\n",
    "plt.plot(history.history['loss'])\n",
    "plt.plot(history.history['val_loss'])\n",
    "plt.plot(history.history['val_category_output_loss'])\n",
    "plt.plot(history.history['val_color_output_loss'])\n",
    "plt.plot(history.history['category_output_loss'])\n",
    "plt.plot(history.history['color_output_loss'])\n",
    "plt.plot(history.history['category_output_accuracy'])\n",
    "plt.plot(history.history['color_output_accuracy'])\n",
    "plt.plot(history.history['val_category_output_accuracy'])\n",
    "plt.plot(history.history['val_color_output_accuracy'])\n",
    "plt.ylabel('Loss')\n",
    "plt.xlabel('Epoch')\n",
    "plt.ylim(0., 1.0)\n",
    "plt.legend(['loss', 'val_loss', 'val_category_output_loss', 'val_color_output_loss', 'color_output_loss', 'category_output_accuracy', 'color_output_accuracy', 'val_category_output_accuracy', 'val_color_output_accuracy' ], loc='upper left')\n",
    "plt.show()"
   ]
  },
  {
   "cell_type": "code",
   "execution_count": 46,
   "metadata": {},
   "outputs": [
    {
     "name": "stdout",
     "output_type": "stream",
     "text": [
      "[INFO] serializing network...\n"
     ]
    }
   ],
   "source": [
    "import tempfile\n",
    "TEMPDIR = tempfile.gettempdir()\n",
    "# save the model to disk\n",
    "print(\"[INFO] serializing network...\")\n",
    "model.save(os.path.join(TEMPDIR, \"multi_output_classification.model\"))"
   ]
  },
  {
   "cell_type": "code",
   "execution_count": 47,
   "metadata": {},
   "outputs": [
    {
     "name": "stdout",
     "output_type": "stream",
     "text": [
      "[INFO] serializing category label binarizer...\n"
     ]
    }
   ],
   "source": [
    "# save the category binarizer to disk\n",
    "print(\"[INFO] serializing category label binarizer...\")\n",
    "f = open(os.path.join(TEMPDIR, \"multi_output_classification_categorybin\"), \"wb\")\n",
    "f.write(pickle.dumps(categoryLB))\n",
    "f.close()"
   ]
  },
  {
   "cell_type": "code",
   "execution_count": 48,
   "metadata": {},
   "outputs": [
    {
     "name": "stdout",
     "output_type": "stream",
     "text": [
      "[INFO] serializing color label binarizer...\n"
     ]
    }
   ],
   "source": [
    "# save the color binarizer to disk\n",
    "print(\"[INFO] serializing color label binarizer...\")\n",
    "f = open(os.path.join(TEMPDIR, \"multi_output_classification_colorbin\"), \"wb\")\n",
    "f.write(pickle.dumps(colorLB))\n",
    "f.close()"
   ]
  },
  {
   "cell_type": "code",
   "execution_count": 49,
   "metadata": {},
   "outputs": [
    {
     "data": {
      "image/png": "[encoded data removed]",
      "text/plain": [
       "<Figure size 432x288 with 1 Axes>"
      ]
     },
     "metadata": {
      "needs_background": "light"
     },
     "output_type": "display_data"
    }
   ],
   "source": [
    "# plot the total loss, category loss, and color loss\n",
    "plt.plot(history.history['loss'])\n",
    "plt.plot(history.history['category_output_loss'])\n",
    "plt.plot(history.history['color_output_loss'])\n",
    "plt.style.use(\"ggplot\")"
   ]
  },
  {
   "cell_type": "code",
   "execution_count": 50,
   "metadata": {},
   "outputs": [
    {
     "data": {
      "image/png": "[encoded data removed]",
      "text/plain": [
       "<Figure size 432x288 with 1 Axes>"
      ]
     },
     "metadata": {},
     "output_type": "display_data"
    }
   ],
   "source": [
    "# create a new figure for the accuracies\n",
    "plt.plot(history.history['category_output_accuracy'])\n",
    "plt.plot(history.history['color_output_accuracy'])\n",
    "plt.style.use(\"ggplot\")"
   ]
  },
  {
   "cell_type": "code",
   "execution_count": 53,
   "metadata": {},
   "outputs": [],
   "source": [
    "# load the image\n",
    "import imutils\n",
    "import cv2\n",
    "imagefilename = 'examples_multi_output_classification.zip'\n",
    "import zipfile\n",
    "zf = zipfile.ZipFile(imagefilename)\n",
    "#image = cv2.imread(os.path.join('examples_multi_output_classification', 'black_dress.jpg'), cv2.IMREAD_COLOR)\n",
    "image = cv2.imdecode(np.frombuffer(zf.read('black_dress.jpg'), np.uint8), 1)\n",
    "output = imutils.resize(image, width=400)\n",
    "image = cv2.cvtColor(image, cv2.COLOR_BGR2RGB)"
   ]
  },
  {
   "cell_type": "code",
   "execution_count": 54,
   "metadata": {},
   "outputs": [
    {
     "data": {
      "text/plain": [
       "(533, 320, 3)"
      ]
     },
     "execution_count": 54,
     "metadata": {},
     "output_type": "execute_result"
    }
   ],
   "source": [
    "image.shape"
   ]
  },
  {
   "cell_type": "code",
   "execution_count": 55,
   "metadata": {},
   "outputs": [],
   "source": [
    "# pre-process the image for classification\n",
    "import cv2\n",
    "image = cv2.resize(image, (96, 96), interpolation=cv2.INTER_AREA)"
   ]
  },
  {
   "cell_type": "code",
   "execution_count": 56,
   "metadata": {},
   "outputs": [
    {
     "name": "stdout",
     "output_type": "stream",
     "text": [
      "(96, 96, 3)\n"
     ]
    }
   ],
   "source": [
    "# pre-process the image for classification\n",
    "image = image.astype(\"float\") / 255.0\n",
    "image = img_to_array(image)\n",
    "print(image.shape)\n",
    "image = np.expand_dims(image, axis=0)# pre-process the image for classification"
   ]
  },
  {
   "cell_type": "code",
   "execution_count": 57,
   "metadata": {},
   "outputs": [
    {
     "name": "stdout",
     "output_type": "stream",
     "text": [
      "[INFO] loading network...\n"
     ]
    }
   ],
   "source": [
    "# load the trained convolutional neural network from disk, followed\n",
    "# by the category and color label binarizers, respectively\n",
    "from keras.preprocessing.image import img_to_array\n",
    "from keras.models import load_model\n",
    "print(\"[INFO] loading network...\")\n",
    "model = load_model(os.path.join(TEMPDIR, 'multi_output_classification.model'), custom_objects={\"tf\": tf})\n",
    "categoryLB = pickle.loads(open(os.path.join(TEMPDIR, 'multi_output_classification_categorybin'), \"rb\").read())\n",
    "colorLB = pickle.loads(open(os.path.join(TEMPDIR, 'multi_output_classification_colorbin'), \"rb\").read())"
   ]
  },
  {
   "cell_type": "code",
   "execution_count": 58,
   "metadata": {},
   "outputs": [
    {
     "name": "stdout",
     "output_type": "stream",
     "text": [
      "[INFO] classifying image...\n"
     ]
    }
   ],
   "source": [
    "# classify the input image using Keras' multi-output functionality\n",
    "print(\"[INFO] classifying image...\")\n",
    "(categoryProba, colorProba) = model.predict(image)"
   ]
  },
  {
   "cell_type": "code",
   "execution_count": 59,
   "metadata": {},
   "outputs": [],
   "source": [
    "# find indexes of both the category and color outputs with the\n",
    "# largest probabilities, then determine the corresponding class\n",
    "# labels\n",
    "categoryIdx = categoryProba[0].argmax()\n",
    "colorIdx = colorProba[0].argmax()\n",
    "categoryLabel = categoryLB.classes_[categoryIdx]\n",
    "colorLabel = colorLB.classes_[colorIdx]"
   ]
  },
  {
   "cell_type": "code",
   "execution_count": 60,
   "metadata": {},
   "outputs": [
    {
     "data": {
      "text/plain": [
       "array([[[255, 255, 255],\n",
       "        [255, 255, 255],\n",
       "        [255, 255, 255],\n",
       "        ...,\n",
       "        [255, 255, 255],\n",
       "        [255, 255, 255],\n",
       "        [255, 255, 255]],\n",
       "\n",
       "       [[255, 255, 255],\n",
       "        [255, 255, 255],\n",
       "        [255, 255, 255],\n",
       "        ...,\n",
       "        [255, 255, 255],\n",
       "        [255, 255, 255],\n",
       "        [255, 255, 255]],\n",
       "\n",
       "       [[255, 255, 255],\n",
       "        [255, 255, 255],\n",
       "        [255, 255, 255],\n",
       "        ...,\n",
       "        [255, 255, 255],\n",
       "        [255, 255, 255],\n",
       "        [255, 255, 255]],\n",
       "\n",
       "       ...,\n",
       "\n",
       "       [[255, 255, 255],\n",
       "        [255, 255, 255],\n",
       "        [255, 255, 255],\n",
       "        ...,\n",
       "        [255, 255, 255],\n",
       "        [255, 255, 255],\n",
       "        [255, 255, 255]],\n",
       "\n",
       "       [[255, 255, 255],\n",
       "        [255, 255, 255],\n",
       "        [255, 255, 255],\n",
       "        ...,\n",
       "        [255, 255, 255],\n",
       "        [255, 255, 255],\n",
       "        [255, 255, 255]],\n",
       "\n",
       "       [[255, 255, 255],\n",
       "        [255, 255, 255],\n",
       "        [255, 255, 255],\n",
       "        ...,\n",
       "        [255, 255, 255],\n",
       "        [255, 255, 255],\n",
       "        [255, 255, 255]]], dtype=uint8)"
      ]
     },
     "execution_count": 60,
     "metadata": {},
     "output_type": "execute_result"
    }
   ],
   "source": [
    "# draw the category label and color label on the image\n",
    "categoryText = \"category: {} ({:.2f}%)\".format(categoryLabel,\n",
    "\tcategoryProba[0][categoryIdx] * 100)\n",
    "colorText = \"color: {} ({:.2f}%)\".format(colorLabel,\n",
    "\tcolorProba[0][colorIdx] * 100)\n",
    "cv2.putText(output, categoryText, (10, 25), cv2.FONT_HERSHEY_SIMPLEX,\n",
    "\t0.7, (0, 255, 0), 2)\n",
    "cv2.putText(output, colorText, (10, 55), cv2.FONT_HERSHEY_SIMPLEX,\n",
    "\t0.7, (0, 255, 0), 2)"
   ]
  },
  {
   "cell_type": "code",
   "execution_count": 61,
   "metadata": {},
   "outputs": [
    {
     "name": "stdout",
     "output_type": "stream",
     "text": [
      "[INFO] category: dress (99.99%)\n",
      "[INFO] color: black (92.88%)\n"
     ]
    }
   ],
   "source": [
    "# display the predictions to the terminal as well\n",
    "print(\"[INFO] {}\".format(categoryText))\n",
    "print(\"[INFO] {}\".format(colorText))"
   ]
  },
  {
   "cell_type": "code",
   "execution_count": 62,
   "metadata": {},
   "outputs": [
    {
     "data": {
      "text/plain": [
       "-1"
      ]
     },
     "execution_count": 62,
     "metadata": {},
     "output_type": "execute_result"
    }
   ],
   "source": [
    "# show the output image\n",
    "cv2.imshow(\"Output\", output)\n",
    "cv2.waitKey(0)"
   ]
  },
  {
   "cell_type": "code",
   "execution_count": null,
   "metadata": {},
   "outputs": [],
   "source": []
  }
 ],
 "metadata": {
  "kernelspec": {
   "display_name": "Python 3",
   "language": "python",
   "name": "python3"
  },
  "language_info": {
   "codemirror_mode": {
    "name": "ipython",
    "version": 3
   },
   "file_extension": ".py",
   "mimetype": "text/x-python",
   "name": "python",
   "nbconvert_exporter": "python",
   "pygments_lexer": "ipython3",
   "version": "3.8.3"
  }
 },
 "nbformat": 4,
 "nbformat_minor": 4
}
