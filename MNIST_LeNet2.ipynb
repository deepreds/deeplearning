{
 "cells": [
  {
   "cell_type": "code",
   "execution_count": 13,
   "metadata": {},
   "outputs": [],
   "source": [
    "import tensorflow as tf"
   ]
  },
  {
   "cell_type": "code",
   "execution_count": 14,
   "metadata": {},
   "outputs": [
    {
     "name": "stdout",
     "output_type": "stream",
     "text": [
      "1 Physical GPUs, 1 Logical GPUs\n"
     ]
    }
   ],
   "source": [
    "import os\n",
    "os.environ['TF_CPP_MIN_LOG_LEVEL'] = '3'\n",
    "os.environ[\"CUDA_DEVICE_ORDER\"] = \"PCI_BUS_ID\"\n",
    "os.environ[\"CUDA_VISIBLE_DEVICES\"] = '0' # Set to -1 if CPU should be used CPU = -1 , GPU = 0\n",
    "\n",
    "gpus = tf.config.experimental.list_physical_devices('GPU')\n",
    "cpus = tf.config.experimental.list_physical_devices('CPU')\n",
    "\n",
    "if gpus:\n",
    "    try:\n",
    "        # Currently, memory growth needs to be the same across GPUs\n",
    "        for gpu in gpus:\n",
    "            tf.config.experimental.set_memory_growth(gpu, True)\n",
    "        logical_gpus = tf.config.experimental.list_logical_devices('GPU')\n",
    "        print(len(gpus), \"Physical GPUs,\", len(logical_gpus), \"Logical GPUs\")\n",
    "    except RuntimeError as e:\n",
    "        # Memory growth must be set before GPUs have been initialized\n",
    "        print(e)\n",
    "elif cpus:\n",
    "    try:\n",
    "        # Currently, memory growth needs to be the same across GPUs\n",
    "        logical_cpus= tf.config.experimental.list_logical_devices('CPU')\n",
    "        print(len(cpus), \"Physical CPU,\", len(logical_cpus), \"Logical CPU\")\n",
    "    except RuntimeError as e:\n",
    "        # Memory growth must be set before GPUs have been initialized\n",
    "        print(e)"
   ]
  },
  {
   "cell_type": "code",
   "execution_count": 15,
   "metadata": {},
   "outputs": [
    {
     "name": "stdout",
     "output_type": "stream",
     "text": [
      "[INFO] accessing MNIST...\n"
     ]
    }
   ],
   "source": [
    "# import the necessary packages\n",
    "from tensorflow.keras.optimizers import Adam\n",
    "from tensorflow.keras.datasets import mnist\n",
    "from sklearn.preprocessing import LabelBinarizer\n",
    "from sklearn.metrics import classification_report\n",
    "from tensorflow.keras import backend as K\n",
    "import matplotlib.pyplot as plt\n",
    "import numpy as np\n",
    "\n",
    "# grab the MNIST dataset (if this is your first time using this\n",
    "# dataset then the 11MB download may take a minute)\n",
    "print(\"[INFO] accessing MNIST...\")\n",
    "((x_train, y_train), (x_test, y_test)) = mnist.load_data()\n",
    "x_test = x_test / 255\n",
    "x_train = x_train / 255\n",
    "x_train = x_train.reshape(x_train.shape[0], 28, 28, 1)\n",
    "x_test = x_test.reshape(x_test.shape[0], 28, 28, 1)"
   ]
  },
  {
   "cell_type": "code",
   "execution_count": 16,
   "metadata": {},
   "outputs": [
    {
     "name": "stdout",
     "output_type": "stream",
     "text": [
      "60000\n",
      "10000\n"
     ]
    }
   ],
   "source": [
    "print(len(x_train))\n",
    "print(len(x_test))"
   ]
  },
  {
   "cell_type": "code",
   "execution_count": 17,
   "metadata": {},
   "outputs": [],
   "source": [
    "# convert the labels from integers to vectors\n",
    "le = LabelBinarizer()\n",
    "y_train = le.fit_transform(y_train)\n",
    "y_test = le.transform(y_test)"
   ]
  },
  {
   "cell_type": "code",
   "execution_count": 18,
   "metadata": {},
   "outputs": [
    {
     "name": "stdout",
     "output_type": "stream",
     "text": [
      "[INFO] compiling model...\n"
     ]
    }
   ],
   "source": [
    "# initialize the optimizer and model\n",
    "print(\"[INFO] compiling model...\")\n",
    "opt = Adam(lr=0.001)\n",
    "\n",
    "width=28\n",
    "height=28\n",
    "depth=1\n",
    "classes=10"
   ]
  },
  {
   "cell_type": "code",
   "execution_count": 19,
   "metadata": {},
   "outputs": [
    {
     "name": "stdout",
     "output_type": "stream",
     "text": [
      "channels_last\n"
     ]
    }
   ],
   "source": [
    "print(K.image_data_format())"
   ]
  },
  {
   "cell_type": "code",
   "execution_count": 20,
   "metadata": {},
   "outputs": [],
   "source": [
    "# import the necessary packages\n",
    "from tensorflow.keras.models import Sequential\n",
    "from tensorflow.keras.layers import Conv2D\n",
    "from tensorflow.keras.layers import MaxPooling2D\n",
    "from tensorflow.keras.layers import Activation\n",
    "from tensorflow.keras.layers import Flatten\n",
    "from tensorflow.keras.layers import Dense\n",
    "\n",
    "# initialize the model\n",
    "model = Sequential()\n",
    "inputShape = (height, width, depth)\n",
    "\n",
    "# if we are using \"channels first\", update the input shape\n",
    "if K.image_data_format() == \"channels_first\":\n",
    "    inputShape = (depth, height, width)\n",
    "\n",
    "# first set of CONV => RELU => POOL layers\n",
    "model.add(Conv2D(20, (5, 5), padding=\"same\", input_shape=inputShape))\n",
    "model.add(Activation(\"relu\"))\n",
    "model.add(MaxPooling2D(pool_size=(2, 2), strides=(2, 2)))\n",
    "\n",
    "# second set of CONV => RELU => POOL layers\n",
    "model.add(Conv2D(50, (5, 5), padding=\"same\"))\n",
    "model.add(Activation(\"relu\"))\n",
    "model.add(MaxPooling2D(pool_size=(2, 2), strides=(2, 2)))\n",
    "\n",
    "# first (and only) set of FC => RELU layers\n",
    "model.add(Flatten())\n",
    "model.add(Dense(500))\n",
    "model.add(Activation(\"relu\"))\n",
    "\n",
    "# softmax classifier\n",
    "model.add(Dense(classes))\n",
    "model.add(Activation(\"softmax\"))\n",
    "\n",
    "model.compile(loss=\"categorical_crossentropy\", optimizer=opt, metrics=[\"accuracy\"])"
   ]
  },
  {
   "cell_type": "code",
   "execution_count": 21,
   "metadata": {},
   "outputs": [
    {
     "name": "stdout",
     "output_type": "stream",
     "text": [
      "Model: \"sequential_1\"\n",
      "_________________________________________________________________\n",
      "Layer (type)                 Output Shape              Param #   \n",
      "=================================================================\n",
      "conv2d_2 (Conv2D)            (None, 28, 28, 20)        520       \n",
      "_________________________________________________________________\n",
      "activation_4 (Activation)    (None, 28, 28, 20)        0         \n",
      "_________________________________________________________________\n",
      "max_pooling2d_2 (MaxPooling2 (None, 14, 14, 20)        0         \n",
      "_________________________________________________________________\n",
      "conv2d_3 (Conv2D)            (None, 14, 14, 50)        25050     \n",
      "_________________________________________________________________\n",
      "activation_5 (Activation)    (None, 14, 14, 50)        0         \n",
      "_________________________________________________________________\n",
      "max_pooling2d_3 (MaxPooling2 (None, 7, 7, 50)          0         \n",
      "_________________________________________________________________\n",
      "flatten_1 (Flatten)          (None, 2450)              0         \n",
      "_________________________________________________________________\n",
      "dense_2 (Dense)              (None, 500)               1225500   \n",
      "_________________________________________________________________\n",
      "activation_6 (Activation)    (None, 500)               0         \n",
      "_________________________________________________________________\n",
      "dense_3 (Dense)              (None, 10)                5010      \n",
      "_________________________________________________________________\n",
      "activation_7 (Activation)    (None, 10)                0         \n",
      "=================================================================\n",
      "Total params: 1,256,080\n",
      "Trainable params: 1,256,080\n",
      "Non-trainable params: 0\n",
      "_________________________________________________________________\n"
     ]
    }
   ],
   "source": [
    "model.summary()"
   ]
  },
  {
   "cell_type": "code",
   "execution_count": 22,
   "metadata": {},
   "outputs": [
    {
     "name": "stdout",
     "output_type": "stream",
     "text": [
      "[INFO] training network...\n",
      "Epoch 1/20\n",
      "469/469 [==============================] - 4s 8ms/step - loss: 0.1560 - accuracy: 0.9521 - val_loss: 0.0416 - val_accuracy: 0.9859\n",
      "Epoch 2/20\n",
      "469/469 [==============================] - 4s 8ms/step - loss: 0.0431 - accuracy: 0.9869 - val_loss: 0.0384 - val_accuracy: 0.9874\n",
      "Epoch 3/20\n",
      "469/469 [==============================] - 4s 8ms/step - loss: 0.0303 - accuracy: 0.9906 - val_loss: 0.0306 - val_accuracy: 0.9893\n",
      "Epoch 4/20\n",
      "469/469 [==============================] - 4s 8ms/step - loss: 0.0219 - accuracy: 0.9931 - val_loss: 0.0236 - val_accuracy: 0.9925\n",
      "Epoch 5/20\n",
      "469/469 [==============================] - 5s 10ms/step - loss: 0.0158 - accuracy: 0.9949 - val_loss: 0.0284 - val_accuracy: 0.9910\n",
      "Epoch 6/20\n",
      "469/469 [==============================] - 8s 18ms/step - loss: 0.0132 - accuracy: 0.9957 - val_loss: 0.0267 - val_accuracy: 0.9923\n",
      "Epoch 7/20\n",
      "469/469 [==============================] - 9s 18ms/step - loss: 0.0107 - accuracy: 0.9965 - val_loss: 0.0253 - val_accuracy: 0.9929\n",
      "Epoch 8/20\n",
      "469/469 [==============================] - 8s 17ms/step - loss: 0.0093 - accuracy: 0.9969 - val_loss: 0.0326 - val_accuracy: 0.9906\n",
      "Epoch 9/20\n",
      "469/469 [==============================] - 8s 18ms/step - loss: 0.0086 - accuracy: 0.9970 - val_loss: 0.0262 - val_accuracy: 0.9923\n",
      "Epoch 10/20\n",
      "469/469 [==============================] - 8s 18ms/step - loss: 0.0058 - accuracy: 0.9982 - val_loss: 0.0249 - val_accuracy: 0.9928\n",
      "Epoch 11/20\n",
      "469/469 [==============================] - 8s 18ms/step - loss: 0.0067 - accuracy: 0.9977 - val_loss: 0.0234 - val_accuracy: 0.9925\n",
      "Epoch 12/20\n",
      "469/469 [==============================] - 8s 18ms/step - loss: 0.0060 - accuracy: 0.9980 - val_loss: 0.0331 - val_accuracy: 0.9913\n",
      "Epoch 13/20\n",
      "469/469 [==============================] - 9s 18ms/step - loss: 0.0055 - accuracy: 0.9983 - val_loss: 0.0283 - val_accuracy: 0.9921\n",
      "Epoch 14/20\n",
      "469/469 [==============================] - 9s 20ms/step - loss: 0.0032 - accuracy: 0.9988 - val_loss: 0.0375 - val_accuracy: 0.9905\n",
      "Epoch 15/20\n",
      "469/469 [==============================] - 9s 20ms/step - loss: 0.0049 - accuracy: 0.9983 - val_loss: 0.0285 - val_accuracy: 0.9925\n",
      "Epoch 16/20\n",
      "469/469 [==============================] - 10s 22ms/step - loss: 0.0044 - accuracy: 0.9985 - val_loss: 0.0276 - val_accuracy: 0.9940\n",
      "Epoch 17/20\n",
      "469/469 [==============================] - 8s 18ms/step - loss: 0.0036 - accuracy: 0.9989 - val_loss: 0.0301 - val_accuracy: 0.9930\n",
      "Epoch 18/20\n",
      "469/469 [==============================] - 9s 18ms/step - loss: 0.0019 - accuracy: 0.9995 - val_loss: 0.0312 - val_accuracy: 0.9936\n",
      "Epoch 19/20\n",
      "469/469 [==============================] - 8s 18ms/step - loss: 0.0023 - accuracy: 0.9994 - val_loss: 0.0325 - val_accuracy: 0.9936\n",
      "Epoch 20/20\n",
      "469/469 [==============================] - 9s 18ms/step - loss: 0.0067 - accuracy: 0.9978 - val_loss: 0.0370 - val_accuracy: 0.9925\n"
     ]
    }
   ],
   "source": [
    "# train the network\n",
    "print(\"[INFO] training network...\")\n",
    "H = model.fit(x_train, y_train, validation_data=(x_test, y_test), batch_size=128, epochs=20, verbose=1)"
   ]
  },
  {
   "cell_type": "code",
   "execution_count": 23,
   "metadata": {},
   "outputs": [
    {
     "name": "stdout",
     "output_type": "stream",
     "text": [
      "[INFO] evaluating network...\n",
      "              precision    recall  f1-score   support\n",
      "\n",
      "           0       0.99      1.00      0.99       980\n",
      "           1       1.00      0.99      1.00      1135\n",
      "           2       1.00      0.99      0.99      1032\n",
      "           3       1.00      0.98      0.99      1010\n",
      "           4       1.00      0.99      0.99       982\n",
      "           5       0.98      1.00      0.99       892\n",
      "           6       1.00      0.99      0.99       958\n",
      "           7       0.99      1.00      0.99      1028\n",
      "           8       0.99      0.99      0.99       974\n",
      "           9       0.99      0.99      0.99      1009\n",
      "\n",
      "    accuracy                           0.99     10000\n",
      "   macro avg       0.99      0.99      0.99     10000\n",
      "weighted avg       0.99      0.99      0.99     10000\n",
      "\n"
     ]
    }
   ],
   "source": [
    "# evaluate the network\n",
    "print(\"[INFO] evaluating network...\")\n",
    "predictions = model.predict(x_test)\n",
    "print(classification_report(y_test.argmax(axis=1), predictions.argmax(axis=1), target_names=[str(x) for x in le.classes_]))"
   ]
  },
  {
   "cell_type": "code",
   "execution_count": 24,
   "metadata": {},
   "outputs": [
    {
     "data": {
      "image/png": "[encoded data removed]",
      "text/plain": [
       "<Figure size 432x288 with 1 Axes>"
      ]
     },
     "metadata": {
      "needs_background": "light"
     },
     "output_type": "display_data"
    }
   ],
   "source": [
    "# plot the training loss and accuracy\n",
    "#plt.style.use(\"ggplot\")\n",
    "%matplotlib inline\n",
    "plt.figure()\n",
    "plt.plot(np.arange(0, 20), H.history[\"loss\"], label=\"train_loss\")\n",
    "plt.plot(np.arange(0, 20), H.history[\"val_loss\"], label=\"val_loss\")\n",
    "plt.plot(np.arange(0, 20), H.history[\"accuracy\"], label=\"train_acc\")\n",
    "plt.plot(np.arange(0, 20), H.history[\"val_accuracy\"], label=\"val_acc\")\n",
    "plt.title(\"Training Loss and Accuracy\")\n",
    "plt.xlabel(\"Epoch #\")\n",
    "plt.ylabel(\"Loss/Accuracy\")\n",
    "plt.legend()\n",
    "plt.show()"
   ]
  },
  {
   "cell_type": "code",
   "execution_count": null,
   "metadata": {},
   "outputs": [],
   "source": []
  }
 ],
 "metadata": {
  "kernelspec": {
   "display_name": "Python 3",
   "language": "python",
   "name": "python3"
  },
  "language_info": {
   "codemirror_mode": {
    "name": "ipython",
    "version": 3
   },
   "file_extension": ".py",
   "mimetype": "text/x-python",
   "name": "python",
   "nbconvert_exporter": "python",
   "pygments_lexer": "ipython3",
   "version": "3.8.3"
  }
 },
 "nbformat": 4,
 "nbformat_minor": 4
}
