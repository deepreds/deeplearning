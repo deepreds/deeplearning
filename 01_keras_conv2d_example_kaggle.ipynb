{
 "cells": [
  {
   "cell_type": "code",
   "execution_count": 1,
   "metadata": {
    "colab": {
     "base_uri": "https://localhost:8080/"
    },
    "id": "e8JC-rV-_FJD",
    "outputId": "8745da3b-4769-4cd4-c4ba-47b2246faf5f"
   },
   "outputs": [
    {
     "name": "stdout",
     "output_type": "stream",
     "text": [
      "1 Physical CPU, 1 Logical CPU\n"
     ]
    }
   ],
   "source": [
    "#https://www.pyimagesearch.com/2018/12/31/keras-conv2d-and-convolutional-layers/\n",
    "import tensorflow as tf\n",
    "\n",
    "import os\n",
    "os.environ['TF_CPP_MIN_LOG_LEVEL'] = '3'\n",
    "os.environ[\"CUDA_DEVICE_ORDER\"] = \"PCI_BUS_ID\"\n",
    "os.environ[\"CUDA_VISIBLE_DEVICES\"] = '0' # Set to -1 if CPU should be used CPU = -1 , GPU = 0\n",
    "\n",
    "gpus = tf.config.experimental.list_physical_devices('GPU')\n",
    "cpus = tf.config.experimental.list_physical_devices('CPU')\n",
    "\n",
    "if gpus:\n",
    "    try:\n",
    "        # Currently, memory growth needs to be the same across GPUs\n",
    "        for gpu in gpus:\n",
    "            tf.config.experimental.set_memory_growth(gpu, True)\n",
    "        logical_gpus = tf.config.experimental.list_logical_devices('GPU')\n",
    "        print(len(gpus), \"Physical GPUs,\", len(logical_gpus), \"Logical GPUs\")\n",
    "    except RuntimeError as e:\n",
    "        # Memory growth must be set before GPUs have been initialized\n",
    "        print(e)\n",
    "elif cpus:\n",
    "    try:\n",
    "        # Currently, memory growth needs to be the same across GPUs\n",
    "        logical_cpus= tf.config.experimental.list_logical_devices('CPU')\n",
    "        print(len(cpus), \"Physical CPU,\", len(logical_cpus), \"Logical CPU\")\n",
    "    except RuntimeError as e:\n",
    "        # Memory growth must be set before GPUs have been initialized\n",
    "        print(e)"
   ]
  },
  {
   "cell_type": "code",
   "execution_count": 2,
   "metadata": {
    "colab": {
     "base_uri": "https://localhost:8080/"
    },
    "id": "O7YxynjZ_FJM",
    "outputId": "5d04db22-9446-4182-ba43-94d634ad6bcb"
   },
   "outputs": [
    {
     "name": "stdout",
     "output_type": "stream",
     "text": [
      "Requirement already satisfied: imutils in /usr/local/lib/python3.6/dist-packages (0.5.3)\n"
     ]
    }
   ],
   "source": [
    "!pip install imutils"
   ]
  },
  {
   "cell_type": "code",
   "execution_count": 3,
   "metadata": {
    "id": "o_F3sDYx_FJM"
   },
   "outputs": [],
   "source": [
    "from sklearn.preprocessing import LabelBinarizer\n",
    "from sklearn.model_selection import train_test_split\n",
    "from sklearn.metrics import classification_report\n",
    "from keras.preprocessing.image import ImageDataGenerator\n",
    "from keras.optimizers import Adam\n",
    "from keras.regularizers import l2\n",
    "# pip install imutils\n",
    "from imutils import paths\n",
    "import matplotlib.pyplot as plt\n",
    "import numpy as np\n",
    "import argparse\n",
    "import cv2\n",
    "import os\n",
    "from keras.models import Sequential\n",
    "from keras.layers.normalization import BatchNormalization\n",
    "from keras.layers.convolutional import Conv2D\n",
    "from keras.layers.core import Activation\n",
    "from keras.layers.core import Flatten\n",
    "from keras.layers.core import Dropout\n",
    "from keras.layers.core import Dense\n",
    "from keras import backend as K"
   ]
  },
  {
   "cell_type": "code",
   "execution_count": 4,
   "metadata": {
    "id": "G5ifqiwo_FJN"
   },
   "outputs": [],
   "source": [
    "class StridedNet:\n",
    "\t@staticmethod\n",
    "\tdef build(width, height, depth, classes, reg, init=\"he_normal\"):\n",
    "\t\t# initialize the model along with the input shape to be\n",
    "\t\t# \"channels last\" and the channels dimension itself\n",
    "\t\tmodel = Sequential()\n",
    "\t\tinputShape = (height, width, depth)\n",
    "\t\tchanDim = -1\n",
    "\n",
    "\t\t# if we are using \"channels first\", update the input shape\n",
    "\t\t# and channels dimension\n",
    "\t\tif K.image_data_format() == \"channels_first\":\n",
    "\t\t\tinputShape = (depth, height, width)\n",
    "\t\t\tchanDim = 1\n",
    "\n",
    "\t\t# our first CONV layer will learn a total of 16 filters, each\n",
    "\t\t# Of which are 7x7 -- we'll then apply 2x2 strides to reduce\n",
    "\t\t# the spatial dimensions of the volume\n",
    "\t\tmodel.add(Conv2D(16, (7, 7), strides=(2, 2), padding=\"valid\", kernel_initializer=init, kernel_regularizer=reg, input_shape=inputShape))\n",
    "\n",
    "\t\t# here we stack two CONV layers on top of each other where\n",
    "\t\t# each layerswill learn a total of 32 (3x3) filters\n",
    "\t\tmodel.add(Conv2D(32, (3, 3), padding=\"same\", kernel_initializer=init, kernel_regularizer=reg))\n",
    "\t\tmodel.add(Activation(\"relu\"))\n",
    "\t\tmodel.add(BatchNormalization(axis=chanDim))\n",
    "\t\tmodel.add(Conv2D(32, (3, 3), strides=(2, 2), padding=\"same\", kernel_initializer=init, kernel_regularizer=reg))\n",
    "\t\tmodel.add(Activation(\"relu\"))\n",
    "\t\tmodel.add(BatchNormalization(axis=chanDim))\n",
    "\t\tmodel.add(Dropout(0.25))\n",
    "\n",
    "\t\t# stack two more CONV layers, keeping the size of each filter\n",
    "\t\t# as 3x3 but increasing to 64 total learned filters\n",
    "\t\tmodel.add(Conv2D(64, (3, 3), padding=\"same\", kernel_initializer=init, kernel_regularizer=reg))\n",
    "\t\tmodel.add(Activation(\"relu\"))\n",
    "\t\tmodel.add(BatchNormalization(axis=chanDim))\n",
    "\t\tmodel.add(Conv2D(64, (3, 3), strides=(2, 2), padding=\"same\", kernel_initializer=init, kernel_regularizer=reg))\n",
    "\t\tmodel.add(Activation(\"relu\"))\n",
    "\t\tmodel.add(BatchNormalization(axis=chanDim))\n",
    "\t\tmodel.add(Dropout(0.25))\n",
    "\n",
    "\t\t# increase the number of filters again, this time to 128\n",
    "\t\tmodel.add(Conv2D(128, (3, 3), padding=\"same\", kernel_initializer=init, kernel_regularizer=reg))\n",
    "\t\tmodel.add(Activation(\"relu\"))\n",
    "\t\tmodel.add(BatchNormalization(axis=chanDim))\n",
    "\t\tmodel.add(Conv2D(128, (3, 3), strides=(2, 2), padding=\"same\", kernel_initializer=init, kernel_regularizer=reg))\n",
    "\t\tmodel.add(Activation(\"relu\"))\n",
    "\t\tmodel.add(BatchNormalization(axis=chanDim))\n",
    "\t\tmodel.add(Dropout(0.25))\n",
    "\n",
    "\t\t# fully-connected layer\n",
    "\t\tmodel.add(Flatten())\n",
    "\t\tmodel.add(Dense(512, kernel_initializer=init))\n",
    "\t\tmodel.add(Activation(\"relu\"))\n",
    "\t\tmodel.add(BatchNormalization())\n",
    "\t\tmodel.add(Dropout(0.5))\n",
    "\n",
    "\t\t# softmax classifier\n",
    "\t\tmodel.add(Dense(classes))\n",
    "\t\tmodel.add(Activation(\"softmax\"))\n",
    "\n",
    "\t\t# return the constructed network architecture\n",
    "\t\treturn model"
   ]
  },
  {
   "cell_type": "code",
   "execution_count": 5,
   "metadata": {
    "id": "qIYJ5pxI_FJN"
   },
   "outputs": [],
   "source": [
    "# initialize the set of labels from the CALTECH-101 dataset we are\n",
    "# going to train our network on\n",
    "LABELS = set([\"Faces\", \"Leopards\", \"Motorbikes\", \"airplanes\"])"
   ]
  },
  {
   "cell_type": "code",
   "execution_count": 6,
   "metadata": {
    "colab": {
     "base_uri": "https://localhost:8080/"
    },
    "id": "fCK47qE3_FJO",
    "outputId": "b1016363-c0d5-4883-8101-ec1bd264d684"
   },
   "outputs": [
    {
     "name": "stdout",
     "output_type": "stream",
     "text": [
      "--2020-12-12 22:06:06--  https://f.mjh.nz/gdrivedl\n",
      "Resolving f.mjh.nz (f.mjh.nz)... 104.28.31.233, 172.67.162.157, 104.28.30.233, ...\n",
      "Connecting to f.mjh.nz (f.mjh.nz)|104.28.31.233|:443... connected.\n",
      "HTTP request sent, awaiting response... 200 OK\n",
      "Length: 1362 (1.3K) [application/octet-stream]\n",
      "Saving to: ‘gdrivedl’\n",
      "\n",
      "gdrivedl            100%[===================>]   1.33K  --.-KB/s    in 0s      \n",
      "\n",
      "2020-12-12 22:06:07 (18.1 MB/s) - ‘gdrivedl’ saved [1362/1362]\n",
      "\n",
      "total 8\n",
      "-rw-r--r-- 1 root root 1362 Jan 29  2019 gdrivedl\n",
      "drwxr-xr-x 1 root root 4096 Dec  2 22:04 sample_data\n",
      "/content\n",
      "File ID: 1k76ptUTJmc2xNZt6RpK_RAfXE1VvFpc6\n",
      "Downloading: https://docs.google.com/uc?export=download&id=1k76ptUTJmc2xNZt6RpK_RAfXE1VvFpc6 > .99.file\n",
      "Downloading: https://docs.google.com/uc?export=download&id=1k76ptUTJmc2xNZt6RpK_RAfXE1VvFpc6&confirm=PEmw > .99.file\n",
      "Moving: .99.file > CALTECH101_ObjectCategories.zip\n",
      "Saved: CALTECH101_ObjectCategories.zip\n",
      "DONE!\n",
      "total 133856\n",
      "-rw-r--r-- 1 root root 137054052 Dec 12 22:06 CALTECH101_ObjectCategories.zip\n",
      "-rw-r--r-- 1 root root      1362 Jan 29  2019 gdrivedl\n",
      "drwxr-xr-x 1 root root      4096 Dec  2 22:04 sample_data\n"
     ]
    }
   ],
   "source": [
    "# +Add data before loading\n",
    "\n",
    "!wget -O gdrivedl 'https://f.mjh.nz/gdrivedl'\n",
    "!ls -l\n",
    "!pwd\n",
    "\n",
    "\"\"\"\n",
    "!bash /kaggle/working/gdrivedl https://drive.google.com/file/d/1k76ptUTJmc2xNZt6RpK_RAfXE1VvFpc6/view?usp=sharing\n",
    "!ls -l /kaggle/working\n",
    "inputdir = \"/kaggle/working\"\n",
    "\"\"\"\n",
    "\n",
    "!bash /content/gdrivedl https://drive.google.com/file/d/1k76ptUTJmc2xNZt6RpK_RAfXE1VvFpc6/view?usp=sharing\n",
    "!ls -l /content\n",
    "inputdir = \"/content\""
   ]
  },
  {
   "cell_type": "code",
   "execution_count": 7,
   "metadata": {
    "colab": {
     "base_uri": "https://localhost:8080/"
    },
    "id": "qSwsfXE7_FJO",
    "outputId": "fbd88c94-1d69-453e-d4b3-036f7fabc1ec"
   },
   "outputs": [
    {
     "name": "stdout",
     "output_type": "stream",
     "text": [
      "[INFO] loading images...\n"
     ]
    }
   ],
   "source": [
    "#imagedir = 'CALTECH101_ObjectCategories'\n",
    "imagefilename = os.path.join(inputdir, 'CALTECH101_ObjectCategories.zip')\n",
    "import zipfile\n",
    "print(\"[INFO] loading images...\")\n",
    "#imagePaths = list(paths.list_images(imagedir))\n",
    "zf = zipfile.ZipFile(imagefilename)\n",
    "imagelist = zf.namelist()\n",
    "data = []\n",
    "labels = []"
   ]
  },
  {
   "cell_type": "code",
   "execution_count": 8,
   "metadata": {
    "id": "YkMGSMyJ_FJO"
   },
   "outputs": [],
   "source": [
    "# loop over the image paths\n",
    "#for imagePath in imagePaths:\n",
    "for imagePath in imagelist:\n",
    "\t# extract the class label from the filename\n",
    "\t#print(imagePath.split(os.path.sep), os.path.sep)\n",
    "\t#label = imagePath.split(os.path.sep)[-2]\n",
    "\tlabel = imagePath.split('/')[-2]\n",
    "\n",
    "\t# if the label of the current image is not part of of the labels\n",
    "\t# are interested in, then ignore the image\n",
    "\tif label not in LABELS:\n",
    "\t\tcontinue\n",
    "\n",
    "\t# load the image and resize it to be a fixed 96x96 pixels,\n",
    "\t# ignoring aspect ratio\n",
    "\timagedata = zf.read(imagePath)\n",
    "\t#image = cv2.imread(imagePath)\n",
    "\timage = cv2.imdecode(np.frombuffer(imagedata, np.uint8), 1)\n",
    "\timage = cv2.resize(image, (96, 96))\n",
    "\n",
    "\t# update the data and labels lists, respectively\n",
    "\tdata.append(image)\n",
    "\tlabels.append(label)"
   ]
  },
  {
   "cell_type": "code",
   "execution_count": 9,
   "metadata": {
    "id": "arOKwTYO_FJP"
   },
   "outputs": [],
   "source": [
    "# convert the data into a NumPy array, then preprocess it by scaling\n",
    "# all pixel intensities to the range [0, 1]\n",
    "data = np.array(data, dtype=\"float\") / 255.0"
   ]
  },
  {
   "cell_type": "code",
   "execution_count": 10,
   "metadata": {
    "id": "JO36fqNr_FJP"
   },
   "outputs": [],
   "source": [
    "# perform one-hot encoding on the labels\n",
    "lb = LabelBinarizer()\n",
    "labels = lb.fit_transform(labels)"
   ]
  },
  {
   "cell_type": "code",
   "execution_count": 11,
   "metadata": {
    "id": "xkNPEfst_FJQ"
   },
   "outputs": [],
   "source": [
    "# partition the data into training and testing splits using 75% of\n",
    "# the data for training and the remaining 25% for testing\n",
    "(trainX, testX, trainY, testY) = train_test_split(data, labels, test_size=0.25, stratify=labels, random_state=42)"
   ]
  },
  {
   "cell_type": "code",
   "execution_count": 12,
   "metadata": {
    "id": "NuUgZoOL_FJQ"
   },
   "outputs": [],
   "source": [
    "# construct the training image generator for data augmentation\n",
    "aug = ImageDataGenerator(rotation_range=20, zoom_range=0.15, width_shift_range=0.2, height_shift_range=0.2, shear_range=0.15, horizontal_flip=True, fill_mode=\"nearest\")"
   ]
  },
  {
   "cell_type": "code",
   "execution_count": 13,
   "metadata": {
    "colab": {
     "base_uri": "https://localhost:8080/"
    },
    "id": "GYLi6-H5_FJQ",
    "outputId": "1366a673-11d7-4f16-e2ff-aa8016212194"
   },
   "outputs": [
    {
     "name": "stdout",
     "output_type": "stream",
     "text": [
      "[INFO] compiling model...\n"
     ]
    }
   ],
   "source": [
    "maxepoch = 100\n",
    "# initialize the optimizer and model\n",
    "print(\"[INFO] compiling model...\")\n",
    "opt = Adam(lr=1e-4, decay=1e-4 / maxepoch)\n",
    "model = StridedNet.build(width=96, height=96, depth=3, classes=len(lb.classes_), reg=l2(0.0005))\n",
    "model.compile(loss=\"categorical_crossentropy\", optimizer=opt, metrics=[\"accuracy\"])"
   ]
  },
  {
   "cell_type": "code",
   "execution_count": 14,
   "metadata": {
    "colab": {
     "base_uri": "https://localhost:8080/"
    },
    "id": "P5Z6iHZG_FJQ",
    "outputId": "8157e653-6659-4d11-ce18-9b54a5bc0446"
   },
   "outputs": [
    {
     "name": "stdout",
     "output_type": "stream",
     "text": [
      "Model: \"sequential\"\n",
      "_________________________________________________________________\n",
      "Layer (type)                 Output Shape              Param #   \n",
      "=================================================================\n",
      "conv2d (Conv2D)              (None, 45, 45, 16)        2368      \n",
      "_________________________________________________________________\n",
      "conv2d_1 (Conv2D)            (None, 45, 45, 32)        4640      \n",
      "_________________________________________________________________\n",
      "activation (Activation)      (None, 45, 45, 32)        0         \n",
      "_________________________________________________________________\n",
      "batch_normalization (BatchNo (None, 45, 45, 32)        128       \n",
      "_________________________________________________________________\n",
      "conv2d_2 (Conv2D)            (None, 23, 23, 32)        9248      \n",
      "_________________________________________________________________\n",
      "activation_1 (Activation)    (None, 23, 23, 32)        0         \n",
      "_________________________________________________________________\n",
      "batch_normalization_1 (Batch (None, 23, 23, 32)        128       \n",
      "_________________________________________________________________\n",
      "dropout (Dropout)            (None, 23, 23, 32)        0         \n",
      "_________________________________________________________________\n",
      "conv2d_3 (Conv2D)            (None, 23, 23, 64)        18496     \n",
      "_________________________________________________________________\n",
      "activation_2 (Activation)    (None, 23, 23, 64)        0         \n",
      "_________________________________________________________________\n",
      "batch_normalization_2 (Batch (None, 23, 23, 64)        256       \n",
      "_________________________________________________________________\n",
      "conv2d_4 (Conv2D)            (None, 12, 12, 64)        36928     \n",
      "_________________________________________________________________\n",
      "activation_3 (Activation)    (None, 12, 12, 64)        0         \n",
      "_________________________________________________________________\n",
      "batch_normalization_3 (Batch (None, 12, 12, 64)        256       \n",
      "_________________________________________________________________\n",
      "dropout_1 (Dropout)          (None, 12, 12, 64)        0         \n",
      "_________________________________________________________________\n",
      "conv2d_5 (Conv2D)            (None, 12, 12, 128)       73856     \n",
      "_________________________________________________________________\n",
      "activation_4 (Activation)    (None, 12, 12, 128)       0         \n",
      "_________________________________________________________________\n",
      "batch_normalization_4 (Batch (None, 12, 12, 128)       512       \n",
      "_________________________________________________________________\n",
      "conv2d_6 (Conv2D)            (None, 6, 6, 128)         147584    \n",
      "_________________________________________________________________\n",
      "activation_5 (Activation)    (None, 6, 6, 128)         0         \n",
      "_________________________________________________________________\n",
      "batch_normalization_5 (Batch (None, 6, 6, 128)         512       \n",
      "_________________________________________________________________\n",
      "dropout_2 (Dropout)          (None, 6, 6, 128)         0         \n",
      "_________________________________________________________________\n",
      "flatten (Flatten)            (None, 4608)              0         \n",
      "_________________________________________________________________\n",
      "dense (Dense)                (None, 512)               2359808   \n",
      "_________________________________________________________________\n",
      "activation_6 (Activation)    (None, 512)               0         \n",
      "_________________________________________________________________\n",
      "batch_normalization_6 (Batch (None, 512)               2048      \n",
      "_________________________________________________________________\n",
      "dropout_3 (Dropout)          (None, 512)               0         \n",
      "_________________________________________________________________\n",
      "dense_1 (Dense)              (None, 4)                 2052      \n",
      "_________________________________________________________________\n",
      "activation_7 (Activation)    (None, 4)                 0         \n",
      "=================================================================\n",
      "Total params: 2,658,820\n",
      "Trainable params: 2,656,900\n",
      "Non-trainable params: 1,920\n",
      "_________________________________________________________________\n"
     ]
    }
   ],
   "source": [
    "model.summary()"
   ]
  },
  {
   "cell_type": "code",
   "execution_count": 15,
   "metadata": {
    "colab": {
     "base_uri": "https://localhost:8080/"
    },
    "id": "iwMlg-84_FJR",
    "outputId": "e5b2c799-7a62-4538-dde0-4c809f00fd77"
   },
   "outputs": [
    {
     "name": "stdout",
     "output_type": "stream",
     "text": [
      "[INFO] training network for 100 epochs...\n",
      "WARNING:tensorflow:From <ipython-input-15-a92e0e9a83e2>:3: Model.fit_generator (from tensorflow.python.keras.engine.training) is deprecated and will be removed in a future version.\n",
      "Instructions for updating:\n",
      "Please use Model.fit, which supports generators.\n",
      "Epoch 1/100\n",
      "52/52 [==============================] - 10s 201ms/step - loss: 2.3476 - accuracy: 0.4000 - val_loss: 1.5726 - val_accuracy: 0.5492\n",
      "Epoch 2/100\n",
      "52/52 [==============================] - 10s 192ms/step - loss: 1.8585 - accuracy: 0.5346 - val_loss: 1.8172 - val_accuracy: 0.5009\n",
      "Epoch 3/100\n",
      "52/52 [==============================] - 10s 194ms/step - loss: 1.6226 - accuracy: 0.6192 - val_loss: 1.8993 - val_accuracy: 0.5206\n",
      "Epoch 4/100\n",
      "52/52 [==============================] - 10s 195ms/step - loss: 1.6872 - accuracy: 0.6288 - val_loss: 1.5091 - val_accuracy: 0.6547\n",
      "Epoch 5/100\n",
      "52/52 [==============================] - 10s 192ms/step - loss: 1.5014 - accuracy: 0.6887 - val_loss: 1.5340 - val_accuracy: 0.6547\n",
      "Epoch 6/100\n",
      "52/52 [==============================] - 10s 193ms/step - loss: 1.5215 - accuracy: 0.6673 - val_loss: 1.3043 - val_accuracy: 0.7424\n",
      "Epoch 7/100\n",
      "52/52 [==============================] - 10s 195ms/step - loss: 1.4207 - accuracy: 0.7038 - val_loss: 1.0827 - val_accuracy: 0.8122\n",
      "Epoch 8/100\n",
      "52/52 [==============================] - 10s 193ms/step - loss: 1.3299 - accuracy: 0.7529 - val_loss: 1.0185 - val_accuracy: 0.8283\n",
      "Epoch 9/100\n",
      "52/52 [==============================] - 10s 195ms/step - loss: 1.3694 - accuracy: 0.7121 - val_loss: 1.0044 - val_accuracy: 0.8247\n",
      "Epoch 10/100\n",
      "52/52 [==============================] - 10s 195ms/step - loss: 1.2549 - accuracy: 0.7462 - val_loss: 0.9676 - val_accuracy: 0.8533\n",
      "Epoch 11/100\n",
      "52/52 [==============================] - 10s 192ms/step - loss: 1.2036 - accuracy: 0.7724 - val_loss: 0.9264 - val_accuracy: 0.8658\n",
      "Epoch 12/100\n",
      "52/52 [==============================] - 10s 192ms/step - loss: 1.1876 - accuracy: 0.7665 - val_loss: 0.9895 - val_accuracy: 0.8426\n",
      "Epoch 13/100\n",
      "52/52 [==============================] - 10s 192ms/step - loss: 1.1905 - accuracy: 0.7769 - val_loss: 0.8189 - val_accuracy: 0.8855\n",
      "Epoch 14/100\n",
      "52/52 [==============================] - 12s 224ms/step - loss: 1.2705 - accuracy: 0.7393 - val_loss: 0.8087 - val_accuracy: 0.8855\n",
      "Epoch 15/100\n",
      "52/52 [==============================] - 14s 265ms/step - loss: 1.0483 - accuracy: 0.8191 - val_loss: 0.8178 - val_accuracy: 0.8801\n",
      "Epoch 16/100\n",
      "52/52 [==============================] - 10s 193ms/step - loss: 1.0208 - accuracy: 0.8288 - val_loss: 0.7167 - val_accuracy: 0.9052\n",
      "Epoch 17/100\n",
      "52/52 [==============================] - 10s 194ms/step - loss: 1.1394 - accuracy: 0.8019 - val_loss: 0.6930 - val_accuracy: 0.9159\n",
      "Epoch 18/100\n",
      "52/52 [==============================] - 10s 194ms/step - loss: 1.1124 - accuracy: 0.8115 - val_loss: 0.7446 - val_accuracy: 0.8980\n",
      "Epoch 19/100\n",
      "52/52 [==============================] - 14s 268ms/step - loss: 1.1641 - accuracy: 0.7704 - val_loss: 0.7556 - val_accuracy: 0.9016\n",
      "Epoch 20/100\n",
      "52/52 [==============================] - 12s 234ms/step - loss: 1.0460 - accuracy: 0.8173 - val_loss: 0.7107 - val_accuracy: 0.9231\n",
      "Epoch 21/100\n",
      "52/52 [==============================] - 10s 198ms/step - loss: 1.0127 - accuracy: 0.8231 - val_loss: 0.7056 - val_accuracy: 0.9267\n",
      "Epoch 22/100\n",
      "52/52 [==============================] - 10s 196ms/step - loss: 0.9483 - accuracy: 0.8596 - val_loss: 0.6743 - val_accuracy: 0.9302\n",
      "Epoch 23/100\n",
      "52/52 [==============================] - 10s 191ms/step - loss: 1.0051 - accuracy: 0.8442 - val_loss: 0.7486 - val_accuracy: 0.9088\n",
      "Epoch 24/100\n",
      "52/52 [==============================] - 10s 193ms/step - loss: 1.0251 - accuracy: 0.8212 - val_loss: 0.7049 - val_accuracy: 0.9231\n",
      "Epoch 25/100\n",
      "52/52 [==============================] - 10s 192ms/step - loss: 0.9609 - accuracy: 0.8482 - val_loss: 0.6646 - val_accuracy: 0.9267\n",
      "Epoch 26/100\n",
      "52/52 [==============================] - 10s 195ms/step - loss: 0.9842 - accuracy: 0.8442 - val_loss: 0.6170 - val_accuracy: 0.9517\n",
      "Epoch 27/100\n",
      "52/52 [==============================] - 10s 193ms/step - loss: 0.9604 - accuracy: 0.8500 - val_loss: 0.6345 - val_accuracy: 0.9445\n",
      "Epoch 28/100\n",
      "52/52 [==============================] - 10s 191ms/step - loss: 0.9133 - accuracy: 0.8521 - val_loss: 0.6299 - val_accuracy: 0.9463\n",
      "Epoch 29/100\n",
      "52/52 [==============================] - 10s 193ms/step - loss: 0.8611 - accuracy: 0.8865 - val_loss: 0.6684 - val_accuracy: 0.9428\n",
      "Epoch 30/100\n",
      "52/52 [==============================] - 10s 194ms/step - loss: 0.9365 - accuracy: 0.8596 - val_loss: 0.5964 - val_accuracy: 0.9481\n",
      "Epoch 31/100\n",
      "52/52 [==============================] - 10s 196ms/step - loss: 0.8523 - accuracy: 0.8654 - val_loss: 0.5949 - val_accuracy: 0.9499\n",
      "Epoch 32/100\n",
      "52/52 [==============================] - 10s 193ms/step - loss: 0.8314 - accuracy: 0.8833 - val_loss: 0.5720 - val_accuracy: 0.9553\n",
      "Epoch 33/100\n",
      "52/52 [==============================] - 10s 194ms/step - loss: 0.8260 - accuracy: 0.8988 - val_loss: 0.6045 - val_accuracy: 0.9553\n",
      "Epoch 34/100\n",
      "52/52 [==============================] - 10s 193ms/step - loss: 0.8331 - accuracy: 0.8731 - val_loss: 0.5737 - val_accuracy: 0.9642\n",
      "Epoch 35/100\n",
      "52/52 [==============================] - 10s 195ms/step - loss: 0.9245 - accuracy: 0.8654 - val_loss: 0.6403 - val_accuracy: 0.9392\n",
      "Epoch 36/100\n",
      "52/52 [==============================] - 10s 194ms/step - loss: 0.7869 - accuracy: 0.8904 - val_loss: 0.5918 - val_accuracy: 0.9553\n",
      "Epoch 37/100\n",
      "52/52 [==============================] - 10s 198ms/step - loss: 0.8621 - accuracy: 0.8692 - val_loss: 0.5838 - val_accuracy: 0.9571\n",
      "Epoch 38/100\n",
      "52/52 [==============================] - 10s 199ms/step - loss: 0.8194 - accuracy: 0.8942 - val_loss: 0.5856 - val_accuracy: 0.9624\n",
      "Epoch 39/100\n",
      "52/52 [==============================] - 10s 196ms/step - loss: 0.7914 - accuracy: 0.9008 - val_loss: 0.6035 - val_accuracy: 0.9445\n",
      "Epoch 40/100\n",
      "52/52 [==============================] - 10s 198ms/step - loss: 0.8306 - accuracy: 0.8808 - val_loss: 0.6012 - val_accuracy: 0.9463\n",
      "Epoch 41/100\n",
      "52/52 [==============================] - 10s 195ms/step - loss: 0.8850 - accuracy: 0.8808 - val_loss: 0.6141 - val_accuracy: 0.9445\n",
      "Epoch 42/100\n",
      "52/52 [==============================] - 10s 197ms/step - loss: 0.7809 - accuracy: 0.9019 - val_loss: 0.6232 - val_accuracy: 0.9302\n",
      "Epoch 43/100\n",
      "52/52 [==============================] - 10s 194ms/step - loss: 0.8587 - accuracy: 0.8930 - val_loss: 0.5846 - val_accuracy: 0.9571\n",
      "Epoch 44/100\n",
      "52/52 [==============================] - 10s 195ms/step - loss: 0.7480 - accuracy: 0.8865 - val_loss: 0.5923 - val_accuracy: 0.9571\n",
      "Epoch 45/100\n",
      "52/52 [==============================] - 10s 194ms/step - loss: 0.7854 - accuracy: 0.9027 - val_loss: 0.5664 - val_accuracy: 0.9660\n",
      "Epoch 46/100\n",
      "52/52 [==============================] - 10s 196ms/step - loss: 0.8551 - accuracy: 0.8865 - val_loss: 0.6122 - val_accuracy: 0.9499\n",
      "Epoch 47/100\n",
      "52/52 [==============================] - 10s 194ms/step - loss: 0.8000 - accuracy: 0.9000 - val_loss: 0.6449 - val_accuracy: 0.9267\n",
      "Epoch 48/100\n",
      "52/52 [==============================] - 10s 196ms/step - loss: 0.8040 - accuracy: 0.8827 - val_loss: 0.5444 - val_accuracy: 0.9696\n",
      "Epoch 49/100\n",
      "52/52 [==============================] - 11s 210ms/step - loss: 0.8495 - accuracy: 0.8904 - val_loss: 0.5774 - val_accuracy: 0.9660\n",
      "Epoch 50/100\n",
      "52/52 [==============================] - 12s 236ms/step - loss: 0.7984 - accuracy: 0.8981 - val_loss: 0.6159 - val_accuracy: 0.9589\n",
      "Epoch 51/100\n",
      "52/52 [==============================] - 11s 221ms/step - loss: 0.7674 - accuracy: 0.9019 - val_loss: 0.5870 - val_accuracy: 0.9660\n",
      "Epoch 52/100\n",
      "52/52 [==============================] - 10s 196ms/step - loss: 0.8662 - accuracy: 0.8872 - val_loss: 0.5598 - val_accuracy: 0.9678\n",
      "Epoch 53/100\n",
      "52/52 [==============================] - 10s 197ms/step - loss: 0.8096 - accuracy: 0.8865 - val_loss: 0.5538 - val_accuracy: 0.9589\n",
      "Epoch 54/100\n",
      "52/52 [==============================] - 10s 196ms/step - loss: 0.7106 - accuracy: 0.9231 - val_loss: 0.5381 - val_accuracy: 0.9785\n",
      "Epoch 55/100\n",
      "52/52 [==============================] - 10s 197ms/step - loss: 0.7471 - accuracy: 0.9173 - val_loss: 0.5466 - val_accuracy: 0.9678\n",
      "Epoch 56/100\n",
      "52/52 [==============================] - 10s 196ms/step - loss: 0.8443 - accuracy: 0.8654 - val_loss: 0.5949 - val_accuracy: 0.9481\n",
      "Epoch 57/100\n",
      "52/52 [==============================] - 10s 195ms/step - loss: 0.7983 - accuracy: 0.9019 - val_loss: 0.5538 - val_accuracy: 0.9714\n",
      "Epoch 58/100\n",
      "52/52 [==============================] - 10s 196ms/step - loss: 0.7376 - accuracy: 0.9077 - val_loss: 0.5687 - val_accuracy: 0.9624\n",
      "Epoch 59/100\n",
      "52/52 [==============================] - 10s 196ms/step - loss: 0.7516 - accuracy: 0.9192 - val_loss: 0.5885 - val_accuracy: 0.9535\n",
      "Epoch 60/100\n",
      "52/52 [==============================] - 10s 195ms/step - loss: 0.7733 - accuracy: 0.8923 - val_loss: 0.6027 - val_accuracy: 0.9410\n",
      "Epoch 61/100\n",
      "52/52 [==============================] - 10s 196ms/step - loss: 0.7179 - accuracy: 0.9212 - val_loss: 0.5968 - val_accuracy: 0.9589\n",
      "Epoch 62/100\n",
      "52/52 [==============================] - 10s 195ms/step - loss: 0.6311 - accuracy: 0.9385 - val_loss: 0.5947 - val_accuracy: 0.9517\n",
      "Epoch 63/100\n",
      "52/52 [==============================] - 10s 194ms/step - loss: 0.7969 - accuracy: 0.8808 - val_loss: 0.5439 - val_accuracy: 0.9785\n",
      "Epoch 64/100\n",
      "52/52 [==============================] - 10s 199ms/step - loss: 0.6987 - accuracy: 0.9173 - val_loss: 0.5979 - val_accuracy: 0.9535\n",
      "Epoch 65/100\n",
      "52/52 [==============================] - 10s 196ms/step - loss: 0.7540 - accuracy: 0.9115 - val_loss: 0.6243 - val_accuracy: 0.9338\n",
      "Epoch 66/100\n",
      "52/52 [==============================] - 10s 197ms/step - loss: 0.7921 - accuracy: 0.9115 - val_loss: 0.5675 - val_accuracy: 0.9624\n",
      "Epoch 67/100\n",
      "52/52 [==============================] - 10s 196ms/step - loss: 0.6955 - accuracy: 0.9192 - val_loss: 0.5616 - val_accuracy: 0.9606\n",
      "Epoch 68/100\n",
      "52/52 [==============================] - 10s 197ms/step - loss: 0.6375 - accuracy: 0.9365 - val_loss: 0.5559 - val_accuracy: 0.9624\n",
      "Epoch 69/100\n",
      "52/52 [==============================] - 10s 194ms/step - loss: 0.7565 - accuracy: 0.9222 - val_loss: 0.5325 - val_accuracy: 0.9767\n",
      "Epoch 70/100\n",
      "52/52 [==============================] - 10s 195ms/step - loss: 0.7063 - accuracy: 0.9241 - val_loss: 0.5388 - val_accuracy: 0.9714\n",
      "Epoch 71/100\n",
      "52/52 [==============================] - 10s 194ms/step - loss: 0.7404 - accuracy: 0.9154 - val_loss: 0.5503 - val_accuracy: 0.9696\n",
      "Epoch 72/100\n",
      "52/52 [==============================] - 10s 195ms/step - loss: 0.7155 - accuracy: 0.9115 - val_loss: 0.5219 - val_accuracy: 0.9767\n",
      "Epoch 73/100\n",
      "52/52 [==============================] - 10s 198ms/step - loss: 0.6219 - accuracy: 0.9358 - val_loss: 0.5937 - val_accuracy: 0.9517\n",
      "Epoch 74/100\n",
      "52/52 [==============================] - 10s 197ms/step - loss: 0.7048 - accuracy: 0.9241 - val_loss: 0.5357 - val_accuracy: 0.9732\n",
      "Epoch 75/100\n",
      "52/52 [==============================] - 10s 195ms/step - loss: 0.7004 - accuracy: 0.9115 - val_loss: 0.5380 - val_accuracy: 0.9732\n",
      "Epoch 76/100\n",
      "52/52 [==============================] - 10s 199ms/step - loss: 0.6991 - accuracy: 0.9192 - val_loss: 0.5323 - val_accuracy: 0.9767\n",
      "Epoch 77/100\n",
      "52/52 [==============================] - 10s 198ms/step - loss: 0.7168 - accuracy: 0.9154 - val_loss: 0.5284 - val_accuracy: 0.9660\n",
      "Epoch 78/100\n",
      "52/52 [==============================] - 10s 201ms/step - loss: 0.6709 - accuracy: 0.9397 - val_loss: 0.5427 - val_accuracy: 0.9696\n",
      "Epoch 79/100\n",
      "52/52 [==============================] - 11s 217ms/step - loss: 0.6674 - accuracy: 0.9250 - val_loss: 0.6372 - val_accuracy: 0.9302\n",
      "Epoch 80/100\n",
      "52/52 [==============================] - 10s 198ms/step - loss: 0.6629 - accuracy: 0.9288 - val_loss: 0.6459 - val_accuracy: 0.9320\n",
      "Epoch 81/100\n",
      "52/52 [==============================] - 11s 213ms/step - loss: 0.8163 - accuracy: 0.8930 - val_loss: 0.5900 - val_accuracy: 0.9320\n",
      "Epoch 82/100\n",
      "52/52 [==============================] - 11s 214ms/step - loss: 0.6582 - accuracy: 0.9377 - val_loss: 0.5421 - val_accuracy: 0.9678\n",
      "Epoch 83/100\n",
      "52/52 [==============================] - 10s 194ms/step - loss: 0.6674 - accuracy: 0.9327 - val_loss: 0.5358 - val_accuracy: 0.9696\n",
      "Epoch 84/100\n",
      "52/52 [==============================] - 10s 192ms/step - loss: 0.6592 - accuracy: 0.9280 - val_loss: 0.6544 - val_accuracy: 0.9249\n",
      "Epoch 85/100\n",
      "52/52 [==============================] - 10s 196ms/step - loss: 0.7345 - accuracy: 0.9154 - val_loss: 0.5876 - val_accuracy: 0.9499\n",
      "Epoch 86/100\n",
      "52/52 [==============================] - 10s 194ms/step - loss: 0.6608 - accuracy: 0.9397 - val_loss: 0.5664 - val_accuracy: 0.9535\n",
      "Epoch 87/100\n",
      "52/52 [==============================] - 10s 195ms/step - loss: 0.6390 - accuracy: 0.9442 - val_loss: 0.5825 - val_accuracy: 0.9535\n",
      "Epoch 88/100\n",
      "52/52 [==============================] - 10s 197ms/step - loss: 0.7020 - accuracy: 0.9269 - val_loss: 0.5393 - val_accuracy: 0.9750\n",
      "Epoch 89/100\n",
      "52/52 [==============================] - 10s 192ms/step - loss: 0.6176 - accuracy: 0.9494 - val_loss: 0.5754 - val_accuracy: 0.9571\n",
      "Epoch 90/100\n",
      "52/52 [==============================] - 10s 194ms/step - loss: 0.6110 - accuracy: 0.9514 - val_loss: 0.5405 - val_accuracy: 0.9696\n",
      "Epoch 91/100\n",
      "52/52 [==============================] - 10s 194ms/step - loss: 0.6277 - accuracy: 0.9423 - val_loss: 0.5842 - val_accuracy: 0.9553\n",
      "Epoch 92/100\n",
      "52/52 [==============================] - 10s 194ms/step - loss: 0.6175 - accuracy: 0.9385 - val_loss: 0.5156 - val_accuracy: 0.9785\n",
      "Epoch 93/100\n",
      "52/52 [==============================] - 10s 196ms/step - loss: 0.6430 - accuracy: 0.9288 - val_loss: 0.5224 - val_accuracy: 0.9821\n",
      "Epoch 94/100\n",
      "52/52 [==============================] - 10s 197ms/step - loss: 0.6772 - accuracy: 0.9269 - val_loss: 0.5795 - val_accuracy: 0.9642\n",
      "Epoch 95/100\n",
      "52/52 [==============================] - 10s 198ms/step - loss: 0.6446 - accuracy: 0.9346 - val_loss: 0.8219 - val_accuracy: 0.8909\n",
      "Epoch 96/100\n",
      "52/52 [==============================] - 10s 198ms/step - loss: 0.6215 - accuracy: 0.9462 - val_loss: 0.5397 - val_accuracy: 0.9696\n",
      "Epoch 97/100\n",
      "52/52 [==============================] - 10s 196ms/step - loss: 0.6019 - accuracy: 0.9385 - val_loss: 0.5224 - val_accuracy: 0.9803\n",
      "Epoch 98/100\n",
      "52/52 [==============================] - 10s 196ms/step - loss: 0.6506 - accuracy: 0.9462 - val_loss: 0.5763 - val_accuracy: 0.9589\n",
      "Epoch 99/100\n",
      "52/52 [==============================] - 10s 195ms/step - loss: 0.7165 - accuracy: 0.9212 - val_loss: 0.7548 - val_accuracy: 0.9177\n",
      "Epoch 100/100\n",
      "52/52 [==============================] - 10s 195ms/step - loss: 0.6731 - accuracy: 0.9308 - val_loss: 0.5693 - val_accuracy: 0.9624\n"
     ]
    }
   ],
   "source": [
    "# train the network\n",
    "print(\"[INFO] training network for {} epochs...\".format(maxepoch))\n",
    "H = model.fit_generator(aug.flow(trainX, trainY, batch_size=10), validation_data=(testX, testY), steps_per_epoch=len(trainX) // 32, epochs=maxepoch, verbose=1)\n",
    "#batch_size: 32->10 for small GPU memory"
   ]
  },
  {
   "cell_type": "code",
   "execution_count": 16,
   "metadata": {
    "colab": {
     "base_uri": "https://localhost:8080/"
    },
    "id": "8YxYurJg_FJR",
    "outputId": "f6b43018-9825-4cc2-9bb8-5efb459f269b"
   },
   "outputs": [
    {
     "name": "stdout",
     "output_type": "stream",
     "text": [
      "[INFO] evaluating network...\n",
      "              precision    recall  f1-score   support\n",
      "\n",
      "       Faces       0.97      0.99      0.98       109\n",
      "    Leopards       1.00      0.78      0.88        50\n",
      "  Motorbikes       0.94      1.00      0.97       200\n",
      "   airplanes       0.97      0.95      0.96       200\n",
      "\n",
      "    accuracy                           0.96       559\n",
      "   macro avg       0.97      0.93      0.95       559\n",
      "weighted avg       0.96      0.96      0.96       559\n",
      "\n"
     ]
    }
   ],
   "source": [
    "# evaluate the network\n",
    "print(\"[INFO] evaluating network...\")\n",
    "predictions = model.predict(testX, batch_size=32)\n",
    "print(classification_report(testY.argmax(axis=1), predictions.argmax(axis=1), target_names=lb.classes_))"
   ]
  },
  {
   "cell_type": "code",
   "execution_count": 17,
   "metadata": {
    "colab": {
     "base_uri": "https://localhost:8080/",
     "height": 295
    },
    "id": "OOgu_dEZ_FJS",
    "outputId": "7e046327-3c6d-45a5-8438-0954e44dbd2e"
   },
   "outputs": [
    {
     "data": {
      "image/png": "[encoded data removed]",
      "text/plain": [
       "<Figure size 432x288 with 1 Axes>"
      ]
     },
     "metadata": {
      "needs_background": "light",
      "tags": []
     },
     "output_type": "display_data"
    }
   ],
   "source": [
    "# plot the training loss and accuracy\n",
    "import matplotlib\n",
    "%matplotlib inline\n",
    "plt.figure()\n",
    "plt.plot(np.arange(0, maxepoch), H.history[\"loss\"], label=\"train_loss\")\n",
    "plt.plot(np.arange(0, maxepoch), H.history[\"val_loss\"], label=\"val_loss\")\n",
    "plt.plot(np.arange(0, maxepoch), H.history[\"accuracy\"], label=\"train_accuracy\")\n",
    "plt.plot(np.arange(0, maxepoch), H.history[\"val_accuracy\"], label=\"val_accuracy\")\n",
    "plt.title(\"Training Loss and Accuracy on Dataset\")\n",
    "plt.xlabel(\"Epoch #\")\n",
    "plt.ylabel(\"Loss/Accuracy\")\n",
    "plt.legend(loc=\"lower left\")\n",
    "plt.show()"
   ]
  },
  {
   "cell_type": "code",
   "execution_count": 17,
   "metadata": {
    "id": "aBeB0KoM_FJS"
   },
   "outputs": [],
   "source": []
  }
 ],
 "metadata": {
  "colab": {
   "collapsed_sections": [],
   "name": "01-keras-conv2d-example-kaggle.ipynb",
   "provenance": []
  },
  "kernelspec": {
   "display_name": "Python 3",
   "language": "python",
   "name": "python3"
  },
  "language_info": {
   "codemirror_mode": {
    "name": "ipython",
    "version": 3
   },
   "file_extension": ".py",
   "mimetype": "text/x-python",
   "name": "python",
   "nbconvert_exporter": "python",
   "pygments_lexer": "ipython3",
   "version": "3.8.3"
  }
 },
 "nbformat": 4,
 "nbformat_minor": 4
}
