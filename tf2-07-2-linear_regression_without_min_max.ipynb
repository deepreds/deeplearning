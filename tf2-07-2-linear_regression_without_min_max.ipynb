{
 "cells": [
  {
   "cell_type": "code",
   "execution_count": 11,
   "metadata": {},
   "outputs": [],
   "source": [
    "import tensorflow as tf\n",
    "import numpy as np"
   ]
  },
  {
   "cell_type": "code",
   "execution_count": 12,
   "metadata": {},
   "outputs": [
    {
     "name": "stdout",
     "output_type": "stream",
     "text": [
      "1 Physical GPUs, 1 Logical GPUs\n"
     ]
    }
   ],
   "source": [
    "import os\n",
    "os.environ['TF_CPP_MIN_LOG_LEVEL'] = '3'\n",
    "os.environ[\"CUDA_DEVICE_ORDER\"] = \"PCI_BUS_ID\"\n",
    "os.environ[\"CUDA_VISIBLE_DEVICES\"] = '0' # Set to -1 if CPU should be used CPU = -1 , GPU = 0\n",
    "\n",
    "gpus = tf.config.experimental.list_physical_devices('GPU')\n",
    "cpus = tf.config.experimental.list_physical_devices('CPU')\n",
    "\n",
    "if gpus:\n",
    "    try:\n",
    "        # Currently, memory growth needs to be the same across GPUs\n",
    "        for gpu in gpus:\n",
    "            tf.config.experimental.set_memory_growth(gpu, True)\n",
    "        logical_gpus = tf.config.experimental.list_logical_devices('GPU')\n",
    "        print(len(gpus), \"Physical GPUs,\", len(logical_gpus), \"Logical GPUs\")\n",
    "    except RuntimeError as e:\n",
    "        # Memory growth must be set before GPUs have been initialized\n",
    "        print(e)\n",
    "elif cpus:\n",
    "    try:\n",
    "        # Currently, memory growth needs to be the same across GPUs\n",
    "        logical_cpus= tf.config.experimental.list_logical_devices('CPU')\n",
    "        print(len(cpus), \"Physical CPU,\", len(logical_cpus), \"Logical CPU\")\n",
    "    except RuntimeError as e:\n",
    "        # Memory growth must be set before GPUs have been initialized\n",
    "        print(e)"
   ]
  },
  {
   "cell_type": "code",
   "execution_count": 13,
   "metadata": {},
   "outputs": [],
   "source": [
    "xy = np.array([[828.659973, 833.450012, 908100, 828.349976, 831.659973],\n",
    "               [823.02002, 828.070007, 1828100, 821.655029, 828.070007],\n",
    "               [819.929993, 824.400024, 1438100, 818.97998, 824.159973],\n",
    "               [816, 820.958984, 1008100, 815.48999, 819.23999],\n",
    "               [819.359985, 823, 1188100, 818.469971, 818.97998],\n",
    "               [819, 823, 1198100, 816, 820.450012],\n",
    "               [811.700012, 815.25, 1098100, 809.780029, 813.669983],\n",
    "               [809.51001, 816.659973, 1398100, 804.539978, 809.559998]])"
   ]
  },
  {
   "cell_type": "code",
   "execution_count": 14,
   "metadata": {},
   "outputs": [],
   "source": [
    "x_data = xy[:, 0:-1]\n",
    "y_data = xy[:, [-1]]"
   ]
  },
  {
   "cell_type": "code",
   "execution_count": 15,
   "metadata": {},
   "outputs": [],
   "source": [
    "model = tf.keras.Sequential()"
   ]
  },
  {
   "cell_type": "code",
   "execution_count": 16,
   "metadata": {},
   "outputs": [],
   "source": [
    "model.add(tf.keras.layers.Dense(units=1, input_dim=4))"
   ]
  },
  {
   "cell_type": "code",
   "execution_count": 17,
   "metadata": {},
   "outputs": [],
   "source": [
    "model.add(tf.keras.layers.Activation('linear'))"
   ]
  },
  {
   "cell_type": "code",
   "execution_count": 18,
   "metadata": {},
   "outputs": [],
   "source": [
    "model.compile(loss='mse', optimizer=tf.keras.optimizers.SGD(lr=1e-5))"
   ]
  },
  {
   "cell_type": "code",
   "execution_count": 19,
   "metadata": {},
   "outputs": [
    {
     "name": "stdout",
     "output_type": "stream",
     "text": [
      "Model: \"sequential_1\"\n",
      "_________________________________________________________________\n",
      "Layer (type)                 Output Shape              Param #   \n",
      "=================================================================\n",
      "dense_1 (Dense)              (None, 1)                 5         \n",
      "_________________________________________________________________\n",
      "activation_1 (Activation)    (None, 1)                 0         \n",
      "=================================================================\n",
      "Total params: 5\n",
      "Trainable params: 5\n",
      "Non-trainable params: 0\n",
      "_________________________________________________________________\n"
     ]
    }
   ],
   "source": [
    "model.summary()"
   ]
  },
  {
   "cell_type": "code",
   "execution_count": 20,
   "metadata": {},
   "outputs": [
    {
     "name": "stdout",
     "output_type": "stream",
     "text": [
      "Epoch 1/100\n",
      "1/1 [==============================] - 0s 1ms/step - loss: 168727085056.0000\n",
      "Epoch 2/100\n",
      "1/1 [==============================] - 0s 1ms/step - loss: 185377123474346428988391424.0000\n",
      "Epoch 3/100\n",
      "1/1 [==============================] - 0s 3ms/step - loss: inf\n",
      "Epoch 4/100\n",
      "1/1 [==============================] - 0s 1ms/step - loss: inf\n",
      "Epoch 5/100\n",
      "1/1 [==============================] - 0s 1ms/step - loss: inf\n",
      "Epoch 6/100\n",
      "1/1 [==============================] - 0s 1ms/step - loss: inf\n",
      "Epoch 7/100\n",
      "1/1 [==============================] - 0s 2ms/step - loss: nan\n",
      "Epoch 8/100\n",
      "1/1 [==============================] - 0s 1ms/step - loss: nan\n",
      "Epoch 9/100\n",
      "1/1 [==============================] - 0s 2ms/step - loss: nan\n",
      "Epoch 10/100\n",
      "1/1 [==============================] - 0s 2ms/step - loss: nan\n",
      "Epoch 11/100\n",
      "1/1 [==============================] - 0s 997us/step - loss: nan\n",
      "Epoch 12/100\n",
      "1/1 [==============================] - 0s 2ms/step - loss: nan\n",
      "Epoch 13/100\n",
      "1/1 [==============================] - 0s 2ms/step - loss: nan\n",
      "Epoch 14/100\n",
      "1/1 [==============================] - 0s 2ms/step - loss: nan\n",
      "Epoch 15/100\n",
      "1/1 [==============================] - 0s 2ms/step - loss: nan\n",
      "Epoch 16/100\n",
      "1/1 [==============================] - 0s 3ms/step - loss: nan\n",
      "Epoch 17/100\n",
      "1/1 [==============================] - 0s 2ms/step - loss: nan\n",
      "Epoch 18/100\n",
      "1/1 [==============================] - 0s 4ms/step - loss: nan\n",
      "Epoch 19/100\n",
      "1/1 [==============================] - 0s 2ms/step - loss: nan\n",
      "Epoch 20/100\n",
      "1/1 [==============================] - 0s 2ms/step - loss: nan\n",
      "Epoch 21/100\n",
      "1/1 [==============================] - 0s 2ms/step - loss: nan\n",
      "Epoch 22/100\n",
      "1/1 [==============================] - 0s 3ms/step - loss: nan\n",
      "Epoch 23/100\n",
      "1/1 [==============================] - 0s 2ms/step - loss: nan\n",
      "Epoch 24/100\n",
      "1/1 [==============================] - 0s 2ms/step - loss: nan\n",
      "Epoch 25/100\n",
      "1/1 [==============================] - 0s 2ms/step - loss: nan\n",
      "Epoch 26/100\n",
      "1/1 [==============================] - 0s 1ms/step - loss: nan\n",
      "Epoch 27/100\n",
      "1/1 [==============================] - 0s 1ms/step - loss: nan\n",
      "Epoch 28/100\n",
      "1/1 [==============================] - 0s 2ms/step - loss: nan\n",
      "Epoch 29/100\n",
      "1/1 [==============================] - 0s 999us/step - loss: nan\n",
      "Epoch 30/100\n",
      "1/1 [==============================] - 0s 2ms/step - loss: nan\n",
      "Epoch 31/100\n",
      "1/1 [==============================] - 0s 2ms/step - loss: nan\n",
      "Epoch 32/100\n",
      "1/1 [==============================] - 0s 2ms/step - loss: nan\n",
      "Epoch 33/100\n",
      "1/1 [==============================] - 0s 2ms/step - loss: nan\n",
      "Epoch 34/100\n",
      "1/1 [==============================] - 0s 3ms/step - loss: nan\n",
      "Epoch 35/100\n",
      "1/1 [==============================] - 0s 1ms/step - loss: nan\n",
      "Epoch 36/100\n",
      "1/1 [==============================] - 0s 2ms/step - loss: nan\n",
      "Epoch 37/100\n",
      "1/1 [==============================] - 0s 2ms/step - loss: nan\n",
      "Epoch 38/100\n",
      "1/1 [==============================] - 0s 2ms/step - loss: nan\n",
      "Epoch 39/100\n",
      "1/1 [==============================] - 0s 2ms/step - loss: nan\n",
      "Epoch 40/100\n",
      "1/1 [==============================] - 0s 1ms/step - loss: nan\n",
      "Epoch 41/100\n",
      "1/1 [==============================] - 0s 2ms/step - loss: nan\n",
      "Epoch 42/100\n",
      "1/1 [==============================] - 0s 1000us/step - loss: nan\n",
      "Epoch 43/100\n",
      "1/1 [==============================] - 0s 1000us/step - loss: nan\n",
      "Epoch 44/100\n",
      "1/1 [==============================] - 0s 2ms/step - loss: nan\n",
      "Epoch 45/100\n",
      "1/1 [==============================] - 0s 2ms/step - loss: nan\n",
      "Epoch 46/100\n",
      "1/1 [==============================] - 0s 2ms/step - loss: nan\n",
      "Epoch 47/100\n",
      "1/1 [==============================] - 0s 2ms/step - loss: nan\n",
      "Epoch 48/100\n",
      "1/1 [==============================] - 0s 999us/step - loss: nan\n",
      "Epoch 49/100\n",
      "1/1 [==============================] - 0s 2ms/step - loss: nan\n",
      "Epoch 50/100\n",
      "1/1 [==============================] - 0s 998us/step - loss: nan\n",
      "Epoch 51/100\n",
      "1/1 [==============================] - 0s 2ms/step - loss: nan\n",
      "Epoch 52/100\n",
      "1/1 [==============================] - 0s 2ms/step - loss: nan\n",
      "Epoch 53/100\n",
      "1/1 [==============================] - 0s 2ms/step - loss: nan\n",
      "Epoch 54/100\n",
      "1/1 [==============================] - 0s 4ms/step - loss: nan\n",
      "Epoch 55/100\n",
      "1/1 [==============================] - 0s 2ms/step - loss: nan\n",
      "Epoch 56/100\n",
      "1/1 [==============================] - 0s 999us/step - loss: nan\n",
      "Epoch 57/100\n",
      "1/1 [==============================] - 0s 2ms/step - loss: nan\n",
      "Epoch 58/100\n",
      "1/1 [==============================] - 0s 2ms/step - loss: nan\n",
      "Epoch 59/100\n",
      "1/1 [==============================] - 0s 2ms/step - loss: nan\n",
      "Epoch 60/100\n",
      "1/1 [==============================] - 0s 2ms/step - loss: nan\n",
      "Epoch 61/100\n",
      "1/1 [==============================] - 0s 2ms/step - loss: nan\n",
      "Epoch 62/100\n",
      "1/1 [==============================] - 0s 2ms/step - loss: nan\n",
      "Epoch 63/100\n",
      "1/1 [==============================] - 0s 2ms/step - loss: nan\n",
      "Epoch 64/100\n",
      "1/1 [==============================] - 0s 1000us/step - loss: nan\n",
      "Epoch 65/100\n",
      "1/1 [==============================] - 0s 2ms/step - loss: nan\n",
      "Epoch 66/100\n",
      "1/1 [==============================] - 0s 1ms/step - loss: nan\n",
      "Epoch 67/100\n",
      "1/1 [==============================] - 0s 2ms/step - loss: nan\n",
      "Epoch 68/100\n",
      "1/1 [==============================] - 0s 998us/step - loss: nan\n",
      "Epoch 69/100\n",
      "1/1 [==============================] - 0s 2ms/step - loss: nan\n",
      "Epoch 70/100\n",
      "1/1 [==============================] - 0s 999us/step - loss: nan\n",
      "Epoch 71/100\n",
      "1/1 [==============================] - 0s 1ms/step - loss: nan\n",
      "Epoch 72/100\n",
      "1/1 [==============================] - 0s 1ms/step - loss: nan\n",
      "Epoch 73/100\n",
      "1/1 [==============================] - 0s 2ms/step - loss: nan\n",
      "Epoch 74/100\n",
      "1/1 [==============================] - 0s 2ms/step - loss: nan\n",
      "Epoch 75/100\n",
      "1/1 [==============================] - 0s 3ms/step - loss: nan\n",
      "Epoch 76/100\n",
      "1/1 [==============================] - 0s 2ms/step - loss: nan\n",
      "Epoch 77/100\n",
      "1/1 [==============================] - 0s 2ms/step - loss: nan\n",
      "Epoch 78/100\n",
      "1/1 [==============================] - 0s 1ms/step - loss: nan\n",
      "Epoch 79/100\n",
      "1/1 [==============================] - 0s 2ms/step - loss: nan\n",
      "Epoch 80/100\n",
      "1/1 [==============================] - 0s 2ms/step - loss: nan\n",
      "Epoch 81/100\n",
      "1/1 [==============================] - 0s 999us/step - loss: nan\n",
      "Epoch 82/100\n",
      "1/1 [==============================] - 0s 2ms/step - loss: nan\n",
      "Epoch 83/100\n",
      "1/1 [==============================] - 0s 1ms/step - loss: nan\n",
      "Epoch 84/100\n",
      "1/1 [==============================] - 0s 2ms/step - loss: nan\n",
      "Epoch 85/100\n",
      "1/1 [==============================] - 0s 2ms/step - loss: nan\n",
      "Epoch 86/100\n",
      "1/1 [==============================] - 0s 2ms/step - loss: nan\n",
      "Epoch 87/100\n",
      "1/1 [==============================] - 0s 2ms/step - loss: nan\n",
      "Epoch 88/100\n",
      "1/1 [==============================] - 0s 2ms/step - loss: nan\n",
      "Epoch 89/100\n",
      "1/1 [==============================] - 0s 2ms/step - loss: nan\n",
      "Epoch 90/100\n",
      "1/1 [==============================] - 0s 2ms/step - loss: nan\n",
      "Epoch 91/100\n",
      "1/1 [==============================] - 0s 1ms/step - loss: nan\n",
      "Epoch 92/100\n",
      "1/1 [==============================] - 0s 2ms/step - loss: nan\n",
      "Epoch 93/100\n",
      "1/1 [==============================] - 0s 2ms/step - loss: nan\n",
      "Epoch 94/100\n",
      "1/1 [==============================] - 0s 1ms/step - loss: nan\n",
      "Epoch 95/100\n",
      "1/1 [==============================] - 0s 1000us/step - loss: nan\n",
      "Epoch 96/100\n",
      "1/1 [==============================] - 0s 2ms/step - loss: nan\n",
      "Epoch 97/100\n",
      "1/1 [==============================] - 0s 997us/step - loss: nan\n",
      "Epoch 98/100\n",
      "1/1 [==============================] - 0s 999us/step - loss: nan\n",
      "Epoch 99/100\n",
      "1/1 [==============================] - 0s 2ms/step - loss: nan\n",
      "Epoch 100/100\n",
      "1/1 [==============================] - 0s 1ms/step - loss: nan\n"
     ]
    }
   ],
   "source": [
    "history = model.fit(x_data, y_data, epochs=100)"
   ]
  },
  {
   "cell_type": "code",
   "execution_count": 22,
   "metadata": {},
   "outputs": [
    {
     "data": {
      "image/png": "[encoded data removed]",
      "text/plain": [
       "<Figure size 432x288 with 1 Axes>"
      ]
     },
     "metadata": {
      "needs_background": "light"
     },
     "output_type": "display_data"
    }
   ],
   "source": [
    "import matplotlib.pyplot as plt\n",
    "%matplotlib inline\n",
    "plt.plot(history.history['loss'])\n",
    "plt.title('Model loss')\n",
    "plt.ylabel('Loss')\n",
    "plt.xlabel('Epoch')\n",
    "plt.legend(['loss'], loc='upper left')\n",
    "plt.show()"
   ]
  },
  {
   "cell_type": "code",
   "execution_count": null,
   "metadata": {},
   "outputs": [],
   "source": []
  }
 ],
 "metadata": {
  "kernelspec": {
   "display_name": "Python 3",
   "language": "python",
   "name": "python3"
  },
  "language_info": {
   "codemirror_mode": {
    "name": "ipython",
    "version": 3
   },
   "file_extension": ".py",
   "mimetype": "text/x-python",
   "name": "python",
   "nbconvert_exporter": "python",
   "pygments_lexer": "ipython3",
   "version": "3.8.3"
  }
 },
 "nbformat": 4,
 "nbformat_minor": 4
}
