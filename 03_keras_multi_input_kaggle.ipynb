{
 "cells": [
  {
   "cell_type": "code",
   "execution_count": null,
   "metadata": {
    "colab": {
     "base_uri": "https://localhost:8080/"
    },
    "id": "9gJsgf7AE1qC",
    "outputId": "12256df6-659a-443d-dba7-3fa6853011ca"
   },
   "outputs": [
    {
     "name": "stdout",
     "output_type": "stream",
     "text": [
      "1 Physical CPU, 1 Logical CPU\n"
     ]
    }
   ],
   "source": [
    "#https://www.pyimagesearch.com/2019/02/04/keras-multiple-inputs-and-mixed-data/\n",
    "import tensorflow as tf\n",
    "\n",
    "import os\n",
    "os.environ['TF_CPP_MIN_LOG_LEVEL'] = '3'\n",
    "os.environ[\"CUDA_DEVICE_ORDER\"] = \"PCI_BUS_ID\"\n",
    "os.environ[\"CUDA_VISIBLE_DEVICES\"] = '0' # Set to -1 if CPU should be used CPU = -1 , GPU = 0\n",
    "\n",
    "gpus = tf.config.experimental.list_physical_devices('GPU')\n",
    "cpus = tf.config.experimental.list_physical_devices('CPU')\n",
    "\n",
    "if gpus:\n",
    "    try:\n",
    "        # Currently, memory growth needs to be the same across GPUs\n",
    "        for gpu in gpus:\n",
    "            tf.config.experimental.set_memory_growth(gpu, True)\n",
    "        logical_gpus = tf.config.experimental.list_logical_devices('GPU')\n",
    "        print(len(gpus), \"Physical GPUs,\", len(logical_gpus), \"Logical GPUs\")\n",
    "    except RuntimeError as e:\n",
    "        # Memory growth must be set before GPUs have been initialized\n",
    "        print(e)\n",
    "elif cpus:\n",
    "    try:\n",
    "        # Currently, memory growth needs to be the same across GPUs\n",
    "        logical_cpus= tf.config.experimental.list_logical_devices('CPU')\n",
    "        print(len(cpus), \"Physical CPU,\", len(logical_cpus), \"Logical CPU\")\n",
    "    except RuntimeError as e:\n",
    "        # Memory growth must be set before GPUs have been initialized\n",
    "        print(e)"
   ]
  },
  {
   "cell_type": "code",
   "execution_count": null,
   "metadata": {
    "id": "CNOieTP7E1qK"
   },
   "outputs": [],
   "source": [
    "# import the necessary packages\n",
    "from keras.models import Sequential\n",
    "from keras.layers.normalization import BatchNormalization\n",
    "from keras.layers.convolutional import Conv2D\n",
    "from keras.layers.convolutional import MaxPooling2D\n",
    "from keras.layers.core import Activation\n",
    "from keras.layers.core import Dropout\n",
    "from keras.layers.core import Dense\n",
    "from keras.layers import Flatten\n",
    "from keras.layers import Input\n",
    "from keras.models import Model\n",
    "# import the necessary packages\n",
    "from sklearn.preprocessing import LabelBinarizer\n",
    "from sklearn.preprocessing import MinMaxScaler\n",
    "import pandas as pd\n",
    "import numpy as np\n",
    "import glob\n",
    "import cv2\n",
    "import os\n",
    "# import the necessary packages\n",
    "from sklearn.model_selection import train_test_split\n",
    "from keras.models import Model\n",
    "from keras.optimizers import Adam\n",
    "from keras.layers import concatenate\n",
    "import locale"
   ]
  },
  {
   "cell_type": "code",
   "execution_count": null,
   "metadata": {
    "id": "gby6ElaCE1qL"
   },
   "outputs": [],
   "source": [
    "def load_house_attributes(inputPath):\n",
    "\t# initialize the list of column names in the CSV file and then\n",
    "\t# load it using Pandas\n",
    "\tcols = [\"bedrooms\", \"bathrooms\", \"area\", \"zipcode\", \"price\"]\n",
    "\tdf = pd.read_csv(inputPath, sep=\" \", header=None, names=cols)\n",
    "\n",
    "\t# determine (1) the unique zip codes and (2) the number of data\n",
    "\t# points with each zip code\n",
    "\tzipcodes = df[\"zipcode\"].value_counts().keys().tolist()\n",
    "\tcounts = df[\"zipcode\"].value_counts().tolist()\n",
    "\n",
    "\t# loop over each of the unique zip codes and their corresponding\n",
    "\t# count\n",
    "\tfor (zipcode, count) in zip(zipcodes, counts):\n",
    "\t\t# the zip code counts for our housing dataset is *extremely*\n",
    "\t\t# unbalanced (some only having 1 or 2 houses per zip code)\n",
    "\t\t# so let's sanitize our data by removing any houses with less\n",
    "\t\t# than 25 houses per zip code\n",
    "\t\tif count < 25:\n",
    "\t\t\tidxs = df[df[\"zipcode\"] == zipcode].index\n",
    "\t\t\tdf.drop(idxs, inplace=True)\n",
    "\n",
    "\t# return the data frame\n",
    "\treturn df\n",
    "\n",
    "def process_house_attributes(df, train, test):\n",
    "\t# initialize the column names of the continuous data\n",
    "\tcontinuous = [\"bedrooms\", \"bathrooms\", \"area\"]\n",
    "\n",
    "\t# performin min-max scaling each continuous feature column to\n",
    "\t# the range [0, 1]\n",
    "\tcs = MinMaxScaler()\n",
    "\ttrainContinuous = cs.fit_transform(train[continuous])\n",
    "\ttestContinuous = cs.transform(test[continuous])\n",
    "\n",
    "\t# one-hot encode the zip code categorical data (by definition of\n",
    "\t# one-hot encoing, all output features are now in the range [0, 1])\n",
    "\tzipBinarizer = LabelBinarizer().fit(df[\"zipcode\"])\n",
    "\ttrainCategorical = zipBinarizer.transform(train[\"zipcode\"])\n",
    "\ttestCategorical = zipBinarizer.transform(test[\"zipcode\"])\n",
    "\n",
    "\t# construct our training and testing data points by concatenating\n",
    "\t# the categorical features with the continuous features\n",
    "\ttrainX = np.hstack([trainCategorical, trainContinuous])\n",
    "\ttestX = np.hstack([testCategorical, testContinuous])\n",
    "\n",
    "\t# return the concatenated training and testing data\n",
    "\treturn (trainX, testX)\n",
    "\n",
    "#def load_house_images(df, inputPath):\n",
    "def load_house_images(df, zf):\n",
    "\t# initialize our images array (i.e., the house images themselves)\n",
    "\timages = []\n",
    "\t#print(df.index.values)\n",
    "\n",
    "\t# loop over the indexes of the houses\n",
    "\tfor i in df.index.values:\n",
    "\t\t# find the four images for the house and sort the file paths,\n",
    "\t\t# ensuring the four are always in the *same order*\n",
    "\t\t#basePath = os.path.sep.join([inputPath, \"{}_*\".format(i + 1)])\n",
    "\t\tbasePath = \"{}_\".format(i + 1)\n",
    "\t\t#housePaths = sorted(list(glob.glob(basePath)))\n",
    "\t\thousePaths = sorted([ix for ix in zf.namelist() if ix.startswith(basePath)])\n",
    "\t\t#print(basePath, housePaths)\n",
    "\n",
    "\t\t# initialize our list of input images along with the output image\n",
    "\t\t# after *combining* the four input images\n",
    "\t\tinputImages = []\n",
    "\t\toutputImage = np.zeros((64, 64, 3), dtype=\"uint8\")\n",
    "\n",
    "\t\t# loop over the input house paths\n",
    "\t\tfor housePath in housePaths:\n",
    "\t\t\t# load the input image, resize it to be 32 32, and then\n",
    "\t\t\t# update the list of input images\n",
    "\t\t\t#image = cv2.imread(housePath)\n",
    "\t\t\t#print(i, basePath, housePath)\n",
    "\t\t\timage = cv2.imdecode(np.frombuffer(zf.read(housePath), np.uint8), 1)\n",
    "\t\t\timage = cv2.resize(image, (32, 32))\n",
    "\t\t\tinputImages.append(image)\n",
    "\n",
    "\t\t# tile the four input images in the output image such the first\n",
    "\t\t# image goes in the top-right corner, the second image in the\n",
    "\t\t# top-left corner, the third image in the bottom-right corner,\n",
    "\t\t# and the final image in the bottom-left corner\n",
    "\t\toutputImage[0:32, 0:32] = inputImages[0]\n",
    "\t\toutputImage[0:32, 32:64] = inputImages[1]\n",
    "\t\toutputImage[32:64, 32:64] = inputImages[2]\n",
    "\t\toutputImage[32:64, 0:32] = inputImages[3]\n",
    "\n",
    "\t\t# add the tiled image to our set of images the network will be\n",
    "\t\t# trained on\n",
    "\t\timages.append(outputImage)\n",
    "\n",
    "\t# return our set of images\n",
    "\treturn np.array(images)"
   ]
  },
  {
   "cell_type": "code",
   "execution_count": null,
   "metadata": {
    "id": "I-j25G_ZE1qM"
   },
   "outputs": [],
   "source": [
    "def create_mlp(dim, regress=False):\n",
    "\t# define our MLP network\n",
    "\tmodel = Sequential()\n",
    "\tmodel.add(Dense(8, input_dim=dim, activation=\"relu\"))\n",
    "\tmodel.add(Dense(4, activation=\"relu\"))\n",
    "\n",
    "\t# check to see if the regression node should be added\n",
    "\tif regress:\n",
    "\t\tmodel.add(Dense(1, activation=\"linear\"))\n",
    "\n",
    "\t# return our model\n",
    "\treturn model\n",
    "\n",
    "def create_cnn(width, height, depth, filters=(16, 32, 64), regress=False):\n",
    "\t# initialize the input shape and channel dimension, assuming\n",
    "\t# TensorFlow/channels-last ordering\n",
    "\tinputShape = (height, width, depth)\n",
    "\tchanDim = -1\n",
    "\n",
    "\t# define the model input\n",
    "\tinputs = Input(shape=inputShape)\n",
    "\n",
    "\t# loop over the number of filters\n",
    "\tfor (i, f) in enumerate(filters):\n",
    "\t\t# if this is the first CONV layer then set the input\n",
    "\t\t# appropriately\n",
    "\t\tif i == 0:\n",
    "\t\t\tx = inputs\n",
    "\n",
    "\t\t# CONV => RELU => BN => POOL\n",
    "\t\tx = Conv2D(f, (3, 3), padding=\"same\")(x)\n",
    "\t\tx = Activation(\"relu\")(x)\n",
    "\t\tx = BatchNormalization(axis=chanDim)(x)\n",
    "\t\tx = MaxPooling2D(pool_size=(2, 2))(x)\n",
    "\n",
    "\t# flatten the volume, then FC => RELU => BN => DROPOUT\n",
    "\tx = Flatten()(x)\n",
    "\tx = Dense(16)(x)\n",
    "\tx = Activation(\"relu\")(x)\n",
    "\tx = BatchNormalization(axis=chanDim)(x)\n",
    "\tx = Dropout(0.5)(x)\n",
    "\n",
    "\t# apply another FC layer, this one to match the number of nodes\n",
    "\t# coming out of the MLP\n",
    "\tx = Dense(4)(x)\n",
    "\tx = Activation(\"relu\")(x)\n",
    "\n",
    "\t# check to see if the regression node should be added\n",
    "\tif regress:\n",
    "\t\tx = Dense(1, activation=\"linear\")(x)\n",
    "\n",
    "\t# construct the CNN\n",
    "\tmodel = Model(inputs, x)\n",
    "\n",
    "\t# return the CNN\n",
    "\treturn model"
   ]
  },
  {
   "cell_type": "code",
   "execution_count": null,
   "metadata": {
    "colab": {
     "base_uri": "https://localhost:8080/"
    },
    "id": "IXRWvPH4E1qN",
    "outputId": "c6c524eb-74af-4bfe-b994-1952b48d4c44"
   },
   "outputs": [
    {
     "name": "stdout",
     "output_type": "stream",
     "text": [
      "--2020-12-12 22:31:04--  https://f.mjh.nz/gdrivedl\n",
      "Resolving f.mjh.nz (f.mjh.nz)... 172.67.162.157, 104.28.30.233, 104.28.31.233, ...\n",
      "Connecting to f.mjh.nz (f.mjh.nz)|172.67.162.157|:443... connected.\n",
      "HTTP request sent, awaiting response... 200 OK\n",
      "Length: 1362 (1.3K) [application/octet-stream]\n",
      "Saving to: ‘gdrivedl’\n",
      "\n",
      "gdrivedl            100%[===================>]   1.33K  --.-KB/s    in 0s      \n",
      "\n",
      "2020-12-12 22:31:04 (15.0 MB/s) - ‘gdrivedl’ saved [1362/1362]\n",
      "\n",
      "total 8\n",
      "-rw-r--r-- 1 root root 1362 Jan 29  2019 gdrivedl\n",
      "drwxr-xr-x 1 root root 4096 Dec  2 22:04 sample_data\n",
      "/content\n",
      "File ID: 1LOiv7EyZspaKSWYiaKjUi81fr0Dqp0Si\n",
      "Downloading: https://docs.google.com/uc?export=download&id=1LOiv7EyZspaKSWYiaKjUi81fr0Dqp0Si > .88.file\n",
      "Downloading: https://docs.google.com/uc?export=download&id=1LOiv7EyZspaKSWYiaKjUi81fr0Dqp0Si&confirm=CwvV > .88.file\n",
      "Moving: .88.file > Houses_Dataset.zip\n",
      "Saved: Houses_Dataset.zip\n",
      "DONE!\n",
      "total 181656\n",
      "-rw-r--r-- 1 root root      1362 Jan 29  2019 gdrivedl\n",
      "-rw-r--r-- 1 root root 186001776 Dec 12 22:31 Houses_Dataset.zip\n",
      "drwxr-xr-x 1 root root      4096 Dec  2 22:04 sample_data\n"
     ]
    }
   ],
   "source": [
    "# +Add data before loading\n",
    "\n",
    "!wget -O gdrivedl 'https://f.mjh.nz/gdrivedl'\n",
    "!ls -l\n",
    "!pwd\n",
    "\n",
    "\"\"\"\n",
    "!bash /kaggle/working/gdrivedl https://drive.google.com/file/d/1LOiv7EyZspaKSWYiaKjUi81fr0Dqp0Si/view?usp=sharing\n",
    "!ls -l /kaggle/working\n",
    "inputdir = \"/kaggle/working\"\n",
    "\"\"\"\n",
    "\n",
    "!bash /content/gdrivedl https://drive.google.com/file/d/1LOiv7EyZspaKSWYiaKjUi81fr0Dqp0Si/view?usp=sharing\n",
    "!ls -l /content\n",
    "inputdir = \"/content\""
   ]
  },
  {
   "cell_type": "code",
   "execution_count": null,
   "metadata": {
    "colab": {
     "base_uri": "https://localhost:8080/"
    },
    "id": "TVjc-xiiE1qN",
    "outputId": "ab6aa918-0a4b-4c19-e75f-543278d29e5a"
   },
   "outputs": [
    {
     "name": "stdout",
     "output_type": "stream",
     "text": [
      "[INFO] loading house attributes...\n"
     ]
    }
   ],
   "source": [
    "# construct the path to the input .txt file that contains information\n",
    "# on each house in the dataset and then load the dataset\n",
    "print(\"[INFO] loading house attributes...\")\n",
    "#inputPath = os.path.sep.join([\"Houses_Dataset\", \"HousesInfo.txt\"])\n",
    "import zipfile\n",
    "zf = zipfile.ZipFile(os.path.join(inputdir, 'Houses_Dataset.zip'))\n",
    "inputfile = zf.open('HousesInfo.txt')\n",
    "#df = load_house_attributes(inputPath)\n",
    "df = load_house_attributes(inputfile)"
   ]
  },
  {
   "cell_type": "code",
   "execution_count": null,
   "metadata": {
    "colab": {
     "base_uri": "https://localhost:8080/"
    },
    "id": "O6ESdHxlE1qN",
    "outputId": "f631f3a2-a13d-437c-9290-1f927ba10433"
   },
   "outputs": [
    {
     "name": "stdout",
     "output_type": "stream",
     "text": [
      "[INFO] loading house images...\n"
     ]
    }
   ],
   "source": [
    "# load the house images and then scale the pixel intensities to the\n",
    "# range [0, 1]\n",
    "print(\"[INFO] loading house images...\")\n",
    "#images = load_house_images(df, \"Houses_Dataset\")\n",
    "images = load_house_images(df, zf)\n",
    "images = images / 255.0"
   ]
  },
  {
   "cell_type": "code",
   "execution_count": null,
   "metadata": {
    "colab": {
     "base_uri": "https://localhost:8080/"
    },
    "id": "uRuPN_RME1qO",
    "outputId": "e94710ff-df6c-4f1f-a72c-838c37ce52ad"
   },
   "outputs": [
    {
     "name": "stdout",
     "output_type": "stream",
     "text": [
      "[INFO] processing data...\n"
     ]
    }
   ],
   "source": [
    "# partition the data into training and testing splits using 75% of\n",
    "# the data for training and the remaining 25% for testing\n",
    "print(\"[INFO] processing data...\")\n",
    "split = train_test_split(df, images, test_size=0.25, random_state=42)\n",
    "(trainAttrX, testAttrX, trainImagesX, testImagesX) = split"
   ]
  },
  {
   "cell_type": "code",
   "execution_count": null,
   "metadata": {
    "id": "kc-3EvUIE1qO"
   },
   "outputs": [],
   "source": [
    "# find the largest house price in the training set and use it to\n",
    "# scale our house prices to the range [0, 1] (will lead to better\n",
    "# training and convergence)\n",
    "maxPrice = trainAttrX[\"price\"].max()\n",
    "trainY = trainAttrX[\"price\"] / maxPrice\n",
    "testY = testAttrX[\"price\"] / maxPrice"
   ]
  },
  {
   "cell_type": "code",
   "execution_count": null,
   "metadata": {
    "id": "hddDOB80E1qP"
   },
   "outputs": [],
   "source": [
    "# process the house attributes data by performing min-max scaling\n",
    "# on continuous features, one-hot encoding on categorical features,\n",
    "# and then finally concatenating them together\n",
    "(trainAttrX, testAttrX) = process_house_attributes(df, trainAttrX, testAttrX)"
   ]
  },
  {
   "cell_type": "code",
   "execution_count": null,
   "metadata": {
    "id": "KEzXGJhmE1qP"
   },
   "outputs": [],
   "source": [
    "# create the MLP and CNN models\n",
    "mlp = create_mlp(trainAttrX.shape[1], regress=False)\n",
    "cnn = create_cnn(64, 64, 3, regress=False)"
   ]
  },
  {
   "cell_type": "code",
   "execution_count": null,
   "metadata": {
    "id": "596aVfg0E1qP"
   },
   "outputs": [],
   "source": [
    "# create the input to our final set of layers as the *output* of both\n",
    "# the MLP and CNN\n",
    "combinedInput = concatenate([mlp.output, cnn.output])"
   ]
  },
  {
   "cell_type": "code",
   "execution_count": null,
   "metadata": {
    "id": "28wItEsLE1qQ"
   },
   "outputs": [],
   "source": [
    "# our final FC layer head will have two dense layers, the final one\n",
    "# being our regression head\n",
    "x = Dense(4, activation=\"relu\")(combinedInput)\n",
    "x = Dense(1, activation=\"linear\")(x)"
   ]
  },
  {
   "cell_type": "code",
   "execution_count": null,
   "metadata": {
    "id": "f4dzrBj1E1qQ"
   },
   "outputs": [],
   "source": [
    "# our final model will accept categorical/numerical data on the MLP\n",
    "# input and images on the CNN input, outputting a single value (the\n",
    "# predicted price of the house)\n",
    "model = Model(inputs=[mlp.input, cnn.input], outputs=x)"
   ]
  },
  {
   "cell_type": "code",
   "execution_count": null,
   "metadata": {
    "id": "Fsgk2LAbE1qQ"
   },
   "outputs": [],
   "source": [
    "# compile the model using mean absolute percentage error as our loss,\n",
    "# implying that we seek to minimize the absolute percentage difference\n",
    "# between our price *predictions* and the *actual prices*\n",
    "opt = Adam(lr=1e-3, decay=1e-3 / 200)\n",
    "model.compile(loss=\"mean_absolute_percentage_error\", optimizer=opt)"
   ]
  },
  {
   "cell_type": "code",
   "execution_count": null,
   "metadata": {
    "colab": {
     "base_uri": "https://localhost:8080/"
    },
    "id": "jUFQef5AE1qQ",
    "outputId": "ac28a0ca-7c09-4040-8dfa-088fed633ea6"
   },
   "outputs": [
    {
     "name": "stdout",
     "output_type": "stream",
     "text": [
      "Model: \"functional_3\"\n",
      "__________________________________________________________________________________________________\n",
      "Layer (type)                    Output Shape         Param #     Connected to                     \n",
      "==================================================================================================\n",
      "input_1 (InputLayer)            [(None, 64, 64, 3)]  0                                            \n",
      "__________________________________________________________________________________________________\n",
      "conv2d (Conv2D)                 (None, 64, 64, 16)   448         input_1[0][0]                    \n",
      "__________________________________________________________________________________________________\n",
      "activation (Activation)         (None, 64, 64, 16)   0           conv2d[0][0]                     \n",
      "__________________________________________________________________________________________________\n",
      "batch_normalization (BatchNorma (None, 64, 64, 16)   64          activation[0][0]                 \n",
      "__________________________________________________________________________________________________\n",
      "max_pooling2d (MaxPooling2D)    (None, 32, 32, 16)   0           batch_normalization[0][0]        \n",
      "__________________________________________________________________________________________________\n",
      "conv2d_1 (Conv2D)               (None, 32, 32, 32)   4640        max_pooling2d[0][0]              \n",
      "__________________________________________________________________________________________________\n",
      "activation_1 (Activation)       (None, 32, 32, 32)   0           conv2d_1[0][0]                   \n",
      "__________________________________________________________________________________________________\n",
      "batch_normalization_1 (BatchNor (None, 32, 32, 32)   128         activation_1[0][0]               \n",
      "__________________________________________________________________________________________________\n",
      "max_pooling2d_1 (MaxPooling2D)  (None, 16, 16, 32)   0           batch_normalization_1[0][0]      \n",
      "__________________________________________________________________________________________________\n",
      "conv2d_2 (Conv2D)               (None, 16, 16, 64)   18496       max_pooling2d_1[0][0]            \n",
      "__________________________________________________________________________________________________\n",
      "activation_2 (Activation)       (None, 16, 16, 64)   0           conv2d_2[0][0]                   \n",
      "__________________________________________________________________________________________________\n",
      "batch_normalization_2 (BatchNor (None, 16, 16, 64)   256         activation_2[0][0]               \n",
      "__________________________________________________________________________________________________\n",
      "max_pooling2d_2 (MaxPooling2D)  (None, 8, 8, 64)     0           batch_normalization_2[0][0]      \n",
      "__________________________________________________________________________________________________\n",
      "flatten (Flatten)               (None, 4096)         0           max_pooling2d_2[0][0]            \n",
      "__________________________________________________________________________________________________\n",
      "dense_2 (Dense)                 (None, 16)           65552       flatten[0][0]                    \n",
      "__________________________________________________________________________________________________\n",
      "activation_3 (Activation)       (None, 16)           0           dense_2[0][0]                    \n",
      "__________________________________________________________________________________________________\n",
      "batch_normalization_3 (BatchNor (None, 16)           64          activation_3[0][0]               \n",
      "__________________________________________________________________________________________________\n",
      "dense_input (InputLayer)        [(None, 10)]         0                                            \n",
      "__________________________________________________________________________________________________\n",
      "dropout (Dropout)               (None, 16)           0           batch_normalization_3[0][0]      \n",
      "__________________________________________________________________________________________________\n",
      "dense (Dense)                   (None, 8)            88          dense_input[0][0]                \n",
      "__________________________________________________________________________________________________\n",
      "dense_3 (Dense)                 (None, 4)            68          dropout[0][0]                    \n",
      "__________________________________________________________________________________________________\n",
      "dense_1 (Dense)                 (None, 4)            36          dense[0][0]                      \n",
      "__________________________________________________________________________________________________\n",
      "activation_4 (Activation)       (None, 4)            0           dense_3[0][0]                    \n",
      "__________________________________________________________________________________________________\n",
      "concatenate (Concatenate)       (None, 8)            0           dense_1[0][0]                    \n",
      "                                                                 activation_4[0][0]               \n",
      "__________________________________________________________________________________________________\n",
      "dense_4 (Dense)                 (None, 4)            36          concatenate[0][0]                \n",
      "__________________________________________________________________________________________________\n",
      "dense_5 (Dense)                 (None, 1)            5           dense_4[0][0]                    \n",
      "==================================================================================================\n",
      "Total params: 89,881\n",
      "Trainable params: 89,625\n",
      "Non-trainable params: 256\n",
      "__________________________________________________________________________________________________\n"
     ]
    }
   ],
   "source": [
    "model.summary()"
   ]
  },
  {
   "cell_type": "code",
   "execution_count": null,
   "metadata": {
    "colab": {
     "base_uri": "https://localhost:8080/"
    },
    "id": "IWs6lsXNE1qQ",
    "outputId": "621cf99b-b709-4783-df9f-7585c56a81f4"
   },
   "outputs": [
    {
     "name": "stdout",
     "output_type": "stream",
     "text": [
      "[INFO] training model...\n",
      "Epoch 1/200\n",
      "34/34 [==============================] - 2s 57ms/step - loss: 472.9053 - val_loss: 101.7179\n",
      "Epoch 2/200\n",
      "34/34 [==============================] - 2s 49ms/step - loss: 205.1869 - val_loss: 107.8914\n",
      "Epoch 3/200\n",
      "34/34 [==============================] - 2s 49ms/step - loss: 123.7064 - val_loss: 143.2624\n",
      "Epoch 4/200\n",
      "34/34 [==============================] - 2s 49ms/step - loss: 122.3521 - val_loss: 126.1815\n",
      "Epoch 5/200\n",
      "34/34 [==============================] - 2s 50ms/step - loss: 88.8227 - val_loss: 143.1429\n",
      "Epoch 6/200\n",
      "34/34 [==============================] - 2s 49ms/step - loss: 67.4658 - val_loss: 176.4501\n",
      "Epoch 7/200\n",
      "34/34 [==============================] - 2s 51ms/step - loss: 57.4342 - val_loss: 290.3915\n",
      "Epoch 8/200\n",
      "34/34 [==============================] - 2s 49ms/step - loss: 58.3942 - val_loss: 811.2738\n",
      "Epoch 9/200\n",
      "34/34 [==============================] - 2s 50ms/step - loss: 51.3149 - val_loss: 1795.1854\n",
      "Epoch 10/200\n",
      "34/34 [==============================] - 2s 49ms/step - loss: 47.3332 - val_loss: 880.7831\n",
      "Epoch 11/200\n",
      "34/34 [==============================] - 2s 50ms/step - loss: 54.8495 - val_loss: 869.6381\n",
      "Epoch 12/200\n",
      "34/34 [==============================] - 2s 49ms/step - loss: 39.9979 - val_loss: 1412.3723\n",
      "Epoch 13/200\n",
      "34/34 [==============================] - 2s 50ms/step - loss: 42.5916 - val_loss: 737.4581\n",
      "Epoch 14/200\n",
      "34/34 [==============================] - 2s 50ms/step - loss: 34.4895 - val_loss: 355.4611\n",
      "Epoch 15/200\n",
      "34/34 [==============================] - 2s 49ms/step - loss: 36.1125 - val_loss: 36.6797\n",
      "Epoch 16/200\n",
      "34/34 [==============================] - 2s 50ms/step - loss: 35.1042 - val_loss: 31.4053\n",
      "Epoch 17/200\n",
      "34/34 [==============================] - 2s 49ms/step - loss: 32.1785 - val_loss: 28.0769\n",
      "Epoch 18/200\n",
      "34/34 [==============================] - 2s 50ms/step - loss: 31.6864 - val_loss: 28.4921\n",
      "Epoch 19/200\n",
      "34/34 [==============================] - 2s 51ms/step - loss: 30.4062 - val_loss: 26.4432\n",
      "Epoch 20/200\n",
      "34/34 [==============================] - 2s 50ms/step - loss: 29.8597 - val_loss: 26.8592\n",
      "Epoch 21/200\n",
      "34/34 [==============================] - 2s 50ms/step - loss: 30.7405 - val_loss: 27.7757\n",
      "Epoch 22/200\n",
      "34/34 [==============================] - 2s 50ms/step - loss: 30.7924 - val_loss: 25.6984\n",
      "Epoch 23/200\n",
      "34/34 [==============================] - 2s 50ms/step - loss: 31.0349 - val_loss: 26.2322\n",
      "Epoch 24/200\n",
      "34/34 [==============================] - 2s 50ms/step - loss: 28.3064 - val_loss: 29.4697\n",
      "Epoch 25/200\n",
      "34/34 [==============================] - 2s 51ms/step - loss: 28.2487 - val_loss: 26.2630\n",
      "Epoch 26/200\n",
      "34/34 [==============================] - 2s 50ms/step - loss: 27.7205 - val_loss: 25.0463\n",
      "Epoch 27/200\n",
      "34/34 [==============================] - 2s 51ms/step - loss: 26.7406 - val_loss: 24.8281\n",
      "Epoch 28/200\n",
      "34/34 [==============================] - 2s 50ms/step - loss: 27.9247 - val_loss: 24.7864\n",
      "Epoch 29/200\n",
      "34/34 [==============================] - 2s 50ms/step - loss: 26.6287 - val_loss: 26.1533\n",
      "Epoch 30/200\n",
      "34/34 [==============================] - 2s 50ms/step - loss: 25.2610 - val_loss: 24.5737\n",
      "Epoch 31/200\n",
      "34/34 [==============================] - 2s 51ms/step - loss: 27.1290 - val_loss: 23.5550\n",
      "Epoch 32/200\n",
      "34/34 [==============================] - 2s 50ms/step - loss: 25.3474 - val_loss: 24.0796\n",
      "Epoch 33/200\n",
      "34/34 [==============================] - 2s 50ms/step - loss: 26.1150 - val_loss: 24.3673\n",
      "Epoch 34/200\n",
      "34/34 [==============================] - 2s 51ms/step - loss: 25.4053 - val_loss: 23.5082\n",
      "Epoch 35/200\n",
      "34/34 [==============================] - 2s 50ms/step - loss: 25.3449 - val_loss: 27.0211\n",
      "Epoch 36/200\n",
      "34/34 [==============================] - 2s 50ms/step - loss: 24.6074 - val_loss: 25.4236\n",
      "Epoch 37/200\n",
      "34/34 [==============================] - 2s 50ms/step - loss: 25.4611 - val_loss: 23.3647\n",
      "Epoch 38/200\n",
      "34/34 [==============================] - 2s 51ms/step - loss: 25.9171 - val_loss: 23.4721\n",
      "Epoch 39/200\n",
      "34/34 [==============================] - 2s 50ms/step - loss: 24.3606 - val_loss: 24.6749\n",
      "Epoch 40/200\n",
      "34/34 [==============================] - 2s 51ms/step - loss: 26.2010 - val_loss: 23.0891\n",
      "Epoch 41/200\n",
      "34/34 [==============================] - 2s 51ms/step - loss: 25.4715 - val_loss: 22.4621\n",
      "Epoch 42/200\n",
      "34/34 [==============================] - 2s 51ms/step - loss: 25.6449 - val_loss: 22.5773\n",
      "Epoch 43/200\n",
      "34/34 [==============================] - 2s 50ms/step - loss: 31.3347 - val_loss: 1813.0472\n",
      "Epoch 44/200\n",
      "34/34 [==============================] - 2s 51ms/step - loss: 34.8941 - val_loss: 490.0497\n",
      "Epoch 45/200\n",
      "34/34 [==============================] - 2s 51ms/step - loss: 25.6716 - val_loss: 87.9655\n",
      "Epoch 46/200\n",
      "34/34 [==============================] - 2s 51ms/step - loss: 26.4077 - val_loss: 34.8688\n",
      "Epoch 47/200\n",
      "34/34 [==============================] - 2s 50ms/step - loss: 24.9692 - val_loss: 22.5950\n",
      "Epoch 48/200\n",
      "34/34 [==============================] - 2s 51ms/step - loss: 25.7232 - val_loss: 22.6929\n",
      "Epoch 49/200\n",
      "34/34 [==============================] - 2s 50ms/step - loss: 24.1541 - val_loss: 22.4546\n",
      "Epoch 50/200\n",
      "34/34 [==============================] - 2s 50ms/step - loss: 24.3798 - val_loss: 24.4343\n",
      "Epoch 51/200\n",
      "34/34 [==============================] - 2s 50ms/step - loss: 24.8662 - val_loss: 21.8033\n",
      "Epoch 52/200\n",
      "34/34 [==============================] - 2s 50ms/step - loss: 23.4265 - val_loss: 22.3241\n",
      "Epoch 53/200\n",
      "34/34 [==============================] - 2s 50ms/step - loss: 23.3773 - val_loss: 24.8181\n",
      "Epoch 54/200\n",
      "34/34 [==============================] - 2s 51ms/step - loss: 24.2092 - val_loss: 24.4604\n",
      "Epoch 55/200\n",
      "34/34 [==============================] - 2s 50ms/step - loss: 23.7239 - val_loss: 22.7782\n",
      "Epoch 56/200\n",
      "34/34 [==============================] - 2s 50ms/step - loss: 23.0950 - val_loss: 22.6879\n",
      "Epoch 57/200\n",
      "34/34 [==============================] - 2s 50ms/step - loss: 23.4627 - val_loss: 22.1881\n",
      "Epoch 58/200\n",
      "34/34 [==============================] - 2s 50ms/step - loss: 23.9168 - val_loss: 24.1822\n",
      "Epoch 59/200\n",
      "34/34 [==============================] - 2s 50ms/step - loss: 23.4880 - val_loss: 22.8743\n",
      "Epoch 60/200\n",
      "34/34 [==============================] - 2s 50ms/step - loss: 23.1534 - val_loss: 22.5158\n",
      "Epoch 61/200\n",
      "34/34 [==============================] - 2s 51ms/step - loss: 22.5753 - val_loss: 21.7229\n",
      "Epoch 62/200\n",
      "34/34 [==============================] - 2s 50ms/step - loss: 23.9183 - val_loss: 21.5181\n",
      "Epoch 63/200\n",
      "34/34 [==============================] - 2s 50ms/step - loss: 22.1404 - val_loss: 21.4220\n",
      "Epoch 64/200\n",
      "34/34 [==============================] - 2s 50ms/step - loss: 22.7421 - val_loss: 21.3832\n",
      "Epoch 65/200\n",
      "34/34 [==============================] - 2s 50ms/step - loss: 22.9399 - val_loss: 21.8288\n",
      "Epoch 66/200\n",
      "34/34 [==============================] - 2s 51ms/step - loss: 23.9074 - val_loss: 21.6900\n",
      "Epoch 67/200\n",
      "34/34 [==============================] - 2s 50ms/step - loss: 22.4889 - val_loss: 22.5349\n",
      "Epoch 68/200\n",
      "34/34 [==============================] - 2s 50ms/step - loss: 23.9768 - val_loss: 20.9995\n",
      "Epoch 69/200\n",
      "34/34 [==============================] - 2s 51ms/step - loss: 21.9618 - val_loss: 21.9270\n",
      "Epoch 70/200\n",
      "34/34 [==============================] - 2s 50ms/step - loss: 22.8204 - val_loss: 21.2695\n",
      "Epoch 71/200\n",
      "34/34 [==============================] - 2s 50ms/step - loss: 21.4846 - val_loss: 20.7567\n",
      "Epoch 72/200\n",
      "34/34 [==============================] - 2s 51ms/step - loss: 21.7827 - val_loss: 21.1025\n",
      "Epoch 73/200\n",
      "34/34 [==============================] - 2s 51ms/step - loss: 21.7941 - val_loss: 22.0412\n",
      "Epoch 74/200\n",
      "34/34 [==============================] - 2s 51ms/step - loss: 22.4760 - val_loss: 22.2588\n",
      "Epoch 75/200\n",
      "34/34 [==============================] - 2s 50ms/step - loss: 22.5823 - val_loss: 21.6959\n",
      "Epoch 76/200\n",
      "34/34 [==============================] - 2s 51ms/step - loss: 22.3259 - val_loss: 21.4734\n",
      "Epoch 77/200\n",
      "34/34 [==============================] - 2s 50ms/step - loss: 21.0047 - val_loss: 21.5885\n",
      "Epoch 78/200\n",
      "34/34 [==============================] - 2s 51ms/step - loss: 21.7757 - val_loss: 20.7086\n",
      "Epoch 79/200\n",
      "34/34 [==============================] - 2s 50ms/step - loss: 21.4985 - val_loss: 21.1535\n",
      "Epoch 80/200\n",
      "34/34 [==============================] - 2s 50ms/step - loss: 21.2818 - val_loss: 24.0075\n",
      "Epoch 81/200\n",
      "34/34 [==============================] - 2s 50ms/step - loss: 24.4753 - val_loss: 22.4391\n",
      "Epoch 82/200\n",
      "34/34 [==============================] - 2s 50ms/step - loss: 21.4612 - val_loss: 21.1147\n",
      "Epoch 83/200\n",
      "34/34 [==============================] - 2s 51ms/step - loss: 20.7044 - val_loss: 20.8243\n",
      "Epoch 84/200\n",
      "34/34 [==============================] - 2s 50ms/step - loss: 22.7949 - val_loss: 24.2394\n",
      "Epoch 85/200\n",
      "34/34 [==============================] - 2s 51ms/step - loss: 20.2908 - val_loss: 20.4896\n",
      "Epoch 86/200\n",
      "34/34 [==============================] - 2s 51ms/step - loss: 20.3350 - val_loss: 21.5990\n",
      "Epoch 87/200\n",
      "34/34 [==============================] - 2s 51ms/step - loss: 21.4696 - val_loss: 21.7582\n",
      "Epoch 88/200\n",
      "34/34 [==============================] - 2s 51ms/step - loss: 21.3071 - val_loss: 21.0406\n",
      "Epoch 89/200\n",
      "34/34 [==============================] - 2s 52ms/step - loss: 19.5839 - val_loss: 21.0371\n",
      "Epoch 90/200\n",
      "34/34 [==============================] - 2s 50ms/step - loss: 20.1377 - val_loss: 22.6776\n",
      "Epoch 91/200\n",
      "34/34 [==============================] - 2s 52ms/step - loss: 22.1591 - val_loss: 20.6284\n",
      "Epoch 92/200\n",
      "34/34 [==============================] - 2s 51ms/step - loss: 24.8370 - val_loss: 22.1053\n",
      "Epoch 93/200\n",
      "34/34 [==============================] - 2s 52ms/step - loss: 21.3803 - val_loss: 22.1938\n",
      "Epoch 94/200\n",
      "34/34 [==============================] - 2s 50ms/step - loss: 19.6164 - val_loss: 21.5107\n",
      "Epoch 95/200\n",
      "34/34 [==============================] - 2s 52ms/step - loss: 21.0864 - val_loss: 22.4635\n",
      "Epoch 96/200\n",
      "34/34 [==============================] - 2s 51ms/step - loss: 22.6568 - val_loss: 23.5455\n",
      "Epoch 97/200\n",
      "34/34 [==============================] - 2s 52ms/step - loss: 20.0443 - val_loss: 21.6590\n",
      "Epoch 98/200\n",
      "34/34 [==============================] - 2s 51ms/step - loss: 19.9384 - val_loss: 22.4141\n",
      "Epoch 99/200\n",
      "34/34 [==============================] - 2s 50ms/step - loss: 19.8613 - val_loss: 21.4626\n",
      "Epoch 100/200\n",
      "34/34 [==============================] - 2s 51ms/step - loss: 20.9140 - val_loss: 21.8397\n",
      "Epoch 101/200\n",
      "34/34 [==============================] - 2s 51ms/step - loss: 18.8561 - val_loss: 21.1959\n",
      "Epoch 102/200\n",
      "34/34 [==============================] - 2s 51ms/step - loss: 19.2740 - val_loss: 22.9695\n",
      "Epoch 103/200\n",
      "34/34 [==============================] - 2s 51ms/step - loss: 20.5268 - val_loss: 21.3042\n",
      "Epoch 104/200\n",
      "34/34 [==============================] - 2s 51ms/step - loss: 20.8058 - val_loss: 21.4184\n",
      "Epoch 105/200\n",
      "34/34 [==============================] - 2s 51ms/step - loss: 20.1581 - val_loss: 22.9587\n",
      "Epoch 106/200\n",
      "34/34 [==============================] - 2s 51ms/step - loss: 19.6315 - val_loss: 21.2454\n",
      "Epoch 107/200\n",
      "34/34 [==============================] - 2s 51ms/step - loss: 19.1835 - val_loss: 21.5637\n",
      "Epoch 108/200\n",
      "34/34 [==============================] - 2s 51ms/step - loss: 17.4860 - val_loss: 21.4051\n",
      "Epoch 109/200\n",
      "34/34 [==============================] - 2s 52ms/step - loss: 18.8344 - val_loss: 20.5493\n",
      "Epoch 110/200\n",
      "34/34 [==============================] - 2s 52ms/step - loss: 19.1277 - val_loss: 22.4214\n",
      "Epoch 111/200\n",
      "34/34 [==============================] - 2s 52ms/step - loss: 18.3452 - val_loss: 21.2928\n",
      "Epoch 112/200\n",
      "34/34 [==============================] - 2s 52ms/step - loss: 17.4749 - val_loss: 20.8592\n",
      "Epoch 113/200\n",
      "34/34 [==============================] - 2s 51ms/step - loss: 18.5519 - val_loss: 22.1133\n",
      "Epoch 114/200\n",
      "34/34 [==============================] - 2s 51ms/step - loss: 18.6687 - val_loss: 21.4169\n",
      "Epoch 115/200\n",
      "34/34 [==============================] - 2s 51ms/step - loss: 18.7535 - val_loss: 21.1494\n",
      "Epoch 116/200\n",
      "34/34 [==============================] - 2s 51ms/step - loss: 19.9595 - val_loss: 22.0203\n",
      "Epoch 117/200\n",
      "34/34 [==============================] - 2s 51ms/step - loss: 19.2980 - val_loss: 20.8830\n",
      "Epoch 118/200\n",
      "34/34 [==============================] - 2s 52ms/step - loss: 17.6075 - val_loss: 21.1003\n",
      "Epoch 119/200\n",
      "34/34 [==============================] - 2s 50ms/step - loss: 17.0739 - val_loss: 20.4704\n",
      "Epoch 120/200\n",
      "34/34 [==============================] - 2s 51ms/step - loss: 17.3890 - val_loss: 21.4085\n",
      "Epoch 121/200\n",
      "34/34 [==============================] - 2s 51ms/step - loss: 16.7589 - val_loss: 19.7846\n",
      "Epoch 122/200\n",
      "34/34 [==============================] - 2s 52ms/step - loss: 18.0067 - val_loss: 21.5077\n",
      "Epoch 123/200\n",
      "34/34 [==============================] - 2s 51ms/step - loss: 17.6509 - val_loss: 21.0019\n",
      "Epoch 124/200\n",
      "34/34 [==============================] - 2s 52ms/step - loss: 18.1942 - val_loss: 20.2419\n",
      "Epoch 125/200\n",
      "34/34 [==============================] - 2s 52ms/step - loss: 18.4427 - val_loss: 20.7381\n",
      "Epoch 126/200\n",
      "34/34 [==============================] - 2s 51ms/step - loss: 16.5805 - val_loss: 21.4673\n",
      "Epoch 127/200\n",
      "34/34 [==============================] - 2s 53ms/step - loss: 19.1914 - val_loss: 21.2500\n",
      "Epoch 128/200\n",
      "34/34 [==============================] - 2s 56ms/step - loss: 16.9250 - val_loss: 20.3045\n",
      "Epoch 129/200\n",
      "34/34 [==============================] - 2s 57ms/step - loss: 17.1801 - val_loss: 21.1705\n",
      "Epoch 130/200\n",
      "34/34 [==============================] - 2s 54ms/step - loss: 15.8722 - val_loss: 20.9360\n",
      "Epoch 131/200\n",
      "34/34 [==============================] - 2s 51ms/step - loss: 18.2566 - val_loss: 20.8446\n",
      "Epoch 132/200\n",
      "34/34 [==============================] - 2s 51ms/step - loss: 18.3205 - val_loss: 20.9614\n",
      "Epoch 133/200\n",
      "34/34 [==============================] - 2s 51ms/step - loss: 17.8655 - val_loss: 21.6399\n",
      "Epoch 134/200\n",
      "34/34 [==============================] - 2s 51ms/step - loss: 18.7039 - val_loss: 20.2735\n",
      "Epoch 135/200\n",
      "34/34 [==============================] - 2s 51ms/step - loss: 16.4991 - val_loss: 21.1255\n",
      "Epoch 136/200\n",
      "34/34 [==============================] - 2s 51ms/step - loss: 18.3414 - val_loss: 21.0357\n",
      "Epoch 137/200\n",
      "34/34 [==============================] - 2s 51ms/step - loss: 17.1196 - val_loss: 21.1112\n",
      "Epoch 138/200\n",
      "34/34 [==============================] - 2s 51ms/step - loss: 17.2679 - val_loss: 21.8269\n",
      "Epoch 139/200\n",
      "34/34 [==============================] - 2s 52ms/step - loss: 17.5913 - val_loss: 21.0490\n",
      "Epoch 140/200\n",
      "34/34 [==============================] - 2s 55ms/step - loss: 17.3796 - val_loss: 20.8118\n",
      "Epoch 141/200\n",
      "34/34 [==============================] - 2s 55ms/step - loss: 17.3732 - val_loss: 20.7255\n",
      "Epoch 142/200\n",
      "34/34 [==============================] - 2s 54ms/step - loss: 17.6179 - val_loss: 21.2522\n",
      "Epoch 143/200\n",
      "34/34 [==============================] - 2s 54ms/step - loss: 16.0015 - val_loss: 21.0930\n",
      "Epoch 144/200\n",
      "34/34 [==============================] - 2s 54ms/step - loss: 16.4220 - val_loss: 21.7088\n",
      "Epoch 145/200\n",
      "34/34 [==============================] - 2s 52ms/step - loss: 17.6656 - val_loss: 20.4843\n",
      "Epoch 146/200\n",
      "34/34 [==============================] - 2s 55ms/step - loss: 17.8518 - val_loss: 20.7209\n",
      "Epoch 147/200\n",
      "34/34 [==============================] - 2s 54ms/step - loss: 16.3314 - val_loss: 22.3067\n",
      "Epoch 148/200\n",
      "34/34 [==============================] - 2s 54ms/step - loss: 17.8550 - val_loss: 20.4284\n",
      "Epoch 149/200\n",
      "34/34 [==============================] - 2s 54ms/step - loss: 17.3239 - val_loss: 21.0615\n",
      "Epoch 150/200\n",
      "34/34 [==============================] - 2s 55ms/step - loss: 16.8655 - val_loss: 21.7075\n",
      "Epoch 151/200\n",
      "34/34 [==============================] - 2s 51ms/step - loss: 17.5412 - val_loss: 20.6390\n",
      "Epoch 152/200\n",
      "34/34 [==============================] - 2s 52ms/step - loss: 17.6706 - val_loss: 21.2272\n",
      "Epoch 153/200\n",
      "34/34 [==============================] - 2s 51ms/step - loss: 16.8517 - val_loss: 21.4571\n",
      "Epoch 154/200\n",
      "34/34 [==============================] - 2s 51ms/step - loss: 16.7478 - val_loss: 20.8920\n",
      "Epoch 155/200\n",
      "34/34 [==============================] - 2s 50ms/step - loss: 17.2031 - val_loss: 20.9608\n",
      "Epoch 156/200\n",
      "34/34 [==============================] - 2s 51ms/step - loss: 17.6193 - val_loss: 21.4170\n",
      "Epoch 157/200\n",
      "34/34 [==============================] - 2s 51ms/step - loss: 17.6961 - val_loss: 21.7546\n",
      "Epoch 158/200\n",
      "34/34 [==============================] - 2s 52ms/step - loss: 16.3960 - val_loss: 21.3597\n",
      "Epoch 159/200\n",
      "34/34 [==============================] - 2s 51ms/step - loss: 16.5546 - val_loss: 21.1788\n",
      "Epoch 160/200\n",
      "34/34 [==============================] - 2s 51ms/step - loss: 16.4272 - val_loss: 20.7003\n",
      "Epoch 161/200\n",
      "34/34 [==============================] - 2s 52ms/step - loss: 17.1887 - val_loss: 21.4893\n",
      "Epoch 162/200\n",
      "34/34 [==============================] - 2s 52ms/step - loss: 16.1352 - val_loss: 23.3124\n",
      "Epoch 163/200\n",
      "34/34 [==============================] - 2s 51ms/step - loss: 17.1299 - val_loss: 20.7537\n",
      "Epoch 164/200\n",
      "34/34 [==============================] - 2s 51ms/step - loss: 17.8082 - val_loss: 21.0941\n",
      "Epoch 165/200\n",
      "34/34 [==============================] - 2s 51ms/step - loss: 17.3981 - val_loss: 20.8153\n",
      "Epoch 166/200\n",
      "34/34 [==============================] - 2s 52ms/step - loss: 15.4036 - val_loss: 21.1678\n",
      "Epoch 167/200\n",
      "34/34 [==============================] - 2s 51ms/step - loss: 16.1332 - val_loss: 21.3305\n",
      "Epoch 168/200\n",
      "34/34 [==============================] - 2s 51ms/step - loss: 15.6298 - val_loss: 21.8490\n",
      "Epoch 169/200\n",
      "34/34 [==============================] - 2s 51ms/step - loss: 16.8668 - val_loss: 22.2082\n",
      "Epoch 170/200\n",
      "34/34 [==============================] - 2s 52ms/step - loss: 16.9770 - val_loss: 21.3150\n",
      "Epoch 171/200\n",
      "34/34 [==============================] - 2s 52ms/step - loss: 14.7652 - val_loss: 20.5737\n",
      "Epoch 172/200\n",
      "34/34 [==============================] - 2s 52ms/step - loss: 15.4059 - val_loss: 20.6986\n",
      "Epoch 173/200\n",
      "34/34 [==============================] - 2s 52ms/step - loss: 16.0568 - val_loss: 21.6789\n",
      "Epoch 174/200\n",
      "34/34 [==============================] - 2s 52ms/step - loss: 17.0856 - val_loss: 22.2042\n",
      "Epoch 175/200\n",
      "34/34 [==============================] - 2s 53ms/step - loss: 16.5488 - val_loss: 20.4828\n",
      "Epoch 176/200\n",
      "34/34 [==============================] - 2s 52ms/step - loss: 16.2156 - val_loss: 21.0047\n",
      "Epoch 177/200\n",
      "34/34 [==============================] - 2s 51ms/step - loss: 16.1821 - val_loss: 20.7001\n",
      "Epoch 178/200\n",
      "34/34 [==============================] - 2s 51ms/step - loss: 17.3505 - val_loss: 21.0410\n",
      "Epoch 179/200\n",
      "34/34 [==============================] - 2s 51ms/step - loss: 14.3703 - val_loss: 22.0171\n",
      "Epoch 180/200\n",
      "34/34 [==============================] - 2s 51ms/step - loss: 14.7658 - val_loss: 21.1513\n",
      "Epoch 181/200\n",
      "34/34 [==============================] - 2s 51ms/step - loss: 16.2494 - val_loss: 21.6280\n",
      "Epoch 182/200\n",
      "34/34 [==============================] - 2s 51ms/step - loss: 17.4972 - val_loss: 22.9938\n",
      "Epoch 183/200\n",
      "34/34 [==============================] - 2s 51ms/step - loss: 15.9758 - val_loss: 21.9891\n",
      "Epoch 184/200\n",
      "34/34 [==============================] - 2s 52ms/step - loss: 16.0740 - val_loss: 20.8273\n",
      "Epoch 185/200\n",
      "34/34 [==============================] - 2s 51ms/step - loss: 15.4678 - val_loss: 21.0993\n",
      "Epoch 186/200\n",
      "34/34 [==============================] - 2s 52ms/step - loss: 15.3491 - val_loss: 22.5127\n",
      "Epoch 187/200\n",
      "34/34 [==============================] - 2s 51ms/step - loss: 15.9853 - val_loss: 23.4195\n",
      "Epoch 188/200\n",
      "34/34 [==============================] - 2s 51ms/step - loss: 13.9264 - val_loss: 23.3307\n",
      "Epoch 189/200\n",
      "34/34 [==============================] - 2s 51ms/step - loss: 16.2598 - val_loss: 23.4288\n",
      "Epoch 190/200\n",
      "34/34 [==============================] - 2s 51ms/step - loss: 16.2124 - val_loss: 23.5277\n",
      "Epoch 191/200\n",
      "34/34 [==============================] - 2s 51ms/step - loss: 16.1645 - val_loss: 21.4738\n",
      "Epoch 192/200\n",
      "34/34 [==============================] - 2s 51ms/step - loss: 15.0315 - val_loss: 21.5130\n",
      "Epoch 193/200\n",
      "34/34 [==============================] - 2s 51ms/step - loss: 17.3589 - val_loss: 21.1852\n",
      "Epoch 194/200\n",
      "34/34 [==============================] - 2s 52ms/step - loss: 16.1428 - val_loss: 21.0780\n",
      "Epoch 195/200\n",
      "34/34 [==============================] - 2s 50ms/step - loss: 15.3949 - val_loss: 21.4266\n",
      "Epoch 196/200\n",
      "34/34 [==============================] - 2s 50ms/step - loss: 14.9600 - val_loss: 22.5974\n",
      "Epoch 197/200\n",
      "34/34 [==============================] - 2s 50ms/step - loss: 16.8125 - val_loss: 22.5432\n",
      "Epoch 198/200\n",
      "34/34 [==============================] - 2s 51ms/step - loss: 15.6325 - val_loss: 23.3452\n",
      "Epoch 199/200\n",
      "34/34 [==============================] - 2s 50ms/step - loss: 16.5584 - val_loss: 22.8495\n",
      "Epoch 200/200\n",
      "34/34 [==============================] - 2s 51ms/step - loss: 15.2362 - val_loss: 21.5757\n"
     ]
    }
   ],
   "source": [
    "# train the model\n",
    "print(\"[INFO] training model...\")\n",
    "history = model.fit([trainAttrX, trainImagesX], trainY,validation_data=([testAttrX, testImagesX], testY),epochs=200, batch_size=8,verbose=1)"
   ]
  },
  {
   "cell_type": "code",
   "execution_count": null,
   "metadata": {
    "colab": {
     "base_uri": "https://localhost:8080/",
     "height": 279
    },
    "id": "53W-MfqRE1qR",
    "outputId": "1f1f5d1f-80d7-4c60-a40e-82c9145232df"
   },
   "outputs": [
    {
     "data": {
      "image/png": "[encoded data removed]",
      "text/plain": [
       "<Figure size 432x288 with 1 Axes>"
      ]
     },
     "metadata": {
      "needs_background": "light",
      "tags": []
     },
     "output_type": "display_data"
    }
   ],
   "source": [
    "import matplotlib.pyplot as plt\n",
    "%matplotlib inline\n",
    "plt.plot(history.history['loss'])\n",
    "plt.ylabel('Loss')\n",
    "plt.xlabel('Epoch')\n",
    "plt.legend(['loss'], loc='upper left')\n",
    "plt.show()"
   ]
  },
  {
   "cell_type": "code",
   "execution_count": null,
   "metadata": {
    "colab": {
     "base_uri": "https://localhost:8080/"
    },
    "id": "iDmY2YrUE1qR",
    "outputId": "25048e00-83c8-4f4a-9a1e-07a2657c2fa6"
   },
   "outputs": [
    {
     "name": "stdout",
     "output_type": "stream",
     "text": [
      "[INFO] predicting house prices...\n"
     ]
    }
   ],
   "source": [
    "# make predictions on the testing data\n",
    "print(\"[INFO] predicting house prices...\")\n",
    "preds = model.predict([testAttrX, testImagesX])"
   ]
  },
  {
   "cell_type": "code",
   "execution_count": null,
   "metadata": {
    "id": "ZE7NvuDjE1qR"
   },
   "outputs": [],
   "source": [
    "# compute the difference between the *predicted* house prices and the\n",
    "# *actual* house prices, then compute the percentage difference and\n",
    "# the absolute percentage difference\n",
    "diff = preds.flatten() - testY\n",
    "percentDiff = (diff / testY) * 100\n",
    "absPercentDiff = np.abs(percentDiff)"
   ]
  },
  {
   "cell_type": "code",
   "execution_count": null,
   "metadata": {
    "id": "WmKQnkshE1qS"
   },
   "outputs": [],
   "source": [
    "# compute the mean and standard deviation of the absolute percentage\n",
    "# difference\n",
    "mean = np.mean(absPercentDiff)\n",
    "std = np.std(absPercentDiff)"
   ]
  },
  {
   "cell_type": "code",
   "execution_count": null,
   "metadata": {
    "colab": {
     "base_uri": "https://localhost:8080/"
    },
    "id": "wSd1zujUE1qS",
    "outputId": "951165eb-1b01-464e-e1cf-ed5eb9fc83f4"
   },
   "outputs": [
    {
     "name": "stdout",
     "output_type": "stream",
     "text": [
      "[INFO] mean: 21.58%, std: 27.27%\n"
     ]
    }
   ],
   "source": [
    "# finally, show some statistics on our model\n",
    "#locale.setlocale(locale.LC_ALL, \"en_US.UTF-8\")\n",
    "#print(\"[INFO] avg. house price: {}, std house price: {}\".format(\n",
    "#\tlocale.currency(df[\"price\"].mean(), grouping=True),\n",
    "#\tlocale.currency(df[\"price\"].std(), grouping=True)))\n",
    "print(\"[INFO] mean: {:.2f}%, std: {:.2f}%\".format(mean, std))"
   ]
  },
  {
   "cell_type": "code",
   "execution_count": null,
   "metadata": {
    "id": "6M6pp4DtE1qS"
   },
   "outputs": [],
   "source": []
  }
 ],
 "metadata": {
  "colab": {
   "collapsed_sections": [],
   "name": "03-keras-multi-input-kaggle.ipynb",
   "provenance": []
  },
  "kernelspec": {
   "display_name": "Python 3",
   "language": "python",
   "name": "python3"
  },
  "language_info": {
   "codemirror_mode": {
    "name": "ipython",
    "version": 3
   },
   "file_extension": ".py",
   "mimetype": "text/x-python",
   "name": "python",
   "nbconvert_exporter": "python",
   "pygments_lexer": "ipython3",
   "version": "3.8.3"
  }
 },
 "nbformat": 4,
 "nbformat_minor": 4
}
