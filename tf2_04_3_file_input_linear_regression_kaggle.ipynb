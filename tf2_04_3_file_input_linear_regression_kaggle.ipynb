{
  "nbformat": 4,
  "nbformat_minor": 0,
  "metadata": {
    "kernelspec": {
      "language": "python",
      "display_name": "Python 3",
      "name": "python3"
    },
    "language_info": {
      "name": "python",
      "version": "3.7.6",
      "mimetype": "text/x-python",
      "codemirror_mode": {
        "name": "ipython",
        "version": 3
      },
      "pygments_lexer": "ipython3",
      "nbconvert_exporter": "python",
      "file_extension": ".py"
    },
    "colab": {
      "name": "tf2-04-3-file-input-linear-regression-kaggle.ipynb",
      "provenance": [],
      "collapsed_sections": []
    }
  },
  "cells": [
    {
      "cell_type": "code",
      "metadata": {
        "trusted": true,
        "id": "L7mX5iyPqzE_"
      },
      "source": [
        "# Lab 4 Multi-variable linear regression\n",
        "import tensorflow as tf\n",
        "import numpy as np"
      ],
      "execution_count": 1,
      "outputs": []
    },
    {
      "cell_type": "code",
      "metadata": {
        "trusted": true,
        "colab": {
          "base_uri": "https://localhost:8080/"
        },
        "id": "UKo0Ue4zqzFC",
        "outputId": "9de55c14-b5fe-4842-fe0c-f44c78d2d0c3"
      },
      "source": [
        "import os\n",
        "os.environ['TF_CPP_MIN_LOG_LEVEL'] = '3'\n",
        "os.environ[\"CUDA_DEVICE_ORDER\"] = \"PCI_BUS_ID\"\n",
        "os.environ[\"CUDA_VISIBLE_DEVICES\"] = '0' # Set to -1 if CPU should be used CPU = -1 , GPU = 0\n",
        "\n",
        "gpus = tf.config.experimental.list_physical_devices('GPU')\n",
        "cpus = tf.config.experimental.list_physical_devices('CPU')\n",
        "\n",
        "if gpus:\n",
        "    try:\n",
        "        # Currently, memory growth needs to be the same across GPUs\n",
        "        for gpu in gpus:\n",
        "            tf.config.experimental.set_memory_growth(gpu, True)\n",
        "        logical_gpus = tf.config.experimental.list_logical_devices('GPU')\n",
        "        print(len(gpus), \"Physical GPUs,\", len(logical_gpus), \"Logical GPUs\")\n",
        "    except RuntimeError as e:\n",
        "        # Memory growth must be set before GPUs have been initialized\n",
        "        print(e)\n",
        "elif cpus:\n",
        "    try:\n",
        "        # Currently, memory growth needs to be the same across GPUs\n",
        "        logical_cpus= tf.config.experimental.list_logical_devices('CPU')\n",
        "        print(len(cpus), \"Physical CPU,\", len(logical_cpus), \"Logical CPU\")\n",
        "    except RuntimeError as e:\n",
        "        # Memory growth must be set before GPUs have been initialized\n",
        "        print(e)"
      ],
      "execution_count": 2,
      "outputs": [
        {
          "output_type": "stream",
          "text": [
            "1 Physical CPU, 1 Logical CPU\n"
          ],
          "name": "stdout"
        }
      ]
    },
    {
      "cell_type": "code",
      "metadata": {
        "trusted": true,
        "colab": {
          "base_uri": "https://localhost:8080/"
        },
        "id": "BX1AFMmfqzFD",
        "outputId": "fab1896b-49ab-4d76-ed71-eae306553a7d"
      },
      "source": [
        "# +Add data before loading\n",
        "\n",
        "!wget -O gdrivedl 'https://f.mjh.nz/gdrivedl'\n",
        "!ls -l\n",
        "!pwd\n",
        "\n",
        "\"\"\"\n",
        "!bash /kaggle/working/gdrivedl https://drive.google.com/file/d/1Bwgd9UA1ggjR_W1ma_IrFzFGhJYeTYQ-/view?usp=sharing\n",
        "!ls -l /kaggle/working\n",
        "inputdir = \"/kaggle/working\"\n",
        "\"\"\"\n",
        "\n",
        "!bash /content/gdrivedl https://drive.google.com/file/d/1Bwgd9UA1ggjR_W1ma_IrFzFGhJYeTYQ-/view?usp=sharing\n",
        "!ls -l /content\n",
        "inputdir = \"/content\""
      ],
      "execution_count": 3,
      "outputs": [
        {
          "output_type": "stream",
          "text": [
            "--2020-12-13 01:16:50--  https://f.mjh.nz/gdrivedl\n",
            "Resolving f.mjh.nz (f.mjh.nz)... 104.28.30.233, 104.28.31.233, 172.67.162.157, ...\n",
            "Connecting to f.mjh.nz (f.mjh.nz)|104.28.30.233|:443... connected.\n",
            "HTTP request sent, awaiting response... 200 OK\n",
            "Length: 1362 (1.3K) [application/octet-stream]\n",
            "Saving to: ‘gdrivedl’\n",
            "\n",
            "gdrivedl            100%[===================>]   1.33K  --.-KB/s    in 0s      \n",
            "\n",
            "2020-12-13 01:16:50 (19.8 MB/s) - ‘gdrivedl’ saved [1362/1362]\n",
            "\n",
            "total 8\n",
            "-rw-r--r-- 1 root root 1362 Jan 29  2019 gdrivedl\n",
            "drwxr-xr-x 1 root root 4096 Dec  2 22:04 sample_data\n",
            "/content\n",
            "File ID: 1Bwgd9UA1ggjR_W1ma_IrFzFGhJYeTYQ-\n",
            "Downloading: https://docs.google.com/uc?export=download&id=1Bwgd9UA1ggjR_W1ma_IrFzFGhJYeTYQ- > .88.file\n",
            "Moving: .88.file > data-01-test-score.csv\n",
            "Saved: data-01-test-score.csv\n",
            "DONE!\n",
            "total 12\n",
            "-rw-r--r-- 1 root root  325 Dec 13 01:16 data-01-test-score.csv\n",
            "-rw-r--r-- 1 root root 1362 Jan 29  2019 gdrivedl\n",
            "drwxr-xr-x 1 root root 4096 Dec  2 22:04 sample_data\n"
          ],
          "name": "stdout"
        }
      ]
    },
    {
      "cell_type": "code",
      "metadata": {
        "trusted": true,
        "id": "e6yOUE0RqzFE"
      },
      "source": [
        "xy = np.loadtxt(os.path.join(inputdir, 'data-01-test-score.csv'), delimiter=',', dtype=np.float32)"
      ],
      "execution_count": 4,
      "outputs": []
    },
    {
      "cell_type": "code",
      "metadata": {
        "trusted": true,
        "id": "kNDhAP8yqzFF"
      },
      "source": [
        "x_data = xy[:, 0:-1]\n",
        "y_data = xy[:, [-1]]"
      ],
      "execution_count": 5,
      "outputs": []
    },
    {
      "cell_type": "code",
      "metadata": {
        "trusted": true,
        "colab": {
          "base_uri": "https://localhost:8080/"
        },
        "id": "gLlkfMzwqzFF",
        "outputId": "4733799f-5fe1-41c1-83a6-e5df63863915"
      },
      "source": [
        "# Make sure the shape and data are OK\n",
        "print(x_data, \"\\nx_data shape:\", x_data.shape)\n",
        "print(y_data, \"\\ny_data shape:\", y_data.shape)"
      ],
      "execution_count": 6,
      "outputs": [
        {
          "output_type": "stream",
          "text": [
            "[[ 73.  80.  75.]\n",
            " [ 93.  88.  93.]\n",
            " [ 89.  91.  90.]\n",
            " [ 96.  98. 100.]\n",
            " [ 73.  66.  70.]\n",
            " [ 53.  46.  55.]\n",
            " [ 69.  74.  77.]\n",
            " [ 47.  56.  60.]\n",
            " [ 87.  79.  90.]\n",
            " [ 79.  70.  88.]\n",
            " [ 69.  70.  73.]\n",
            " [ 70.  65.  74.]\n",
            " [ 93.  95.  91.]\n",
            " [ 79.  80.  73.]\n",
            " [ 70.  73.  78.]\n",
            " [ 93.  89.  96.]\n",
            " [ 78.  75.  68.]\n",
            " [ 81.  90.  93.]\n",
            " [ 88.  92.  86.]\n",
            " [ 78.  83.  77.]\n",
            " [ 82.  86.  90.]\n",
            " [ 86.  82.  89.]\n",
            " [ 78.  83.  85.]\n",
            " [ 76.  83.  71.]\n",
            " [ 96.  93.  95.]] \n",
            "x_data shape: (25, 3)\n",
            "[[152.]\n",
            " [185.]\n",
            " [180.]\n",
            " [196.]\n",
            " [142.]\n",
            " [101.]\n",
            " [149.]\n",
            " [115.]\n",
            " [175.]\n",
            " [164.]\n",
            " [141.]\n",
            " [141.]\n",
            " [184.]\n",
            " [152.]\n",
            " [148.]\n",
            " [192.]\n",
            " [147.]\n",
            " [183.]\n",
            " [177.]\n",
            " [159.]\n",
            " [177.]\n",
            " [175.]\n",
            " [175.]\n",
            " [149.]\n",
            " [192.]] \n",
            "y_data shape: (25, 1)\n"
          ],
          "name": "stdout"
        }
      ]
    },
    {
      "cell_type": "code",
      "metadata": {
        "trusted": true,
        "id": "7KRIs9MLqzFG"
      },
      "source": [
        "model = tf.keras.Sequential()"
      ],
      "execution_count": 7,
      "outputs": []
    },
    {
      "cell_type": "code",
      "metadata": {
        "trusted": true,
        "id": "v3AP-c3dqzFG"
      },
      "source": [
        "# activation function doesn't have to be added as a separate layer. Add it as an argument of Dense() layer\n",
        "model.add(tf.keras.layers.Dense(units=1, input_dim=3, activation='linear'))"
      ],
      "execution_count": 8,
      "outputs": []
    },
    {
      "cell_type": "code",
      "metadata": {
        "trusted": true,
        "colab": {
          "base_uri": "https://localhost:8080/"
        },
        "id": "lcKwZIeEqzFG",
        "outputId": "9b93778d-7d9e-4513-fa4d-4f36ab57cee6"
      },
      "source": [
        "# tf.model.add(tf.keras.layers.Activation('linear'))\n",
        "model.summary()"
      ],
      "execution_count": 9,
      "outputs": [
        {
          "output_type": "stream",
          "text": [
            "Model: \"sequential\"\n",
            "_________________________________________________________________\n",
            "Layer (type)                 Output Shape              Param #   \n",
            "=================================================================\n",
            "dense (Dense)                (None, 1)                 4         \n",
            "=================================================================\n",
            "Total params: 4\n",
            "Trainable params: 4\n",
            "Non-trainable params: 0\n",
            "_________________________________________________________________\n"
          ],
          "name": "stdout"
        }
      ]
    },
    {
      "cell_type": "code",
      "metadata": {
        "trusted": true,
        "id": "ew6eaCCCqzFG"
      },
      "source": [
        "model.compile(loss='mse', optimizer=tf.keras.optimizers.SGD(lr=1e-5))"
      ],
      "execution_count": 10,
      "outputs": []
    },
    {
      "cell_type": "code",
      "metadata": {
        "trusted": true,
        "id": "POjWMZ9JqzFH"
      },
      "source": [
        "history = model.fit(x_data, y_data, epochs=100, verbose=0)"
      ],
      "execution_count": 11,
      "outputs": []
    },
    {
      "cell_type": "code",
      "metadata": {
        "trusted": true,
        "colab": {
          "base_uri": "https://localhost:8080/",
          "height": 295
        },
        "id": "OSo5iN8MqzFH",
        "outputId": "bf06127c-ec63-4265-c145-0be102a1567b"
      },
      "source": [
        "import matplotlib.pyplot as plt\n",
        "%matplotlib inline\n",
        "plt.plot(history.history['loss'])\n",
        "plt.title('Model loss')\n",
        "plt.ylabel('Loss')\n",
        "plt.xlabel('Epoch')\n",
        "plt.legend(['Train', 'Test'], loc='upper left')\n",
        "plt.show()"
      ],
      "execution_count": 12,
      "outputs": [
        {
          "output_type": "display_data",
          "data": {
            "image/png": "[encoded data removed]",
            "text/plain": [
              "<Figure size 432x288 with 1 Axes>"
            ]
          },
          "metadata": {
            "tags": [],
            "needs_background": "light"
          }
        }
      ]
    },
    {
      "cell_type": "code",
      "metadata": {
        "trusted": true,
        "colab": {
          "base_uri": "https://localhost:8080/"
        },
        "id": "Ct9dVvUJqzFH",
        "outputId": "3d2f04e6-abc4-49d5-d25c-6987ca7e6695"
      },
      "source": [
        "# Ask my score\n",
        "print(\"Your score will be \", model.predict([[100, 70, 101]]))\n",
        "print(\"Other scores will be \", model.predict([[60, 70, 110], [90, 100, 80]]))"
      ],
      "execution_count": 13,
      "outputs": [
        {
          "output_type": "stream",
          "text": [
            "Your score will be  [[193.33601]]\n",
            "Other scores will be  [[190.6053 ]\n",
            " [170.28207]]\n"
          ],
          "name": "stdout"
        }
      ]
    },
    {
      "cell_type": "code",
      "metadata": {
        "trusted": true,
        "id": "Ask9_DvoqzFH"
      },
      "source": [
        ""
      ],
      "execution_count": 13,
      "outputs": []
    }
  ]
}