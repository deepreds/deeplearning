{
 "cells": [
  {
   "cell_type": "code",
   "execution_count": 1,
   "metadata": {},
   "outputs": [
    {
     "name": "stdout",
     "output_type": "stream",
     "text": [
      "1 Physical GPUs, 1 Logical GPUs\n"
     ]
    }
   ],
   "source": [
    "#https://www.geeksforgeeks.org/opencv-facial-landmarks-and-face-detection-using-dlib-and-opencv/\n",
    "\n",
    "import tensorflow as tf\n",
    "import os\n",
    "os.environ['TF_CPP_MIN_LOG_LEVEL'] = '3'\n",
    "os.environ[\"CUDA_DEVICE_ORDER\"] = \"PCI_BUS_ID\"\n",
    "os.environ[\"CUDA_VISIBLE_DEVICES\"] = '0' # Set to -1 if CPU should be used CPU = -1 , GPU = 0\n",
    "\n",
    "gpus = tf.config.experimental.list_physical_devices('GPU')\n",
    "cpus = tf.config.experimental.list_physical_devices('CPU')\n",
    "\n",
    "if gpus:\n",
    "    try:\n",
    "        # Currently, memory growth needs to be the same across GPUs\n",
    "        for gpu in gpus:\n",
    "            tf.config.experimental.set_memory_growth(gpu, True)\n",
    "        logical_gpus = tf.config.experimental.list_logical_devices('GPU')\n",
    "        print(len(gpus), \"Physical GPUs,\", len(logical_gpus), \"Logical GPUs\")\n",
    "    except RuntimeError as e:\n",
    "        # Memory growth must be set before GPUs have been initialized\n",
    "        print(e)\n",
    "elif cpus:\n",
    "    try:\n",
    "        # Currently, memory growth needs to be the same across GPUs\n",
    "        logical_cpus= tf.config.experimental.list_logical_devices('CPU')\n",
    "        print(len(cpus), \"Physical CPU,\", len(logical_cpus), \"Logical CPU\")\n",
    "    except RuntimeError as e:\n",
    "        # Memory growth must be set before GPUs have been initialized\n",
    "        print(e)"
   ]
  },
  {
   "cell_type": "code",
   "execution_count": 3,
   "metadata": {},
   "outputs": [
    {
     "data": {
      "text/plain": [
       "-1"
      ]
     },
     "execution_count": 3,
     "metadata": {},
     "output_type": "execute_result"
    }
   ],
   "source": [
    "# We import the necessary packages \n",
    "from imutils import face_utils \n",
    "import numpy as np \n",
    "import argparse \n",
    "import imutils \n",
    "import dlib \n",
    "import cv2\n",
    "\n",
    "# We are initializing the  dlib's face detector (HOG-based) and then  \n",
    "# creation of the facial landmark predictor \n",
    "detector = dlib.get_frontal_face_detector() \n",
    "#https://github.com/davisking/dlib-models\n",
    "predictor = dlib.shape_predictor(\"shape_predictor_68_face_landmarks.dat\") \n",
    "\n",
    "# We then load the input image, resize it, and convert it to grayscale \n",
    "images = cv2.imread(\"beauty-face-517.jpg\") \n",
    "images = imutils.resize(images, width = 500) \n",
    "gray = cv2.cvtColor(images, cv2.COLOR_BGR2GRAY) \n",
    "  \n",
    "# We then detect faces in the grayscale image \n",
    "rects = detector(gray, 1) \n",
    "  \n",
    "# Now, job is to loop over the face detections \n",
    "for (i, rect) in enumerate(rects): \n",
    "    # We will determine the facial landmarks for the face region, then \n",
    "    # can convert the facial landmark (x, y)-coordinates to a NumPy array \n",
    "    shape = predictor(gray, rect) \n",
    "    shape = face_utils.shape_to_np(shape) \n",
    "  \n",
    "    # We then convert dlib's rectangle to a OpenCV-style bounding box \n",
    "    # [i.e., (x, y, w, h)], then can draw the face bounding box \n",
    "    (x, y, w, h) = face_utils.rect_to_bb(rect) \n",
    "    cv2.rectangle(images, (x, y), (x + w, y + h), (255, 255, 0), 2) \n",
    "  \n",
    "    # We then show the face number  \n",
    "    cv2.putText(images, 'Face % {}'.format(i + 1), (x - 10, y - 10), \n",
    "        cv2.FONT_HERSHEY_SIMPLEX, 0.5, (0, 255, 255), 2) \n",
    "  \n",
    "    # We then loop over the (x, y)-coordinates for the facial landmarks  \n",
    "    # and draw them on the image \n",
    "    for (x, y) in shape: \n",
    "        cv2.circle(images, (x, y), 1, (0, 0, 255), -1) \n",
    "  \n",
    "# Now show the output image with the face detections as well as  \n",
    "# facial landmarks \n",
    "cv2.imshow(\"Output\", images) \n",
    "cv2.waitKey(0)"
   ]
  },
  {
   "cell_type": "code",
   "execution_count": null,
   "metadata": {},
   "outputs": [],
   "source": []
  },
  {
   "cell_type": "code",
   "execution_count": null,
   "metadata": {},
   "outputs": [],
   "source": []
  }
 ],
 "metadata": {
  "kernelspec": {
   "display_name": "Python 3",
   "language": "python",
   "name": "python3"
  },
  "language_info": {
   "codemirror_mode": {
    "name": "ipython",
    "version": 3
   },
   "file_extension": ".py",
   "mimetype": "text/x-python",
   "name": "python",
   "nbconvert_exporter": "python",
   "pygments_lexer": "ipython3",
   "version": "3.8.3"
  }
 },
 "nbformat": 4,
 "nbformat_minor": 4
}
