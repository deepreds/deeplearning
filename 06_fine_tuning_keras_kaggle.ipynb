{
 "cells": [
  {
   "cell_type": "code",
   "execution_count": 8,
   "metadata": {
    "colab": {
     "base_uri": "https://localhost:8080/"
    },
    "id": "_exFLH1CyLg5",
    "outputId": "74ccf294-7692-4390-9d55-026e02213378"
   },
   "outputs": [
    {
     "name": "stdout",
     "output_type": "stream",
     "text": [
      "1 Physical GPUs, 1 Logical GPUs\n"
     ]
    }
   ],
   "source": [
    "#https://www.pyimagesearch.com/2019/06/03/fine-tuning-with-keras-and-deep-learning/\n",
    "import tensorflow as tf\n",
    "\n",
    "import os\n",
    "os.environ['TF_CPP_MIN_LOG_LEVEL'] = '3'\n",
    "os.environ[\"CUDA_DEVICE_ORDER\"] = \"PCI_BUS_ID\"\n",
    "os.environ[\"CUDA_VISIBLE_DEVICES\"] = '0' # Set to -1 if CPU should be used CPU = -1 , GPU = 0\n",
    "\n",
    "gpus = tf.config.experimental.list_physical_devices('GPU')\n",
    "cpus = tf.config.experimental.list_physical_devices('CPU')\n",
    "\n",
    "if gpus:\n",
    "    try:\n",
    "        # Currently, memory growth needs to be the same across GPUs\n",
    "        for gpu in gpus:\n",
    "            tf.config.experimental.set_memory_growth(gpu, True)\n",
    "        logical_gpus = tf.config.experimental.list_logical_devices('GPU')\n",
    "        print(len(gpus), \"Physical GPUs,\", len(logical_gpus), \"Logical GPUs\")\n",
    "    except RuntimeError as e:\n",
    "        # Memory growth must be set before GPUs have been initialized\n",
    "        print(e)\n",
    "elif cpus:\n",
    "    try:\n",
    "        # Currently, memory growth needs to be the same across GPUs\n",
    "        logical_cpus= tf.config.experimental.list_logical_devices('CPU')\n",
    "        print(len(cpus), \"Physical CPU,\", len(logical_cpus), \"Logical CPU\")\n",
    "    except RuntimeError as e:\n",
    "        # Memory growth must be set before GPUs have been initialized\n",
    "        print(e)"
   ]
  },
  {
   "cell_type": "code",
   "execution_count": 9,
   "metadata": {
    "colab": {
     "base_uri": "https://localhost:8080/"
    },
    "id": "mehFk1J8yLhD",
    "outputId": "790c4283-394d-450d-a36c-3f3c9d392202"
   },
   "outputs": [
    {
     "name": "stdout",
     "output_type": "stream",
     "text": [
      "Filesystem      Size  Used Avail Use% Mounted on\n",
      "overlay          69G   33G   37G  48% /\n",
      "tmpfs            64M     0   64M   0% /dev\n",
      "tmpfs           6.4G     0  6.4G   0% /sys/fs/cgroup\n",
      "shm             5.8G     0  5.8G   0% /dev/shm\n",
      "/dev/sda1        75G   34G   42G  45% /opt/bin\n",
      "tmpfs           6.4G   16K  6.4G   1% /var/colab\n",
      "tmpfs           6.4G     0  6.4G   0% /proc/acpi\n",
      "tmpfs           6.4G     0  6.4G   0% /proc/scsi\n",
      "tmpfs           6.4G     0  6.4G   0% /sys/firmware\n"
     ]
    }
   ],
   "source": [
    "!df -h"
   ]
  },
  {
   "cell_type": "code",
   "execution_count": 10,
   "metadata": {
    "colab": {
     "base_uri": "https://localhost:8080/"
    },
    "id": "omWQmiskyLhE",
    "outputId": "e846f05e-d53b-4cd8-f960-eac935cb378e"
   },
   "outputs": [
    {
     "name": "stdout",
     "output_type": "stream",
     "text": [
      "--2020-12-12 21:17:22--  https://f.mjh.nz/gdrivedl\n",
      "Resolving f.mjh.nz (f.mjh.nz)... 172.67.162.157, 104.28.31.233, 104.28.30.233, ...\n",
      "Connecting to f.mjh.nz (f.mjh.nz)|172.67.162.157|:443... connected.\n",
      "HTTP request sent, awaiting response... 200 OK\n",
      "Length: 1362 (1.3K) [application/octet-stream]\n",
      "Saving to: ‘gdrivedl’\n",
      "\n",
      "gdrivedl            100%[===================>]   1.33K  --.-KB/s    in 0s      \n",
      "\n",
      "2020-12-12 21:17:22 (29.9 MB/s) - ‘gdrivedl’ saved [1362/1362]\n",
      "\n",
      "total 8\n",
      "-rw-r--r-- 1 root root 1362 Jan 29  2019 gdrivedl\n",
      "drwxr-xr-x 1 root root 4096 Dec  2 22:04 sample_data\n",
      "/content\n",
      "File ID: 11KqozCisBLjEwfNalFSq85sf_XYJDU1K\n",
      "Downloading: https://docs.google.com/uc?export=download&id=11KqozCisBLjEwfNalFSq85sf_XYJDU1K > .136.file\n",
      "Downloading: https://docs.google.com/uc?export=download&id=11KqozCisBLjEwfNalFSq85sf_XYJDU1K&confirm=8pRE > .136.file\n",
      "Moving: .136.file > Food-11.zip\n",
      "Saved: Food-11.zip\n",
      "DONE!\n",
      "total 1135708\n",
      "-rw-r--r-- 1 root root 1162949981 Dec 12 21:17 Food-11.zip\n",
      "-rw-r--r-- 1 root root       1362 Jan 29  2019 gdrivedl\n",
      "drwxr-xr-x 1 root root       4096 Dec  2 22:04 sample_data\n"
     ]
    }
   ],
   "source": [
    "# +Add data before loading\n",
    "\n",
    "!wget -O gdrivedl 'https://f.mjh.nz/gdrivedl'\n",
    "!ls -l\n",
    "!pwd\n",
    "\"\"\"\n",
    "!bash /kaggle/working/gdrivedl https://drive.google.com/file/d/11KqozCisBLjEwfNalFSq85sf_XYJDU1K/view?usp=sharing\n",
    "!ls -l /kaggle/working\n",
    "inputdir = \"/kaggle/working\"\n",
    "\"\"\"\n",
    "!bash /content/gdrivedl https://drive.google.com/file/d/11KqozCisBLjEwfNalFSq85sf_XYJDU1K/view?usp=sharing\n",
    "!ls -l /content/\n",
    "inputdir = \"/content\""
   ]
  },
  {
   "cell_type": "code",
   "execution_count": 11,
   "metadata": {
    "id": "G1JEdufiyLhE"
   },
   "outputs": [],
   "source": [
    "# import the necessary packages\n",
    "import os\n",
    "\n",
    "# initialize the path to the *original* input directory of images\n",
    "ORIG_INPUT_DATASET = os.path.join(inputdir, \"Food-11.zip\")\n",
    "\n",
    "# initialize the base path to the *new* directory that will contain\n",
    "# our images after computing the training and testing split\n",
    "#BASE_PATH = \"dataset1\"\n",
    "import tempfile\n",
    "TEMPDIR = tempfile.gettempdir()\n",
    "BASE_PATH = os.path.join(TEMPDIR, \"dataset1.zip\")\n",
    "\n",
    "# define the names of the training, testing, and validation\n",
    "# directories\n",
    "TRAIN = \"training1\"\n",
    "TEST = \"evaluation1\"\n",
    "VAL = \"validation1\"\n",
    "\n",
    "# initialize the list of class label names\n",
    "CLASSES = [\"Bread\", \"Dairy product\", \"Dessert\", \"Egg\", \"Fried food\",\"Meat\", \"Noodles/Pasta\", \"Rice\", \"Seafood\", \"Soup\",\"Vegetable/Fruit\"]\n",
    "\n",
    "# set the batch size when fine-tuning\n",
    "BATCH_SIZE = 12 #32, small batch size for 3GB NVIDIA GeForce 1060 3GB\n",
    "\n",
    "# initialize the label encoder file path and the output directory to\n",
    "# where the extracted features (in CSV file format) will be stored\n",
    "#LE_PATH = os.path.sep.join([\"output1\", \"le.cpickle\"])\n",
    "#BASE_CSV_PATH = \"output1\"\n",
    "\n",
    "LE_PATH = os.path.sep.join([TEMPDIR, \"le1.pkl\"])\n",
    "BASE_CSV_PATH = TEMPDIR\n",
    "\n",
    "# set the path to the serialized model after training\n",
    "#MODEL_PATH = os.path.sep.join([\"output1\", \"food11.model\"])\n",
    "MODEL_PATH = os.path.sep.join([TEMPDIR, \"food11.h5\"])\n",
    "\n",
    "# define the path to the output training history plots\n",
    "#UNFROZEN_PLOT_PATH = os.path.sep.join([\"output1\", \"unfrozen.png\"])\n",
    "#WARMUP_PLOT_PATH = os.path.sep.join([\"output1\", \"warmup.png\"])\n",
    "UNFROZEN_PLOT_PATH = os.path.sep.join([TEMPDIR, \"unfrozen.png\"])\n",
    "WARMUP_PLOT_PATH = os.path.sep.join([TEMPDIR, \"warmup.png\"])"
   ]
  },
  {
   "cell_type": "code",
   "execution_count": 12,
   "metadata": {
    "colab": {
     "base_uri": "https://localhost:8080/"
    },
    "id": "KmsO7OC4yLhE",
    "outputId": "7390080c-bdd1-47dd-f27a-94b7fe7e1d30"
   },
   "outputs": [
    {
     "name": "stdout",
     "output_type": "stream",
     "text": [
      "Requirement already satisfied: imutils in /usr/local/lib/python3.6/dist-packages (0.5.3)\n"
     ]
    }
   ],
   "source": [
    "!pip install imutils"
   ]
  },
  {
   "cell_type": "code",
   "execution_count": 13,
   "metadata": {
    "id": "_wDwaAouyLhF"
   },
   "outputs": [],
   "source": [
    "# import the necessary packages\n",
    "from imutils import paths\n",
    "import shutil\n",
    "import os\n",
    "# import the necessary packages\n",
    "from keras.models import load_model\n",
    "import numpy as np\n",
    "import argparse\n",
    "import imutils\n",
    "import cv2\n",
    "# import the necessary packages\n",
    "from tensorflow.keras.preprocessing.image import ImageDataGenerator\n",
    "from tensorflow.keras.applications import VGG16\n",
    "from tensorflow.keras.layers import Dropout\n",
    "from tensorflow.keras.layers import Flatten\n",
    "from tensorflow.keras.layers import Dense\n",
    "from tensorflow.keras.layers import Input\n",
    "from tensorflow.keras.models import Model\n",
    "from tensorflow.keras.optimizers import SGD\n",
    "from sklearn.metrics import classification_report\n",
    "from imutils import paths\n",
    "import matplotlib.pyplot as plt\n",
    "import numpy as np\n",
    "import pickle"
   ]
  },
  {
   "cell_type": "code",
   "execution_count": 14,
   "metadata": {
    "colab": {
     "base_uri": "https://localhost:8080/"
    },
    "id": "6bIn22c3yLhF",
    "outputId": "fd91e939-46c1-44da-e3a1-a91811462e1a"
   },
   "outputs": [
    {
     "name": "stdout",
     "output_type": "stream",
     "text": [
      "[INFO] processing 'training1 split'...\n",
      "[INFO] processing 'evaluation1 split'...\n",
      "[INFO] processing 'validation1 split'...\n"
     ]
    }
   ],
   "source": [
    "import zipfile\n",
    "import cv2\n",
    "zf = zipfile.ZipFile(ORIG_INPUT_DATASET)\n",
    "imagelist = zf.namelist()\n",
    "\n",
    "ozf = zipfile.ZipFile(BASE_PATH, 'w')\n",
    "\n",
    "classcountdict = {}\n",
    "\n",
    "# loop over the data splits\n",
    "for split in (TRAIN, TEST, VAL):\n",
    "\t# grab all image paths in the current split\n",
    "\tprint(\"[INFO] processing '{} split'...\".format(split))\n",
    "\t#p = os.path.sep.join([ORIG_INPUT_DATASET, split])\n",
    "\t#imagePaths = list(paths.list_images(p))\n",
    "\timagePaths = [ix for ix in imagelist if ix.startswith(split)]\n",
    "\n",
    "\t# loop over the image paths\n",
    "\tfor imagePath in imagePaths:\n",
    "\t\t# extract class label from the filename\n",
    "\t\t#filename = imagePath.split(os.path.sep)[-1]\n",
    "\t\t#label = CLASSES[int(filename.split(\"_\")[0])]\n",
    "\t\tfilename = imagePath.rsplit('/', 1)[-1]\n",
    "\t\tlabel = CLASSES[int(filename.split(\"_\")[0])]\n",
    "\t\tclasscountdict.setdefault(label, 0)\n",
    "\t\tclasscountdict[label] += 1\n",
    "\n",
    "\t\t# construct the path to the output directory\n",
    "\t\tdirPath = os.path.sep.join([BASE_PATH, split, label])\n",
    "\t\tdirPath = '/'.join([split, label])\n",
    "\n",
    "\t\t# if the output directory does not exist, create it\n",
    "\t\t#if not os.path.exists(dirPath):\n",
    "\t\t#\tos.makedirs(dirPath)\n",
    "\n",
    "\t\t# construct the path to the output image file and copy it\n",
    "\t\t#p = os.path.sep.join([dirPath, filename])\n",
    "\t\t#shutil.copy2(imagePath, p)\n",
    "\t\tozf.writestr(dirPath + '/' + filename, zf.read(imagePath), compress_type=zipfile.ZIP_STORED)\n",
    "\t#print(len(imagePaths))\n",
    "zf.close()\n",
    "ozf.close()"
   ]
  },
  {
   "cell_type": "code",
   "execution_count": 15,
   "metadata": {
    "colab": {
     "base_uri": "https://localhost:8080/"
    },
    "id": "-zmQG5qcyLhG",
    "outputId": "e6c1cf5b-2624-4f12-f49f-d1844ca33229"
   },
   "outputs": [
    {
     "name": "stdout",
     "output_type": "stream",
     "text": [
      "['Bread', 'Dairy product', 'Dessert', 'Egg', 'Fried food', 'Meat', 'Noodles/Pasta', 'Rice', 'Seafood', 'Soup', 'Vegetable/Fruit']\n",
      "[1724, 721, 2500, 1648, 1461, 2206, 734, 472, 1505, 2500, 1172]\n"
     ]
    }
   ],
   "source": [
    "print(CLASSES)\n",
    "print([classcountdict[ix] for ix in CLASSES])"
   ]
  },
  {
   "cell_type": "code",
   "execution_count": 16,
   "metadata": {
    "id": "dfWxPEayyLhG"
   },
   "outputs": [],
   "source": [
    "def plot_training(H, N, plotPath):\n",
    "\t# construct a plot that plots and saves the training history\n",
    "\tplt.style.use(\"ggplot\")\n",
    "\tplt.figure()\n",
    "\tplt.plot(np.arange(0, N), H.history[\"loss\"], label=\"train_loss\")\n",
    "\tplt.plot(np.arange(0, N), H.history[\"val_loss\"], label=\"val_loss\")\n",
    "\tplt.plot(np.arange(0, N), H.history[\"accuracy\"], label=\"train_accuracy\")\n",
    "\tplt.plot(np.arange(0, N), H.history[\"val_accuracy\"], label=\"val_accuracy\")\n",
    "\tplt.title(\"Training Loss and Accuracy\")\n",
    "\tplt.xlabel(\"Epoch #\")\n",
    "\tplt.ylabel(\"Loss/Accuracy\")\n",
    "\tplt.legend(loc=\"lower left\")\n",
    "\tplt.savefig(plotPath)"
   ]
  },
  {
   "cell_type": "code",
   "execution_count": 17,
   "metadata": {
    "colab": {
     "base_uri": "https://localhost:8080/"
    },
    "id": "zLcUgOLWyLhH",
    "outputId": "5fedaab9-bf4b-49fe-ca29-465dfc63484c"
   },
   "outputs": [
    {
     "name": "stdout",
     "output_type": "stream",
     "text": [
      "[INFO] processing 'training1 split'...\n",
      "[INFO] processing '9866 images'...\n",
      "training1 9866\n",
      "training1 9866\n",
      "[INFO] processing 'evaluation1 split'...\n",
      "[INFO] processing '3347 images'...\n",
      "evaluation1 3347\n",
      "evaluation1 3347\n",
      "[INFO] processing 'validation1 split'...\n",
      "[INFO] processing '3430 images'...\n",
      "validation1 3430\n",
      "validation1 3430\n",
      "validation1 1000 1000 1000\n",
      "validation1 1000 1000 1000\n"
     ]
    }
   ],
   "source": [
    "# derive the paths to the training, validation, and testing directories\n",
    "#trainPath = os.path.sep.join([BASE_PATH, TRAIN])\n",
    "#valPath = os.path.sep.join([BASE_PATH, VAL])\n",
    "#testPath = os.path.sep.join([BASE_PATH, TEST])\n",
    "\n",
    "# determine the total number of image paths in training, validation,\n",
    "# and testing directories\n",
    "#totalTrain = len(list(paths.list_images(trainPath)))\n",
    "#totalVal = len(list(paths.list_images(valPath)))\n",
    "#totalTest = len(list(paths.list_images(testPath)))\n",
    "\n",
    "from keras.applications import imagenet_utils\n",
    "import cv2\n",
    "zf = zipfile.ZipFile(BASE_PATH)\n",
    "imagelist = zf.namelist()\n",
    "#print(len(imagelist))\n",
    "#print(imagelist[:5])\n",
    "\n",
    "imageTrain = []\n",
    "imageVal = []\n",
    "imageTest = []\n",
    "labelTrain = []\n",
    "labelVal = []\n",
    "labelTest = []\n",
    "\n",
    "#print(TRAIN, TEST, VAL)\n",
    "\n",
    "# loop over the data splits\n",
    "for split in (TRAIN, TEST, VAL):\n",
    "\t# grab all image paths in the current split\n",
    "\tprint(\"[INFO] processing '{} split'...\".format(split))\n",
    "\t#p = os.path.sep.join([BASE_PATH, split])\n",
    "\t#imagePaths = list(paths.list_images(p))\n",
    "\timagePaths = [ix for ix in imagelist if ix.startswith(split)]\n",
    "\t# loop over the images in batches\n",
    "\t#print(split, len(imagePaths))\n",
    "\tprint(\"[INFO] processing '{} images'...\".format(len(imagePaths)))\n",
    "\t#for imagePath in imagePaths:\n",
    "\timport random\n",
    "\trandom.shuffle(imagePaths) # shuffle imagePaths\n",
    "\tfor imagePath in imagePaths[:1000]: # only for 1000 images, too big to handle in colab and kaggle\n",
    "\t\t# load the input image using the Keras helper utility\n",
    "\t\t# while ensuring the image is resized to 224x224 pixels\n",
    "\t\t#image = load_img(imagePath, target_size=(224, 224))\n",
    "\t\t#image = img_to_array(image)\n",
    "\t\t#print(imagePath)\n",
    "\t\timage = cv2.imdecode(np.frombuffer(zf.read(imagePath), np.uint8), 1)\n",
    "\t\timage = cv2.resize(image, (224, 224))\n",
    "\t\timage = np.expand_dims(image, axis=0)\n",
    "\t\timage = imagenet_utils.preprocess_input(image)\n",
    "\t\tlabel, filename = imagePath.rsplit('/', 1)\n",
    "\t\timageclass, label = label.split('/', 1)\n",
    "\t\tif imageclass == TRAIN:\n",
    "\t\t\timageTrain.append(image)\n",
    "\t\t\tlabelTrain.append(CLASSES.index(label))\n",
    "\t\tif imageclass == VAL:\n",
    "\t\t\timageVal.append(image)\n",
    "\t\t\tlabelVal.append(CLASSES.index(label))\n",
    "\t\tif imageclass == TEST:\n",
    "\t\t\timageTest.append(image)\n",
    "\t\t\tlabelTest.append(CLASSES.index(label))\n",
    "\tprint(imageclass, len(imagePaths))\n",
    "\tprint(imageclass, len(imagePaths))\n",
    "\t#if imageclass == TRAIN: imageTrain = np.vstack(imageTrain)\n",
    "\t#if imageclass == VAL: imageVal = np.vstack(imageVal)\n",
    "\t#if imageclass == TEST: imageTest = np.vstack(imageTest)\n",
    "zf.close()\n",
    "\n",
    "imageTrain = np.vstack(imageTrain)\n",
    "imageVal = np.vstack(imageVal)\n",
    "imageTest = np.vstack(imageTest)\n",
    "from tensorflow.keras.utils import to_categorical\n",
    "labelTrain = to_categorical(labelTrain)\n",
    "labelVal = to_categorical(labelVal)\n",
    "labelTest = to_categorical(labelTest)\n",
    "print(split, len(imageTrain), len(imageVal), len(imageTest))\n",
    "print(split, len(labelTrain), len(labelVal), len(labelTest))"
   ]
  },
  {
   "cell_type": "code",
   "execution_count": 18,
   "metadata": {
    "colab": {
     "base_uri": "https://localhost:8080/"
    },
    "id": "igLGr1-HyLhJ",
    "outputId": "a9326223-15fd-4521-99ff-aab926969bbc"
   },
   "outputs": [
    {
     "name": "stdout",
     "output_type": "stream",
     "text": [
      "[[0. 0. 0. 0. 0. 1. 0. 0. 0. 0. 0.]\n",
      " [0. 0. 0. 0. 0. 0. 0. 0. 0. 1. 0.]\n",
      " [0. 0. 0. 0. 0. 1. 0. 0. 0. 0. 0.]\n",
      " [0. 0. 0. 0. 0. 0. 0. 0. 1. 0. 0.]\n",
      " [0. 0. 0. 0. 0. 1. 0. 0. 0. 0. 0.]]\n",
      "[[0. 0. 0. 0. 0. 0. 1. 0. 0. 0. 0.]\n",
      " [0. 0. 0. 0. 0. 0. 0. 0. 1. 0. 0.]\n",
      " [0. 0. 0. 0. 0. 0. 0. 0. 0. 1. 0.]\n",
      " [0. 0. 1. 0. 0. 0. 0. 0. 0. 0. 0.]\n",
      " [0. 0. 0. 0. 0. 1. 0. 0. 0. 0. 0.]]\n",
      "[[0. 0. 0. 0. 0. 1. 0. 0. 0. 0. 0.]\n",
      " [0. 0. 0. 0. 0. 1. 0. 0. 0. 0. 0.]\n",
      " [0. 0. 0. 0. 1. 0. 0. 0. 0. 0. 0.]\n",
      " [0. 0. 1. 0. 0. 0. 0. 0. 0. 0. 0.]\n",
      " [0. 0. 1. 0. 0. 0. 0. 0. 0. 0. 0.]]\n"
     ]
    }
   ],
   "source": [
    "#imageTrain = np.vstack(imageTrain)\n",
    "#imageVal = np.vstack(imageVal)\n",
    "#imageTest = np.vstack(imageTest)\n",
    "print(labelTrain[:5])\n",
    "print(labelVal[:5])\n",
    "print(labelTest[:5])"
   ]
  },
  {
   "cell_type": "code",
   "execution_count": 19,
   "metadata": {
    "colab": {
     "base_uri": "https://localhost:8080/"
    },
    "id": "GNUDMWaPyLhK",
    "outputId": "b3ec26bd-11c7-4d29-be89-a66ad4708357"
   },
   "outputs": [
    {
     "name": "stdout",
     "output_type": "stream",
     "text": [
      "(1000, 224, 224, 3)\n",
      "(1000, 224, 224, 3)\n",
      "(1000, 224, 224, 3)\n",
      "1000\n",
      "1000\n",
      "1000\n"
     ]
    }
   ],
   "source": [
    "print(imageTrain.shape)\n",
    "print(imageVal.shape)\n",
    "print(imageTest.shape)\n",
    "print(len(imageTrain))\n",
    "print(len(imageVal))\n",
    "print(len(imageTest))"
   ]
  },
  {
   "cell_type": "code",
   "execution_count": 20,
   "metadata": {
    "id": "XZEW1F0zyLhK"
   },
   "outputs": [],
   "source": [
    "# initialize the training data augmentation object\n",
    "trainAug = ImageDataGenerator(rotation_range=30,zoom_range=0.15,width_shift_range=0.2,height_shift_range=0.2,shear_range=0.15,horizontal_flip=True,fill_mode=\"nearest\")"
   ]
  },
  {
   "cell_type": "code",
   "execution_count": 21,
   "metadata": {
    "id": "OCOJUklryLhK"
   },
   "outputs": [],
   "source": [
    "# initialize the validation/testing data augmentation object (which\n",
    "# we'll be adding mean subtraction to)\n",
    "valAug = ImageDataGenerator()"
   ]
  },
  {
   "cell_type": "code",
   "execution_count": 22,
   "metadata": {
    "id": "rc8UaAOGyLhL"
   },
   "outputs": [],
   "source": [
    "# define the ImageNet mean subtraction (in RGB order) and set the\n",
    "# the mean subtraction value for each of the data augmentation\n",
    "# objects\n",
    "mean = np.array([123.68, 116.779, 103.939], dtype=\"float32\")\n",
    "trainAug.mean = mean\n",
    "valAug.mean = mean"
   ]
  },
  {
   "cell_type": "code",
   "execution_count": 23,
   "metadata": {
    "id": "r1uxnjoyyLhL"
   },
   "outputs": [],
   "source": [
    "# initialize the training generator\n",
    "#trainGen = trainAug.flow_from_directory(trainPath,class_mode=\"categorical\",target_size=(224, 224),color_mode=\"rgb\",shuffle=True,batch_size=BATCH_SIZE)\n",
    "trainGen = trainAug.flow(imageTrain, y = labelTrain, shuffle=True,batch_size=BATCH_SIZE)"
   ]
  },
  {
   "cell_type": "code",
   "execution_count": 24,
   "metadata": {
    "id": "giMoj8UvyLhM"
   },
   "outputs": [],
   "source": [
    "# initialize the validation generator\n",
    "#valGen = valAug.flow_from_directory(valPath,class_mode=\"categorical\",target_size=(224, 224),color_mode=\"rgb\",shuffle=False,batch_size=BATCH_SIZE)\n",
    "valGen = valAug.flow(imageVal, y = labelVal, shuffle=False,batch_size=BATCH_SIZE)"
   ]
  },
  {
   "cell_type": "code",
   "execution_count": 25,
   "metadata": {
    "id": "AET0DJ5FyLhM"
   },
   "outputs": [],
   "source": [
    "# initialize the testing generator\n",
    "#testGen = valAug.flow_from_directory(testPath,class_mode=\"categorical\",target_size=(224, 224),color_mode=\"rgb\",shuffle=False,batch_size=BATCH_SIZE)\n",
    "testGen = valAug.flow(imageTest, y = labelTest, shuffle=False,batch_size=BATCH_SIZE)"
   ]
  },
  {
   "cell_type": "code",
   "execution_count": 26,
   "metadata": {
    "colab": {
     "base_uri": "https://localhost:8080/"
    },
    "id": "OyQwItLUyLhM",
    "outputId": "8dc18ef2-3050-4c70-d237-ae0e286f43fe"
   },
   "outputs": [
    {
     "name": "stdout",
     "output_type": "stream",
     "text": [
      "Downloading data from https://storage.googleapis.com/tensorflow/keras-applications/vgg16/vgg16_weights_tf_dim_ordering_tf_kernels_notop.h5\n",
      "58892288/58889256 [==============================] - 0s 0us/step\n"
     ]
    }
   ],
   "source": [
    "# load the VGG16 network, ensuring the head FC layer sets are left\n",
    "# off\n",
    "baseModel = VGG16(weights=\"imagenet\", include_top=False,input_tensor=Input(shape=(224, 224, 3)))"
   ]
  },
  {
   "cell_type": "code",
   "execution_count": 27,
   "metadata": {
    "colab": {
     "base_uri": "https://localhost:8080/"
    },
    "id": "7jjBIWfnyLhM",
    "outputId": "effaf633-0ef9-4377-acb2-92e9838d59e5"
   },
   "outputs": [
    {
     "name": "stdout",
     "output_type": "stream",
     "text": [
      "(None, 7, 7, 512)\n"
     ]
    }
   ],
   "source": [
    "print(baseModel.output.shape)"
   ]
  },
  {
   "cell_type": "code",
   "execution_count": 28,
   "metadata": {
    "id": "qqlxLMTDyLhM"
   },
   "outputs": [],
   "source": [
    "# construct the head of the model that will be placed on top of the\n",
    "# the base model\n",
    "headModel = baseModel.output\n",
    "headModel = Flatten(name=\"flatten\")(headModel)\n",
    "headModel = Dense(512, activation=\"relu\")(headModel)\n",
    "headModel = Dropout(0.5)(headModel)\n",
    "headModel = Dense(len(CLASSES), activation=\"softmax\")(headModel)"
   ]
  },
  {
   "cell_type": "code",
   "execution_count": 29,
   "metadata": {
    "id": "fR2Kf8rNyLhM"
   },
   "outputs": [],
   "source": [
    "# place the head FC model on top of the base model (this will become\n",
    "# the actual model we will train)\n",
    "model = Model(inputs=baseModel.input, outputs=headModel)"
   ]
  },
  {
   "cell_type": "code",
   "execution_count": 30,
   "metadata": {
    "id": "N1mGsi1vyLhN"
   },
   "outputs": [],
   "source": [
    "# loop over all layers in the base model and freeze them so they will\n",
    "# *not* be updated during the first training process\n",
    "for layer in baseModel.layers:\n",
    "\tlayer.trainable = False"
   ]
  },
  {
   "cell_type": "code",
   "execution_count": 31,
   "metadata": {
    "colab": {
     "base_uri": "https://localhost:8080/"
    },
    "id": "a8lClJ5GyLhN",
    "outputId": "a3c86191-0f5f-4b3b-c8a3-b97a1a758775"
   },
   "outputs": [
    {
     "name": "stdout",
     "output_type": "stream",
     "text": [
      "[INFO] compiling model...\n"
     ]
    }
   ],
   "source": [
    "# compile our model (this needs to be done after our setting our\n",
    "# layers to being non-trainable\n",
    "print(\"[INFO] compiling model...\")\n",
    "opt = SGD(lr=1e-4, momentum=0.9)\n",
    "model.compile(loss=\"categorical_crossentropy\", optimizer=opt,metrics=[\"accuracy\"])"
   ]
  },
  {
   "cell_type": "code",
   "execution_count": 32,
   "metadata": {
    "colab": {
     "base_uri": "https://localhost:8080/"
    },
    "id": "W2GjrVfqyLhN",
    "outputId": "bb7673fc-aaeb-4a78-dc11-1780c51ceb56"
   },
   "outputs": [
    {
     "name": "stdout",
     "output_type": "stream",
     "text": [
      "Model: \"functional_1\"\n",
      "_________________________________________________________________\n",
      "Layer (type)                 Output Shape              Param #   \n",
      "=================================================================\n",
      "input_1 (InputLayer)         [(None, 224, 224, 3)]     0         \n",
      "_________________________________________________________________\n",
      "block1_conv1 (Conv2D)        (None, 224, 224, 64)      1792      \n",
      "_________________________________________________________________\n",
      "block1_conv2 (Conv2D)        (None, 224, 224, 64)      36928     \n",
      "_________________________________________________________________\n",
      "block1_pool (MaxPooling2D)   (None, 112, 112, 64)      0         \n",
      "_________________________________________________________________\n",
      "block2_conv1 (Conv2D)        (None, 112, 112, 128)     73856     \n",
      "_________________________________________________________________\n",
      "block2_conv2 (Conv2D)        (None, 112, 112, 128)     147584    \n",
      "_________________________________________________________________\n",
      "block2_pool (MaxPooling2D)   (None, 56, 56, 128)       0         \n",
      "_________________________________________________________________\n",
      "block3_conv1 (Conv2D)        (None, 56, 56, 256)       295168    \n",
      "_________________________________________________________________\n",
      "block3_conv2 (Conv2D)        (None, 56, 56, 256)       590080    \n",
      "_________________________________________________________________\n",
      "block3_conv3 (Conv2D)        (None, 56, 56, 256)       590080    \n",
      "_________________________________________________________________\n",
      "block3_pool (MaxPooling2D)   (None, 28, 28, 256)       0         \n",
      "_________________________________________________________________\n",
      "block4_conv1 (Conv2D)        (None, 28, 28, 512)       1180160   \n",
      "_________________________________________________________________\n",
      "block4_conv2 (Conv2D)        (None, 28, 28, 512)       2359808   \n",
      "_________________________________________________________________\n",
      "block4_conv3 (Conv2D)        (None, 28, 28, 512)       2359808   \n",
      "_________________________________________________________________\n",
      "block4_pool (MaxPooling2D)   (None, 14, 14, 512)       0         \n",
      "_________________________________________________________________\n",
      "block5_conv1 (Conv2D)        (None, 14, 14, 512)       2359808   \n",
      "_________________________________________________________________\n",
      "block5_conv2 (Conv2D)        (None, 14, 14, 512)       2359808   \n",
      "_________________________________________________________________\n",
      "block5_conv3 (Conv2D)        (None, 14, 14, 512)       2359808   \n",
      "_________________________________________________________________\n",
      "block5_pool (MaxPooling2D)   (None, 7, 7, 512)         0         \n",
      "_________________________________________________________________\n",
      "flatten (Flatten)            (None, 25088)             0         \n",
      "_________________________________________________________________\n",
      "dense (Dense)                (None, 512)               12845568  \n",
      "_________________________________________________________________\n",
      "dropout (Dropout)            (None, 512)               0         \n",
      "_________________________________________________________________\n",
      "dense_1 (Dense)              (None, 11)                5643      \n",
      "=================================================================\n",
      "Total params: 27,565,899\n",
      "Trainable params: 12,851,211\n",
      "Non-trainable params: 14,714,688\n",
      "_________________________________________________________________\n"
     ]
    }
   ],
   "source": [
    "model.summary()"
   ]
  },
  {
   "cell_type": "code",
   "execution_count": 33,
   "metadata": {
    "colab": {
     "base_uri": "https://localhost:8080/"
    },
    "id": "rbVRPEOryLhN",
    "outputId": "37c15313-fd8b-4f53-8cec-b8fa89e5e607"
   },
   "outputs": [
    {
     "name": "stdout",
     "output_type": "stream",
     "text": [
      "[INFO] training head...\n",
      "Epoch 1/100\n",
      "83/83 [==============================] - 16s 196ms/step - loss: 14.2782 - accuracy: 0.2480 - val_loss: 3.0132 - val_accuracy: 0.4799\n",
      "Epoch 2/100\n",
      "83/83 [==============================] - 16s 190ms/step - loss: 2.7338 - accuracy: 0.3512 - val_loss: 1.8949 - val_accuracy: 0.4317\n",
      "Epoch 3/100\n",
      "83/83 [==============================] - 16s 189ms/step - loss: 2.1057 - accuracy: 0.3603 - val_loss: 1.7083 - val_accuracy: 0.5060\n",
      "Epoch 4/100\n",
      "83/83 [==============================] - 16s 193ms/step - loss: 1.9627 - accuracy: 0.4170 - val_loss: 1.5672 - val_accuracy: 0.5171\n",
      "Epoch 5/100\n",
      "83/83 [==============================] - 16s 192ms/step - loss: 1.7620 - accuracy: 0.4291 - val_loss: 1.5468 - val_accuracy: 0.5191\n",
      "Epoch 6/100\n",
      "83/83 [==============================] - 16s 192ms/step - loss: 1.7637 - accuracy: 0.4231 - val_loss: 1.4550 - val_accuracy: 0.5452\n",
      "Epoch 7/100\n",
      "83/83 [==============================] - 16s 193ms/step - loss: 1.6504 - accuracy: 0.4565 - val_loss: 1.4326 - val_accuracy: 0.5472\n",
      "Epoch 8/100\n",
      "83/83 [==============================] - 16s 191ms/step - loss: 1.7056 - accuracy: 0.4524 - val_loss: 1.4540 - val_accuracy: 0.5452\n",
      "Epoch 9/100\n",
      "83/83 [==============================] - 16s 192ms/step - loss: 1.5365 - accuracy: 0.4757 - val_loss: 1.3914 - val_accuracy: 0.5703\n",
      "Epoch 10/100\n",
      "83/83 [==============================] - 16s 191ms/step - loss: 1.4621 - accuracy: 0.5061 - val_loss: 1.3549 - val_accuracy: 0.5803\n",
      "Epoch 11/100\n",
      "83/83 [==============================] - 16s 192ms/step - loss: 1.3976 - accuracy: 0.5425 - val_loss: 1.3403 - val_accuracy: 0.6084\n",
      "Epoch 12/100\n",
      "83/83 [==============================] - 16s 192ms/step - loss: 1.4391 - accuracy: 0.5162 - val_loss: 1.3513 - val_accuracy: 0.5924\n",
      "Epoch 13/100\n",
      "83/83 [==============================] - 16s 192ms/step - loss: 1.3439 - accuracy: 0.5557 - val_loss: 1.3063 - val_accuracy: 0.6004\n",
      "Epoch 14/100\n",
      "83/83 [==============================] - 16s 192ms/step - loss: 1.3115 - accuracy: 0.5587 - val_loss: 1.2671 - val_accuracy: 0.6034\n",
      "Epoch 15/100\n",
      "83/83 [==============================] - 16s 192ms/step - loss: 1.3744 - accuracy: 0.5597 - val_loss: 1.3072 - val_accuracy: 0.6084\n",
      "Epoch 16/100\n",
      "83/83 [==============================] - 16s 193ms/step - loss: 1.2774 - accuracy: 0.5850 - val_loss: 1.3324 - val_accuracy: 0.6014\n",
      "Epoch 17/100\n",
      "83/83 [==============================] - 16s 192ms/step - loss: 1.2654 - accuracy: 0.5648 - val_loss: 1.3589 - val_accuracy: 0.6175\n",
      "Epoch 18/100\n",
      "83/83 [==============================] - 16s 193ms/step - loss: 1.2393 - accuracy: 0.5921 - val_loss: 1.3082 - val_accuracy: 0.6205\n",
      "Epoch 19/100\n",
      "83/83 [==============================] - 16s 193ms/step - loss: 1.2456 - accuracy: 0.5779 - val_loss: 1.2555 - val_accuracy: 0.6305\n",
      "Epoch 20/100\n",
      "83/83 [==============================] - 16s 193ms/step - loss: 1.1747 - accuracy: 0.6032 - val_loss: 1.2989 - val_accuracy: 0.6215\n",
      "Epoch 21/100\n",
      "83/83 [==============================] - 16s 193ms/step - loss: 1.2266 - accuracy: 0.5800 - val_loss: 1.3266 - val_accuracy: 0.6195\n",
      "Epoch 22/100\n",
      "83/83 [==============================] - 16s 193ms/step - loss: 1.1670 - accuracy: 0.6154 - val_loss: 1.3147 - val_accuracy: 0.6064\n",
      "Epoch 23/100\n",
      "83/83 [==============================] - 16s 194ms/step - loss: 1.1030 - accuracy: 0.6316 - val_loss: 1.3477 - val_accuracy: 0.6335\n",
      "Epoch 24/100\n",
      "83/83 [==============================] - 16s 195ms/step - loss: 1.1144 - accuracy: 0.6296 - val_loss: 1.2978 - val_accuracy: 0.6044\n",
      "Epoch 25/100\n",
      "83/83 [==============================] - 16s 194ms/step - loss: 1.0234 - accuracy: 0.6518 - val_loss: 1.3325 - val_accuracy: 0.6245\n",
      "Epoch 26/100\n",
      "83/83 [==============================] - 16s 193ms/step - loss: 1.0650 - accuracy: 0.6457 - val_loss: 1.2862 - val_accuracy: 0.6426\n",
      "Epoch 27/100\n",
      "83/83 [==============================] - 16s 194ms/step - loss: 1.0318 - accuracy: 0.6619 - val_loss: 1.2885 - val_accuracy: 0.6486\n",
      "Epoch 28/100\n",
      "83/83 [==============================] - 16s 194ms/step - loss: 1.0472 - accuracy: 0.6447 - val_loss: 1.2484 - val_accuracy: 0.6466\n",
      "Epoch 29/100\n",
      "83/83 [==============================] - 16s 196ms/step - loss: 1.0202 - accuracy: 0.6508 - val_loss: 1.2511 - val_accuracy: 0.6667\n",
      "Epoch 30/100\n",
      "83/83 [==============================] - 16s 194ms/step - loss: 0.9828 - accuracy: 0.6650 - val_loss: 1.3407 - val_accuracy: 0.6325\n",
      "Epoch 31/100\n",
      "83/83 [==============================] - 16s 193ms/step - loss: 0.9837 - accuracy: 0.6711 - val_loss: 1.2610 - val_accuracy: 0.6426\n",
      "Epoch 32/100\n",
      "83/83 [==============================] - 16s 193ms/step - loss: 0.9477 - accuracy: 0.6822 - val_loss: 1.2872 - val_accuracy: 0.6426\n",
      "Epoch 33/100\n",
      "83/83 [==============================] - 16s 194ms/step - loss: 0.9605 - accuracy: 0.6791 - val_loss: 1.2834 - val_accuracy: 0.6536\n",
      "Epoch 34/100\n",
      "83/83 [==============================] - 16s 194ms/step - loss: 0.9407 - accuracy: 0.7085 - val_loss: 1.2208 - val_accuracy: 0.6637\n",
      "Epoch 35/100\n",
      "83/83 [==============================] - 16s 192ms/step - loss: 0.9001 - accuracy: 0.7014 - val_loss: 1.2626 - val_accuracy: 0.6476\n",
      "Epoch 36/100\n",
      "83/83 [==============================] - 16s 192ms/step - loss: 0.9422 - accuracy: 0.6862 - val_loss: 1.2789 - val_accuracy: 0.6667\n",
      "Epoch 37/100\n",
      "83/83 [==============================] - 16s 193ms/step - loss: 0.8705 - accuracy: 0.7126 - val_loss: 1.2891 - val_accuracy: 0.6707\n",
      "Epoch 38/100\n",
      "83/83 [==============================] - 16s 193ms/step - loss: 0.8915 - accuracy: 0.6933 - val_loss: 1.2383 - val_accuracy: 0.6727\n",
      "Epoch 39/100\n",
      "83/83 [==============================] - 16s 194ms/step - loss: 0.8983 - accuracy: 0.7045 - val_loss: 1.2871 - val_accuracy: 0.6787\n",
      "Epoch 40/100\n",
      "83/83 [==============================] - 16s 193ms/step - loss: 0.8518 - accuracy: 0.7277 - val_loss: 1.2736 - val_accuracy: 0.6817\n",
      "Epoch 41/100\n",
      "83/83 [==============================] - 16s 193ms/step - loss: 0.8965 - accuracy: 0.6994 - val_loss: 1.2386 - val_accuracy: 0.6727\n",
      "Epoch 42/100\n",
      "83/83 [==============================] - 16s 193ms/step - loss: 0.8130 - accuracy: 0.7237 - val_loss: 1.2725 - val_accuracy: 0.6586\n",
      "Epoch 43/100\n",
      "83/83 [==============================] - 16s 197ms/step - loss: 0.8143 - accuracy: 0.7277 - val_loss: 1.3194 - val_accuracy: 0.6566\n",
      "Epoch 44/100\n",
      "83/83 [==============================] - 16s 196ms/step - loss: 0.7998 - accuracy: 0.7186 - val_loss: 1.3601 - val_accuracy: 0.6667\n",
      "Epoch 45/100\n",
      "83/83 [==============================] - 16s 194ms/step - loss: 0.8526 - accuracy: 0.7166 - val_loss: 1.3916 - val_accuracy: 0.6687\n",
      "Epoch 46/100\n",
      "83/83 [==============================] - 16s 193ms/step - loss: 0.8368 - accuracy: 0.7196 - val_loss: 1.2841 - val_accuracy: 0.6787\n",
      "Epoch 47/100\n",
      "83/83 [==============================] - 16s 192ms/step - loss: 0.8275 - accuracy: 0.7257 - val_loss: 1.3004 - val_accuracy: 0.6667\n",
      "Epoch 48/100\n",
      "83/83 [==============================] - 16s 192ms/step - loss: 0.7935 - accuracy: 0.7379 - val_loss: 1.2734 - val_accuracy: 0.6857\n",
      "Epoch 49/100\n",
      "83/83 [==============================] - 16s 191ms/step - loss: 0.7386 - accuracy: 0.7439 - val_loss: 1.3713 - val_accuracy: 0.6657\n",
      "Epoch 50/100\n",
      "83/83 [==============================] - 16s 191ms/step - loss: 0.7662 - accuracy: 0.7520 - val_loss: 1.2936 - val_accuracy: 0.6807\n",
      "Epoch 51/100\n",
      "83/83 [==============================] - 16s 190ms/step - loss: 0.7205 - accuracy: 0.7652 - val_loss: 1.2979 - val_accuracy: 0.6867\n",
      "Epoch 52/100\n",
      "83/83 [==============================] - 16s 191ms/step - loss: 0.7600 - accuracy: 0.7277 - val_loss: 1.2955 - val_accuracy: 0.6827\n",
      "Epoch 53/100\n",
      "83/83 [==============================] - 16s 191ms/step - loss: 0.7584 - accuracy: 0.7571 - val_loss: 1.2351 - val_accuracy: 0.6827\n",
      "Epoch 54/100\n",
      "83/83 [==============================] - 16s 191ms/step - loss: 0.6676 - accuracy: 0.7662 - val_loss: 1.3362 - val_accuracy: 0.6787\n",
      "Epoch 55/100\n",
      "83/83 [==============================] - 16s 189ms/step - loss: 0.7095 - accuracy: 0.7540 - val_loss: 1.2824 - val_accuracy: 0.6767\n",
      "Epoch 56/100\n",
      "83/83 [==============================] - 16s 190ms/step - loss: 0.7163 - accuracy: 0.7571 - val_loss: 1.3636 - val_accuracy: 0.6757\n",
      "Epoch 57/100\n",
      "83/83 [==============================] - 16s 189ms/step - loss: 0.7560 - accuracy: 0.7540 - val_loss: 1.3064 - val_accuracy: 0.6697\n",
      "Epoch 58/100\n",
      "83/83 [==============================] - 16s 190ms/step - loss: 0.7197 - accuracy: 0.7581 - val_loss: 1.3071 - val_accuracy: 0.6767\n",
      "Epoch 59/100\n",
      "83/83 [==============================] - 16s 191ms/step - loss: 0.7099 - accuracy: 0.7520 - val_loss: 1.3582 - val_accuracy: 0.6777\n",
      "Epoch 60/100\n",
      "83/83 [==============================] - 16s 190ms/step - loss: 0.6718 - accuracy: 0.7723 - val_loss: 1.3498 - val_accuracy: 0.7018\n",
      "Epoch 61/100\n",
      "83/83 [==============================] - 16s 190ms/step - loss: 0.6902 - accuracy: 0.7733 - val_loss: 1.4154 - val_accuracy: 0.6566\n",
      "Epoch 62/100\n",
      "83/83 [==============================] - 16s 193ms/step - loss: 0.5905 - accuracy: 0.7925 - val_loss: 1.3853 - val_accuracy: 0.6867\n",
      "Epoch 63/100\n",
      "83/83 [==============================] - 16s 190ms/step - loss: 0.6431 - accuracy: 0.7854 - val_loss: 1.4060 - val_accuracy: 0.6747\n",
      "Epoch 64/100\n",
      "83/83 [==============================] - 16s 192ms/step - loss: 0.6274 - accuracy: 0.7814 - val_loss: 1.3290 - val_accuracy: 0.6898\n",
      "Epoch 65/100\n",
      "83/83 [==============================] - 16s 192ms/step - loss: 0.5985 - accuracy: 0.7844 - val_loss: 1.3851 - val_accuracy: 0.6938\n",
      "Epoch 66/100\n",
      "83/83 [==============================] - 16s 193ms/step - loss: 0.6713 - accuracy: 0.7854 - val_loss: 1.4281 - val_accuracy: 0.6767\n",
      "Epoch 67/100\n",
      "83/83 [==============================] - 16s 191ms/step - loss: 0.6287 - accuracy: 0.7783 - val_loss: 1.3029 - val_accuracy: 0.6938\n",
      "Epoch 68/100\n",
      "83/83 [==============================] - 16s 191ms/step - loss: 0.6392 - accuracy: 0.7773 - val_loss: 1.3165 - val_accuracy: 0.6888\n",
      "Epoch 69/100\n",
      "83/83 [==============================] - 16s 192ms/step - loss: 0.6060 - accuracy: 0.7783 - val_loss: 1.3747 - val_accuracy: 0.6807\n",
      "Epoch 70/100\n",
      "83/83 [==============================] - 16s 191ms/step - loss: 0.6058 - accuracy: 0.8016 - val_loss: 1.3645 - val_accuracy: 0.6898\n",
      "Epoch 71/100\n",
      "83/83 [==============================] - 16s 192ms/step - loss: 0.5990 - accuracy: 0.7976 - val_loss: 1.3348 - val_accuracy: 0.6978\n",
      "Epoch 72/100\n",
      "83/83 [==============================] - 16s 192ms/step - loss: 0.6295 - accuracy: 0.7874 - val_loss: 1.4288 - val_accuracy: 0.6847\n",
      "Epoch 73/100\n",
      "83/83 [==============================] - 16s 192ms/step - loss: 0.5814 - accuracy: 0.7854 - val_loss: 1.4058 - val_accuracy: 0.6857\n",
      "Epoch 74/100\n",
      "83/83 [==============================] - 16s 192ms/step - loss: 0.5718 - accuracy: 0.8077 - val_loss: 1.3612 - val_accuracy: 0.6948\n",
      "Epoch 75/100\n",
      "83/83 [==============================] - 16s 191ms/step - loss: 0.5536 - accuracy: 0.8006 - val_loss: 1.4008 - val_accuracy: 0.7018\n",
      "Epoch 76/100\n",
      "83/83 [==============================] - 16s 192ms/step - loss: 0.5302 - accuracy: 0.8209 - val_loss: 1.3788 - val_accuracy: 0.6918\n",
      "Epoch 77/100\n",
      "83/83 [==============================] - 16s 191ms/step - loss: 0.5526 - accuracy: 0.8077 - val_loss: 1.4369 - val_accuracy: 0.6968\n",
      "Epoch 78/100\n",
      "83/83 [==============================] - 16s 192ms/step - loss: 0.5849 - accuracy: 0.7986 - val_loss: 1.3885 - val_accuracy: 0.6958\n",
      "Epoch 79/100\n",
      "83/83 [==============================] - 16s 192ms/step - loss: 0.5952 - accuracy: 0.8006 - val_loss: 1.4185 - val_accuracy: 0.6988\n",
      "Epoch 80/100\n",
      "83/83 [==============================] - 16s 192ms/step - loss: 0.5546 - accuracy: 0.8077 - val_loss: 1.3947 - val_accuracy: 0.6928\n",
      "Epoch 81/100\n",
      "83/83 [==============================] - 16s 193ms/step - loss: 0.5684 - accuracy: 0.7915 - val_loss: 1.4584 - val_accuracy: 0.6928\n",
      "Epoch 82/100\n",
      "83/83 [==============================] - 16s 192ms/step - loss: 0.4909 - accuracy: 0.8229 - val_loss: 1.4575 - val_accuracy: 0.6817\n",
      "Epoch 83/100\n",
      "83/83 [==============================] - 16s 192ms/step - loss: 0.5338 - accuracy: 0.8158 - val_loss: 1.4249 - val_accuracy: 0.6827\n",
      "Epoch 84/100\n",
      "83/83 [==============================] - 16s 192ms/step - loss: 0.5441 - accuracy: 0.8188 - val_loss: 1.4255 - val_accuracy: 0.7048\n",
      "Epoch 85/100\n",
      "83/83 [==============================] - 16s 191ms/step - loss: 0.5089 - accuracy: 0.8178 - val_loss: 1.5376 - val_accuracy: 0.6777\n",
      "Epoch 86/100\n",
      "83/83 [==============================] - 16s 193ms/step - loss: 0.5387 - accuracy: 0.8168 - val_loss: 1.4684 - val_accuracy: 0.6837\n",
      "Epoch 87/100\n",
      "83/83 [==============================] - 16s 191ms/step - loss: 0.5152 - accuracy: 0.8279 - val_loss: 1.4286 - val_accuracy: 0.6888\n",
      "Epoch 88/100\n",
      "83/83 [==============================] - 16s 191ms/step - loss: 0.5119 - accuracy: 0.8350 - val_loss: 1.4152 - val_accuracy: 0.7008\n",
      "Epoch 89/100\n",
      "83/83 [==============================] - 16s 191ms/step - loss: 0.4816 - accuracy: 0.8451 - val_loss: 1.5610 - val_accuracy: 0.6777\n",
      "Epoch 90/100\n",
      "83/83 [==============================] - 16s 191ms/step - loss: 0.5070 - accuracy: 0.8310 - val_loss: 1.4126 - val_accuracy: 0.6888\n",
      "Epoch 91/100\n",
      "83/83 [==============================] - 16s 191ms/step - loss: 0.5206 - accuracy: 0.8016 - val_loss: 1.4045 - val_accuracy: 0.6888\n",
      "Epoch 92/100\n",
      "83/83 [==============================] - 16s 191ms/step - loss: 0.5040 - accuracy: 0.8340 - val_loss: 1.3725 - val_accuracy: 0.6988\n",
      "Epoch 93/100\n",
      "83/83 [==============================] - 16s 191ms/step - loss: 0.4438 - accuracy: 0.8381 - val_loss: 1.4090 - val_accuracy: 0.7078\n",
      "Epoch 94/100\n",
      "83/83 [==============================] - 16s 193ms/step - loss: 0.4953 - accuracy: 0.8381 - val_loss: 1.4059 - val_accuracy: 0.7098\n",
      "Epoch 95/100\n",
      "83/83 [==============================] - 16s 191ms/step - loss: 0.4940 - accuracy: 0.8330 - val_loss: 1.4203 - val_accuracy: 0.6787\n",
      "Epoch 96/100\n",
      "83/83 [==============================] - 16s 191ms/step - loss: 0.4605 - accuracy: 0.8451 - val_loss: 1.4982 - val_accuracy: 0.6797\n",
      "Epoch 97/100\n",
      "83/83 [==============================] - 16s 191ms/step - loss: 0.4872 - accuracy: 0.8431 - val_loss: 1.4423 - val_accuracy: 0.6968\n",
      "Epoch 98/100\n",
      "83/83 [==============================] - 16s 191ms/step - loss: 0.4765 - accuracy: 0.8381 - val_loss: 1.4538 - val_accuracy: 0.7108\n",
      "Epoch 99/100\n",
      "83/83 [==============================] - 16s 192ms/step - loss: 0.4516 - accuracy: 0.8340 - val_loss: 1.4005 - val_accuracy: 0.7098\n",
      "Epoch 100/100\n",
      "83/83 [==============================] - 16s 192ms/step - loss: 0.4807 - accuracy: 0.8441 - val_loss: 1.4281 - val_accuracy: 0.6978\n"
     ]
    }
   ],
   "source": [
    "# train the head of the network for a few epochs (all other layers\n",
    "# are frozen) -- this will allow the new FC layers to start to become\n",
    "# initialized with actual \"learned\" values versus pure random\n",
    "totalTrain = len(imageTrain)\n",
    "totalVal = len(imageVal)\n",
    "totalTest = len(imageTest)\n",
    "print(\"[INFO] training head...\")\n",
    "H = model.fit(trainGen,steps_per_epoch=totalTrain // BATCH_SIZE,validation_data=valGen,validation_steps=totalVal // BATCH_SIZE,epochs=100)\n",
    "# TOO LONG CALCULATIOIN TIME"
   ]
  },
  {
   "cell_type": "code",
   "execution_count": 34,
   "metadata": {
    "colab": {
     "base_uri": "https://localhost:8080/",
     "height": 316
    },
    "id": "bpvNosbmyLhN",
    "outputId": "d6f3ef45-dd50-41d3-fe43-677838d3a6e2"
   },
   "outputs": [
    {
     "name": "stdout",
     "output_type": "stream",
     "text": [
      "[INFO] evaluating after fine-tuning network head...\n"
     ]
    },
    {
     "data": {
      "image/png": "[encoded data removed]",
      "text/plain": [
       "<Figure size 432x288 with 1 Axes>"
      ]
     },
     "metadata": {
      "tags": []
     },
     "output_type": "display_data"
    }
   ],
   "source": [
    "# reset the testing generator and evaluate the network after\n",
    "# fine-tuning just the network head\n",
    "print(\"[INFO] evaluating after fine-tuning network head...\")\n",
    "testGen.reset()\n",
    "predIdxs = model.predict(testGen,steps=(totalTest // BATCH_SIZE) + 1)\n",
    "predIdxs = np.argmax(predIdxs, axis=1)\n",
    "#print(classification_report(testGen.classes, predIdxs,target_names=testGen.class_indices.keys()))\n",
    "plot_training(H, 100, WARMUP_PLOT_PATH)"
   ]
  },
  {
   "cell_type": "code",
   "execution_count": 35,
   "metadata": {
    "id": "2qcLBRBiyLhO"
   },
   "outputs": [],
   "source": [
    "# reset our data generators\n",
    "trainGen.reset()\n",
    "valGen.reset()"
   ]
  },
  {
   "cell_type": "code",
   "execution_count": 36,
   "metadata": {
    "id": "Gn4zbkV9yLhO"
   },
   "outputs": [],
   "source": [
    "# now that the head FC layers have been trained/initialized, lets\n",
    "# unfreeze the final set of CONV layers and make them trainable\n",
    "for layer in baseModel.layers[15:]:\n",
    "\tlayer.trainable = True"
   ]
  },
  {
   "cell_type": "code",
   "execution_count": 37,
   "metadata": {
    "colab": {
     "base_uri": "https://localhost:8080/"
    },
    "id": "Qhj1_fL1yLhO",
    "outputId": "481c9e4d-3493-45bb-ffa9-6a1ee06a5044"
   },
   "outputs": [
    {
     "name": "stdout",
     "output_type": "stream",
     "text": [
      "<tensorflow.python.keras.engine.input_layer.InputLayer object at 0x7f2809842cc0>: False\n",
      "<tensorflow.python.keras.layers.convolutional.Conv2D object at 0x7f2807c8dd68>: False\n",
      "<tensorflow.python.keras.layers.convolutional.Conv2D object at 0x7f2808e981d0>: False\n",
      "<tensorflow.python.keras.layers.pooling.MaxPooling2D object at 0x7f2808e988d0>: False\n",
      "<tensorflow.python.keras.layers.convolutional.Conv2D object at 0x7f2808ee70f0>: False\n",
      "<tensorflow.python.keras.layers.convolutional.Conv2D object at 0x7f2808ee7b70>: False\n",
      "<tensorflow.python.keras.layers.pooling.MaxPooling2D object at 0x7f2808f0e2b0>: False\n",
      "<tensorflow.python.keras.layers.convolutional.Conv2D object at 0x7f2808f0eb00>: False\n",
      "<tensorflow.python.keras.layers.convolutional.Conv2D object at 0x7f2808e6a978>: False\n",
      "<tensorflow.python.keras.layers.convolutional.Conv2D object at 0x7f2808e6aa58>: False\n",
      "<tensorflow.python.keras.layers.pooling.MaxPooling2D object at 0x7f2808e57978>: False\n",
      "<tensorflow.python.keras.layers.convolutional.Conv2D object at 0x7f2808e63198>: False\n",
      "<tensorflow.python.keras.layers.convolutional.Conv2D object at 0x7f2808e63f98>: False\n",
      "<tensorflow.python.keras.layers.convolutional.Conv2D object at 0x7f2808e71470>: False\n",
      "<tensorflow.python.keras.layers.pooling.MaxPooling2D object at 0x7f2808e71c50>: False\n",
      "<tensorflow.python.keras.layers.convolutional.Conv2D object at 0x7f2808e827f0>: True\n",
      "<tensorflow.python.keras.layers.convolutional.Conv2D object at 0x7f28d152a438>: True\n",
      "<tensorflow.python.keras.layers.convolutional.Conv2D object at 0x7f2808e980f0>: True\n",
      "<tensorflow.python.keras.layers.pooling.MaxPooling2D object at 0x7f2808e8f7b8>: True\n"
     ]
    }
   ],
   "source": [
    "# loop over the layers in the model and show which ones are trainable\n",
    "# or not\n",
    "for layer in baseModel.layers:\n",
    "\tprint(\"{}: {}\".format(layer, layer.trainable))"
   ]
  },
  {
   "cell_type": "code",
   "execution_count": 38,
   "metadata": {
    "colab": {
     "base_uri": "https://localhost:8080/"
    },
    "id": "4Xki_RYMyLhO",
    "outputId": "b05b6233-9e1f-4adc-9589-40628dc7539b"
   },
   "outputs": [
    {
     "name": "stdout",
     "output_type": "stream",
     "text": [
      "[INFO] re-compiling model...\n"
     ]
    }
   ],
   "source": [
    "# for the changes to the model to take affect we need to recompile\n",
    "# the model, this time using SGD with a *very* small learning rate\n",
    "print(\"[INFO] re-compiling model...\")\n",
    "opt = SGD(lr=1e-4, momentum=0.9)\n",
    "model.compile(loss=\"categorical_crossentropy\", optimizer=opt,metrics=[\"accuracy\"])"
   ]
  },
  {
   "cell_type": "code",
   "execution_count": 39,
   "metadata": {
    "colab": {
     "base_uri": "https://localhost:8080/"
    },
    "id": "FkZNsjTDyLhO",
    "outputId": "62be54c3-d0cb-4647-88e1-6cdc96244fa1"
   },
   "outputs": [
    {
     "name": "stdout",
     "output_type": "stream",
     "text": [
      "Epoch 1/50\n",
      "83/83 [==============================] - 16s 198ms/step - loss: 0.5591 - accuracy: 0.8249 - val_loss: 1.5129 - val_accuracy: 0.6857\n",
      "Epoch 2/50\n",
      "83/83 [==============================] - 16s 194ms/step - loss: 0.5711 - accuracy: 0.8107 - val_loss: 1.5775 - val_accuracy: 0.6787\n",
      "Epoch 3/50\n",
      "83/83 [==============================] - 16s 194ms/step - loss: 0.6071 - accuracy: 0.8178 - val_loss: 1.4694 - val_accuracy: 0.6727\n",
      "Epoch 4/50\n",
      "83/83 [==============================] - 16s 194ms/step - loss: 0.6252 - accuracy: 0.7945 - val_loss: 1.3517 - val_accuracy: 0.6817\n",
      "Epoch 5/50\n",
      "83/83 [==============================] - 16s 194ms/step - loss: 0.4784 - accuracy: 0.8310 - val_loss: 1.4588 - val_accuracy: 0.6958\n",
      "Epoch 6/50\n",
      "83/83 [==============================] - 16s 196ms/step - loss: 0.4762 - accuracy: 0.8370 - val_loss: 1.2841 - val_accuracy: 0.7058\n",
      "Epoch 7/50\n",
      "83/83 [==============================] - 16s 194ms/step - loss: 0.4104 - accuracy: 0.8664 - val_loss: 1.2312 - val_accuracy: 0.7219\n",
      "Epoch 8/50\n",
      "83/83 [==============================] - 16s 194ms/step - loss: 0.4243 - accuracy: 0.8644 - val_loss: 1.3376 - val_accuracy: 0.7229\n",
      "Epoch 9/50\n",
      "83/83 [==============================] - 16s 192ms/step - loss: 0.4038 - accuracy: 0.8684 - val_loss: 1.1414 - val_accuracy: 0.7380\n",
      "Epoch 10/50\n",
      "83/83 [==============================] - 16s 193ms/step - loss: 0.4105 - accuracy: 0.8674 - val_loss: 1.2712 - val_accuracy: 0.7129\n",
      "Epoch 11/50\n",
      "83/83 [==============================] - 16s 193ms/step - loss: 0.3725 - accuracy: 0.8664 - val_loss: 1.2144 - val_accuracy: 0.7129\n",
      "Epoch 12/50\n",
      "83/83 [==============================] - 16s 192ms/step - loss: 0.3411 - accuracy: 0.8887 - val_loss: 1.4948 - val_accuracy: 0.7048\n",
      "Epoch 13/50\n",
      "83/83 [==============================] - 16s 194ms/step - loss: 0.3862 - accuracy: 0.8725 - val_loss: 1.3399 - val_accuracy: 0.7209\n",
      "Epoch 14/50\n",
      "83/83 [==============================] - 16s 193ms/step - loss: 0.3919 - accuracy: 0.8806 - val_loss: 1.2843 - val_accuracy: 0.7229\n",
      "Epoch 15/50\n",
      "83/83 [==============================] - 16s 194ms/step - loss: 0.3503 - accuracy: 0.8968 - val_loss: 1.2258 - val_accuracy: 0.7440\n",
      "Epoch 16/50\n",
      "83/83 [==============================] - 16s 194ms/step - loss: 0.3021 - accuracy: 0.8988 - val_loss: 1.2383 - val_accuracy: 0.7480\n",
      "Epoch 17/50\n",
      "83/83 [==============================] - 16s 194ms/step - loss: 0.3154 - accuracy: 0.8978 - val_loss: 1.3796 - val_accuracy: 0.7219\n",
      "Epoch 18/50\n",
      "83/83 [==============================] - 16s 195ms/step - loss: 0.2480 - accuracy: 0.9079 - val_loss: 1.3858 - val_accuracy: 0.7309\n",
      "Epoch 19/50\n",
      "83/83 [==============================] - 16s 195ms/step - loss: 0.2531 - accuracy: 0.9130 - val_loss: 1.2289 - val_accuracy: 0.7641\n",
      "Epoch 20/50\n",
      "83/83 [==============================] - 16s 194ms/step - loss: 0.2371 - accuracy: 0.9241 - val_loss: 1.4184 - val_accuracy: 0.7390\n",
      "Epoch 21/50\n",
      "83/83 [==============================] - 16s 194ms/step - loss: 0.2224 - accuracy: 0.9261 - val_loss: 1.2634 - val_accuracy: 0.7600\n",
      "Epoch 22/50\n",
      "83/83 [==============================] - 16s 195ms/step - loss: 0.2049 - accuracy: 0.9322 - val_loss: 1.4455 - val_accuracy: 0.7570\n",
      "Epoch 23/50\n",
      "83/83 [==============================] - 16s 195ms/step - loss: 0.3073 - accuracy: 0.9038 - val_loss: 1.2183 - val_accuracy: 0.7530\n",
      "Epoch 24/50\n",
      "83/83 [==============================] - 16s 194ms/step - loss: 0.1935 - accuracy: 0.9291 - val_loss: 1.2961 - val_accuracy: 0.7741\n",
      "Epoch 25/50\n",
      "83/83 [==============================] - 16s 195ms/step - loss: 0.2189 - accuracy: 0.9261 - val_loss: 1.4867 - val_accuracy: 0.7560\n",
      "Epoch 26/50\n",
      "83/83 [==============================] - 16s 196ms/step - loss: 0.2543 - accuracy: 0.9190 - val_loss: 1.5731 - val_accuracy: 0.7500\n",
      "Epoch 27/50\n",
      "83/83 [==============================] - 16s 197ms/step - loss: 0.1664 - accuracy: 0.9383 - val_loss: 1.5365 - val_accuracy: 0.7390\n",
      "Epoch 28/50\n",
      "83/83 [==============================] - 16s 199ms/step - loss: 0.2204 - accuracy: 0.9332 - val_loss: 1.5036 - val_accuracy: 0.7520\n",
      "Epoch 29/50\n",
      "83/83 [==============================] - 16s 197ms/step - loss: 0.1398 - accuracy: 0.9494 - val_loss: 1.4383 - val_accuracy: 0.7590\n",
      "Epoch 30/50\n",
      "83/83 [==============================] - 16s 198ms/step - loss: 0.1539 - accuracy: 0.9585 - val_loss: 1.3597 - val_accuracy: 0.7661\n",
      "Epoch 31/50\n",
      "83/83 [==============================] - 16s 198ms/step - loss: 0.1835 - accuracy: 0.9433 - val_loss: 1.3064 - val_accuracy: 0.7861\n",
      "Epoch 32/50\n",
      "83/83 [==============================] - 17s 199ms/step - loss: 0.2006 - accuracy: 0.9474 - val_loss: 1.4998 - val_accuracy: 0.7610\n",
      "Epoch 33/50\n",
      "83/83 [==============================] - 17s 200ms/step - loss: 0.1911 - accuracy: 0.9261 - val_loss: 1.3260 - val_accuracy: 0.7691\n",
      "Epoch 34/50\n",
      "83/83 [==============================] - 17s 201ms/step - loss: 0.1445 - accuracy: 0.9514 - val_loss: 1.4395 - val_accuracy: 0.7681\n",
      "Epoch 35/50\n",
      "83/83 [==============================] - 17s 200ms/step - loss: 0.1281 - accuracy: 0.9565 - val_loss: 1.4450 - val_accuracy: 0.7691\n",
      "Epoch 36/50\n",
      "83/83 [==============================] - 17s 202ms/step - loss: 0.1276 - accuracy: 0.9585 - val_loss: 1.3903 - val_accuracy: 0.7641\n",
      "Epoch 37/50\n",
      "83/83 [==============================] - 17s 199ms/step - loss: 0.1502 - accuracy: 0.9534 - val_loss: 1.4594 - val_accuracy: 0.7620\n",
      "Epoch 38/50\n",
      "83/83 [==============================] - 17s 204ms/step - loss: 0.1339 - accuracy: 0.9514 - val_loss: 1.5379 - val_accuracy: 0.7550\n",
      "Epoch 39/50\n",
      "83/83 [==============================] - 17s 201ms/step - loss: 0.1263 - accuracy: 0.9534 - val_loss: 1.4191 - val_accuracy: 0.7731\n",
      "Epoch 40/50\n",
      "83/83 [==============================] - 17s 200ms/step - loss: 0.1322 - accuracy: 0.9534 - val_loss: 1.7208 - val_accuracy: 0.7620\n",
      "Epoch 41/50\n",
      "83/83 [==============================] - 17s 199ms/step - loss: 0.1534 - accuracy: 0.9545 - val_loss: 1.3311 - val_accuracy: 0.7871\n",
      "Epoch 42/50\n",
      "83/83 [==============================] - 17s 201ms/step - loss: 0.1023 - accuracy: 0.9585 - val_loss: 1.5257 - val_accuracy: 0.7651\n",
      "Epoch 43/50\n",
      "83/83 [==============================] - 17s 199ms/step - loss: 0.1726 - accuracy: 0.9575 - val_loss: 1.4431 - val_accuracy: 0.7641\n",
      "Epoch 44/50\n",
      "83/83 [==============================] - 17s 200ms/step - loss: 0.1085 - accuracy: 0.9534 - val_loss: 1.4706 - val_accuracy: 0.7661\n",
      "Epoch 45/50\n",
      "83/83 [==============================] - 17s 200ms/step - loss: 0.1349 - accuracy: 0.9575 - val_loss: 1.5600 - val_accuracy: 0.7610\n",
      "Epoch 46/50\n",
      "83/83 [==============================] - 17s 200ms/step - loss: 0.1152 - accuracy: 0.9605 - val_loss: 1.4314 - val_accuracy: 0.7861\n",
      "Epoch 47/50\n",
      "83/83 [==============================] - 17s 200ms/step - loss: 0.1114 - accuracy: 0.9747 - val_loss: 1.4042 - val_accuracy: 0.7791\n",
      "Epoch 48/50\n",
      "83/83 [==============================] - 17s 199ms/step - loss: 0.0988 - accuracy: 0.9666 - val_loss: 1.3819 - val_accuracy: 0.7801\n",
      "Epoch 49/50\n",
      "83/83 [==============================] - 17s 199ms/step - loss: 0.1020 - accuracy: 0.9605 - val_loss: 1.3325 - val_accuracy: 0.7962\n",
      "Epoch 50/50\n",
      "83/83 [==============================] - 16s 198ms/step - loss: 0.1080 - accuracy: 0.9646 - val_loss: 1.4965 - val_accuracy: 0.7711\n"
     ]
    }
   ],
   "source": [
    "# train the model again, this time fine-tuning *both* the final set\n",
    "# of CONV layers along with our set of FC layers\n",
    "H = model.fit(trainGen,steps_per_epoch=totalTrain // BATCH_SIZE,validation_data=valGen,validation_steps=totalVal // BATCH_SIZE,epochs=50)"
   ]
  },
  {
   "cell_type": "code",
   "execution_count": 43,
   "metadata": {
    "colab": {
     "base_uri": "https://localhost:8080/",
     "height": 316
    },
    "id": "eWNeV-HyyLhO",
    "outputId": "efb463c7-c39e-474f-f73b-3885b9ce28ae"
   },
   "outputs": [
    {
     "name": "stdout",
     "output_type": "stream",
     "text": [
      "[INFO] evaluating after fine-tuning network...\n"
     ]
    },
    {
     "data": {
      "image/png": "[encoded data removed]",
      "text/plain": [
       "<Figure size 432x288 with 1 Axes>"
      ]
     },
     "metadata": {
      "tags": []
     },
     "output_type": "display_data"
    }
   ],
   "source": [
    "# reset the testing generator and then use our trained model to\n",
    "# make predictions on the data\n",
    "print(\"[INFO] evaluating after fine-tuning network...\")\n",
    "testGen.reset()\n",
    "predIdxs = model.predict(testGen,steps=(totalTest // BATCH_SIZE) + 1)\n",
    "predIdxs = np.argmax(predIdxs, axis=1)\n",
    "#print(classification_report(testGen.classes, predIdxs,target_names=testGen.class_indices.keys()))\n",
    "plot_training(H, 50, UNFROZEN_PLOT_PATH)"
   ]
  },
  {
   "cell_type": "code",
   "execution_count": 44,
   "metadata": {
    "colab": {
     "base_uri": "https://localhost:8080/"
    },
    "id": "rH3639BTyLhO",
    "outputId": "9a1c9dad-0b54-4e9c-d08d-95d61d611350"
   },
   "outputs": [
    {
     "name": "stdout",
     "output_type": "stream",
     "text": [
      "[INFO] serializing network...\n"
     ]
    }
   ],
   "source": [
    "# serialize the model to disk\n",
    "print(\"[INFO] serializing network...\")\n",
    "model.save(MODEL_PATH)"
   ]
  },
  {
   "cell_type": "code",
   "execution_count": 45,
   "metadata": {
    "id": "33g1pCP2yLhP"
   },
   "outputs": [],
   "source": [
    "import zipfile\n",
    "import cv2\n",
    "zf = zipfile.ZipFile(BASE_PATH)\n",
    "imagelist = zf.namelist()\n",
    "\n",
    "# load the input image and then clone it so we can draw on it later\n",
    "#image = cv2.imread(args[\"image\"])\n",
    "imagename = 'evaluation1/Dessert/2_100.jpg'\n",
    "image = cv2.imdecode(np.frombuffer(zf.read(imagename), np.uint8), 1)\n",
    "\n",
    "#output = image.copy()\n",
    "#output = imutils.resize(output, width=400)\n",
    "\n",
    "output = imutils.resize(image, width=400)"
   ]
  },
  {
   "cell_type": "code",
   "execution_count": 46,
   "metadata": {
    "id": "pIKxl_ONyLhP"
   },
   "outputs": [],
   "source": [
    "# our model was trained on RGB ordered images but OpenCV represents\n",
    "# images in BGR order, so swap the channels, and then resize to\n",
    "# 224x224 (the input dimensions for VGG16)\n",
    "image = cv2.cvtColor(image, cv2.COLOR_BGR2RGB)\n",
    "image = cv2.resize(image, (224, 224))"
   ]
  },
  {
   "cell_type": "code",
   "execution_count": 47,
   "metadata": {
    "id": "ZjK0F3soyLhP"
   },
   "outputs": [],
   "source": [
    "# convert the image to a floating point data type and perform mean\n",
    "# subtraction\n",
    "image = image.astype(\"float32\")\n",
    "mean = np.array([123.68, 116.779, 103.939][::1], dtype=\"float32\")\n",
    "image -= mean"
   ]
  },
  {
   "cell_type": "code",
   "execution_count": 48,
   "metadata": {
    "colab": {
     "base_uri": "https://localhost:8080/"
    },
    "id": "LhVeweBlyLhP",
    "outputId": "0db5d7d1-c535-4329-dd14-6acf5178cfae"
   },
   "outputs": [
    {
     "name": "stdout",
     "output_type": "stream",
     "text": [
      "[INFO] loading model...\n"
     ]
    }
   ],
   "source": [
    "# load the trained model from disk\n",
    "print(\"[INFO] loading model...\")\n",
    "model = load_model(MODEL_PATH)"
   ]
  },
  {
   "cell_type": "code",
   "execution_count": 49,
   "metadata": {
    "id": "quEm9xkOyLhP"
   },
   "outputs": [],
   "source": [
    "# pass the image through the network to obtain our predictions\n",
    "preds = model.predict(np.expand_dims(image, axis=0))[0]\n",
    "i = np.argmax(preds)\n",
    "label = CLASSES[i]"
   ]
  },
  {
   "cell_type": "code",
   "execution_count": 50,
   "metadata": {
    "colab": {
     "base_uri": "https://localhost:8080/"
    },
    "id": "LBxo-oE1yLhP",
    "outputId": "46678dba-67d1-4447-8494-efccbed632d9"
   },
   "outputs": [
    {
     "data": {
      "text/plain": [
       "array([[[ 12,  12,  18],\n",
       "        [ 13,  13,  19],\n",
       "        [ 14,  14,  20],\n",
       "        ...,\n",
       "        [ 10,  11,  15],\n",
       "        [ 11,  12,  16],\n",
       "        [ 11,  12,  16]],\n",
       "\n",
       "       [[ 13,  13,  19],\n",
       "        [ 14,  14,  20],\n",
       "        [ 14,  14,  20],\n",
       "        ...,\n",
       "        [ 10,  11,  15],\n",
       "        [ 10,  11,  15],\n",
       "        [ 11,  12,  16]],\n",
       "\n",
       "       [[ 14,  14,  20],\n",
       "        [ 14,  14,  20],\n",
       "        [ 14,  14,  20],\n",
       "        ...,\n",
       "        [ 10,  11,  15],\n",
       "        [ 10,  11,  15],\n",
       "        [ 10,  11,  15]],\n",
       "\n",
       "       ...,\n",
       "\n",
       "       [[122, 131, 145],\n",
       "        [137, 146, 160],\n",
       "        [132, 141, 155],\n",
       "        ...,\n",
       "        [100, 102, 110],\n",
       "        [100, 102, 110],\n",
       "        [ 99, 101, 109]],\n",
       "\n",
       "       [[127, 136, 150],\n",
       "        [134, 143, 157],\n",
       "        [139, 148, 162],\n",
       "        ...,\n",
       "        [100, 102, 110],\n",
       "        [ 99, 101, 109],\n",
       "        [ 99, 101, 109]],\n",
       "\n",
       "       [[128, 137, 151],\n",
       "        [129, 138, 152],\n",
       "        [139, 148, 162],\n",
       "        ...,\n",
       "        [100, 102, 110],\n",
       "        [ 99, 101, 109],\n",
       "        [ 99, 101, 109]]], dtype=uint8)"
      ]
     },
     "execution_count": 50,
     "metadata": {
      "tags": []
     },
     "output_type": "execute_result"
    }
   ],
   "source": [
    "# draw the prediction on the output image\n",
    "text = \"{}: {:.2f}%\".format(label, preds[i] * 100)\n",
    "cv2.putText(output, text, (3, 20), cv2.FONT_HERSHEY_SIMPLEX, 0.5, (0, 255, 0), 2)"
   ]
  },
  {
   "cell_type": "code",
   "execution_count": 51,
   "metadata": {
    "colab": {
     "base_uri": "https://localhost:8080/",
     "height": 287
    },
    "id": "XRZ75LSryLhQ",
    "outputId": "6effa69a-120a-4349-bb75-f3dd8c55c7f3"
   },
   "outputs": [
    {
     "data": {
      "text/plain": [
       "<matplotlib.image.AxesImage at 0x7f2807d0f6a0>"
      ]
     },
     "execution_count": 51,
     "metadata": {
      "tags": []
     },
     "output_type": "execute_result"
    },
    {
     "data": {
      "image/png": "[encoded data removed]",
      "text/plain": [
       "<Figure size 432x288 with 1 Axes>"
      ]
     },
     "metadata": {
      "tags": []
     },
     "output_type": "display_data"
    }
   ],
   "source": [
    "# show the output image\n",
    "#cv2.imshow(\"Output\", output)\n",
    "#cv2.waitKey(0)\n",
    "plt.imshow(output)"
   ]
  },
  {
   "cell_type": "code",
   "execution_count": null,
   "metadata": {
    "id": "eRGJdKOVyLhQ"
   },
   "outputs": [],
   "source": []
  }
 ],
 "metadata": {
  "accelerator": "GPU",
  "colab": {
   "collapsed_sections": [],
   "name": "06-fine-tuning-keras-kaggle.ipynb",
   "provenance": []
  },
  "kernelspec": {
   "display_name": "Python 3",
   "language": "python",
   "name": "python3"
  },
  "language_info": {
   "codemirror_mode": {
    "name": "ipython",
    "version": 3
   },
   "file_extension": ".py",
   "mimetype": "text/x-python",
   "name": "python",
   "nbconvert_exporter": "python",
   "pygments_lexer": "ipython3",
   "version": "3.8.3"
  }
 },
 "nbformat": 4,
 "nbformat_minor": 4
}
