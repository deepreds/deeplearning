{
  "nbformat": 4,
  "nbformat_minor": 0,
  "metadata": {
    "kernelspec": {
      "display_name": "Python 3",
      "language": "python",
      "name": "python3"
    },
    "language_info": {
      "codemirror_mode": {
        "name": "ipython",
        "version": 3
      },
      "file_extension": ".py",
      "mimetype": "text/x-python",
      "name": "python",
      "nbconvert_exporter": "python",
      "pygments_lexer": "ipython3",
      "version": "3.8.3"
    },
    "colab": {
      "name": "tf2_10_5_mnist_nn_dropout_kaggle.ipynb",
      "provenance": [],
      "collapsed_sections": []
    },
    "accelerator": "GPU"
  },
  "cells": [
    {
      "cell_type": "code",
      "metadata": {
        "id": "80yho_zOSuXb"
      },
      "source": [
        "# Lab 10 MNIST and NN\n",
        "import numpy as np\n",
        "import random\n",
        "import tensorflow as tf"
      ],
      "execution_count": 1,
      "outputs": []
    },
    {
      "cell_type": "code",
      "metadata": {
        "colab": {
          "base_uri": "https://localhost:8080/"
        },
        "id": "SCeJ1p1HSuXf",
        "outputId": "cc31f7c6-491d-4804-a336-68ee4ff3ccc7"
      },
      "source": [
        "import os\n",
        "os.environ['TF_CPP_MIN_LOG_LEVEL'] = '3'\n",
        "os.environ[\"CUDA_DEVICE_ORDER\"] = \"PCI_BUS_ID\"\n",
        "os.environ[\"CUDA_VISIBLE_DEVICES\"] = '-1' # Set to -1 if CPU should be used CPU = -1 , GPU = 0\n",
        "\n",
        "gpus = tf.config.experimental.list_physical_devices('GPU')\n",
        "cpus = tf.config.experimental.list_physical_devices('CPU')\n",
        "\n",
        "if gpus:\n",
        "    try:\n",
        "        # Currently, memory growth needs to be the same across GPUs\n",
        "        for gpu in gpus:\n",
        "            tf.config.experimental.set_memory_growth(gpu, True)\n",
        "        logical_gpus = tf.config.experimental.list_logical_devices('GPU')\n",
        "        print(len(gpus), \"Physical GPUs,\", len(logical_gpus), \"Logical GPUs\")\n",
        "    except RuntimeError as e:\n",
        "        # Memory growth must be set before GPUs have been initialized\n",
        "        print(e)\n",
        "elif cpus:\n",
        "    try:\n",
        "        # Currently, memory growth needs to be the same across GPUs\n",
        "        logical_cpus= tf.config.experimental.list_logical_devices('CPU')\n",
        "        print(len(cpus), \"Physical CPU,\", len(logical_cpus), \"Logical CPU\")\n",
        "    except RuntimeError as e:\n",
        "        # Memory growth must be set before GPUs have been initialized\n",
        "        print(e)"
      ],
      "execution_count": 2,
      "outputs": [
        {
          "output_type": "stream",
          "text": [
            "1 Physical CPU, 1 Logical CPU\n"
          ],
          "name": "stdout"
        }
      ]
    },
    {
      "cell_type": "code",
      "metadata": {
        "id": "P1iB-WPaSuXi"
      },
      "source": [
        "random.seed(777)  # for reproducibility\n",
        "learning_rate = 0.001\n",
        "batch_size = 10 #100 reduce batch_size\n",
        "training_epochs = 15\n",
        "nb_classes = 10\n",
        "drop_rate = 0.3"
      ],
      "execution_count": 3,
      "outputs": []
    },
    {
      "cell_type": "code",
      "metadata": {
        "colab": {
          "base_uri": "https://localhost:8080/"
        },
        "id": "WmcAUAWtSuXj",
        "outputId": "ed38a856-9851-4d81-c8ec-cfc43e788810"
      },
      "source": [
        "(x_train, y_train), (x_test, y_test) = tf.keras.datasets.mnist.load_data()\n",
        "print(x_train.shape)"
      ],
      "execution_count": 4,
      "outputs": [
        {
          "output_type": "stream",
          "text": [
            "Downloading data from https://storage.googleapis.com/tensorflow/tf-keras-datasets/mnist.npz\n",
            "11493376/11490434 [==============================] - 0s 0us/step\n",
            "(60000, 28, 28)\n"
          ],
          "name": "stdout"
        }
      ]
    },
    {
      "cell_type": "code",
      "metadata": {
        "id": "aYqEeZXgSuXj"
      },
      "source": [
        "x_train = x_train.reshape(x_train.shape[0], 28 * 28)\n",
        "x_test = x_test.reshape(x_test.shape[0], 28 * 28)"
      ],
      "execution_count": 5,
      "outputs": []
    },
    {
      "cell_type": "code",
      "metadata": {
        "id": "im4HeekuSuXl"
      },
      "source": [
        "y_train = tf.keras.utils.to_categorical(y_train, nb_classes)\n",
        "y_test = tf.keras.utils.to_categorical(y_test, nb_classes)"
      ],
      "execution_count": 6,
      "outputs": []
    },
    {
      "cell_type": "code",
      "metadata": {
        "id": "SLZqYf3ISuXl"
      },
      "source": [
        "model = tf.keras.Sequential()\n",
        "# Glorot normal initializer, also called Xavier normal initializer.\n",
        "# see https://www.tensorflow.org/api_docs/python/tf/initializers"
      ],
      "execution_count": 7,
      "outputs": []
    },
    {
      "cell_type": "code",
      "metadata": {
        "id": "8PjdpR2sSuXm"
      },
      "source": [
        "model.add(tf.keras.layers.Dense(input_dim=784, units=512, kernel_initializer='glorot_normal', activation='relu'))\n",
        "model.add(tf.keras.layers.Dropout(drop_rate))\n",
        "model.add(tf.keras.layers.Dense(units=512, kernel_initializer='glorot_normal', activation='relu'))\n",
        "model.add(tf.keras.layers.Dropout(drop_rate))\n",
        "model.add(tf.keras.layers.Dense(units=512, kernel_initializer='glorot_normal', activation='relu'))\n",
        "model.add(tf.keras.layers.Dropout(drop_rate))\n",
        "model.add(tf.keras.layers.Dense(units=512, kernel_initializer='glorot_normal', activation='relu'))\n",
        "model.add(tf.keras.layers.Dropout(drop_rate))\n",
        "model.add(tf.keras.layers.Dense(units=nb_classes, kernel_initializer='glorot_normal', activation='softmax'))"
      ],
      "execution_count": 8,
      "outputs": []
    },
    {
      "cell_type": "code",
      "metadata": {
        "id": "EV8VmzVCSuXm"
      },
      "source": [
        "model.compile(loss='categorical_crossentropy',optimizer=tf.keras.optimizers.Adam(lr=learning_rate), metrics=['accuracy'])"
      ],
      "execution_count": 9,
      "outputs": []
    },
    {
      "cell_type": "code",
      "metadata": {
        "colab": {
          "base_uri": "https://localhost:8080/"
        },
        "id": "FOPnQrzWSuXn",
        "outputId": "75f52549-5f9c-46eb-d26a-1f6f1e4f3260"
      },
      "source": [
        "model.summary()"
      ],
      "execution_count": 10,
      "outputs": [
        {
          "output_type": "stream",
          "text": [
            "Model: \"sequential\"\n",
            "_________________________________________________________________\n",
            "Layer (type)                 Output Shape              Param #   \n",
            "=================================================================\n",
            "dense (Dense)                (None, 512)               401920    \n",
            "_________________________________________________________________\n",
            "dropout (Dropout)            (None, 512)               0         \n",
            "_________________________________________________________________\n",
            "dense_1 (Dense)              (None, 512)               262656    \n",
            "_________________________________________________________________\n",
            "dropout_1 (Dropout)          (None, 512)               0         \n",
            "_________________________________________________________________\n",
            "dense_2 (Dense)              (None, 512)               262656    \n",
            "_________________________________________________________________\n",
            "dropout_2 (Dropout)          (None, 512)               0         \n",
            "_________________________________________________________________\n",
            "dense_3 (Dense)              (None, 512)               262656    \n",
            "_________________________________________________________________\n",
            "dropout_3 (Dropout)          (None, 512)               0         \n",
            "_________________________________________________________________\n",
            "dense_4 (Dense)              (None, 10)                5130      \n",
            "=================================================================\n",
            "Total params: 1,195,018\n",
            "Trainable params: 1,195,018\n",
            "Non-trainable params: 0\n",
            "_________________________________________________________________\n"
          ],
          "name": "stdout"
        }
      ]
    },
    {
      "cell_type": "code",
      "metadata": {
        "colab": {
          "base_uri": "https://localhost:8080/"
        },
        "id": "QoLU2amoSuXo",
        "outputId": "2b3fc0c2-f0f2-4745-9ddb-ece56c61e0b1"
      },
      "source": [
        "history = model.fit(x_train, y_train, batch_size=batch_size, epochs=training_epochs)"
      ],
      "execution_count": 11,
      "outputs": [
        {
          "output_type": "stream",
          "text": [
            "Epoch 1/15\n",
            "6000/6000 [==============================] - 40s 7ms/step - loss: 1.4141 - accuracy: 0.7909\n",
            "Epoch 2/15\n",
            "6000/6000 [==============================] - 41s 7ms/step - loss: 0.7551 - accuracy: 0.8307\n",
            "Epoch 3/15\n",
            "6000/6000 [==============================] - 41s 7ms/step - loss: 0.8262 - accuracy: 0.8217\n",
            "Epoch 4/15\n",
            "6000/6000 [==============================] - 40s 7ms/step - loss: 0.8540 - accuracy: 0.8114\n",
            "Epoch 5/15\n",
            "6000/6000 [==============================] - 40s 7ms/step - loss: 1.0192 - accuracy: 0.7696\n",
            "Epoch 6/15\n",
            "6000/6000 [==============================] - 40s 7ms/step - loss: 1.2977 - accuracy: 0.7018\n",
            "Epoch 7/15\n",
            "6000/6000 [==============================] - 39s 7ms/step - loss: 1.4607 - accuracy: 0.6069\n",
            "Epoch 8/15\n",
            "6000/6000 [==============================] - 38s 6ms/step - loss: 1.8383 - accuracy: 0.4861\n",
            "Epoch 9/15\n",
            "6000/6000 [==============================] - 38s 6ms/step - loss: 1.8927 - accuracy: 0.4110\n",
            "Epoch 10/15\n",
            "6000/6000 [==============================] - 38s 6ms/step - loss: 2.1294 - accuracy: 0.3170\n",
            "Epoch 11/15\n",
            "6000/6000 [==============================] - 38s 6ms/step - loss: 2.2139 - accuracy: 0.2707\n",
            "Epoch 12/15\n",
            "6000/6000 [==============================] - 37s 6ms/step - loss: 2.2259 - accuracy: 0.2133\n",
            "Epoch 13/15\n",
            "6000/6000 [==============================] - 37s 6ms/step - loss: 2.2527 - accuracy: 0.1472\n",
            "Epoch 14/15\n",
            "6000/6000 [==============================] - 37s 6ms/step - loss: 2.2429 - accuracy: 0.1637\n",
            "Epoch 15/15\n",
            "6000/6000 [==============================] - 37s 6ms/step - loss: 2.5069 - accuracy: 0.1245\n"
          ],
          "name": "stdout"
        }
      ]
    },
    {
      "cell_type": "code",
      "metadata": {
        "colab": {
          "base_uri": "https://localhost:8080/",
          "height": 312
        },
        "id": "mL61yB-USuXo",
        "outputId": "c192b334-8902-4301-830e-c33d219a2515"
      },
      "source": [
        "import matplotlib.pyplot as plt\n",
        "%matplotlib inline\n",
        "plt.plot(history.history['loss'])\n",
        "plt.plot(history.history['accuracy'])\n",
        "plt.title('Model loss & accuracy')\n",
        "plt.ylabel('Loss')\n",
        "plt.xlabel('Epoch')\n",
        "plt.legend(['loss', 'accuracy'], loc='upper left')\n",
        "plt.show()\n",
        "print(history.history['accuracy'][-5:])"
      ],
      "execution_count": 12,
      "outputs": [
        {
          "output_type": "display_data",
          "data": {
            "image/png": "[encoded data removed]",
            "text/plain": [
              "<Figure size 432x288 with 1 Axes>"
            ]
          },
          "metadata": {
            "tags": [],
            "needs_background": "light"
          }
        },
        {
          "output_type": "stream",
          "text": [
            "[0.2707499861717224, 0.21328333020210266, 0.1471666693687439, 0.1636500060558319, 0.12451666593551636]\n"
          ],
          "name": "stdout"
        }
      ]
    },
    {
      "cell_type": "code",
      "metadata": {
        "colab": {
          "base_uri": "https://localhost:8080/"
        },
        "id": "vgT5ErqzSuXp",
        "outputId": "c23a897a-4117-4772-cb53-a313a78ba57f"
      },
      "source": [
        "# predict 10 random hand-writing data\n",
        "y_predicted = model.predict(x_test)\n",
        "for x in range(0, 10):\n",
        "    random_index = random.randint(0, x_test.shape[0]-1)\n",
        "    print(\"index: \", random_index,\"actual y: \", np.argmax(y_test[random_index]),\"predicted y: \", np.argmax(y_predicted[random_index]))"
      ],
      "execution_count": 13,
      "outputs": [
        {
          "output_type": "stream",
          "text": [
            "index:  3757 actual y:  8 predicted y:  1\n",
            "index:  7304 actual y:  5 predicted y:  1\n",
            "index:  7300 actual y:  7 predicted y:  1\n",
            "index:  6039 actual y:  9 predicted y:  1\n",
            "index:  9429 actual y:  3 predicted y:  1\n",
            "index:  4420 actual y:  5 predicted y:  1\n",
            "index:  5507 actual y:  2 predicted y:  1\n",
            "index:  8809 actual y:  1 predicted y:  1\n",
            "index:  654 actual y:  5 predicted y:  1\n",
            "index:  7302 actual y:  8 predicted y:  1\n"
          ],
          "name": "stdout"
        }
      ]
    },
    {
      "cell_type": "code",
      "metadata": {
        "colab": {
          "base_uri": "https://localhost:8080/"
        },
        "id": "McuQ4ZRjSuXq",
        "outputId": "a7927981-33b8-4730-fcfe-9a8c636f0775"
      },
      "source": [
        "# evaluate test set\n",
        "evaluation = model.evaluate(x_test, y_test)\n",
        "print('loss: ', evaluation[0])\n",
        "print('accuracy', evaluation[1])"
      ],
      "execution_count": 14,
      "outputs": [
        {
          "output_type": "stream",
          "text": [
            "313/313 [==============================] - 1s 3ms/step - loss: 2.2473 - accuracy: 0.1156\n",
            "loss:  2.2472729682922363\n",
            "accuracy 0.11559999734163284\n"
          ],
          "name": "stdout"
        }
      ]
    },
    {
      "cell_type": "code",
      "metadata": {
        "id": "qjbigZedSuXq"
      },
      "source": [
        ""
      ],
      "execution_count": 14,
      "outputs": []
    }
  ]
}