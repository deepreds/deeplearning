{
 "cells": [
  {
   "cell_type": "code",
   "execution_count": 1,
   "metadata": {},
   "outputs": [
    {
     "name": "stdout",
     "output_type": "stream",
     "text": [
      "1 Physical GPUs, 1 Logical GPUs\n"
     ]
    }
   ],
   "source": [
    "#https://www.pyimagesearch.com/2019/06/03/fine-tuning-with-keras-and-deep-learning/\n",
    "import tensorflow as tf\n",
    "\n",
    "import os\n",
    "os.environ['TF_CPP_MIN_LOG_LEVEL'] = '3'\n",
    "os.environ[\"CUDA_DEVICE_ORDER\"] = \"PCI_BUS_ID\"\n",
    "os.environ[\"CUDA_VISIBLE_DEVICES\"] = '0' # Set to -1 if CPU should be used CPU = -1 , GPU = 0\n",
    "\n",
    "gpus = tf.config.experimental.list_physical_devices('GPU')\n",
    "cpus = tf.config.experimental.list_physical_devices('CPU')\n",
    "\n",
    "if gpus:\n",
    "    try:\n",
    "        # Currently, memory growth needs to be the same across GPUs\n",
    "        for gpu in gpus:\n",
    "            tf.config.experimental.set_memory_growth(gpu, True)\n",
    "        logical_gpus = tf.config.experimental.list_logical_devices('GPU')\n",
    "        print(len(gpus), \"Physical GPUs,\", len(logical_gpus), \"Logical GPUs\")\n",
    "    except RuntimeError as e:\n",
    "        # Memory growth must be set before GPUs have been initialized\n",
    "        print(e)\n",
    "elif cpus:\n",
    "    try:\n",
    "        # Currently, memory growth needs to be the same across GPUs\n",
    "        logical_cpus= tf.config.experimental.list_logical_devices('CPU')\n",
    "        print(len(cpus), \"Physical CPU,\", len(logical_cpus), \"Logical CPU\")\n",
    "    except RuntimeError as e:\n",
    "        # Memory growth must be set before GPUs have been initialized\n",
    "        print(e)"
   ]
  },
  {
   "cell_type": "code",
   "execution_count": 2,
   "metadata": {},
   "outputs": [],
   "source": [
    "# import the necessary packages\n",
    "import os\n",
    "\n",
    "# initialize the path to the *original* input directory of images\n",
    "ORIG_INPUT_DATASET = \"Food-11.zip\"\n",
    "\n",
    "# initialize the base path to the *new* directory that will contain\n",
    "# our images after computing the training and testing split\n",
    "#BASE_PATH = \"dataset1\"\n",
    "import tempfile\n",
    "TEMPDIR = tempfile.gettempdir()\n",
    "BASE_PATH = os.path.join(TEMPDIR, \"dataset1.zip\")\n",
    "\n",
    "# define the names of the training, testing, and validation\n",
    "# directories\n",
    "TRAIN = \"training1\"\n",
    "TEST = \"evaluation1\"\n",
    "VAL = \"validation1\"\n",
    "\n",
    "# initialize the list of class label names\n",
    "CLASSES = [\"Bread\", \"Dairy product\", \"Dessert\", \"Egg\", \"Fried food\",\"Meat\", \"Noodles/Pasta\", \"Rice\", \"Seafood\", \"Soup\",\"Vegetable/Fruit\"]\n",
    "\n",
    "# set the batch size when fine-tuning\n",
    "BATCH_SIZE = 5 #32, small batch size for 3GB NVIDIA GeForce 1060 3GB\n",
    "\n",
    "# initialize the label encoder file path and the output directory to\n",
    "# where the extracted features (in CSV file format) will be stored\n",
    "#LE_PATH = os.path.sep.join([\"output1\", \"le.cpickle\"])\n",
    "#BASE_CSV_PATH = \"output1\"\n",
    "\n",
    "LE_PATH = os.path.sep.join([TEMPDIR, \"le1.cpickle\"])\n",
    "BASE_CSV_PATH = TEMPDIR\n",
    "\n",
    "# set the path to the serialized model after training\n",
    "#MODEL_PATH = os.path.sep.join([\"output1\", \"food11.model\"])\n",
    "MODEL_PATH = os.path.sep.join([TEMPDIR, \"food11.model\"])\n",
    "\n",
    "# define the path to the output training history plots\n",
    "#UNFROZEN_PLOT_PATH = os.path.sep.join([\"output1\", \"unfrozen.png\"])\n",
    "#WARMUP_PLOT_PATH = os.path.sep.join([\"output1\", \"warmup.png\"])\n",
    "UNFROZEN_PLOT_PATH = os.path.sep.join([TEMPDIR, \"unfrozen.png\"])\n",
    "WARMUP_PLOT_PATH = os.path.sep.join([TEMPDIR, \"warmup.png\"])"
   ]
  },
  {
   "cell_type": "code",
   "execution_count": 3,
   "metadata": {},
   "outputs": [
    {
     "name": "stderr",
     "output_type": "stream",
     "text": [
      "Using TensorFlow backend.\n"
     ]
    }
   ],
   "source": [
    "# import the necessary packages\n",
    "from imutils import paths\n",
    "import shutil\n",
    "import os\n",
    "# import the necessary packages\n",
    "from keras.models import load_model\n",
    "import numpy as np\n",
    "import argparse\n",
    "import imutils\n",
    "import cv2\n",
    "# import the necessary packages\n",
    "from keras.preprocessing.image import ImageDataGenerator\n",
    "from keras.applications import VGG16\n",
    "from keras.layers.core import Dropout\n",
    "from keras.layers.core import Flatten\n",
    "from keras.layers.core import Dense\n",
    "from keras.layers import Input\n",
    "from keras.models import Model\n",
    "from keras.optimizers import SGD\n",
    "from sklearn.metrics import classification_report\n",
    "from imutils import paths\n",
    "import matplotlib.pyplot as plt\n",
    "import numpy as np\n",
    "import pickle"
   ]
  },
  {
   "cell_type": "code",
   "execution_count": 4,
   "metadata": {},
   "outputs": [
    {
     "name": "stdout",
     "output_type": "stream",
     "text": [
      "[INFO] processing 'training1 split'...\n",
      "[INFO] processing 'evaluation1 split'...\n",
      "[INFO] processing 'validation1 split'...\n"
     ]
    }
   ],
   "source": [
    "import zipfile\n",
    "import cv2\n",
    "zf = zipfile.ZipFile(ORIG_INPUT_DATASET)\n",
    "imagelist = zf.namelist()\n",
    "\n",
    "ozf = zipfile.ZipFile(BASE_PATH, 'w')\n",
    "\n",
    "classcountdict = {}\n",
    "\n",
    "# loop over the data splits\n",
    "for split in (TRAIN, TEST, VAL):\n",
    "\t# grab all image paths in the current split\n",
    "\tprint(\"[INFO] processing '{} split'...\".format(split))\n",
    "\t#p = os.path.sep.join([ORIG_INPUT_DATASET, split])\n",
    "\t#imagePaths = list(paths.list_images(p))\n",
    "\timagePaths = [ix for ix in imagelist if ix.startswith(split)]\n",
    "\n",
    "\t# loop over the image paths\n",
    "\tfor imagePath in imagePaths:\n",
    "\t\t# extract class label from the filename\n",
    "\t\t#filename = imagePath.split(os.path.sep)[-1]\n",
    "\t\t#label = CLASSES[int(filename.split(\"_\")[0])]\n",
    "\t\tfilename = imagePath.rsplit('/', 1)[-1]\n",
    "\t\tlabel = CLASSES[int(filename.split(\"_\")[0])]\n",
    "\t\tclasscountdict.setdefault(label, 0)\n",
    "\t\tclasscountdict[label] += 1\n",
    "\n",
    "\t\t# construct the path to the output directory\n",
    "\t\tdirPath = os.path.sep.join([BASE_PATH, split, label])\n",
    "\t\tdirPath = '/'.join([split, label])\n",
    "\n",
    "\t\t# if the output directory does not exist, create it\n",
    "\t\t#if not os.path.exists(dirPath):\n",
    "\t\t#\tos.makedirs(dirPath)\n",
    "\n",
    "\t\t# construct the path to the output image file and copy it\n",
    "\t\t#p = os.path.sep.join([dirPath, filename])\n",
    "\t\t#shutil.copy2(imagePath, p)\n",
    "\t\tozf.writestr(dirPath + '/' + filename, zf.read(imagePath), compress_type=zipfile.ZIP_STORED)\n",
    "\t#print(len(imagePaths))\n",
    "zf.close()\n",
    "ozf.close()"
   ]
  },
  {
   "cell_type": "code",
   "execution_count": 5,
   "metadata": {},
   "outputs": [
    {
     "name": "stdout",
     "output_type": "stream",
     "text": [
      "['Bread', 'Dairy product', 'Dessert', 'Egg', 'Fried food', 'Meat', 'Noodles/Pasta', 'Rice', 'Seafood', 'Soup', 'Vegetable/Fruit']\n",
      "[1724, 721, 2500, 1648, 1461, 2206, 734, 472, 1505, 2500, 1172]\n"
     ]
    }
   ],
   "source": [
    "print(CLASSES)\n",
    "print([classcountdict[ix] for ix in CLASSES])"
   ]
  },
  {
   "cell_type": "code",
   "execution_count": 27,
   "metadata": {},
   "outputs": [],
   "source": [
    "def plot_training(H, N, plotPath):\n",
    "\t# construct a plot that plots and saves the training history\n",
    "\tplt.style.use(\"ggplot\")\n",
    "\tplt.figure()\n",
    "\tplt.plot(np.arange(0, N), H.history[\"loss\"], label=\"train_loss\")\n",
    "\tplt.plot(np.arange(0, N), H.history[\"val_loss\"], label=\"val_loss\")\n",
    "\tplt.plot(np.arange(0, N), H.history[\"accuracy\"], label=\"train_accuracy\")\n",
    "\tplt.plot(np.arange(0, N), H.history[\"val_accuracy\"], label=\"val_accuracy\")\n",
    "\tplt.title(\"Training Loss and Accuracy\")\n",
    "\tplt.xlabel(\"Epoch #\")\n",
    "\tplt.ylabel(\"Loss/Accuracy\")\n",
    "\tplt.legend(loc=\"lower left\")\n",
    "\tplt.savefig(plotPath)"
   ]
  },
  {
   "cell_type": "code",
   "execution_count": 7,
   "metadata": {},
   "outputs": [
    {
     "name": "stdout",
     "output_type": "stream",
     "text": [
      "[INFO] processing 'training1 split'...\n",
      "[INFO] processing '9866 images'...\n",
      "training1 9866\n",
      "training1 9866\n",
      "[INFO] processing 'evaluation1 split'...\n",
      "[INFO] processing '3347 images'...\n",
      "evaluation1 3347\n",
      "evaluation1 3347\n",
      "[INFO] processing 'validation1 split'...\n",
      "[INFO] processing '3430 images'...\n",
      "validation1 3430\n",
      "validation1 3430\n",
      "validation1 9866 3430 3347\n",
      "validation1 9866 3430 3347\n"
     ]
    }
   ],
   "source": [
    "# derive the paths to the training, validation, and testing directories\n",
    "#trainPath = os.path.sep.join([BASE_PATH, TRAIN])\n",
    "#valPath = os.path.sep.join([BASE_PATH, VAL])\n",
    "#testPath = os.path.sep.join([BASE_PATH, TEST])\n",
    "\n",
    "# determine the total number of image paths in training, validation,\n",
    "# and testing directories\n",
    "#totalTrain = len(list(paths.list_images(trainPath)))\n",
    "#totalVal = len(list(paths.list_images(valPath)))\n",
    "#totalTest = len(list(paths.list_images(testPath)))\n",
    "\n",
    "from keras.applications import imagenet_utils\n",
    "import cv2\n",
    "zf = zipfile.ZipFile(BASE_PATH)\n",
    "imagelist = zf.namelist()\n",
    "#print(len(imagelist))\n",
    "#print(imagelist[:5])\n",
    "\n",
    "imageTrain = []\n",
    "imageVal = []\n",
    "imageTest = []\n",
    "labelTrain = []\n",
    "labelVal = []\n",
    "labelTest = []\n",
    "\n",
    "#print(TRAIN, TEST, VAL)\n",
    "\n",
    "# loop over the data splits\n",
    "for split in (TRAIN, TEST, VAL):\n",
    "\t# grab all image paths in the current split\n",
    "\tprint(\"[INFO] processing '{} split'...\".format(split))\n",
    "\t#p = os.path.sep.join([BASE_PATH, split])\n",
    "\t#imagePaths = list(paths.list_images(p))\n",
    "\timagePaths = [ix for ix in imagelist if ix.startswith(split)]\n",
    "\t# loop over the images in batches\n",
    "\t#print(split, len(imagePaths))\n",
    "\tprint(\"[INFO] processing '{} images'...\".format(len(imagePaths)))\n",
    "\tfor imagePath in imagePaths:\n",
    "\t\t# load the input image using the Keras helper utility\n",
    "\t\t# while ensuring the image is resized to 224x224 pixels\n",
    "\t\t#image = load_img(imagePath, target_size=(224, 224))\n",
    "\t\t#image = img_to_array(image)\n",
    "\t\t#print(imagePath)\n",
    "\t\timage = cv2.imdecode(np.frombuffer(zf.read(imagePath), np.uint8), 1)\n",
    "\t\timage = cv2.resize(image, (224, 224))\n",
    "\t\timage = np.expand_dims(image, axis=0)\n",
    "\t\timage = imagenet_utils.preprocess_input(image)\n",
    "\t\tlabel, filename = imagePath.rsplit('/', 1)\n",
    "\t\timageclass, label = label.split('/', 1)\n",
    "\t\tif imageclass == TRAIN:\n",
    "\t\t\timageTrain.append(image)\n",
    "\t\t\tlabelTrain.append(CLASSES.index(label))\n",
    "\t\tif imageclass == VAL:\n",
    "\t\t\timageVal.append(image)\n",
    "\t\t\tlabelVal.append(CLASSES.index(label))\n",
    "\t\tif imageclass == TEST:\n",
    "\t\t\timageTest.append(image)\n",
    "\t\t\tlabelTest.append(CLASSES.index(label))\n",
    "\tprint(imageclass, len(imagePaths))\n",
    "\tprint(imageclass, len(imagePaths))\n",
    "\t#if imageclass == TRAIN: imageTrain = np.vstack(imageTrain)\n",
    "\t#if imageclass == VAL: imageVal = np.vstack(imageVal)\n",
    "\t#if imageclass == TEST: imageTest = np.vstack(imageTest)\n",
    "zf.close()\n",
    "imageTrain = np.vstack(imageTrain)\n",
    "imageVal = np.vstack(imageVal)\n",
    "imageTest = np.vstack(imageTest)\n",
    "from tensorflow.keras.utils import to_categorical\n",
    "labelTrain = to_categorical(labelTrain)\n",
    "labelVal = to_categorical(labelVal)\n",
    "labelTest = to_categorical(labelTest)\n",
    "print(split, len(imageTrain), len(imageVal), len(imageTest))\n",
    "print(split, len(labelTrain), len(labelVal), len(labelTest))"
   ]
  },
  {
   "cell_type": "code",
   "execution_count": 8,
   "metadata": {},
   "outputs": [
    {
     "name": "stdout",
     "output_type": "stream",
     "text": [
      "[[1. 0. 0. 0. 0. 0. 0. 0. 0. 0. 0.]\n",
      " [1. 0. 0. 0. 0. 0. 0. 0. 0. 0. 0.]\n",
      " [1. 0. 0. 0. 0. 0. 0. 0. 0. 0. 0.]\n",
      " [1. 0. 0. 0. 0. 0. 0. 0. 0. 0. 0.]\n",
      " [1. 0. 0. 0. 0. 0. 0. 0. 0. 0. 0.]]\n",
      "[[1. 0. 0. 0. 0. 0. 0. 0. 0. 0. 0.]\n",
      " [1. 0. 0. 0. 0. 0. 0. 0. 0. 0. 0.]\n",
      " [1. 0. 0. 0. 0. 0. 0. 0. 0. 0. 0.]\n",
      " [1. 0. 0. 0. 0. 0. 0. 0. 0. 0. 0.]\n",
      " [1. 0. 0. 0. 0. 0. 0. 0. 0. 0. 0.]]\n",
      "[[1. 0. 0. 0. 0. 0. 0. 0. 0. 0. 0.]\n",
      " [1. 0. 0. 0. 0. 0. 0. 0. 0. 0. 0.]\n",
      " [1. 0. 0. 0. 0. 0. 0. 0. 0. 0. 0.]\n",
      " [1. 0. 0. 0. 0. 0. 0. 0. 0. 0. 0.]\n",
      " [1. 0. 0. 0. 0. 0. 0. 0. 0. 0. 0.]]\n"
     ]
    }
   ],
   "source": [
    "#imageTrain = np.vstack(imageTrain)\n",
    "#imageVal = np.vstack(imageVal)\n",
    "#imageTest = np.vstack(imageTest)\n",
    "print(labelTrain[:5])\n",
    "print(labelVal[:5])\n",
    "print(labelTest[:5])"
   ]
  },
  {
   "cell_type": "code",
   "execution_count": 9,
   "metadata": {},
   "outputs": [
    {
     "name": "stdout",
     "output_type": "stream",
     "text": [
      "(9866, 224, 224, 3)\n",
      "(3430, 224, 224, 3)\n",
      "(3347, 224, 224, 3)\n",
      "9866\n",
      "3430\n",
      "3347\n"
     ]
    }
   ],
   "source": [
    "print(imageTrain.shape)\n",
    "print(imageVal.shape)\n",
    "print(imageTest.shape)\n",
    "print(len(imageTrain))\n",
    "print(len(imageVal))\n",
    "print(len(imageTest))"
   ]
  },
  {
   "cell_type": "code",
   "execution_count": 10,
   "metadata": {},
   "outputs": [],
   "source": [
    "# initialize the training data augmentation object\n",
    "trainAug = ImageDataGenerator(rotation_range=30,zoom_range=0.15,width_shift_range=0.2,height_shift_range=0.2,shear_range=0.15,horizontal_flip=True,fill_mode=\"nearest\")"
   ]
  },
  {
   "cell_type": "code",
   "execution_count": 11,
   "metadata": {},
   "outputs": [],
   "source": [
    "# initialize the validation/testing data augmentation object (which\n",
    "# we'll be adding mean subtraction to)\n",
    "valAug = ImageDataGenerator()"
   ]
  },
  {
   "cell_type": "code",
   "execution_count": 12,
   "metadata": {},
   "outputs": [],
   "source": [
    "# define the ImageNet mean subtraction (in RGB order) and set the\n",
    "# the mean subtraction value for each of the data augmentation\n",
    "# objects\n",
    "mean = np.array([123.68, 116.779, 103.939], dtype=\"float32\")\n",
    "trainAug.mean = mean\n",
    "valAug.mean = mean"
   ]
  },
  {
   "cell_type": "code",
   "execution_count": 13,
   "metadata": {},
   "outputs": [],
   "source": [
    "# initialize the training generator\n",
    "#trainGen = trainAug.flow_from_directory(trainPath,class_mode=\"categorical\",target_size=(224, 224),color_mode=\"rgb\",shuffle=True,batch_size=BATCH_SIZE)\n",
    "trainGen = trainAug.flow(imageTrain, y = labelTrain, shuffle=True,batch_size=BATCH_SIZE)"
   ]
  },
  {
   "cell_type": "code",
   "execution_count": 14,
   "metadata": {},
   "outputs": [],
   "source": [
    "# initialize the validation generator\n",
    "#valGen = valAug.flow_from_directory(valPath,class_mode=\"categorical\",target_size=(224, 224),color_mode=\"rgb\",shuffle=False,batch_size=BATCH_SIZE)\n",
    "valGen = valAug.flow(imageVal, y = labelVal, shuffle=False,batch_size=BATCH_SIZE)"
   ]
  },
  {
   "cell_type": "code",
   "execution_count": 15,
   "metadata": {},
   "outputs": [],
   "source": [
    "# initialize the testing generator\n",
    "#testGen = valAug.flow_from_directory(testPath,class_mode=\"categorical\",target_size=(224, 224),color_mode=\"rgb\",shuffle=False,batch_size=BATCH_SIZE)\n",
    "testGen = valAug.flow(imageTest, y = labelTest, shuffle=False,batch_size=BATCH_SIZE)"
   ]
  },
  {
   "cell_type": "code",
   "execution_count": 16,
   "metadata": {},
   "outputs": [],
   "source": [
    "# load the VGG16 network, ensuring the head FC layer sets are left\n",
    "# off\n",
    "baseModel = VGG16(weights=\"imagenet\", include_top=False,input_tensor=Input(shape=(224, 224, 3)))"
   ]
  },
  {
   "cell_type": "code",
   "execution_count": 17,
   "metadata": {},
   "outputs": [
    {
     "name": "stdout",
     "output_type": "stream",
     "text": [
      "(None, 7, 7, 512)\n"
     ]
    }
   ],
   "source": [
    "print(baseModel.output.shape)"
   ]
  },
  {
   "cell_type": "code",
   "execution_count": 18,
   "metadata": {},
   "outputs": [],
   "source": [
    "# construct the head of the model that will be placed on top of the\n",
    "# the base model\n",
    "headModel = baseModel.output\n",
    "headModel = Flatten(name=\"flatten\")(headModel)\n",
    "headModel = Dense(512, activation=\"relu\")(headModel)\n",
    "headModel = Dropout(0.5)(headModel)\n",
    "headModel = Dense(len(CLASSES), activation=\"softmax\")(headModel)"
   ]
  },
  {
   "cell_type": "code",
   "execution_count": 19,
   "metadata": {},
   "outputs": [],
   "source": [
    "# place the head FC model on top of the base model (this will become\n",
    "# the actual model we will train)\n",
    "model = Model(inputs=baseModel.input, outputs=headModel)"
   ]
  },
  {
   "cell_type": "code",
   "execution_count": 20,
   "metadata": {},
   "outputs": [],
   "source": [
    "# loop over all layers in the base model and freeze them so they will\n",
    "# *not* be updated during the first training process\n",
    "for layer in baseModel.layers:\n",
    "\tlayer.trainable = False"
   ]
  },
  {
   "cell_type": "code",
   "execution_count": 21,
   "metadata": {},
   "outputs": [
    {
     "name": "stdout",
     "output_type": "stream",
     "text": [
      "[INFO] compiling model...\n"
     ]
    }
   ],
   "source": [
    "# compile our model (this needs to be done after our setting our\n",
    "# layers to being non-trainable\n",
    "print(\"[INFO] compiling model...\")\n",
    "opt = SGD(lr=1e-4, momentum=0.9)\n",
    "model.compile(loss=\"categorical_crossentropy\", optimizer=opt,metrics=[\"accuracy\"])"
   ]
  },
  {
   "cell_type": "code",
   "execution_count": 22,
   "metadata": {},
   "outputs": [
    {
     "name": "stdout",
     "output_type": "stream",
     "text": [
      "Model: \"model_1\"\n",
      "_________________________________________________________________\n",
      "Layer (type)                 Output Shape              Param #   \n",
      "=================================================================\n",
      "input_1 (InputLayer)         (None, 224, 224, 3)       0         \n",
      "_________________________________________________________________\n",
      "block1_conv1 (Conv2D)        (None, 224, 224, 64)      1792      \n",
      "_________________________________________________________________\n",
      "block1_conv2 (Conv2D)        (None, 224, 224, 64)      36928     \n",
      "_________________________________________________________________\n",
      "block1_pool (MaxPooling2D)   (None, 112, 112, 64)      0         \n",
      "_________________________________________________________________\n",
      "block2_conv1 (Conv2D)        (None, 112, 112, 128)     73856     \n",
      "_________________________________________________________________\n",
      "block2_conv2 (Conv2D)        (None, 112, 112, 128)     147584    \n",
      "_________________________________________________________________\n",
      "block2_pool (MaxPooling2D)   (None, 56, 56, 128)       0         \n",
      "_________________________________________________________________\n",
      "block3_conv1 (Conv2D)        (None, 56, 56, 256)       295168    \n",
      "_________________________________________________________________\n",
      "block3_conv2 (Conv2D)        (None, 56, 56, 256)       590080    \n",
      "_________________________________________________________________\n",
      "block3_conv3 (Conv2D)        (None, 56, 56, 256)       590080    \n",
      "_________________________________________________________________\n",
      "block3_pool (MaxPooling2D)   (None, 28, 28, 256)       0         \n",
      "_________________________________________________________________\n",
      "block4_conv1 (Conv2D)        (None, 28, 28, 512)       1180160   \n",
      "_________________________________________________________________\n",
      "block4_conv2 (Conv2D)        (None, 28, 28, 512)       2359808   \n",
      "_________________________________________________________________\n",
      "block4_conv3 (Conv2D)        (None, 28, 28, 512)       2359808   \n",
      "_________________________________________________________________\n",
      "block4_pool (MaxPooling2D)   (None, 14, 14, 512)       0         \n",
      "_________________________________________________________________\n",
      "block5_conv1 (Conv2D)        (None, 14, 14, 512)       2359808   \n",
      "_________________________________________________________________\n",
      "block5_conv2 (Conv2D)        (None, 14, 14, 512)       2359808   \n",
      "_________________________________________________________________\n",
      "block5_conv3 (Conv2D)        (None, 14, 14, 512)       2359808   \n",
      "_________________________________________________________________\n",
      "block5_pool (MaxPooling2D)   (None, 7, 7, 512)         0         \n",
      "_________________________________________________________________\n",
      "flatten (Flatten)            (None, 25088)             0         \n",
      "_________________________________________________________________\n",
      "dense_1 (Dense)              (None, 512)               12845568  \n",
      "_________________________________________________________________\n",
      "dropout_1 (Dropout)          (None, 512)               0         \n",
      "_________________________________________________________________\n",
      "dense_2 (Dense)              (None, 11)                5643      \n",
      "=================================================================\n",
      "Total params: 27,565,899\n",
      "Trainable params: 12,851,211\n",
      "Non-trainable params: 14,714,688\n",
      "_________________________________________________________________\n"
     ]
    }
   ],
   "source": [
    "model.summary()"
   ]
  },
  {
   "cell_type": "code",
   "execution_count": 23,
   "metadata": {},
   "outputs": [
    {
     "name": "stdout",
     "output_type": "stream",
     "text": [
      "[INFO] training head...\n",
      "Epoch 1/50\n",
      "1973/1973 [==============================] - 281s 142ms/step - loss: 3.3569 - accuracy: 0.3314 - val_loss: 0.2865 - val_accuracy: 0.5175\n",
      "Epoch 2/50\n",
      "1973/1973 [==============================] - 276s 140ms/step - loss: 1.8131 - accuracy: 0.4072 - val_loss: 0.1556 - val_accuracy: 0.5487\n",
      "Epoch 3/50\n",
      "1973/1973 [==============================] - 231s 117ms/step - loss: 1.6714 - accuracy: 0.4663 - val_loss: 0.3971 - val_accuracy: 0.6224\n",
      "Epoch 4/50\n",
      "1973/1973 [==============================] - 229s 116ms/step - loss: 1.6098 - accuracy: 0.4916 - val_loss: 0.1192 - val_accuracy: 0.6487\n",
      "Epoch 5/50\n",
      "1973/1973 [==============================] - 244s 124ms/step - loss: 1.5328 - accuracy: 0.5134 - val_loss: 0.1107 - val_accuracy: 0.6528\n",
      "Epoch 6/50\n",
      "1973/1973 [==============================] - 232s 118ms/step - loss: 1.4669 - accuracy: 0.5385 - val_loss: 0.3173 - val_accuracy: 0.6889\n",
      "Epoch 7/50\n",
      "1973/1973 [==============================] - 253s 128ms/step - loss: 1.4102 - accuracy: 0.5571 - val_loss: 0.4053 - val_accuracy: 0.6953\n",
      "Epoch 8/50\n",
      "1973/1973 [==============================] - 242s 123ms/step - loss: 1.3724 - accuracy: 0.5743 - val_loss: 0.5109 - val_accuracy: 0.7163\n",
      "Epoch 9/50\n",
      "1973/1973 [==============================] - 245s 124ms/step - loss: 1.3585 - accuracy: 0.5914 - val_loss: 0.3436 - val_accuracy: 0.6359\n",
      "Epoch 10/50\n",
      "1973/1973 [==============================] - 242s 122ms/step - loss: 1.3203 - accuracy: 0.5967 - val_loss: 0.3306 - val_accuracy: 0.7461\n",
      "Epoch 11/50\n",
      "1973/1973 [==============================] - 234s 119ms/step - loss: 1.3103 - accuracy: 0.5981 - val_loss: 0.4060 - val_accuracy: 0.7297\n",
      "Epoch 12/50\n",
      "1973/1973 [==============================] - 249s 126ms/step - loss: 1.2896 - accuracy: 0.5982 - val_loss: 0.1945 - val_accuracy: 0.7364\n",
      "Epoch 13/50\n",
      "1973/1973 [==============================] - 282s 143ms/step - loss: 1.2522 - accuracy: 0.6164 - val_loss: 0.2621 - val_accuracy: 0.7399\n",
      "Epoch 14/50\n",
      "1973/1973 [==============================] - 169s 86ms/step - loss: 1.2420 - accuracy: 0.6247 - val_loss: 0.2865 - val_accuracy: 0.7493\n",
      "Epoch 15/50\n",
      "1973/1973 [==============================] - 163s 82ms/step - loss: 1.2338 - accuracy: 0.6149 - val_loss: 0.2206 - val_accuracy: 0.7306\n",
      "Epoch 16/50\n",
      "1973/1973 [==============================] - 156s 79ms/step - loss: 1.2190 - accuracy: 0.6252 - val_loss: 0.2474 - val_accuracy: 0.7545\n",
      "Epoch 17/50\n",
      "1973/1973 [==============================] - 165s 84ms/step - loss: 1.2382 - accuracy: 0.6281 - val_loss: 0.4440 - val_accuracy: 0.7569\n",
      "Epoch 18/50\n",
      "1973/1973 [==============================] - 157s 80ms/step - loss: 1.1743 - accuracy: 0.6398 - val_loss: 0.3029 - val_accuracy: 0.7627\n",
      "Epoch 19/50\n",
      "1973/1973 [==============================] - 155s 79ms/step - loss: 1.1876 - accuracy: 0.6381 - val_loss: 0.2013 - val_accuracy: 0.7598\n",
      "Epoch 20/50\n",
      "1973/1973 [==============================] - 155s 79ms/step - loss: 1.1727 - accuracy: 0.6460 - val_loss: 0.3485 - val_accuracy: 0.7426\n",
      "Epoch 21/50\n",
      "1973/1973 [==============================] - 154s 78ms/step - loss: 1.1389 - accuracy: 0.6529 - val_loss: 0.4182 - val_accuracy: 0.7700\n",
      "Epoch 22/50\n",
      "1973/1973 [==============================] - 153s 77ms/step - loss: 1.1283 - accuracy: 0.6524 - val_loss: 0.3499 - val_accuracy: 0.7676\n",
      "Epoch 23/50\n",
      "1973/1973 [==============================] - 163s 83ms/step - loss: 1.1517 - accuracy: 0.6541 - val_loss: 0.3491 - val_accuracy: 0.7478\n",
      "Epoch 24/50\n",
      "1973/1973 [==============================] - 152s 77ms/step - loss: 1.1109 - accuracy: 0.6607 - val_loss: 0.1509 - val_accuracy: 0.7662\n",
      "Epoch 25/50\n",
      "1973/1973 [==============================] - 153s 77ms/step - loss: 1.1236 - accuracy: 0.6590 - val_loss: 0.4379 - val_accuracy: 0.7668\n",
      "Epoch 26/50\n",
      "1973/1973 [==============================] - 164s 83ms/step - loss: 1.0875 - accuracy: 0.6677 - val_loss: 0.3774 - val_accuracy: 0.7490\n",
      "Epoch 27/50\n",
      "1973/1973 [==============================] - 156s 79ms/step - loss: 1.0946 - accuracy: 0.6649 - val_loss: 0.4513 - val_accuracy: 0.7583\n",
      "Epoch 28/50\n",
      "1973/1973 [==============================] - 156s 79ms/step - loss: 1.0870 - accuracy: 0.6674 - val_loss: 0.4100 - val_accuracy: 0.7630\n",
      "Epoch 29/50\n",
      "1973/1973 [==============================] - 159s 81ms/step - loss: 1.0719 - accuracy: 0.6735 - val_loss: 0.4334 - val_accuracy: 0.7394\n",
      "Epoch 30/50\n",
      "1973/1973 [==============================] - 156s 79ms/step - loss: 1.0759 - accuracy: 0.6734 - val_loss: 0.4563 - val_accuracy: 0.7755\n",
      "Epoch 31/50\n",
      "1973/1973 [==============================] - 161s 81ms/step - loss: 1.0355 - accuracy: 0.6805 - val_loss: 0.6737 - val_accuracy: 0.7746\n",
      "Epoch 32/50\n",
      "1973/1973 [==============================] - 154s 78ms/step - loss: 1.0619 - accuracy: 0.6776 - val_loss: 0.6791 - val_accuracy: 0.7638\n",
      "Epoch 33/50\n",
      "1973/1973 [==============================] - 161s 82ms/step - loss: 1.0195 - accuracy: 0.6903 - val_loss: 0.7538 - val_accuracy: 0.7758\n",
      "Epoch 34/50\n",
      "1973/1973 [==============================] - 183s 93ms/step - loss: 1.0548 - accuracy: 0.6822 - val_loss: 0.6613 - val_accuracy: 0.7624\n",
      "Epoch 35/50\n",
      "1973/1973 [==============================] - 154s 78ms/step - loss: 1.0280 - accuracy: 0.6841 - val_loss: 0.5200 - val_accuracy: 0.7729\n",
      "Epoch 36/50\n",
      "1973/1973 [==============================] - 153s 78ms/step - loss: 1.0221 - accuracy: 0.6916 - val_loss: 0.6005 - val_accuracy: 0.7799\n",
      "Epoch 37/50\n",
      "1973/1973 [==============================] - 150s 76ms/step - loss: 1.0078 - accuracy: 0.6992 - val_loss: 0.3288 - val_accuracy: 0.7714\n",
      "Epoch 38/50\n",
      "1973/1973 [==============================] - 175s 89ms/step - loss: 0.9964 - accuracy: 0.7007 - val_loss: 0.5780 - val_accuracy: 0.7758\n",
      "Epoch 39/50\n",
      "1973/1973 [==============================] - 183s 93ms/step - loss: 1.0120 - accuracy: 0.6903 - val_loss: 0.3318 - val_accuracy: 0.7866\n",
      "Epoch 40/50\n",
      "1973/1973 [==============================] - 198s 101ms/step - loss: 0.9753 - accuracy: 0.7001 - val_loss: 0.4848 - val_accuracy: 0.7749\n",
      "Epoch 41/50\n",
      "1973/1973 [==============================] - 169s 85ms/step - loss: 1.0014 - accuracy: 0.6978 - val_loss: 0.4483 - val_accuracy: 0.7802\n",
      "Epoch 42/50\n",
      "1973/1973 [==============================] - 167s 85ms/step - loss: 0.9786 - accuracy: 0.6997 - val_loss: 0.4145 - val_accuracy: 0.7773\n",
      "Epoch 43/50\n",
      "1973/1973 [==============================] - 168s 85ms/step - loss: 0.9582 - accuracy: 0.7100 - val_loss: 0.4524 - val_accuracy: 0.7848\n",
      "Epoch 44/50\n",
      "1973/1973 [==============================] - 162s 82ms/step - loss: 0.9664 - accuracy: 0.7052 - val_loss: 0.3016 - val_accuracy: 0.7787\n",
      "Epoch 45/50\n",
      "1973/1973 [==============================] - 154s 78ms/step - loss: 0.9627 - accuracy: 0.7115 - val_loss: 0.3039 - val_accuracy: 0.7776\n",
      "Epoch 46/50\n",
      "1973/1973 [==============================] - 162s 82ms/step - loss: 0.9678 - accuracy: 0.7009 - val_loss: 0.4109 - val_accuracy: 0.7924\n",
      "Epoch 47/50\n",
      "1973/1973 [==============================] - 150s 76ms/step - loss: 0.9609 - accuracy: 0.7061 - val_loss: 0.5017 - val_accuracy: 0.7831\n",
      "Epoch 48/50\n",
      "1973/1973 [==============================] - 148s 75ms/step - loss: 0.9341 - accuracy: 0.7129 - val_loss: 0.5272 - val_accuracy: 0.7843\n",
      "Epoch 49/50\n",
      "1973/1973 [==============================] - 147s 74ms/step - loss: 0.9443 - accuracy: 0.7148 - val_loss: 0.4773 - val_accuracy: 0.7927\n",
      "Epoch 50/50\n",
      "1973/1973 [==============================] - 161s 82ms/step - loss: 0.9433 - accuracy: 0.7142 - val_loss: 0.4884 - val_accuracy: 0.7863\n"
     ]
    }
   ],
   "source": [
    "# train the head of the network for a few epochs (all other layers\n",
    "# are frozen) -- this will allow the new FC layers to start to become\n",
    "# initialized with actual \"learned\" values versus pure random\n",
    "totalTrain = len(imageTrain)\n",
    "totalVal = len(imageVal)\n",
    "totalTest = len(imageTest)\n",
    "print(\"[INFO] training head...\")\n",
    "H = model.fit_generator(trainGen,steps_per_epoch=totalTrain // BATCH_SIZE,validation_data=valGen,validation_steps=totalVal // BATCH_SIZE,epochs=50)\n",
    "# TOO LONG CALCULATIOIN TIME"
   ]
  },
  {
   "cell_type": "code",
   "execution_count": 28,
   "metadata": {},
   "outputs": [
    {
     "name": "stdout",
     "output_type": "stream",
     "text": [
      "[INFO] evaluating after fine-tuning network head...\n"
     ]
    },
    {
     "data": {
      "image/png": "[encoded data removed]",
      "text/plain": [
       "<Figure size 432x288 with 1 Axes>"
      ]
     },
     "metadata": {},
     "output_type": "display_data"
    }
   ],
   "source": [
    "# reset the testing generator and evaluate the network after\n",
    "# fine-tuning just the network head\n",
    "print(\"[INFO] evaluating after fine-tuning network head...\")\n",
    "testGen.reset()\n",
    "predIdxs = model.predict_generator(testGen,steps=(totalTest // BATCH_SIZE) + 1)\n",
    "predIdxs = np.argmax(predIdxs, axis=1)\n",
    "#print(classification_report(testGen.classes, predIdxs,target_names=testGen.class_indices.keys()))\n",
    "plot_training(H, 50, WARMUP_PLOT_PATH)"
   ]
  },
  {
   "cell_type": "code",
   "execution_count": 29,
   "metadata": {},
   "outputs": [],
   "source": [
    "# reset our data generators\n",
    "trainGen.reset()\n",
    "valGen.reset()"
   ]
  },
  {
   "cell_type": "code",
   "execution_count": 30,
   "metadata": {},
   "outputs": [],
   "source": [
    "# now that the head FC layers have been trained/initialized, lets\n",
    "# unfreeze the final set of CONV layers and make them trainable\n",
    "for layer in baseModel.layers[15:]:\n",
    "\tlayer.trainable = True"
   ]
  },
  {
   "cell_type": "code",
   "execution_count": 31,
   "metadata": {},
   "outputs": [
    {
     "name": "stdout",
     "output_type": "stream",
     "text": [
      "<keras.engine.input_layer.InputLayer object at 0x0000014CE842EF10>: False\n",
      "<keras.layers.convolutional.Conv2D object at 0x0000014CBF697910>: False\n",
      "<keras.layers.convolutional.Conv2D object at 0x0000014C9BF68FD0>: False\n",
      "<keras.layers.pooling.MaxPooling2D object at 0x0000014CE7586730>: False\n",
      "<keras.layers.convolutional.Conv2D object at 0x0000014CBFCF9AC0>: False\n",
      "<keras.layers.convolutional.Conv2D object at 0x0000014CE842E820>: False\n",
      "<keras.layers.pooling.MaxPooling2D object at 0x0000014C9BF4F760>: False\n",
      "<keras.layers.convolutional.Conv2D object at 0x0000014CE8316DF0>: False\n",
      "<keras.layers.convolutional.Conv2D object at 0x0000014C9BF56460>: False\n",
      "<keras.layers.convolutional.Conv2D object at 0x0000014CE82F3850>: False\n",
      "<keras.layers.pooling.MaxPooling2D object at 0x0000014CE82F3460>: False\n",
      "<keras.layers.convolutional.Conv2D object at 0x0000014CE8300B20>: False\n",
      "<keras.layers.convolutional.Conv2D object at 0x0000014CE8300820>: False\n",
      "<keras.layers.convolutional.Conv2D object at 0x0000014CE8309FA0>: False\n",
      "<keras.layers.pooling.MaxPooling2D object at 0x0000014CE8319F70>: False\n",
      "<keras.layers.convolutional.Conv2D object at 0x0000014CE83099A0>: True\n",
      "<keras.layers.convolutional.Conv2D object at 0x0000014CE8327E20>: True\n",
      "<keras.layers.convolutional.Conv2D object at 0x0000014CE832F8E0>: True\n",
      "<keras.layers.pooling.MaxPooling2D object at 0x0000014CE8327D60>: True\n"
     ]
    }
   ],
   "source": [
    "# loop over the layers in the model and show which ones are trainable\n",
    "# or not\n",
    "for layer in baseModel.layers:\n",
    "\tprint(\"{}: {}\".format(layer, layer.trainable))"
   ]
  },
  {
   "cell_type": "code",
   "execution_count": 32,
   "metadata": {},
   "outputs": [
    {
     "name": "stdout",
     "output_type": "stream",
     "text": [
      "[INFO] re-compiling model...\n"
     ]
    }
   ],
   "source": [
    "# for the changes to the model to take affect we need to recompile\n",
    "# the model, this time using SGD with a *very* small learning rate\n",
    "print(\"[INFO] re-compiling model...\")\n",
    "opt = SGD(lr=1e-4, momentum=0.9)\n",
    "model.compile(loss=\"categorical_crossentropy\", optimizer=opt,metrics=[\"accuracy\"])"
   ]
  },
  {
   "cell_type": "code",
   "execution_count": 33,
   "metadata": {},
   "outputs": [
    {
     "name": "stdout",
     "output_type": "stream",
     "text": [
      "Epoch 1/20\n",
      "1973/1973 [==============================] - 169s 86ms/step - loss: 1.5671 - accuracy: 0.5218 - val_loss: 0.0982 - val_accuracy: 0.6904\n",
      "Epoch 2/20\n",
      "1973/1973 [==============================] - 166s 84ms/step - loss: 1.0680 - accuracy: 0.6826 - val_loss: 0.4217 - val_accuracy: 0.7513\n",
      "Epoch 3/20\n",
      "1973/1973 [==============================] - 166s 84ms/step - loss: 0.9068 - accuracy: 0.7343 - val_loss: 0.4282 - val_accuracy: 0.8114\n",
      "Epoch 4/20\n",
      "1973/1973 [==============================] - 166s 84ms/step - loss: 0.7791 - accuracy: 0.7677 - val_loss: 0.5138 - val_accuracy: 0.8122\n",
      "Epoch 5/20\n",
      "1973/1973 [==============================] - 165s 84ms/step - loss: 0.7302 - accuracy: 0.7864 - val_loss: 0.5617 - val_accuracy: 0.8397\n",
      "Epoch 6/20\n",
      "1973/1973 [==============================] - 163s 82ms/step - loss: 0.6280 - accuracy: 0.8117 - val_loss: 0.1424 - val_accuracy: 0.8402\n",
      "Epoch 7/20\n",
      "1973/1973 [==============================] - 162s 82ms/step - loss: 0.5710 - accuracy: 0.8295 - val_loss: 0.3912 - val_accuracy: 0.8292\n",
      "Epoch 8/20\n",
      "1973/1973 [==============================] - 162s 82ms/step - loss: 0.5426 - accuracy: 0.8392 - val_loss: 0.0389 - val_accuracy: 0.8364\n",
      "Epoch 9/20\n",
      "1973/1973 [==============================] - 162s 82ms/step - loss: 0.4758 - accuracy: 0.8551 - val_loss: 1.2196 - val_accuracy: 0.8192\n",
      "Epoch 10/20\n",
      "1973/1973 [==============================] - 162s 82ms/step - loss: 0.4361 - accuracy: 0.8681 - val_loss: 0.7743 - val_accuracy: 0.8472\n",
      "Epoch 11/20\n",
      "1973/1973 [==============================] - 162s 82ms/step - loss: 0.4119 - accuracy: 0.8764 - val_loss: 0.0467 - val_accuracy: 0.8516\n",
      "Epoch 12/20\n",
      "1973/1973 [==============================] - 162s 82ms/step - loss: 0.3783 - accuracy: 0.8899 - val_loss: 0.7686 - val_accuracy: 0.8528\n",
      "Epoch 13/20\n",
      "1973/1973 [==============================] - 162s 82ms/step - loss: 0.3602 - accuracy: 0.8892 - val_loss: 0.5101 - val_accuracy: 0.8484\n",
      "Epoch 14/20\n",
      "1973/1973 [==============================] - 162s 82ms/step - loss: 0.3456 - accuracy: 0.8960 - val_loss: 0.6954 - val_accuracy: 0.8571\n",
      "Epoch 15/20\n",
      "1973/1973 [==============================] - 162s 82ms/step - loss: 0.3245 - accuracy: 0.9021 - val_loss: 0.0456 - val_accuracy: 0.8636\n",
      "Epoch 16/20\n",
      "1973/1973 [==============================] - 162s 82ms/step - loss: 0.2813 - accuracy: 0.9147 - val_loss: 0.3309 - val_accuracy: 0.8671\n",
      "Epoch 17/20\n",
      "1973/1973 [==============================] - 162s 82ms/step - loss: 0.2641 - accuracy: 0.9184 - val_loss: 0.4962 - val_accuracy: 0.8641\n",
      "Epoch 18/20\n",
      "1973/1973 [==============================] - 162s 82ms/step - loss: 0.2662 - accuracy: 0.9220 - val_loss: 0.1687 - val_accuracy: 0.8743\n",
      "Epoch 19/20\n",
      "1973/1973 [==============================] - 162s 82ms/step - loss: 0.2397 - accuracy: 0.9272 - val_loss: 0.3994 - val_accuracy: 0.8638\n",
      "Epoch 20/20\n",
      "1973/1973 [==============================] - 162s 82ms/step - loss: 0.2484 - accuracy: 0.9277 - val_loss: 0.8378 - val_accuracy: 0.8796\n"
     ]
    }
   ],
   "source": [
    "# train the model again, this time fine-tuning *both* the final set\n",
    "# of CONV layers along with our set of FC layers\n",
    "H = model.fit_generator(trainGen,steps_per_epoch=totalTrain // BATCH_SIZE,validation_data=valGen,validation_steps=totalVal // BATCH_SIZE,epochs=20)"
   ]
  },
  {
   "cell_type": "code",
   "execution_count": 34,
   "metadata": {},
   "outputs": [
    {
     "name": "stdout",
     "output_type": "stream",
     "text": [
      "[INFO] evaluating after fine-tuning network...\n"
     ]
    },
    {
     "data": {
      "image/png": "[encoded data removed]",
      "text/plain": [
       "<Figure size 432x288 with 1 Axes>"
      ]
     },
     "metadata": {},
     "output_type": "display_data"
    }
   ],
   "source": [
    "# reset the testing generator and then use our trained model to\n",
    "# make predictions on the data\n",
    "print(\"[INFO] evaluating after fine-tuning network...\")\n",
    "testGen.reset()\n",
    "predIdxs = model.predict_generator(testGen,steps=(totalTest // BATCH_SIZE) + 1)\n",
    "predIdxs = np.argmax(predIdxs, axis=1)\n",
    "#print(classification_report(testGen.classes, predIdxs,target_names=testGen.class_indices.keys()))\n",
    "plot_training(H, 20, UNFROZEN_PLOT_PATH)"
   ]
  },
  {
   "cell_type": "code",
   "execution_count": 35,
   "metadata": {},
   "outputs": [
    {
     "name": "stdout",
     "output_type": "stream",
     "text": [
      "[INFO] serializing network...\n"
     ]
    }
   ],
   "source": [
    "# serialize the model to disk\n",
    "print(\"[INFO] serializing network...\")\n",
    "model.save(MODEL_PATH)"
   ]
  },
  {
   "cell_type": "code",
   "execution_count": 36,
   "metadata": {},
   "outputs": [],
   "source": [
    "import zipfile\n",
    "import cv2\n",
    "zf = zipfile.ZipFile(BASE_PATH)\n",
    "imagelist = zf.namelist()\n",
    "\n",
    "# load the input image and then clone it so we can draw on it later\n",
    "#image = cv2.imread(args[\"image\"])\n",
    "imagename = 'evaluation1/Dessert/2_100.jpg'\n",
    "image = cv2.imdecode(np.frombuffer(zf.read(imagename), np.uint8), 1)\n",
    "\n",
    "#output = image.copy()\n",
    "#output = imutils.resize(output, width=400)\n",
    "\n",
    "output = imutils.resize(image, width=400)"
   ]
  },
  {
   "cell_type": "code",
   "execution_count": 37,
   "metadata": {},
   "outputs": [],
   "source": [
    "# our model was trained on RGB ordered images but OpenCV represents\n",
    "# images in BGR order, so swap the channels, and then resize to\n",
    "# 224x224 (the input dimensions for VGG16)\n",
    "image = cv2.cvtColor(image, cv2.COLOR_BGR2RGB)\n",
    "image = cv2.resize(image, (224, 224))"
   ]
  },
  {
   "cell_type": "code",
   "execution_count": 38,
   "metadata": {},
   "outputs": [],
   "source": [
    "# convert the image to a floating point data type and perform mean\n",
    "# subtraction\n",
    "image = image.astype(\"float32\")\n",
    "mean = np.array([123.68, 116.779, 103.939][::1], dtype=\"float32\")\n",
    "image -= mean"
   ]
  },
  {
   "cell_type": "code",
   "execution_count": 39,
   "metadata": {},
   "outputs": [
    {
     "name": "stdout",
     "output_type": "stream",
     "text": [
      "[INFO] loading model...\n"
     ]
    }
   ],
   "source": [
    "# load the trained model from disk\n",
    "print(\"[INFO] loading model...\")\n",
    "model = load_model(MODEL_PATH)"
   ]
  },
  {
   "cell_type": "code",
   "execution_count": 40,
   "metadata": {},
   "outputs": [],
   "source": [
    "# pass the image through the network to obtain our predictions\n",
    "preds = model.predict(np.expand_dims(image, axis=0))[0]\n",
    "i = np.argmax(preds)\n",
    "label = CLASSES[i]"
   ]
  },
  {
   "cell_type": "code",
   "execution_count": 41,
   "metadata": {},
   "outputs": [
    {
     "data": {
      "text/plain": [
       "array([[[ 12,  12,  18],\n",
       "        [ 13,  13,  19],\n",
       "        [ 14,  14,  20],\n",
       "        ...,\n",
       "        [ 10,  11,  15],\n",
       "        [ 11,  12,  16],\n",
       "        [ 11,  12,  16]],\n",
       "\n",
       "       [[ 13,  13,  19],\n",
       "        [ 14,  14,  20],\n",
       "        [ 14,  14,  20],\n",
       "        ...,\n",
       "        [ 10,  11,  15],\n",
       "        [ 10,  11,  15],\n",
       "        [ 11,  12,  16]],\n",
       "\n",
       "       [[ 14,  14,  20],\n",
       "        [ 14,  14,  20],\n",
       "        [ 14,  14,  20],\n",
       "        ...,\n",
       "        [ 10,  11,  15],\n",
       "        [ 10,  11,  15],\n",
       "        [ 10,  11,  15]],\n",
       "\n",
       "       ...,\n",
       "\n",
       "       [[122, 131, 145],\n",
       "        [137, 146, 160],\n",
       "        [132, 141, 155],\n",
       "        ...,\n",
       "        [100, 102, 110],\n",
       "        [100, 102, 110],\n",
       "        [ 99, 101, 109]],\n",
       "\n",
       "       [[127, 136, 150],\n",
       "        [134, 143, 157],\n",
       "        [139, 148, 162],\n",
       "        ...,\n",
       "        [100, 102, 110],\n",
       "        [ 99, 101, 109],\n",
       "        [ 99, 101, 109]],\n",
       "\n",
       "       [[128, 137, 151],\n",
       "        [129, 138, 152],\n",
       "        [139, 148, 162],\n",
       "        ...,\n",
       "        [100, 102, 110],\n",
       "        [ 99, 101, 109],\n",
       "        [ 99, 101, 109]]], dtype=uint8)"
      ]
     },
     "execution_count": 41,
     "metadata": {},
     "output_type": "execute_result"
    }
   ],
   "source": [
    "# draw the prediction on the output image\n",
    "text = \"{}: {:.2f}%\".format(label, preds[i] * 100)\n",
    "cv2.putText(output, text, (3, 20), cv2.FONT_HERSHEY_SIMPLEX, 0.5, (0, 255, 0), 2)"
   ]
  },
  {
   "cell_type": "code",
   "execution_count": 42,
   "metadata": {},
   "outputs": [
    {
     "data": {
      "text/plain": [
       "-1"
      ]
     },
     "execution_count": 42,
     "metadata": {},
     "output_type": "execute_result"
    }
   ],
   "source": [
    "# show the output image\n",
    "cv2.imshow(\"Output\", output)\n",
    "cv2.waitKey(0)"
   ]
  },
  {
   "cell_type": "code",
   "execution_count": null,
   "metadata": {},
   "outputs": [],
   "source": []
  }
 ],
 "metadata": {
  "kernelspec": {
   "display_name": "Python 3",
   "language": "python",
   "name": "python3"
  },
  "language_info": {
   "codemirror_mode": {
    "name": "ipython",
    "version": 3
   },
   "file_extension": ".py",
   "mimetype": "text/x-python",
   "name": "python",
   "nbconvert_exporter": "python",
   "pygments_lexer": "ipython3",
   "version": "3.8.3"
  }
 },
 "nbformat": 4,
 "nbformat_minor": 4
}
