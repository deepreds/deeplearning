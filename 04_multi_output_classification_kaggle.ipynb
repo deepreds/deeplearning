{
 "cells": [
  {
   "cell_type": "code",
   "execution_count": null,
   "metadata": {
    "colab": {
     "base_uri": "https://localhost:8080/"
    },
    "id": "4OGDX56TGpon",
    "outputId": "668a04d5-1bda-4935-db78-ac3bb51826e9"
   },
   "outputs": [
    {
     "name": "stdout",
     "output_type": "stream",
     "text": [
      "1 Physical GPUs, 1 Logical GPUs\n"
     ]
    }
   ],
   "source": [
    "#https://www.pyimagesearch.com/2018/06/04/keras-multiple-outputs-and-multiple-losses/\n",
    "import tensorflow as tf\n",
    "\n",
    "import os\n",
    "os.environ['TF_CPP_MIN_LOG_LEVEL'] = '3'\n",
    "os.environ[\"CUDA_DEVICE_ORDER\"] = \"PCI_BUS_ID\"\n",
    "os.environ[\"CUDA_VISIBLE_DEVICES\"] = '0' # Set to -1 if CPU should be used CPU = -1 , GPU = 0\n",
    "\n",
    "gpus = tf.config.experimental.list_physical_devices('GPU')\n",
    "cpus = tf.config.experimental.list_physical_devices('CPU')\n",
    "\n",
    "if gpus:\n",
    "    try:\n",
    "        # Currently, memory growth needs to be the same across GPUs\n",
    "        for gpu in gpus:\n",
    "            tf.config.experimental.set_memory_growth(gpu, True)\n",
    "        logical_gpus = tf.config.experimental.list_logical_devices('GPU')\n",
    "        print(len(gpus), \"Physical GPUs,\", len(logical_gpus), \"Logical GPUs\")\n",
    "    except RuntimeError as e:\n",
    "        # Memory growth must be set before GPUs have been initialized\n",
    "        print(e)\n",
    "elif cpus:\n",
    "    try:\n",
    "        # Currently, memory growth needs to be the same across GPUs\n",
    "        logical_cpus= tf.config.experimental.list_logical_devices('CPU')\n",
    "        print(len(cpus), \"Physical CPU,\", len(logical_cpus), \"Logical CPU\")\n",
    "    except RuntimeError as e:\n",
    "        # Memory growth must be set before GPUs have been initialized\n",
    "        print(e)"
   ]
  },
  {
   "cell_type": "code",
   "execution_count": null,
   "metadata": {
    "colab": {
     "base_uri": "https://localhost:8080/"
    },
    "id": "mWdyn422Gpop",
    "outputId": "df027d10-b834-4e98-ea26-b0d1eb8516c6"
   },
   "outputs": [
    {
     "name": "stdout",
     "output_type": "stream",
     "text": [
      "Requirement already satisfied: imutils in /usr/local/lib/python3.6/dist-packages (0.5.3)\n"
     ]
    }
   ],
   "source": [
    "# Settings -> Internet -> Phone Validation required to internet connection\n",
    "\n",
    "!pip install imutils"
   ]
  },
  {
   "cell_type": "code",
   "execution_count": null,
   "metadata": {
    "id": "b_MU6qK0Gpor"
   },
   "outputs": [],
   "source": [
    "# import the necessary packages\n",
    "from tensorflow.keras.models import Model\n",
    "from tensorflow.keras.layers import BatchNormalization\n",
    "from tensorflow.keras.layers import MaxPooling2D\n",
    "from tensorflow.keras.layers import Activation\n",
    "from tensorflow.keras.layers import Dropout\n",
    "from tensorflow.keras.layers import Lambda\n",
    "from tensorflow.keras.layers import Dense\n",
    "from tensorflow.keras.layers import Flatten\n",
    "from tensorflow.keras.layers import Input\n",
    "# import the necessary packages\n",
    "from tensorflow.keras.optimizers import Adam\n",
    "from tensorflow.keras.preprocessing.image import img_to_array\n",
    "from sklearn.preprocessing import LabelBinarizer\n",
    "from sklearn.model_selection import train_test_split\n",
    "from imutils import paths\n",
    "import matplotlib.pyplot as plt\n",
    "import numpy as np\n",
    "import random\n",
    "import pickle\n",
    "import cv2\n",
    "import os"
   ]
  },
  {
   "cell_type": "code",
   "execution_count": null,
   "metadata": {
    "id": "JjPng-mcGpor"
   },
   "outputs": [],
   "source": [
    "class FashionNet:\n",
    "\t@staticmethod\n",
    "\tdef build_category_branch(inputs, numCategories,\n",
    "\t\tfinalAct=\"softmax\", chanDim=-1):\n",
    "\t\t# utilize a lambda layer to convert the 3 channel input to a\n",
    "\t\t# grayscale representation\n",
    "\t\tx = Lambda(lambda c: tf.image.rgb_to_grayscale(c))(inputs)\n",
    "\n",
    "\t\t# CONV => RELU => POOL\n",
    "\t\tx = Conv2D(32, (3, 3), padding=\"same\")(x)\n",
    "\t\tx = Activation(\"relu\")(x)\n",
    "\t\tx = BatchNormalization(axis=chanDim)(x)\n",
    "\t\tx = MaxPooling2D(pool_size=(3, 3))(x)\n",
    "\t\tx = Dropout(0.25)(x)\n",
    "\n",
    "\t\t# (CONV => RELU) * 2 => POOL\n",
    "\t\tx = Conv2D(64, (3, 3), padding=\"same\")(x)\n",
    "\t\tx = Activation(\"relu\")(x)\n",
    "\t\tx = BatchNormalization(axis=chanDim)(x)\n",
    "\t\tx = Conv2D(64, (3, 3), padding=\"same\")(x)\n",
    "\t\tx = Activation(\"relu\")(x)\n",
    "\t\tx = BatchNormalization(axis=chanDim)(x)\n",
    "\t\tx = MaxPooling2D(pool_size=(2, 2))(x)\n",
    "\t\tx = Dropout(0.25)(x)\n",
    "\n",
    "\t\t# (CONV => RELU) * 2 => POOL\n",
    "\t\tx = Conv2D(128, (3, 3), padding=\"same\")(x)\n",
    "\t\tx = Activation(\"relu\")(x)\n",
    "\t\tx = BatchNormalization(axis=chanDim)(x)\n",
    "\t\tx = Conv2D(128, (3, 3), padding=\"same\")(x)\n",
    "\t\tx = Activation(\"relu\")(x)\n",
    "\t\tx = BatchNormalization(axis=chanDim)(x)\n",
    "\t\tx = MaxPooling2D(pool_size=(2, 2))(x)\n",
    "\t\tx = Dropout(0.25)(x)\n",
    "\n",
    "\t\t# define a branch of output layers for the number of different\n",
    "\t\t# clothing categories (i.e., shirts, jeans, dresses, etc.)\n",
    "\t\tx = Flatten()(x)\n",
    "\t\tx = Dense(256)(x)\n",
    "\t\tx = Activation(\"relu\")(x)\n",
    "\t\tx = BatchNormalization()(x)\n",
    "\t\tx = Dropout(0.5)(x)\n",
    "\t\tx = Dense(numCategories)(x)\n",
    "\t\tx = Activation(finalAct, name=\"category_output\")(x)\n",
    "\n",
    "\t\t# return the category prediction sub-network\n",
    "\t\treturn x\n",
    "\n",
    "\t@staticmethod\n",
    "\tdef build_color_branch(inputs, numColors, finalAct=\"softmax\",\n",
    "\t\tchanDim=-1):\n",
    "\t\t# CONV => RELU => POOL\n",
    "\t\tx = Conv2D(16, (3, 3), padding=\"same\")(inputs)\n",
    "\t\tx = Activation(\"relu\")(x)\n",
    "\t\tx = BatchNormalization(axis=chanDim)(x)\n",
    "\t\tx = MaxPooling2D(pool_size=(3, 3))(x)\n",
    "\t\tx = Dropout(0.25)(x)\n",
    "\n",
    "\t\t# CONV => RELU => POOL\n",
    "\t\tx = Conv2D(32, (3, 3), padding=\"same\")(x)\n",
    "\t\tx = Activation(\"relu\")(x)\n",
    "\t\tx = BatchNormalization(axis=chanDim)(x)\n",
    "\t\tx = MaxPooling2D(pool_size=(2, 2))(x)\n",
    "\t\tx = Dropout(0.25)(x)\n",
    "\n",
    "\t\t# CONV => RELU => POOL\n",
    "\t\tx = Conv2D(32, (3, 3), padding=\"same\")(x)\n",
    "\t\tx = Activation(\"relu\")(x)\n",
    "\t\tx = BatchNormalization(axis=chanDim)(x)\n",
    "\t\tx = MaxPooling2D(pool_size=(2, 2))(x)\n",
    "\t\tx = Dropout(0.25)(x)\n",
    "\n",
    "\t\t# define a branch of output layers for the number of different\n",
    "\t\t# colors (i.e., red, black, blue, etc.)\n",
    "\t\tx = Flatten()(x)\n",
    "\t\tx = Dense(128)(x)\n",
    "\t\tx = Activation(\"relu\")(x)\n",
    "\t\tx = BatchNormalization()(x)\n",
    "\t\tx = Dropout(0.5)(x)\n",
    "\t\tx = Dense(numColors)(x)\n",
    "\t\tx = Activation(finalAct, name=\"color_output\")(x)\n",
    "\n",
    "\t\t# return the color prediction sub-network\n",
    "\t\treturn x\n",
    "\n",
    "\t@staticmethod\n",
    "\tdef build(width, height, numCategories, numColors,\n",
    "\t\tfinalAct=\"softmax\"):\n",
    "\t\t# initialize the input shape and channel dimension (this code\n",
    "\t\t# assumes you are using TensorFlow which utilizes channels\n",
    "\t\t# last ordering)\n",
    "\t\tinputShape = (height, width, 3)\n",
    "\t\tchanDim = -1\n",
    "\n",
    "\t\t# construct both the \"category\" and \"color\" sub-networks\n",
    "\t\tinputs = Input(shape=inputShape)\n",
    "\t\tcategoryBranch = FashionNet.build_category_branch(inputs,numCategories, finalAct=finalAct, chanDim=chanDim)\n",
    "\t\tcolorBranch = FashionNet.build_color_branch(inputs,numColors, finalAct=finalAct, chanDim=chanDim)\n",
    "\n",
    "\t\t# create the model using our input (the batch of images) and\n",
    "\t\t# two separate outputs -- one for the clothing category\n",
    "\t\t# branch and another for the color branch, respectively\n",
    "\t\tmodel = Model(inputs=inputs,outputs=[categoryBranch, colorBranch],name=\"fashionnet\")\n",
    "\n",
    "\t\t# return the constructed network architecture\n",
    "\t\treturn model"
   ]
  },
  {
   "cell_type": "code",
   "execution_count": null,
   "metadata": {
    "id": "Y3ZmzFfqGpot"
   },
   "outputs": [],
   "source": [
    "# initialize the number of epochs to train for, initial learning rate,\n",
    "# batch size, and image dimensions\n",
    "EPOCHS = 50\n",
    "INIT_LR = 1e-3\n",
    "BS = 20 #64, reduce batch_size for small GPU memory\n",
    "IMAGE_DIMS = (96, 96, 3)"
   ]
  },
  {
   "cell_type": "code",
   "execution_count": null,
   "metadata": {
    "colab": {
     "base_uri": "https://localhost:8080/"
    },
    "id": "PIBqkZZcGpou",
    "outputId": "112d4551-7dd1-4149-9b52-3fa7bcfe02e7"
   },
   "outputs": [
    {
     "name": "stdout",
     "output_type": "stream",
     "text": [
      "--2020-12-12 22:45:25--  https://f.mjh.nz/gdrivedl\n",
      "Resolving f.mjh.nz (f.mjh.nz)... 172.67.162.157, 104.28.30.233, 104.28.31.233, ...\n",
      "Connecting to f.mjh.nz (f.mjh.nz)|172.67.162.157|:443... connected.\n",
      "HTTP request sent, awaiting response... 200 OK\n",
      "Length: 1362 (1.3K) [application/octet-stream]\n",
      "Saving to: ‘gdrivedl’\n",
      "\n",
      "gdrivedl            100%[===================>]   1.33K  --.-KB/s    in 0s      \n",
      "\n",
      "2020-12-12 22:45:25 (24.0 MB/s) - ‘gdrivedl’ saved [1362/1362]\n",
      "\n",
      "total 525136\n",
      "-rw-r--r-- 1 root root 537507216 Dec 12 22:43 dataset_multi_output_classification.zip\n",
      "-rw-r--r-- 1 root root    215802 Dec 12 22:43 examples_multi_output_classification.zip\n",
      "-rw-r--r-- 1 root root      1362 Jan 29  2019 gdrivedl\n",
      "drwxr-xr-x 1 root root      4096 Dec  2 22:04 sample_data\n",
      "/content\n",
      "File ID: 1qAkuWIxXwdrUwUfFwUw_jwFSxeca1MRT\n",
      "Downloading: https://docs.google.com/uc?export=download&id=1qAkuWIxXwdrUwUfFwUw_jwFSxeca1MRT > .168.file\n",
      "Downloading: https://docs.google.com/uc?export=download&id=1qAkuWIxXwdrUwUfFwUw_jwFSxeca1MRT&confirm=2PN7 > .168.file\n",
      "Moving: .168.file > dataset_multi_output_classification.zip\n",
      "Saved: dataset_multi_output_classification.zip\n",
      "DONE!\n",
      "File ID: 1XKFjSEQ9yeiUiDQdqlbknHIuKfDXbX2P\n",
      "Downloading: https://docs.google.com/uc?export=download&id=1XKFjSEQ9yeiUiDQdqlbknHIuKfDXbX2P > .186.file\n",
      "Moving: .186.file > examples_multi_output_classification.zip\n",
      "Saved: examples_multi_output_classification.zip\n",
      "DONE!\n",
      "total 525136\n",
      "-rw-r--r-- 1 root root 537507216 Dec 12 22:45 dataset_multi_output_classification.zip\n",
      "-rw-r--r-- 1 root root    215802 Dec 12 22:45 examples_multi_output_classification.zip\n",
      "-rw-r--r-- 1 root root      1362 Jan 29  2019 gdrivedl\n",
      "drwxr-xr-x 1 root root      4096 Dec  2 22:04 sample_data\n"
     ]
    }
   ],
   "source": [
    "# +Add data before loading\n",
    "\n",
    "!wget -O gdrivedl 'https://f.mjh.nz/gdrivedl'\n",
    "!ls -l\n",
    "!pwd\n",
    "\n",
    "\"\"\"\n",
    "!bash /kaggle/working/gdrivedl https://drive.google.com/file/d/1qAkuWIxXwdrUwUfFwUw_jwFSxeca1MRT/view?usp=sharing\n",
    "!bash /kaggle/working/gdrivedl https://drive.google.com/file/d/1XKFjSEQ9yeiUiDQdqlbknHIuKfDXbX2P/view?usp=sharing\n",
    "!ls -l /kaggle/working\n",
    "inputdir = \"/kaggle/working\"\n",
    "\"\"\"\n",
    "\n",
    "!bash /content/gdrivedl https://drive.google.com/file/d/1qAkuWIxXwdrUwUfFwUw_jwFSxeca1MRT/view?usp=sharing\n",
    "!bash /content/gdrivedl https://drive.google.com/file/d/1XKFjSEQ9yeiUiDQdqlbknHIuKfDXbX2P/view?usp=sharing\n",
    "!ls -l /content\n",
    "inputdir = \"/content\""
   ]
  },
  {
   "cell_type": "code",
   "execution_count": null,
   "metadata": {
    "colab": {
     "base_uri": "https://localhost:8080/"
    },
    "id": "gOsvDUOtGpou",
    "outputId": "00d61769-e667-43a7-c59f-c4218eaac979"
   },
   "outputs": [
    {
     "name": "stdout",
     "output_type": "stream",
     "text": [
      "[INFO] loading images...\n"
     ]
    }
   ],
   "source": [
    "# grab the image paths and randomly shuffle them\n",
    "print(\"[INFO] loading images...\")\n",
    "#imagePaths = sorted(list(paths.list_images('dataset_multi_output_classification')))\n",
    "imagefilename = os.path.join(inputdir, 'dataset_multi_output_classification.zip')\n",
    "import zipfile\n",
    "zf = zipfile.ZipFile(imagefilename)\n",
    "random.seed(42)\n",
    "imagePaths = zf.namelist()\n",
    "random.shuffle(imagePaths)"
   ]
  },
  {
   "cell_type": "code",
   "execution_count": null,
   "metadata": {
    "id": "qnqIWHdYGpou"
   },
   "outputs": [],
   "source": [
    "# initialize the data, clothing category labels (i.e., shirts, jeans,\n",
    "# dresses, etc.) along with the color labels (i.e., red, blue, etc.)\n",
    "data = []\n",
    "categoryLabels = []\n",
    "colorLabels = []"
   ]
  },
  {
   "cell_type": "code",
   "execution_count": null,
   "metadata": {
    "id": "ghA6axwDGpov"
   },
   "outputs": [],
   "source": [
    "# loop over the input images\n",
    "for imagePath in imagePaths:\n",
    "\t# load the image, pre-process it, and store it in the data list\n",
    "\t#image = cv2.imread(imagePath)\n",
    "\timage = cv2.imdecode(np.frombuffer(zf.read(imagePath), np.uint8), 1)\n",
    "\timage = cv2.resize(image, (IMAGE_DIMS[1], IMAGE_DIMS[0]))\n",
    "\timage = cv2.cvtColor(image, cv2.COLOR_BGR2RGB)\n",
    "\timage = img_to_array(image)\n",
    "\tdata.append(image)\n",
    "\n",
    "\t# extract the clothing color and category from the path and\n",
    "\t# update the respective lists\n",
    "\t#(color, cat) = imagePath.split(os.path.sep)[-2].split(\"_\")\n",
    "\t(color, cat) = imagePath.split('/')[0].split(\"_\")\n",
    "\t#print(imagePath, color, cat)\n",
    "\tcategoryLabels.append(cat)\n",
    "\tcolorLabels.append(color)"
   ]
  },
  {
   "cell_type": "code",
   "execution_count": null,
   "metadata": {
    "colab": {
     "base_uri": "https://localhost:8080/"
    },
    "id": "f9AZ0eYUGpov",
    "outputId": "ac294040-cf40-46d4-82f7-38e9337cf159"
   },
   "outputs": [
    {
     "name": "stdout",
     "output_type": "stream",
     "text": [
      "2525\n",
      "2525\n"
     ]
    }
   ],
   "source": [
    "print(len(categoryLabels))\n",
    "print(len(colorLabels))"
   ]
  },
  {
   "cell_type": "code",
   "execution_count": null,
   "metadata": {
    "colab": {
     "base_uri": "https://localhost:8080/"
    },
    "id": "fhJTEpNfGpov",
    "outputId": "c35aaf27-88e1-48f7-f6f1-2931d4897465"
   },
   "outputs": [
    {
     "name": "stdout",
     "output_type": "stream",
     "text": [
      "[INFO] data matrix: 2525 images (545.40MB)\n"
     ]
    }
   ],
   "source": [
    "# scale the raw pixel intensities to the range [0, 1] and convert to\n",
    "# a NumPy array\n",
    "data = np.array(data, dtype=\"float\") / 255.0\n",
    "print(\"[INFO] data matrix: {} images ({:.2f}MB)\".format(len(imagePaths), data.nbytes / (1024 * 1000.0)))"
   ]
  },
  {
   "cell_type": "code",
   "execution_count": null,
   "metadata": {
    "id": "_k_6Qk1nGpow"
   },
   "outputs": [],
   "source": [
    "# convert the label lists to NumPy arrays prior to binarization\n",
    "categoryLabels = np.array(categoryLabels)\n",
    "colorLabels = np.array(colorLabels)"
   ]
  },
  {
   "cell_type": "code",
   "execution_count": null,
   "metadata": {
    "colab": {
     "base_uri": "https://localhost:8080/"
    },
    "id": "H4rC8VSWGpow",
    "outputId": "7fe88b8d-1170-480a-86da-641d65df2f2d"
   },
   "outputs": [
    {
     "name": "stdout",
     "output_type": "stream",
     "text": [
      "2525\n",
      "2525\n"
     ]
    }
   ],
   "source": [
    "print(len(categoryLabels))\n",
    "print(len(colorLabels))"
   ]
  },
  {
   "cell_type": "code",
   "execution_count": null,
   "metadata": {
    "colab": {
     "base_uri": "https://localhost:8080/"
    },
    "id": "CeMQR5YtGpow",
    "outputId": "b09d2ce6-1e93-4c0a-f0c4-0784a3a7b531"
   },
   "outputs": [
    {
     "name": "stdout",
     "output_type": "stream",
     "text": [
      "[INFO] binarizing labels...\n"
     ]
    }
   ],
   "source": [
    "# binarize both sets of labels\n",
    "print(\"[INFO] binarizing labels...\")\n",
    "categoryLB = LabelBinarizer()\n",
    "colorLB = LabelBinarizer()\n",
    "categoryLabels = categoryLB.fit_transform(categoryLabels)\n",
    "colorLabels = colorLB.fit_transform(colorLabels)"
   ]
  },
  {
   "cell_type": "code",
   "execution_count": null,
   "metadata": {
    "colab": {
     "base_uri": "https://localhost:8080/"
    },
    "id": "UnrX8RqfGpow",
    "outputId": "d2f528da-4999-42af-a893-545e6fac3ce5"
   },
   "outputs": [
    {
     "name": "stdout",
     "output_type": "stream",
     "text": [
      "2525\n",
      "2525\n"
     ]
    }
   ],
   "source": [
    "print(len(categoryLabels))\n",
    "print(len(colorLabels))"
   ]
  },
  {
   "cell_type": "code",
   "execution_count": null,
   "metadata": {
    "id": "a9_odxCnGpow"
   },
   "outputs": [],
   "source": [
    "# partition the data into training and testing splits using 80% of\n",
    "# the data for training and the remaining 20% for testing\n",
    "split = train_test_split(data, categoryLabels, colorLabels,test_size=0.2, random_state=42)\n",
    "(trainX, testX, trainCategoryY, testCategoryY,trainColorY, testColorY) = split"
   ]
  },
  {
   "cell_type": "code",
   "execution_count": null,
   "metadata": {
    "id": "3nhBvknNGpox"
   },
   "outputs": [],
   "source": [
    "# initialize our FashionNet multi-output network\n",
    "model = FashionNet.build(96, 96,numCategories=len(categoryLB.classes_),numColors=len(colorLB.classes_),finalAct=\"softmax\")"
   ]
  },
  {
   "cell_type": "code",
   "execution_count": null,
   "metadata": {
    "id": "WYvSfaQdGpox"
   },
   "outputs": [],
   "source": [
    "# define two dictionaries: one that specifies the loss method for\n",
    "# each output of the network along with a second dictionary that\n",
    "# specifies the weight per loss\n",
    "losses = {\"category_output\": \"categorical_crossentropy\",\"color_output\": \"categorical_crossentropy\",}\n",
    "lossWeights = {\"category_output\": 1.0, \"color_output\": 1.0}"
   ]
  },
  {
   "cell_type": "code",
   "execution_count": null,
   "metadata": {
    "colab": {
     "base_uri": "https://localhost:8080/"
    },
    "id": "TGc6oVS5Gpox",
    "outputId": "326418e5-9726-408b-fbb7-29f194274167"
   },
   "outputs": [
    {
     "name": "stdout",
     "output_type": "stream",
     "text": [
      "[INFO] compiling model...\n"
     ]
    }
   ],
   "source": [
    "# initialize the optimizer and compile the model\n",
    "print(\"[INFO] compiling model...\")\n",
    "opt = Adam(lr=INIT_LR, decay=INIT_LR / EPOCHS)\n",
    "model.compile(optimizer=opt, loss=losses, loss_weights=lossWeights,metrics=[\"accuracy\"])"
   ]
  },
  {
   "cell_type": "code",
   "execution_count": null,
   "metadata": {
    "colab": {
     "base_uri": "https://localhost:8080/"
    },
    "id": "RyqX_2DDGpox",
    "outputId": "07184879-180a-41cb-e174-0ffc5890f0e9"
   },
   "outputs": [
    {
     "name": "stdout",
     "output_type": "stream",
     "text": [
      "Model: \"fashionnet\"\n",
      "__________________________________________________________________________________________________\n",
      "Layer (type)                    Output Shape         Param #     Connected to                     \n",
      "==================================================================================================\n",
      "input_1 (InputLayer)            [(None, 96, 96, 3)]  0                                            \n",
      "__________________________________________________________________________________________________\n",
      "lambda (Lambda)                 (None, 96, 96, 1)    0           input_1[0][0]                    \n",
      "__________________________________________________________________________________________________\n",
      "conv2d (Conv2D)                 (None, 96, 96, 32)   320         lambda[0][0]                     \n",
      "__________________________________________________________________________________________________\n",
      "activation (Activation)         (None, 96, 96, 32)   0           conv2d[0][0]                     \n",
      "__________________________________________________________________________________________________\n",
      "batch_normalization (BatchNorma (None, 96, 96, 32)   128         activation[0][0]                 \n",
      "__________________________________________________________________________________________________\n",
      "max_pooling2d (MaxPooling2D)    (None, 32, 32, 32)   0           batch_normalization[0][0]        \n",
      "__________________________________________________________________________________________________\n",
      "dropout (Dropout)               (None, 32, 32, 32)   0           max_pooling2d[0][0]              \n",
      "__________________________________________________________________________________________________\n",
      "conv2d_1 (Conv2D)               (None, 32, 32, 64)   18496       dropout[0][0]                    \n",
      "__________________________________________________________________________________________________\n",
      "activation_1 (Activation)       (None, 32, 32, 64)   0           conv2d_1[0][0]                   \n",
      "__________________________________________________________________________________________________\n",
      "conv2d_5 (Conv2D)               (None, 96, 96, 16)   448         input_1[0][0]                    \n",
      "__________________________________________________________________________________________________\n",
      "batch_normalization_1 (BatchNor (None, 32, 32, 64)   256         activation_1[0][0]               \n",
      "__________________________________________________________________________________________________\n",
      "activation_6 (Activation)       (None, 96, 96, 16)   0           conv2d_5[0][0]                   \n",
      "__________________________________________________________________________________________________\n",
      "conv2d_2 (Conv2D)               (None, 32, 32, 64)   36928       batch_normalization_1[0][0]      \n",
      "__________________________________________________________________________________________________\n",
      "batch_normalization_6 (BatchNor (None, 96, 96, 16)   64          activation_6[0][0]               \n",
      "__________________________________________________________________________________________________\n",
      "activation_2 (Activation)       (None, 32, 32, 64)   0           conv2d_2[0][0]                   \n",
      "__________________________________________________________________________________________________\n",
      "max_pooling2d_3 (MaxPooling2D)  (None, 32, 32, 16)   0           batch_normalization_6[0][0]      \n",
      "__________________________________________________________________________________________________\n",
      "batch_normalization_2 (BatchNor (None, 32, 32, 64)   256         activation_2[0][0]               \n",
      "__________________________________________________________________________________________________\n",
      "dropout_4 (Dropout)             (None, 32, 32, 16)   0           max_pooling2d_3[0][0]            \n",
      "__________________________________________________________________________________________________\n",
      "max_pooling2d_1 (MaxPooling2D)  (None, 16, 16, 64)   0           batch_normalization_2[0][0]      \n",
      "__________________________________________________________________________________________________\n",
      "conv2d_6 (Conv2D)               (None, 32, 32, 32)   4640        dropout_4[0][0]                  \n",
      "__________________________________________________________________________________________________\n",
      "dropout_1 (Dropout)             (None, 16, 16, 64)   0           max_pooling2d_1[0][0]            \n",
      "__________________________________________________________________________________________________\n",
      "activation_7 (Activation)       (None, 32, 32, 32)   0           conv2d_6[0][0]                   \n",
      "__________________________________________________________________________________________________\n",
      "conv2d_3 (Conv2D)               (None, 16, 16, 128)  73856       dropout_1[0][0]                  \n",
      "__________________________________________________________________________________________________\n",
      "batch_normalization_7 (BatchNor (None, 32, 32, 32)   128         activation_7[0][0]               \n",
      "__________________________________________________________________________________________________\n",
      "activation_3 (Activation)       (None, 16, 16, 128)  0           conv2d_3[0][0]                   \n",
      "__________________________________________________________________________________________________\n",
      "max_pooling2d_4 (MaxPooling2D)  (None, 16, 16, 32)   0           batch_normalization_7[0][0]      \n",
      "__________________________________________________________________________________________________\n",
      "batch_normalization_3 (BatchNor (None, 16, 16, 128)  512         activation_3[0][0]               \n",
      "__________________________________________________________________________________________________\n",
      "dropout_5 (Dropout)             (None, 16, 16, 32)   0           max_pooling2d_4[0][0]            \n",
      "__________________________________________________________________________________________________\n",
      "conv2d_4 (Conv2D)               (None, 16, 16, 128)  147584      batch_normalization_3[0][0]      \n",
      "__________________________________________________________________________________________________\n",
      "conv2d_7 (Conv2D)               (None, 16, 16, 32)   9248        dropout_5[0][0]                  \n",
      "__________________________________________________________________________________________________\n",
      "activation_4 (Activation)       (None, 16, 16, 128)  0           conv2d_4[0][0]                   \n",
      "__________________________________________________________________________________________________\n",
      "activation_8 (Activation)       (None, 16, 16, 32)   0           conv2d_7[0][0]                   \n",
      "__________________________________________________________________________________________________\n",
      "batch_normalization_4 (BatchNor (None, 16, 16, 128)  512         activation_4[0][0]               \n",
      "__________________________________________________________________________________________________\n",
      "batch_normalization_8 (BatchNor (None, 16, 16, 32)   128         activation_8[0][0]               \n",
      "__________________________________________________________________________________________________\n",
      "max_pooling2d_2 (MaxPooling2D)  (None, 8, 8, 128)    0           batch_normalization_4[0][0]      \n",
      "__________________________________________________________________________________________________\n",
      "max_pooling2d_5 (MaxPooling2D)  (None, 8, 8, 32)     0           batch_normalization_8[0][0]      \n",
      "__________________________________________________________________________________________________\n",
      "dropout_2 (Dropout)             (None, 8, 8, 128)    0           max_pooling2d_2[0][0]            \n",
      "__________________________________________________________________________________________________\n",
      "dropout_6 (Dropout)             (None, 8, 8, 32)     0           max_pooling2d_5[0][0]            \n",
      "__________________________________________________________________________________________________\n",
      "flatten (Flatten)               (None, 8192)         0           dropout_2[0][0]                  \n",
      "__________________________________________________________________________________________________\n",
      "flatten_1 (Flatten)             (None, 2048)         0           dropout_6[0][0]                  \n",
      "__________________________________________________________________________________________________\n",
      "dense (Dense)                   (None, 256)          2097408     flatten[0][0]                    \n",
      "__________________________________________________________________________________________________\n",
      "dense_2 (Dense)                 (None, 128)          262272      flatten_1[0][0]                  \n",
      "__________________________________________________________________________________________________\n",
      "activation_5 (Activation)       (None, 256)          0           dense[0][0]                      \n",
      "__________________________________________________________________________________________________\n",
      "activation_9 (Activation)       (None, 128)          0           dense_2[0][0]                    \n",
      "__________________________________________________________________________________________________\n",
      "batch_normalization_5 (BatchNor (None, 256)          1024        activation_5[0][0]               \n",
      "__________________________________________________________________________________________________\n",
      "batch_normalization_9 (BatchNor (None, 128)          512         activation_9[0][0]               \n",
      "__________________________________________________________________________________________________\n",
      "dropout_3 (Dropout)             (None, 256)          0           batch_normalization_5[0][0]      \n",
      "__________________________________________________________________________________________________\n",
      "dropout_7 (Dropout)             (None, 128)          0           batch_normalization_9[0][0]      \n",
      "__________________________________________________________________________________________________\n",
      "dense_1 (Dense)                 (None, 4)            1028        dropout_3[0][0]                  \n",
      "__________________________________________________________________________________________________\n",
      "dense_3 (Dense)                 (None, 3)            387         dropout_7[0][0]                  \n",
      "__________________________________________________________________________________________________\n",
      "category_output (Activation)    (None, 4)            0           dense_1[0][0]                    \n",
      "__________________________________________________________________________________________________\n",
      "color_output (Activation)       (None, 3)            0           dense_3[0][0]                    \n",
      "==================================================================================================\n",
      "Total params: 2,656,135\n",
      "Trainable params: 2,654,375\n",
      "Non-trainable params: 1,760\n",
      "__________________________________________________________________________________________________\n"
     ]
    }
   ],
   "source": [
    "model.summary()"
   ]
  },
  {
   "cell_type": "code",
   "execution_count": null,
   "metadata": {
    "colab": {
     "base_uri": "https://localhost:8080/"
    },
    "id": "gsUu2sEyGpoy",
    "outputId": "acb8011f-4279-4597-d27f-e041bc5c77fe"
   },
   "outputs": [
    {
     "name": "stdout",
     "output_type": "stream",
     "text": [
      "Epoch 1/50\n",
      "101/101 [==============================] - 2s 20ms/step - loss: 0.9016 - category_output_loss: 0.5961 - color_output_loss: 0.3055 - category_output_accuracy: 0.8228 - color_output_accuracy: 0.8896 - val_loss: 3.8105 - val_category_output_loss: 1.5763 - val_color_output_loss: 2.2343 - val_category_output_accuracy: 0.2871 - val_color_output_accuracy: 0.4733\n",
      "Epoch 2/50\n",
      "101/101 [==============================] - 2s 16ms/step - loss: 0.5900 - category_output_loss: 0.4367 - color_output_loss: 0.1533 - category_output_accuracy: 0.8554 - color_output_accuracy: 0.9520 - val_loss: 3.6323 - val_category_output_loss: 1.1389 - val_color_output_loss: 2.4934 - val_category_output_accuracy: 0.6376 - val_color_output_accuracy: 0.6297\n",
      "Epoch 3/50\n",
      "101/101 [==============================] - 2s 15ms/step - loss: 0.4091 - category_output_loss: 0.3200 - color_output_loss: 0.0891 - category_output_accuracy: 0.8965 - color_output_accuracy: 0.9713 - val_loss: 4.2009 - val_category_output_loss: 1.5632 - val_color_output_loss: 2.6377 - val_category_output_accuracy: 0.4020 - val_color_output_accuracy: 0.6099\n",
      "Epoch 4/50\n",
      "101/101 [==============================] - 2s 15ms/step - loss: 0.3755 - category_output_loss: 0.2759 - color_output_loss: 0.0996 - category_output_accuracy: 0.9114 - color_output_accuracy: 0.9658 - val_loss: 3.0185 - val_category_output_loss: 0.3763 - val_color_output_loss: 2.6422 - val_category_output_accuracy: 0.8752 - val_color_output_accuracy: 0.6198\n",
      "Epoch 5/50\n",
      "101/101 [==============================] - 2s 15ms/step - loss: 0.3340 - category_output_loss: 0.2433 - color_output_loss: 0.0907 - category_output_accuracy: 0.9149 - color_output_accuracy: 0.9678 - val_loss: 0.8332 - val_category_output_loss: 0.2341 - val_color_output_loss: 0.5991 - val_category_output_accuracy: 0.9248 - val_color_output_accuracy: 0.8158\n",
      "Epoch 6/50\n",
      "101/101 [==============================] - 2s 15ms/step - loss: 0.1947 - category_output_loss: 0.1522 - color_output_loss: 0.0425 - category_output_accuracy: 0.9470 - color_output_accuracy: 0.9832 - val_loss: 0.4500 - val_category_output_loss: 0.1653 - val_color_output_loss: 0.2847 - val_category_output_accuracy: 0.9406 - val_color_output_accuracy: 0.9010\n",
      "Epoch 7/50\n",
      "101/101 [==============================] - 1s 15ms/step - loss: 0.2251 - category_output_loss: 0.1763 - color_output_loss: 0.0488 - category_output_accuracy: 0.9421 - color_output_accuracy: 0.9837 - val_loss: 0.3344 - val_category_output_loss: 0.1135 - val_color_output_loss: 0.2209 - val_category_output_accuracy: 0.9604 - val_color_output_accuracy: 0.9129\n",
      "Epoch 8/50\n",
      "101/101 [==============================] - 1s 15ms/step - loss: 0.2285 - category_output_loss: 0.1565 - color_output_loss: 0.0721 - category_output_accuracy: 0.9455 - color_output_accuracy: 0.9772 - val_loss: 0.1989 - val_category_output_loss: 0.1557 - val_color_output_loss: 0.0431 - val_category_output_accuracy: 0.9525 - val_color_output_accuracy: 0.9901\n",
      "Epoch 9/50\n",
      "101/101 [==============================] - 2s 15ms/step - loss: 0.1586 - category_output_loss: 0.1103 - color_output_loss: 0.0483 - category_output_accuracy: 0.9624 - color_output_accuracy: 0.9822 - val_loss: 0.2045 - val_category_output_loss: 0.1431 - val_color_output_loss: 0.0614 - val_category_output_accuracy: 0.9584 - val_color_output_accuracy: 0.9842\n",
      "Epoch 10/50\n",
      "101/101 [==============================] - 2s 16ms/step - loss: 0.1563 - category_output_loss: 0.0940 - color_output_loss: 0.0623 - category_output_accuracy: 0.9663 - color_output_accuracy: 0.9817 - val_loss: 0.5360 - val_category_output_loss: 0.2544 - val_color_output_loss: 0.2816 - val_category_output_accuracy: 0.9267 - val_color_output_accuracy: 0.9069\n",
      "Epoch 11/50\n",
      "101/101 [==============================] - 2s 15ms/step - loss: 0.1627 - category_output_loss: 0.1152 - color_output_loss: 0.0475 - category_output_accuracy: 0.9594 - color_output_accuracy: 0.9807 - val_loss: 0.4250 - val_category_output_loss: 0.1783 - val_color_output_loss: 0.2466 - val_category_output_accuracy: 0.9525 - val_color_output_accuracy: 0.9366\n",
      "Epoch 12/50\n",
      "101/101 [==============================] - 2s 15ms/step - loss: 0.1602 - category_output_loss: 0.1168 - color_output_loss: 0.0433 - category_output_accuracy: 0.9579 - color_output_accuracy: 0.9832 - val_loss: 0.2753 - val_category_output_loss: 0.1784 - val_color_output_loss: 0.0969 - val_category_output_accuracy: 0.9465 - val_color_output_accuracy: 0.9624\n",
      "Epoch 13/50\n",
      "101/101 [==============================] - 2s 15ms/step - loss: 0.1685 - category_output_loss: 0.0847 - color_output_loss: 0.0838 - category_output_accuracy: 0.9708 - color_output_accuracy: 0.9743 - val_loss: 0.1843 - val_category_output_loss: 0.1488 - val_color_output_loss: 0.0355 - val_category_output_accuracy: 0.9604 - val_color_output_accuracy: 0.9861\n",
      "Epoch 14/50\n",
      "101/101 [==============================] - 2s 15ms/step - loss: 0.1814 - category_output_loss: 0.1068 - color_output_loss: 0.0746 - category_output_accuracy: 0.9629 - color_output_accuracy: 0.9733 - val_loss: 0.5298 - val_category_output_loss: 0.1818 - val_color_output_loss: 0.3480 - val_category_output_accuracy: 0.9406 - val_color_output_accuracy: 0.9069\n",
      "Epoch 15/50\n",
      "101/101 [==============================] - 2s 15ms/step - loss: 0.1587 - category_output_loss: 0.0732 - color_output_loss: 0.0855 - category_output_accuracy: 0.9762 - color_output_accuracy: 0.9718 - val_loss: 0.3239 - val_category_output_loss: 0.1726 - val_color_output_loss: 0.1513 - val_category_output_accuracy: 0.9525 - val_color_output_accuracy: 0.9525\n",
      "Epoch 16/50\n",
      "101/101 [==============================] - 2s 15ms/step - loss: 0.1104 - category_output_loss: 0.0594 - color_output_loss: 0.0511 - category_output_accuracy: 0.9787 - color_output_accuracy: 0.9802 - val_loss: 0.3946 - val_category_output_loss: 0.1560 - val_color_output_loss: 0.2385 - val_category_output_accuracy: 0.9485 - val_color_output_accuracy: 0.9010\n",
      "Epoch 17/50\n",
      "101/101 [==============================] - 2s 15ms/step - loss: 0.0939 - category_output_loss: 0.0551 - color_output_loss: 0.0388 - category_output_accuracy: 0.9802 - color_output_accuracy: 0.9861 - val_loss: 0.3668 - val_category_output_loss: 0.1321 - val_color_output_loss: 0.2347 - val_category_output_accuracy: 0.9545 - val_color_output_accuracy: 0.9089\n",
      "Epoch 18/50\n",
      "101/101 [==============================] - 2s 15ms/step - loss: 0.1007 - category_output_loss: 0.0635 - color_output_loss: 0.0372 - category_output_accuracy: 0.9782 - color_output_accuracy: 0.9881 - val_loss: 0.2500 - val_category_output_loss: 0.1582 - val_color_output_loss: 0.0918 - val_category_output_accuracy: 0.9604 - val_color_output_accuracy: 0.9703\n",
      "Epoch 19/50\n",
      "101/101 [==============================] - 2s 15ms/step - loss: 0.0941 - category_output_loss: 0.0440 - color_output_loss: 0.0501 - category_output_accuracy: 0.9817 - color_output_accuracy: 0.9847 - val_loss: 0.3558 - val_category_output_loss: 0.1370 - val_color_output_loss: 0.2188 - val_category_output_accuracy: 0.9485 - val_color_output_accuracy: 0.9366\n",
      "Epoch 20/50\n",
      "101/101 [==============================] - 2s 15ms/step - loss: 0.0821 - category_output_loss: 0.0382 - color_output_loss: 0.0439 - category_output_accuracy: 0.9871 - color_output_accuracy: 0.9886 - val_loss: 0.2902 - val_category_output_loss: 0.1704 - val_color_output_loss: 0.1199 - val_category_output_accuracy: 0.9545 - val_color_output_accuracy: 0.9426\n",
      "Epoch 21/50\n",
      "101/101 [==============================] - 2s 15ms/step - loss: 0.0959 - category_output_loss: 0.0630 - color_output_loss: 0.0329 - category_output_accuracy: 0.9767 - color_output_accuracy: 0.9896 - val_loss: 0.2253 - val_category_output_loss: 0.1803 - val_color_output_loss: 0.0450 - val_category_output_accuracy: 0.9545 - val_color_output_accuracy: 0.9861\n",
      "Epoch 22/50\n",
      "101/101 [==============================] - 2s 16ms/step - loss: 0.1047 - category_output_loss: 0.0560 - color_output_loss: 0.0487 - category_output_accuracy: 0.9832 - color_output_accuracy: 0.9827 - val_loss: 0.2379 - val_category_output_loss: 0.1226 - val_color_output_loss: 0.1153 - val_category_output_accuracy: 0.9683 - val_color_output_accuracy: 0.9564\n",
      "Epoch 23/50\n",
      "101/101 [==============================] - 2s 15ms/step - loss: 0.0988 - category_output_loss: 0.0483 - color_output_loss: 0.0505 - category_output_accuracy: 0.9827 - color_output_accuracy: 0.9842 - val_loss: 0.1629 - val_category_output_loss: 0.1263 - val_color_output_loss: 0.0366 - val_category_output_accuracy: 0.9584 - val_color_output_accuracy: 0.9921\n",
      "Epoch 24/50\n",
      "101/101 [==============================] - 2s 15ms/step - loss: 0.0662 - category_output_loss: 0.0287 - color_output_loss: 0.0375 - category_output_accuracy: 0.9906 - color_output_accuracy: 0.9891 - val_loss: 0.1978 - val_category_output_loss: 0.1609 - val_color_output_loss: 0.0369 - val_category_output_accuracy: 0.9485 - val_color_output_accuracy: 0.9881\n",
      "Epoch 25/50\n",
      "101/101 [==============================] - 2s 16ms/step - loss: 0.0559 - category_output_loss: 0.0276 - color_output_loss: 0.0283 - category_output_accuracy: 0.9911 - color_output_accuracy: 0.9911 - val_loss: 0.2289 - val_category_output_loss: 0.1598 - val_color_output_loss: 0.0691 - val_category_output_accuracy: 0.9505 - val_color_output_accuracy: 0.9782\n",
      "Epoch 26/50\n",
      "101/101 [==============================] - 2s 15ms/step - loss: 0.0479 - category_output_loss: 0.0211 - color_output_loss: 0.0268 - category_output_accuracy: 0.9916 - color_output_accuracy: 0.9906 - val_loss: 0.1975 - val_category_output_loss: 0.1770 - val_color_output_loss: 0.0206 - val_category_output_accuracy: 0.9604 - val_color_output_accuracy: 0.9921\n",
      "Epoch 27/50\n",
      "101/101 [==============================] - 2s 15ms/step - loss: 0.0533 - category_output_loss: 0.0146 - color_output_loss: 0.0387 - category_output_accuracy: 0.9960 - color_output_accuracy: 0.9856 - val_loss: 0.2026 - val_category_output_loss: 0.1627 - val_color_output_loss: 0.0399 - val_category_output_accuracy: 0.9564 - val_color_output_accuracy: 0.9842\n",
      "Epoch 28/50\n",
      "101/101 [==============================] - 2s 15ms/step - loss: 0.0438 - category_output_loss: 0.0186 - color_output_loss: 0.0252 - category_output_accuracy: 0.9931 - color_output_accuracy: 0.9926 - val_loss: 0.2722 - val_category_output_loss: 0.2153 - val_color_output_loss: 0.0568 - val_category_output_accuracy: 0.9485 - val_color_output_accuracy: 0.9842\n",
      "Epoch 29/50\n",
      "101/101 [==============================] - 2s 15ms/step - loss: 0.0602 - category_output_loss: 0.0199 - color_output_loss: 0.0403 - category_output_accuracy: 0.9941 - color_output_accuracy: 0.9886 - val_loss: 0.3263 - val_category_output_loss: 0.2086 - val_color_output_loss: 0.1177 - val_category_output_accuracy: 0.9426 - val_color_output_accuracy: 0.9644\n",
      "Epoch 30/50\n",
      "101/101 [==============================] - 2s 15ms/step - loss: 0.0662 - category_output_loss: 0.0246 - color_output_loss: 0.0416 - category_output_accuracy: 0.9916 - color_output_accuracy: 0.9847 - val_loss: 0.3353 - val_category_output_loss: 0.2850 - val_color_output_loss: 0.0503 - val_category_output_accuracy: 0.9089 - val_color_output_accuracy: 0.9822\n",
      "Epoch 31/50\n",
      "101/101 [==============================] - 2s 15ms/step - loss: 0.0489 - category_output_loss: 0.0196 - color_output_loss: 0.0292 - category_output_accuracy: 0.9946 - color_output_accuracy: 0.9926 - val_loss: 0.2512 - val_category_output_loss: 0.2269 - val_color_output_loss: 0.0243 - val_category_output_accuracy: 0.9545 - val_color_output_accuracy: 0.9921\n",
      "Epoch 32/50\n",
      "101/101 [==============================] - 2s 16ms/step - loss: 0.0656 - category_output_loss: 0.0250 - color_output_loss: 0.0407 - category_output_accuracy: 0.9931 - color_output_accuracy: 0.9861 - val_loss: 0.2311 - val_category_output_loss: 0.2031 - val_color_output_loss: 0.0280 - val_category_output_accuracy: 0.9525 - val_color_output_accuracy: 0.9901\n",
      "Epoch 33/50\n",
      "101/101 [==============================] - 2s 16ms/step - loss: 0.0512 - category_output_loss: 0.0225 - color_output_loss: 0.0288 - category_output_accuracy: 0.9921 - color_output_accuracy: 0.9891 - val_loss: 0.1627 - val_category_output_loss: 0.1435 - val_color_output_loss: 0.0192 - val_category_output_accuracy: 0.9644 - val_color_output_accuracy: 0.9941\n",
      "Epoch 34/50\n",
      "101/101 [==============================] - 2s 15ms/step - loss: 0.0758 - category_output_loss: 0.0395 - color_output_loss: 0.0364 - category_output_accuracy: 0.9861 - color_output_accuracy: 0.9842 - val_loss: 0.1826 - val_category_output_loss: 0.1657 - val_color_output_loss: 0.0169 - val_category_output_accuracy: 0.9584 - val_color_output_accuracy: 0.9980\n",
      "Epoch 35/50\n",
      "101/101 [==============================] - 2s 16ms/step - loss: 0.0489 - category_output_loss: 0.0251 - color_output_loss: 0.0238 - category_output_accuracy: 0.9921 - color_output_accuracy: 0.9921 - val_loss: 0.6866 - val_category_output_loss: 0.6446 - val_color_output_loss: 0.0419 - val_category_output_accuracy: 0.8515 - val_color_output_accuracy: 0.9842\n",
      "Epoch 36/50\n",
      "101/101 [==============================] - 2s 15ms/step - loss: 0.0701 - category_output_loss: 0.0405 - color_output_loss: 0.0296 - category_output_accuracy: 0.9891 - color_output_accuracy: 0.9906 - val_loss: 0.2998 - val_category_output_loss: 0.2804 - val_color_output_loss: 0.0194 - val_category_output_accuracy: 0.9327 - val_color_output_accuracy: 0.9941\n",
      "Epoch 37/50\n",
      "101/101 [==============================] - 2s 15ms/step - loss: 0.0358 - category_output_loss: 0.0226 - color_output_loss: 0.0132 - category_output_accuracy: 0.9931 - color_output_accuracy: 0.9960 - val_loss: 0.1736 - val_category_output_loss: 0.1414 - val_color_output_loss: 0.0321 - val_category_output_accuracy: 0.9644 - val_color_output_accuracy: 0.9901\n",
      "Epoch 38/50\n",
      "101/101 [==============================] - 2s 16ms/step - loss: 0.0456 - category_output_loss: 0.0286 - color_output_loss: 0.0170 - category_output_accuracy: 0.9901 - color_output_accuracy: 0.9946 - val_loss: 0.5546 - val_category_output_loss: 0.5220 - val_color_output_loss: 0.0326 - val_category_output_accuracy: 0.8891 - val_color_output_accuracy: 0.9901\n",
      "Epoch 39/50\n",
      "101/101 [==============================] - 2s 15ms/step - loss: 0.0468 - category_output_loss: 0.0345 - color_output_loss: 0.0124 - category_output_accuracy: 0.9871 - color_output_accuracy: 0.9965 - val_loss: 0.1694 - val_category_output_loss: 0.1369 - val_color_output_loss: 0.0325 - val_category_output_accuracy: 0.9663 - val_color_output_accuracy: 0.9881\n",
      "Epoch 40/50\n",
      "101/101 [==============================] - 2s 15ms/step - loss: 0.0749 - category_output_loss: 0.0410 - color_output_loss: 0.0339 - category_output_accuracy: 0.9832 - color_output_accuracy: 0.9901 - val_loss: 0.2282 - val_category_output_loss: 0.1839 - val_color_output_loss: 0.0443 - val_category_output_accuracy: 0.9584 - val_color_output_accuracy: 0.9842\n",
      "Epoch 41/50\n",
      "101/101 [==============================] - 2s 15ms/step - loss: 0.0444 - category_output_loss: 0.0173 - color_output_loss: 0.0271 - category_output_accuracy: 0.9926 - color_output_accuracy: 0.9921 - val_loss: 0.2105 - val_category_output_loss: 0.1950 - val_color_output_loss: 0.0155 - val_category_output_accuracy: 0.9485 - val_color_output_accuracy: 0.9941\n",
      "Epoch 42/50\n",
      "101/101 [==============================] - 2s 15ms/step - loss: 0.0572 - category_output_loss: 0.0313 - color_output_loss: 0.0259 - category_output_accuracy: 0.9906 - color_output_accuracy: 0.9896 - val_loss: 0.2118 - val_category_output_loss: 0.1965 - val_color_output_loss: 0.0153 - val_category_output_accuracy: 0.9545 - val_color_output_accuracy: 0.9960\n",
      "Epoch 43/50\n",
      "101/101 [==============================] - 2s 16ms/step - loss: 0.0428 - category_output_loss: 0.0200 - color_output_loss: 0.0228 - category_output_accuracy: 0.9936 - color_output_accuracy: 0.9936 - val_loss: 0.1955 - val_category_output_loss: 0.1631 - val_color_output_loss: 0.0324 - val_category_output_accuracy: 0.9644 - val_color_output_accuracy: 0.9881\n",
      "Epoch 44/50\n",
      "101/101 [==============================] - 2s 15ms/step - loss: 0.0458 - category_output_loss: 0.0243 - color_output_loss: 0.0215 - category_output_accuracy: 0.9921 - color_output_accuracy: 0.9911 - val_loss: 0.1877 - val_category_output_loss: 0.1663 - val_color_output_loss: 0.0214 - val_category_output_accuracy: 0.9584 - val_color_output_accuracy: 0.9941\n",
      "Epoch 45/50\n",
      "101/101 [==============================] - 2s 15ms/step - loss: 0.0383 - category_output_loss: 0.0164 - color_output_loss: 0.0219 - category_output_accuracy: 0.9921 - color_output_accuracy: 0.9926 - val_loss: 0.1760 - val_category_output_loss: 0.1460 - val_color_output_loss: 0.0300 - val_category_output_accuracy: 0.9604 - val_color_output_accuracy: 0.9921\n",
      "Epoch 46/50\n",
      "101/101 [==============================] - 2s 16ms/step - loss: 0.0510 - category_output_loss: 0.0181 - color_output_loss: 0.0329 - category_output_accuracy: 0.9941 - color_output_accuracy: 0.9876 - val_loss: 0.2499 - val_category_output_loss: 0.2262 - val_color_output_loss: 0.0237 - val_category_output_accuracy: 0.9485 - val_color_output_accuracy: 0.9921\n",
      "Epoch 47/50\n",
      "101/101 [==============================] - 2s 15ms/step - loss: 0.0398 - category_output_loss: 0.0229 - color_output_loss: 0.0169 - category_output_accuracy: 0.9906 - color_output_accuracy: 0.9936 - val_loss: 0.2020 - val_category_output_loss: 0.1768 - val_color_output_loss: 0.0252 - val_category_output_accuracy: 0.9663 - val_color_output_accuracy: 0.9921\n",
      "Epoch 48/50\n",
      "101/101 [==============================] - 2s 15ms/step - loss: 0.0601 - category_output_loss: 0.0155 - color_output_loss: 0.0446 - category_output_accuracy: 0.9950 - color_output_accuracy: 0.9886 - val_loss: 0.2196 - val_category_output_loss: 0.1722 - val_color_output_loss: 0.0474 - val_category_output_accuracy: 0.9644 - val_color_output_accuracy: 0.9802\n",
      "Epoch 49/50\n",
      "101/101 [==============================] - 2s 15ms/step - loss: 0.0297 - category_output_loss: 0.0146 - color_output_loss: 0.0150 - category_output_accuracy: 0.9960 - color_output_accuracy: 0.9960 - val_loss: 0.2390 - val_category_output_loss: 0.1965 - val_color_output_loss: 0.0425 - val_category_output_accuracy: 0.9505 - val_color_output_accuracy: 0.9842\n",
      "Epoch 50/50\n",
      "101/101 [==============================] - 2s 15ms/step - loss: 0.0413 - category_output_loss: 0.0153 - color_output_loss: 0.0260 - category_output_accuracy: 0.9955 - color_output_accuracy: 0.9911 - val_loss: 0.2337 - val_category_output_loss: 0.1713 - val_color_output_loss: 0.0624 - val_category_output_accuracy: 0.9604 - val_color_output_accuracy: 0.9762\n"
     ]
    }
   ],
   "source": [
    "# train the network to perform multi-output classification\n",
    "history = model.fit(trainX,{\"category_output\": trainCategoryY, \"color_output\": trainColorY},validation_data=(testX,{\"category_output\": testCategoryY, \"color_output\": testColorY}),epochs=EPOCHS,batch_size=BS,verbose=1)"
   ]
  },
  {
   "cell_type": "code",
   "execution_count": null,
   "metadata": {
    "colab": {
     "base_uri": "https://localhost:8080/",
     "height": 283
    },
    "id": "iQaHsYuxGpoy",
    "outputId": "01646eae-6292-42f7-f32a-1d1d5137ba97"
   },
   "outputs": [
    {
     "data": {
      "image/png": "[encoded data removed]",
      "text/plain": [
       "<Figure size 432x288 with 1 Axes>"
      ]
     },
     "metadata": {
      "needs_background": "light",
      "tags": []
     },
     "output_type": "display_data"
    }
   ],
   "source": [
    "import matplotlib.pyplot as plt\n",
    "%matplotlib inline\n",
    "plt.plot(history.history['loss'])\n",
    "plt.plot(history.history['val_loss'])\n",
    "plt.plot(history.history['val_category_output_loss'])\n",
    "plt.plot(history.history['val_color_output_loss'])\n",
    "plt.plot(history.history['category_output_loss'])\n",
    "plt.plot(history.history['color_output_loss'])\n",
    "plt.plot(history.history['category_output_accuracy'])\n",
    "plt.plot(history.history['color_output_accuracy'])\n",
    "plt.plot(history.history['val_category_output_accuracy'])\n",
    "plt.plot(history.history['val_color_output_accuracy'])\n",
    "plt.ylabel('Loss')\n",
    "plt.xlabel('Epoch')\n",
    "plt.ylim(0., 1.0)\n",
    "plt.legend(['loss', 'val_loss', 'val_category_output_loss', 'val_color_output_loss', 'color_output_loss', 'category_output_accuracy', 'color_output_accuracy', 'val_category_output_accuracy', 'val_color_output_accuracy' ], loc='upper left')\n",
    "plt.show()"
   ]
  },
  {
   "cell_type": "code",
   "execution_count": null,
   "metadata": {
    "colab": {
     "base_uri": "https://localhost:8080/"
    },
    "id": "Z3wT_i3mGpoy",
    "outputId": "4733f471-71d6-40c8-d40a-9ee04a2593f5"
   },
   "outputs": [
    {
     "name": "stdout",
     "output_type": "stream",
     "text": [
      "[INFO] serializing network...\n"
     ]
    }
   ],
   "source": [
    "import tempfile\n",
    "TEMPDIR = tempfile.gettempdir()\n",
    "# save the model to disk\n",
    "print(\"[INFO] serializing network...\")\n",
    "model.save(os.path.join(TEMPDIR, \"multi_output_classification.h5\"))"
   ]
  },
  {
   "cell_type": "code",
   "execution_count": null,
   "metadata": {
    "colab": {
     "base_uri": "https://localhost:8080/"
    },
    "id": "00ZKupOtGpoy",
    "outputId": "dfbab9e4-ee5f-4d41-ab77-e10ba5b54475"
   },
   "outputs": [
    {
     "name": "stdout",
     "output_type": "stream",
     "text": [
      "[INFO] serializing category label binarizer...\n"
     ]
    }
   ],
   "source": [
    "# save the category binarizer to disk\n",
    "print(\"[INFO] serializing category label binarizer...\")\n",
    "f = open(os.path.join(TEMPDIR, \"multi_output_classification_categorybin.pkl\"), \"wb\")\n",
    "f.write(pickle.dumps(categoryLB))\n",
    "f.close()"
   ]
  },
  {
   "cell_type": "code",
   "execution_count": null,
   "metadata": {
    "colab": {
     "base_uri": "https://localhost:8080/"
    },
    "id": "Iu8dTLXoGpoy",
    "outputId": "f1a2a458-8f5c-4a45-a305-5d9bf7d8912c"
   },
   "outputs": [
    {
     "name": "stdout",
     "output_type": "stream",
     "text": [
      "[INFO] serializing color label binarizer...\n"
     ]
    }
   ],
   "source": [
    "# save the color binarizer to disk\n",
    "print(\"[INFO] serializing color label binarizer...\")\n",
    "f = open(os.path.join(TEMPDIR, \"multi_output_classification_colorbin.pkl\"), \"wb\")\n",
    "f.write(pickle.dumps(colorLB))\n",
    "f.close()"
   ]
  },
  {
   "cell_type": "code",
   "execution_count": null,
   "metadata": {
    "colab": {
     "base_uri": "https://localhost:8080/",
     "height": 265
    },
    "id": "Z2w1iCuvGpoz",
    "outputId": "65b34995-b461-4aff-8885-44ddd4f12e46"
   },
   "outputs": [
    {
     "data": {
      "image/png": "[encoded data removed]",
      "text/plain": [
       "<Figure size 432x288 with 1 Axes>"
      ]
     },
     "metadata": {
      "needs_background": "light",
      "tags": []
     },
     "output_type": "display_data"
    }
   ],
   "source": [
    "# plot the total loss, category loss, and color loss\n",
    "plt.plot(history.history['loss'])\n",
    "plt.plot(history.history['category_output_loss'])\n",
    "plt.plot(history.history['color_output_loss'])\n",
    "plt.style.use(\"ggplot\")"
   ]
  },
  {
   "cell_type": "code",
   "execution_count": null,
   "metadata": {
    "colab": {
     "base_uri": "https://localhost:8080/",
     "height": 265
    },
    "id": "JGtGPjBmGpoz",
    "outputId": "41bccdd1-9901-4dd7-cbc2-f657b3f5baac"
   },
   "outputs": [
    {
     "data": {
      "image/png": "[encoded data removed]",
      "text/plain": [
       "<Figure size 432x288 with 1 Axes>"
      ]
     },
     "metadata": {
      "tags": []
     },
     "output_type": "display_data"
    }
   ],
   "source": [
    "# create a new figure for the accuracies\n",
    "plt.plot(history.history['category_output_accuracy'])\n",
    "plt.plot(history.history['color_output_accuracy'])\n",
    "plt.style.use(\"ggplot\")"
   ]
  },
  {
   "cell_type": "code",
   "execution_count": null,
   "metadata": {
    "id": "NpPtOJl5Gpoz"
   },
   "outputs": [],
   "source": [
    "# load the image\n",
    "import imutils\n",
    "import cv2\n",
    "imagefilename = os.path.join(inputdir, 'examples_multi_output_classification.zip')\n",
    "import zipfile\n",
    "zf = zipfile.ZipFile(imagefilename)\n",
    "#image = cv2.imread(os.path.join('examples_multi_output_classification', 'black_dress.jpg'), cv2.IMREAD_COLOR)\n",
    "image = cv2.imdecode(np.frombuffer(zf.read('black_dress.jpg'), np.uint8), 1)\n",
    "output = imutils.resize(image, width=400)\n",
    "image = cv2.cvtColor(image, cv2.COLOR_BGR2RGB)"
   ]
  },
  {
   "cell_type": "code",
   "execution_count": null,
   "metadata": {
    "colab": {
     "base_uri": "https://localhost:8080/"
    },
    "id": "CHDsEIxbGpoz",
    "outputId": "2b12c8ea-dfc1-4fb8-a432-f7479b9b9687"
   },
   "outputs": [
    {
     "data": {
      "text/plain": [
       "(533, 320, 3)"
      ]
     },
     "execution_count": 38,
     "metadata": {
      "tags": []
     },
     "output_type": "execute_result"
    }
   ],
   "source": [
    "image.shape"
   ]
  },
  {
   "cell_type": "code",
   "execution_count": null,
   "metadata": {
    "id": "NqMeluy9Gpoz"
   },
   "outputs": [],
   "source": [
    "# pre-process the image for classification\n",
    "import cv2\n",
    "image = cv2.resize(image, (96, 96), interpolation=cv2.INTER_AREA)"
   ]
  },
  {
   "cell_type": "code",
   "execution_count": null,
   "metadata": {
    "colab": {
     "base_uri": "https://localhost:8080/"
    },
    "id": "jzOtMGwbGpoz",
    "outputId": "c5714299-cd80-4945-ba9e-515ba6b9e4ab"
   },
   "outputs": [
    {
     "name": "stdout",
     "output_type": "stream",
     "text": [
      "(96, 96, 3)\n"
     ]
    }
   ],
   "source": [
    "# pre-process the image for classification\n",
    "image = image.astype(\"float\") / 255.0\n",
    "image = img_to_array(image)\n",
    "print(image.shape)\n",
    "image = np.expand_dims(image, axis=0)# pre-process the image for classification"
   ]
  },
  {
   "cell_type": "code",
   "execution_count": null,
   "metadata": {
    "colab": {
     "base_uri": "https://localhost:8080/"
    },
    "id": "B-neP2QDGpoz",
    "outputId": "a18396eb-c768-4110-9d6e-6ff721a46028"
   },
   "outputs": [
    {
     "name": "stdout",
     "output_type": "stream",
     "text": [
      "[INFO] loading network...\n"
     ]
    }
   ],
   "source": [
    "# load the trained convolutional neural network from disk, followed\n",
    "# by the category and color label binarizers, respectively\n",
    "from keras.preprocessing.image import img_to_array\n",
    "from keras.models import load_model\n",
    "print(\"[INFO] loading network...\")\n",
    "model = load_model(os.path.join(TEMPDIR, 'multi_output_classification.h5'), custom_objects={\"tf\": tf})\n",
    "categoryLB = pickle.loads(open(os.path.join(TEMPDIR, 'multi_output_classification_categorybin.pkl'), \"rb\").read())\n",
    "colorLB = pickle.loads(open(os.path.join(TEMPDIR, 'multi_output_classification_colorbin.pkl'), \"rb\").read())"
   ]
  },
  {
   "cell_type": "code",
   "execution_count": null,
   "metadata": {
    "colab": {
     "base_uri": "https://localhost:8080/"
    },
    "id": "Epr6qzOiGpo0",
    "outputId": "cede0361-dace-4606-bead-8ccd3219c730"
   },
   "outputs": [
    {
     "name": "stdout",
     "output_type": "stream",
     "text": [
      "[INFO] classifying image...\n"
     ]
    }
   ],
   "source": [
    "# classify the input image using Keras' multi-output functionality\n",
    "print(\"[INFO] classifying image...\")\n",
    "(categoryProba, colorProba) = model.predict(image)"
   ]
  },
  {
   "cell_type": "code",
   "execution_count": null,
   "metadata": {
    "id": "QMLx2JmkGpo0"
   },
   "outputs": [],
   "source": [
    "# find indexes of both the category and color outputs with the\n",
    "# largest probabilities, then determine the corresponding class\n",
    "# labels\n",
    "categoryIdx = categoryProba[0].argmax()\n",
    "colorIdx = colorProba[0].argmax()\n",
    "categoryLabel = categoryLB.classes_[categoryIdx]\n",
    "colorLabel = colorLB.classes_[colorIdx]"
   ]
  },
  {
   "cell_type": "code",
   "execution_count": null,
   "metadata": {
    "colab": {
     "base_uri": "https://localhost:8080/"
    },
    "id": "b5I27Ze6Gpo0",
    "outputId": "49e3c1cc-4f10-489a-dac1-2b1610032bba"
   },
   "outputs": [
    {
     "data": {
      "text/plain": [
       "array([[[255, 255, 255],\n",
       "        [255, 255, 255],\n",
       "        [255, 255, 255],\n",
       "        ...,\n",
       "        [255, 255, 255],\n",
       "        [255, 255, 255],\n",
       "        [255, 255, 255]],\n",
       "\n",
       "       [[255, 255, 255],\n",
       "        [255, 255, 255],\n",
       "        [255, 255, 255],\n",
       "        ...,\n",
       "        [255, 255, 255],\n",
       "        [255, 255, 255],\n",
       "        [255, 255, 255]],\n",
       "\n",
       "       [[255, 255, 255],\n",
       "        [255, 255, 255],\n",
       "        [255, 255, 255],\n",
       "        ...,\n",
       "        [255, 255, 255],\n",
       "        [255, 255, 255],\n",
       "        [255, 255, 255]],\n",
       "\n",
       "       ...,\n",
       "\n",
       "       [[255, 255, 255],\n",
       "        [255, 255, 255],\n",
       "        [255, 255, 255],\n",
       "        ...,\n",
       "        [255, 255, 255],\n",
       "        [255, 255, 255],\n",
       "        [255, 255, 255]],\n",
       "\n",
       "       [[255, 255, 255],\n",
       "        [255, 255, 255],\n",
       "        [255, 255, 255],\n",
       "        ...,\n",
       "        [255, 255, 255],\n",
       "        [255, 255, 255],\n",
       "        [255, 255, 255]],\n",
       "\n",
       "       [[255, 255, 255],\n",
       "        [255, 255, 255],\n",
       "        [255, 255, 255],\n",
       "        ...,\n",
       "        [255, 255, 255],\n",
       "        [255, 255, 255],\n",
       "        [255, 255, 255]]], dtype=uint8)"
      ]
     },
     "execution_count": 44,
     "metadata": {
      "tags": []
     },
     "output_type": "execute_result"
    }
   ],
   "source": [
    "# draw the category label and color label on the image\n",
    "categoryText = \"category: {} ({:.2f}%)\".format(categoryLabel,\n",
    "\tcategoryProba[0][categoryIdx] * 100)\n",
    "colorText = \"color: {} ({:.2f}%)\".format(colorLabel,\n",
    "\tcolorProba[0][colorIdx] * 100)\n",
    "cv2.putText(output, categoryText, (10, 25), cv2.FONT_HERSHEY_SIMPLEX,\n",
    "\t0.7, (0, 255, 0), 2)\n",
    "cv2.putText(output, colorText, (10, 55), cv2.FONT_HERSHEY_SIMPLEX,\n",
    "\t0.7, (0, 255, 0), 2)"
   ]
  },
  {
   "cell_type": "code",
   "execution_count": null,
   "metadata": {
    "colab": {
     "base_uri": "https://localhost:8080/"
    },
    "id": "lCSx6b2aGpo0",
    "outputId": "3d882a15-49dd-4edb-edab-fbaf0436cc93"
   },
   "outputs": [
    {
     "name": "stdout",
     "output_type": "stream",
     "text": [
      "[INFO] category: dress (99.87%)\n",
      "[INFO] color: black (87.89%)\n"
     ]
    }
   ],
   "source": [
    "# display the predictions to the terminal as well\n",
    "print(\"[INFO] {}\".format(categoryText))\n",
    "print(\"[INFO] {}\".format(colorText))"
   ]
  },
  {
   "cell_type": "code",
   "execution_count": null,
   "metadata": {
    "colab": {
     "base_uri": "https://localhost:8080/",
     "height": 287
    },
    "id": "cfpuu7V0Gpo0",
    "outputId": "57bce4bc-416f-47fa-efab-6af2282dac6d"
   },
   "outputs": [
    {
     "data": {
      "text/plain": [
       "<matplotlib.image.AxesImage at 0x7f3f485c7c88>"
      ]
     },
     "execution_count": 46,
     "metadata": {
      "tags": []
     },
     "output_type": "execute_result"
    },
    {
     "data": {
      "image/png": "[encoded data removed]",
      "text/plain": [
       "<Figure size 432x288 with 1 Axes>"
      ]
     },
     "metadata": {
      "tags": []
     },
     "output_type": "display_data"
    }
   ],
   "source": [
    "# show the output image\n",
    "#cv2.imshow(\"Output\", output)\n",
    "#cv2.waitKey(0)\n",
    "plt.imshow(output)"
   ]
  },
  {
   "cell_type": "code",
   "execution_count": null,
   "metadata": {
    "id": "Ze_jjfr6Gpo0"
   },
   "outputs": [],
   "source": []
  }
 ],
 "metadata": {
  "accelerator": "GPU",
  "colab": {
   "collapsed_sections": [],
   "name": "04-multi-output-classification-kaggle.ipynb",
   "provenance": []
  },
  "kernelspec": {
   "display_name": "Python 3",
   "language": "python",
   "name": "python3"
  },
  "language_info": {
   "codemirror_mode": {
    "name": "ipython",
    "version": 3
   },
   "file_extension": ".py",
   "mimetype": "text/x-python",
   "name": "python",
   "nbconvert_exporter": "python",
   "pygments_lexer": "ipython3",
   "version": "3.8.3"
  }
 },
 "nbformat": 4,
 "nbformat_minor": 4
}
