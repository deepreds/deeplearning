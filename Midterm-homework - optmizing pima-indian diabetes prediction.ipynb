{
 "cells": [
  {
   "cell_type": "code",
   "execution_count": null,
   "metadata": {},
   "outputs": [],
   "source": [
    "# Midterm-homework: optmizing pima-indian diabetes prediction\n",
    "import tensorflow as tf\n",
    "import numpy as np"
   ]
  },
  {
   "cell_type": "code",
   "execution_count": null,
   "metadata": {},
   "outputs": [],
   "source": [
    "import os\n",
    "os.environ['TF_CPP_MIN_LOG_LEVEL'] = '3'\n",
    "os.environ[\"CUDA_DEVICE_ORDER\"] = \"PCI_BUS_ID\"\n",
    "os.environ[\"CUDA_VISIBLE_DEVICES\"] = '0' # Set to -1 if CPU should be used CPU = -1 , GPU = 0\n",
    "\n",
    "gpus = tf.config.experimental.list_physical_devices('GPU')\n",
    "cpus = tf.config.experimental.list_physical_devices('CPU')\n",
    "\n",
    "if gpus:\n",
    "    try:\n",
    "        # Currently, memory growth needs to be the same across GPUs\n",
    "        for gpu in gpus:\n",
    "            tf.config.experimental.set_memory_growth(gpu, True)\n",
    "        logical_gpus = tf.config.experimental.list_logical_devices('GPU')\n",
    "        print(len(gpus), \"Physical GPUs,\", len(logical_gpus), \"Logical GPUs\")\n",
    "    except RuntimeError as e:\n",
    "        # Memory growth must be set before GPUs have been initialized\n",
    "        print(e)\n",
    "elif cpus:\n",
    "    try:\n",
    "        # Currently, memory growth needs to be the same across GPUs\n",
    "        logical_cpus= tf.config.experimental.list_logical_devices('CPU')\n",
    "        print(len(cpus), \"Physical CPU,\", len(logical_cpus), \"Logical CPU\")\n",
    "    except RuntimeError as e:\n",
    "        # Memory growth must be set before GPUs have been initialized\n",
    "        print(e)"
   ]
  },
  {
   "cell_type": "code",
   "execution_count": null,
   "metadata": {},
   "outputs": [],
   "source": [
    "from pandas import read_csv\n",
    "from numpy import set_printoptions\n",
    "\n",
    "# <Option 1> change scaler/normalizer using scikit-learn module\n",
    "\n",
    "from sklearn.preprocessing import StandardScaler\n",
    "pimafilename = \"pima-indians-diabetes.data.csv\"\n",
    "names = ['preg', 'plas', 'pres', 'skin', 'test', 'mass', 'pedi', 'age', 'class']\n",
    "dataframe = read_csv(pimafilename, names=names)\n",
    "xy = dataframe.values\n",
    "\n",
    "x_original = xy[:, 0:-1]\n",
    "y_data = xy[:, [-1]]\n",
    "\n",
    "scaler = StandardScaler().fit(x_original)\n",
    "x_data = scaler.fit_transform(x_original)"
   ]
  },
  {
   "cell_type": "code",
   "execution_count": null,
   "metadata": {},
   "outputs": [],
   "source": [
    "import pprint\n",
    "pprint.pprint(x_original[:5])\n",
    "pprint.pprint(x_data[:5])\n",
    "pprint.pprint(y_data[:5])"
   ]
  },
  {
   "cell_type": "code",
   "execution_count": null,
   "metadata": {},
   "outputs": [],
   "source": [
    "print(x_data.shape, y_data.shape)"
   ]
  },
  {
   "cell_type": "code",
   "execution_count": null,
   "metadata": {},
   "outputs": [],
   "source": [
    "# split into train test sets\n",
    "from sklearn.model_selection import train_test_split\n",
    "\n",
    "# <Caveat> Do not change train:test ratios\n",
    "\n",
    "x_train, x_test, y_train, y_test = train_test_split(x_data, y_data, test_size=0.33)"
   ]
  },
  {
   "cell_type": "code",
   "execution_count": null,
   "metadata": {},
   "outputs": [],
   "source": [
    "print(x_train.shape, y_train.shape, x_test.shape, y_test.shape)"
   ]
  },
  {
   "cell_type": "code",
   "execution_count": null,
   "metadata": {},
   "outputs": [],
   "source": [
    "# optimizing: start over at this point after changing your DNN model\n",
    "tf.model = tf.keras.Sequential()"
   ]
  },
  {
   "cell_type": "code",
   "execution_count": null,
   "metadata": {},
   "outputs": [],
   "source": [
    "# multi-variable, x_data.shape[1] == feature counts == 8 in this case\n",
    "\n",
    "# <Option 2> change DNN layers, activation functions, dimensionality of output space (units), initializers, regularizers\n",
    "# https://www.tensorflow.org/api_docs/python/tf/keras/layers/Dense\n",
    "\n",
    "tf.model.add(tf.keras.layers.Dense(12, activation='relu'))\n",
    "tf.model.add(tf.keras.layers.Dense(8, activation='relu'))\n",
    "\n",
    "# Do not change last Dense layer: Dense(1, activation='sigmoid')\n",
    "tf.model.add(tf.keras.layers.Dense(1, activation='sigmoid'))"
   ]
  },
  {
   "cell_type": "code",
   "execution_count": null,
   "metadata": {},
   "outputs": [],
   "source": [
    "# <Option 3> change optimizer, metrics, loss_weights, learning rate\n",
    "# https://www.tensorflow.org/api_docs/python/tf/keras/Model#compile\n",
    "\n",
    "tf.model.compile(loss='binary_crossentropy', optimizer=tf.keras.optimizers.SGD(lr=0.02),  metrics=['accuracy'])"
   ]
  },
  {
   "cell_type": "code",
   "execution_count": null,
   "metadata": {},
   "outputs": [],
   "source": [
    "# <Option 4> change epochs\n",
    "# batch_size: smaller batch_size for small memory machine\n",
    "# https://www.tensorflow.org/api_docs/python/tf/keras/Model#fit\n",
    "\n",
    "history = tf.model.fit(x_train, y_train, batch_size=32, epochs=500, verbose=0)\n",
    "\n",
    "#from tqdm.keras import TqdmCallback\n",
    "#history = tf.model.fit(x_train, y_train, batch_size=32, epochs=500, verbose=0, callbacks=[TqdmCallback(verbose=0)])"
   ]
  },
  {
   "cell_type": "code",
   "execution_count": null,
   "metadata": {},
   "outputs": [],
   "source": [
    "tf.model.summary()"
   ]
  },
  {
   "cell_type": "code",
   "execution_count": null,
   "metadata": {},
   "outputs": [],
   "source": [
    "import matplotlib.pyplot as plt\n",
    "%matplotlib inline\n",
    "plt.plot(history.history['loss'])\n",
    "plt.plot(history.history['accuracy'])\n",
    "plt.title('Model loss & accuracy')\n",
    "plt.ylabel('Loss')\n",
    "plt.xlabel('Epoch')\n",
    "plt.legend(['loss', 'accuracy'], loc='upper left')\n",
    "plt.show()\n",
    "\n",
    "pprint.pprint(history.history['accuracy'][-5:])\n",
    "pprint.pprint(history.history['loss'][-5:])"
   ]
  },
  {
   "cell_type": "code",
   "execution_count": null,
   "metadata": {},
   "outputs": [],
   "source": [
    "# accuracy!\n",
    "print(f\"Accuracy: {history.history['accuracy'][-1]}\")"
   ]
  },
  {
   "cell_type": "code",
   "execution_count": null,
   "metadata": {},
   "outputs": [],
   "source": [
    "# <Caveat> Training accuracy can be 100%, but the mission is to get best test accuracy. Please do not focus on finding 100% on accuracy on training set\n",
    "# Instead, consider two factors (1) maximizing accuracy (2) minimizing loss\n",
    "# <Caveat> Results of deep learning can be dependent upon random numbers, so if you do train_test_split more than one time, the results would be different\n",
    "\n",
    "# evaluating model\n",
    "evaluate = tf.model.evaluate(x_test, y_test)\n",
    "print(f\"loss: {evaluate[0]}, accuracy: {evaluate[1]}\")"
   ]
  },
  {
   "cell_type": "code",
   "execution_count": null,
   "metadata": {},
   "outputs": [],
   "source": []
  }
 ],
 "metadata": {
  "kernelspec": {
   "display_name": "Python 3",
   "language": "python",
   "name": "python3"
  },
  "language_info": {
   "codemirror_mode": {
    "name": "ipython",
    "version": 3
   },
   "file_extension": ".py",
   "mimetype": "text/x-python",
   "name": "python",
   "nbconvert_exporter": "python",
   "pygments_lexer": "ipython3",
   "version": "3.8.3"
  }
 },
 "nbformat": 4,
 "nbformat_minor": 4
}
